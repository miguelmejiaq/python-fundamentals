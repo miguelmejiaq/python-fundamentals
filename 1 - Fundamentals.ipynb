{
 "cells": [
  {
   "cell_type": "markdown",
   "metadata": {
    "slideshow": {
     "slide_type": "slide"
    }
   },
   "source": [
    "<br/>\n",
    "\n",
    "## Sesión 1\n",
    "\n",
    "# Fundamentos de Programación\n",
    "\n",
    "\n",
    "\n"
   ]
  },
  {
   "cell_type": "markdown",
   "metadata": {
    "slideshow": {
     "slide_type": "subslide"
    }
   },
   "source": [
    "<center><img src=\"Images/ruta-aprendizaje.png\"/></center>\n",
    "<center><i>Fig 1. Ruta de aprendizaje.</i></center>"
   ]
  },
  {
   "cell_type": "markdown",
   "metadata": {
    "slideshow": {
     "slide_type": "subslide"
    }
   },
   "source": [
    "## Temario"
   ]
  },
  {
   "cell_type": "markdown",
   "metadata": {
    "slideshow": {
     "slide_type": "subslide"
    }
   },
   "source": [
    "### Semana 1\n",
    "\n",
    "- Presentación del curso.\n",
    "    - Presentación del docente.\n",
    "    - Reglas Generales.\n",
    "    - Retos.\n",
    "    - Miscelanea.\n",
    "- Computación.\n",
    "    - Hardware/Software.\n",
    "    - Estructura funcional.\n",
    "- Metodología de programación.\n",
    "    - Definición.\n",
    "    - Ejemplos.\n",
    "    - Fases de programación."
   ]
  },
  {
   "cell_type": "markdown",
   "metadata": {
    "slideshow": {
     "slide_type": "subslide"
    }
   },
   "source": [
    "### Semana 1\n",
    "- Entornos de desarrollo.\n",
    "- Lenguajes de programación.\n",
    "    - Introducción a los lenguajes de programación.\n",
    "    - Lenguaje Compilado.\n",
    "    - Lenguaje Interpretado.\n",
    "- Python.\n",
    "    - Historia.\n",
    "    - Aplicaciones.\n",
    "- <b>Extra: </b>Repositorios de código."
   ]
  },
  {
   "cell_type": "markdown",
   "metadata": {
    "slideshow": {
     "slide_type": "slide"
    }
   },
   "source": [
    "## Presentación del Curso"
   ]
  },
  {
   "cell_type": "markdown",
   "metadata": {
    "slideshow": {
     "slide_type": "subslide"
    }
   },
   "source": [
    "### Miguel Angel Mejia Quiroga\n",
    "- DevOps Engineer.\n",
    "- Ingeniero de Sistemas - Universidad el Bosque.\n",
    "- MsC Inteligencia Artificial - Universidad Internacional de Valencia.\n",
    "- 10 años de experiencia.\n",
    "\n",
    "![title](Images/lenguajes.png)"
   ]
  },
  {
   "cell_type": "markdown",
   "metadata": {
    "slideshow": {
     "slide_type": "subslide"
    }
   },
   "source": [
    "### Reglas generales\n",
    "- 7 Semanas (7:30 horas semanales).\n",
    "- 3 clases de 2 hrs 30 min por semana.\n",
    "- Martes y jueves: 6:00 - 8:30 PM.\n",
    "- Sabados 9:30 AM al medio dia.\n",
    "- Break de 10 minutos.\n",
    "- Días festivos: <b>No hay sesión.</b>\n",
    "- Las preguntas se responden al final de cada tema.\n",
    "- Foro general del ciclo para preguntas sobre el curso."
   ]
  },
  {
   "cell_type": "markdown",
   "metadata": {
    "slideshow": {
     "slide_type": "subslide"
    }
   },
   "source": [
    "### Retos\n",
    "- Actividades propuestas durante cada semana del ciclo.\n",
    "- 5 Retos:\n",
    "    - Semana 1 y 2.\n",
    "    - Semana 3.\n",
    "    - Semana 4.\n",
    "    - Semana 5.\n",
    "    - Semana 6 y 7."
   ]
  },
  {
   "cell_type": "markdown",
   "metadata": {
    "slideshow": {
     "slide_type": "subslide"
    }
   },
   "source": [
    "### Miscelanea\n",
    "#### ¿Qué necesitamos para programar en python?\n",
    "- Computador con mínimo 4GB de Ram.\n",
    "- Conexión a Internet.\n",
    "- Paciencia y ganas de aprender.\n",
    "\n",
    "#### ¿Qué pasa si no puedo instalar nada en mi computador?\n",
    "- Si no cuentas con una cuenta de google, creala.\n",
    "- Google Colab."
   ]
  },
  {
   "cell_type": "markdown",
   "metadata": {
    "slideshow": {
     "slide_type": "subslide"
    }
   },
   "source": [
    "### Miscelanea\n",
    "#### ¿Puedo entrar directamente a las sesiones de WebEx sin ingresar a OpenLMS?\n",
    "- Si, pero se recomienda hacerlo mediante OpenLMS para llevar la asistencia.\n",
    "\n",
    "#### ¿Qué pasa si no puedo asistir a una sesión?\n",
    "- <b>TODAS</b> las sesiones serán grabadas, por los que podras verlas desde OpenLMS una vez se carguen.\n",
    "- Es importante asistir a las sesiones."
   ]
  },
  {
   "cell_type": "markdown",
   "metadata": {
    "slideshow": {
     "slide_type": "subslide"
    }
   },
   "source": [
    "### Miscelanea\n",
    "#### ¿Si tengo dudas sobre los retos, quién puede apoyarme?\n",
    "- Tutores.\n",
    "- Foro general del ciclo.\n",
    "- <b>Opcional:</b> 30 minutos al final de las sesiones.\n"
   ]
  },
  {
   "cell_type": "markdown",
   "metadata": {
    "slideshow": {
     "slide_type": "slide"
    }
   },
   "source": [
    "## Computación\n",
    "<br/>\n",
    "<br/>"
   ]
  },
  {
   "cell_type": "markdown",
   "metadata": {
    "slideshow": {
     "slide_type": "fragment"
    }
   },
   "source": [
    "<center>\n",
    "    <i>\"Unidad lógica que ejecuta una serie de comandos para procesar una entrada y obtener una salida.\"</i>\n",
    "</center>"
   ]
  },
  {
   "cell_type": "markdown",
   "metadata": {
    "slideshow": {
     "slide_type": "fragment"
    }
   },
   "source": [
    "<center>\n",
    "    <i>\"Máquina digital que permite procesar datos y generar salidas.\"</i>\n",
    "</center>"
   ]
  },
  {
   "cell_type": "markdown",
   "metadata": {
    "slideshow": {
     "slide_type": "subslide"
    }
   },
   "source": [
    "<center><img src=\"Images/abaco.jpg\" height=\"600\" width=\"400\"/></center>\n",
    "<center><i>Fig 2. Abaco (300 A.C.)</i></center>"
   ]
  },
  {
   "cell_type": "markdown",
   "metadata": {
    "slideshow": {
     "slide_type": "subslide"
    }
   },
   "source": [
    "<center><img src=\"Images/z1.jpg\" height=\"600\" width=\"500\"/></center>\n",
    "<center><i>Fig 3. Z1 (1931 - 1936)</i></center>"
   ]
  },
  {
   "cell_type": "markdown",
   "metadata": {
    "slideshow": {
     "slide_type": "subslide"
    }
   },
   "source": [
    "<center><img src=\"Images/ibm5100.jpg\" height=\"600\" width=\"500\"/></center>\n",
    "<center><i>Fig 3. IBM 5100 (1975)</i></center>"
   ]
  },
  {
   "cell_type": "markdown",
   "metadata": {
    "slideshow": {
     "slide_type": "subslide"
    }
   },
   "source": [
    "<center>\n",
    "    <i>\n",
    "        \"Actualmente, una computadora es un dispositivo compuesto por Hardware y Software, el cual permite procesar cualquier tipo de información.\"\n",
    "    </i>\n",
    "</center>"
   ]
  },
  {
   "cell_type": "markdown",
   "metadata": {
    "slideshow": {
     "slide_type": "subslide"
    }
   },
   "source": [
    "- Computadores portatiles.\n",
    "- Computadores de escritorio.\n",
    "- Satelites.\n",
    "- IoT (Internet de las cosas).\n",
    "- Inteligencia Artificial y Robotica.\n",
    "- Ciencia de datos.\n",
    "- Teléfonos inteligentes.\n",
    "- Internet."
   ]
  },
  {
   "cell_type": "markdown",
   "metadata": {
    "slideshow": {
     "slide_type": "subslide"
    }
   },
   "source": [
    "### Hardware\n",
    "\n",
    "- Componentes electrónicos, físicos.\n",
    "- CPU.\n",
    "- Bus.\n",
    "- RAM / Cache.\n",
    "- Disco Duro.\n",
    "\n",
    "### Software\n",
    "\n",
    "- Sistema operativo.\n",
    "- Aplicaciones."
   ]
  },
  {
   "cell_type": "markdown",
   "metadata": {
    "slideshow": {
     "slide_type": "slide"
    }
   },
   "source": [
    "## Metodología de Programación"
   ]
  },
  {
   "cell_type": "markdown",
   "metadata": {
    "slideshow": {
     "slide_type": "fragment"
    }
   },
   "source": [
    "- <b>Problema:</b> Necesidad de algo.\n",
    "- <b>Proceso:</b> Lista de pasos con las que se puede ejecutar una o varias tareas.\n",
    "- <b>Salida:</b> Respuesta del proceso.\n",
    "<br/>\n",
    "\n",
    "<center><img src=\"Images/metodologia-programacion.png\"/></center>\n",
    "<center><i>Fig 4. Metodología de programación.</i></center>"
   ]
  },
  {
   "cell_type": "markdown",
   "metadata": {
    "slideshow": {
     "slide_type": "subslide"
    }
   },
   "source": [
    "### Ejemplo 01\n",
    "\n",
    "#### Problema\n",
    "\n",
    "Preparar una pizza.\n",
    "\n",
    "#### Proceso\n",
    "\n",
    "- Cortar todos los ingredientes.\n",
    "- Preparar la masa.\n",
    "- Colocar los ingredientes en la masa.\n",
    "- Poner la pizza en el horno.\n",
    "\n",
    "#### Salida\n",
    "\n",
    "- Entregar la pizza."
   ]
  },
  {
   "cell_type": "markdown",
   "metadata": {
    "slideshow": {
     "slide_type": "subslide"
    }
   },
   "source": [
    "### Ejemplo 02\n",
    "\n",
    "#### Problema\n",
    "\n",
    "Comprar un tiquete aéreo.\n",
    "\n",
    "#### Proceso\n",
    "\n",
    "- Buscar el destino y las fechas indicadas.\n",
    "- Verificar las opciones de vuelos disponibles.\n",
    "- Seleccionar el vuelo.\n",
    "- Realizar el pago.\n",
    "\n",
    "#### Salida\n",
    "\n",
    "- Tiquete de avión."
   ]
  },
  {
   "cell_type": "markdown",
   "metadata": {
    "slideshow": {
     "slide_type": "subslide"
    }
   },
   "source": [
    "### Ejemplo 03\n",
    "\n",
    "#### Problema\n",
    "\n",
    "Calcular los divisores de un número <i>n</i>.\n",
    "\n",
    "#### Proceso\n",
    "\n",
    "- Solicitar el número.\n",
    "- Verificar que no sea primo.\n",
    "- Calcular el modulo (%) de cada numero entre 2 y el número buscando por un valor 0\n",
    "- Si el modulo del número es 0, significa que es divisor. Agregar a la lista.\n",
    "\n",
    "#### Salida\n",
    "\n",
    "- Listado de números primos de un número <i>n</i>."
   ]
  },
  {
   "cell_type": "markdown",
   "metadata": {
    "slideshow": {
     "slide_type": "subslide"
    }
   },
   "source": [
    "<center>\n",
    "    <img src=\"Images/fases-programacion.png\" width=\"800\" />\n",
    "    <i>Fig 5. Fases de la programación.</i>\n",
    "</center>"
   ]
  }
 ],
 "metadata": {
  "celltoolbar": "Slideshow",
  "kernelspec": {
   "display_name": "Python 3",
   "language": "python",
   "name": "python3"
  },
  "language_info": {
   "codemirror_mode": {
    "name": "ipython",
    "version": 3
   },
   "file_extension": ".py",
   "mimetype": "text/x-python",
   "name": "python",
   "nbconvert_exporter": "python",
   "pygments_lexer": "ipython3",
   "version": "3.7.4"
  }
 },
 "nbformat": 4,
 "nbformat_minor": 4
}
