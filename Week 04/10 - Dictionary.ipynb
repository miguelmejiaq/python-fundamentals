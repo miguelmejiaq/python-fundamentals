{
 "cells": [
  {
   "cell_type": "markdown",
   "metadata": {
    "slideshow": {
     "slide_type": "slide"
    }
   },
   "source": [
    "<br/>\n",
    "\n",
    "## Sesión 10 - Python 07\n",
    "\n",
    "# Fundamentos de Programación\n",
    "\n",
    "\n",
    "<br/>\n",
    "Iniciamos 6:10 PM :)"
   ]
  },
  {
   "cell_type": "markdown",
   "metadata": {
    "slideshow": {
     "slide_type": "slide"
    }
   },
   "source": [
    "## Temario"
   ]
  },
  {
   "cell_type": "markdown",
   "metadata": {
    "slideshow": {
     "slide_type": "subslide"
    }
   },
   "source": [
    "- Tipos de datos.\n",
    "    - Texto.\n",
    "        - split()\n",
    "    - Diccionarios.\n",
    "        - Definición.\n",
    "        - Sintaxis.\n",
    "        - Ejemplos.\n",
    "        - Funciones built-in.\n",
    "- List comprehension.\n",
    "- Ejemplos + Ejercicios"
   ]
  },
  {
   "cell_type": "markdown",
   "metadata": {
    "slideshow": {
     "slide_type": "subslide"
    }
   },
   "source": [
    "## Tipos de datos"
   ]
  },
  {
   "cell_type": "markdown",
   "metadata": {
    "slideshow": {
     "slide_type": "subslide"
    }
   },
   "source": [
    "### Texto"
   ]
  },
  {
   "cell_type": "markdown",
   "metadata": {
    "slideshow": {
     "slide_type": "subslide"
    }
   },
   "source": [
    "### split\n",
    "\n",
    "Permite transformar una cadena de texto en una lista basado en un patrón de búsqueda.\n",
    "\n",
    "```python\n",
    "string.split(pattern)\n",
    "```"
   ]
  },
  {
   "cell_type": "markdown",
   "metadata": {
    "slideshow": {
     "slide_type": "subslide"
    }
   },
   "source": [
    "### Ejemplo 01\n",
    "\n",
    "Separar valores que vienen en un texto con coma (,)\n"
   ]
  },
  {
   "cell_type": "code",
   "execution_count": 71,
   "metadata": {
    "slideshow": {
     "slide_type": "fragment"
    }
   },
   "outputs": [
    {
     "name": "stdout",
     "output_type": "stream",
     "text": [
      "['10', '20', '30', '40', '50', '60', '70', '80', '90', '100']\n"
     ]
    }
   ],
   "source": [
    "var_cadena = \"10;20;30;40;50;60;70;80;90;100\"\n",
    "var_listaValores = var_cadena.split(';')\n",
    "print(var_listaValores)"
   ]
  },
  {
   "cell_type": "markdown",
   "metadata": {
    "slideshow": {
     "slide_type": "subslide"
    }
   },
   "source": [
    "### Ejemplo 02\n",
    "\n",
    "Separar valores que vienen en un texto con coma (,). Transformar los valores en enteros para imprimirlos.\n"
   ]
  },
  {
   "cell_type": "code",
   "execution_count": 78,
   "metadata": {
    "slideshow": {
     "slide_type": "fragment"
    }
   },
   "outputs": [
    {
     "name": "stdout",
     "output_type": "stream",
     "text": [
      "10 <class 'str'>\n",
      "20 <class 'str'>\n",
      "30 <class 'str'>\n",
      "40 <class 'str'>\n",
      "50 <class 'str'>\n",
      "60 <class 'str'>\n",
      "70 <class 'str'>\n",
      "80 <class 'str'>\n",
      "90 <class 'str'>\n",
      "100 <class 'str'>\n",
      "['10', '20', '30', '40', '50', '60', '70', '80', '90', '100']\n",
      "[10, 20, 30, 40, 50, 60, 70, 80, 90, 100]\n"
     ]
    }
   ],
   "source": [
    "var_cadena = \"10,20,30,40,50,60,70,80,90,100\"\n",
    "var_listaValores = var_cadena.split(',')\n",
    "var_salida = []\n",
    "# for <variable> in <lista>:\n",
    "for numero in var_listaValores:\n",
    "    print(numero, type(numero))\n",
    "    var_salida.append(int(numero))\n",
    "print(var_listaValores)\n",
    "print(var_salida)"
   ]
  },
  {
   "cell_type": "markdown",
   "metadata": {
    "slideshow": {
     "slide_type": "subslide"
    }
   },
   "source": [
    "### Ejemplo 03\n",
    "\n",
    "Separar valores que vienen en un texto con coma (,). Transformar los valores en enteros para imprimirlos utilizando list comprehension.\n"
   ]
  },
  {
   "cell_type": "code",
   "execution_count": 104,
   "metadata": {
    "slideshow": {
     "slide_type": "fragment"
    }
   },
   "outputs": [
    {
     "name": "stdout",
     "output_type": "stream",
     "text": [
      "[10, 20, 30, 40, 50, 60, 70, 80, 90, 100]\n"
     ]
    }
   ],
   "source": [
    "var_cadena = \"10,20,30,40,50,60,70,80,90,100\"\n",
    "var_listaValores = var_cadena.split(',')\n",
    "var_listaValores = [int(numero) for numero in var_listaValores]\n",
    "print(var_listaValores)"
   ]
  },
  {
   "cell_type": "markdown",
   "metadata": {
    "slideshow": {
     "slide_type": "subslide"
    }
   },
   "source": [
    "### Ejemplo 04\n",
    "\n",
    "Ingresar por consola 2 valores separados por coma y almacenarlos en una lista. el codigo termina cuando el cliente ingresa 0,0\n"
   ]
  },
  {
   "cell_type": "code",
   "execution_count": 120,
   "metadata": {
    "slideshow": {
     "slide_type": "subslide"
    }
   },
   "outputs": [
    {
     "name": "stdout",
     "output_type": "stream",
     "text": [
      "[1, 4, 5, 6, 7, 8, 3, 4]\n",
      "5\n"
     ]
    }
   ],
   "source": [
    "# Solución\n",
    "var_textoValor,var_listaNumeros, var_entradaTexto = \"Ingrese un valor. para terminar ingrese 0,0: \", [], None\n",
    "# mientras que la entrada no sea 0,0\n",
    "while var_entradaTexto != \"0,0\":\n",
    "    var_entradaTexto = input(var_textoValor)\n",
    "    # no ingrese nada cuando la entrada es 0,0\n",
    "    if var_entradaTexto != \"0,0\":\n",
    "            var_listaNumeros.extend([int(numero) for numero in var_entradaTexto.split(',')])\n",
    "print(var_listaNumeros)\n",
    "print(len([numero for numero in var_listaNumeros if numero < 5 or numero > 7]))"
   ]
  },
  {
   "cell_type": "markdown",
   "metadata": {
    "slideshow": {
     "slide_type": "subslide"
    }
   },
   "source": [
    "\n",
    "### Diccionario (dict)"
   ]
  },
  {
   "cell_type": "markdown",
   "metadata": {
    "slideshow": {
     "slide_type": "subslide"
    }
   },
   "source": [
    "- Al igual que las listas, es un tipo de dato que permite almacenar cualquier tipo de dato.\n",
    "- Dinámico.\n",
    "- Indexado mediante el uso de llaves **key**.\n",
    "- Anidados. Permite almacenar tipos de datos compuestos en su valor.\n",
    "\n",
    "```python\n",
    "llave : valor\n",
    "```"
   ]
  },
  {
   "cell_type": "markdown",
   "metadata": {
    "slideshow": {
     "slide_type": "subslide"
    }
   },
   "source": [
    "### Sintaxis"
   ]
  },
  {
   "cell_type": "markdown",
   "metadata": {
    "slideshow": {
     "slide_type": "subslide"
    }
   },
   "source": [
    "#### Caso 01\n",
    "\n",
    "Crear un diccionario como un objeto de llaves y valores\n",
    "\n",
    "```python\n",
    "var_miDiccionario = {\n",
    "    \"nombre\" : \"Mi Nombre\",\n",
    "    \"edad\" : 20,\n",
    "    \"documento\" : \"123456789\"\n",
    "}\n",
    "```"
   ]
  },
  {
   "cell_type": "markdown",
   "metadata": {
    "slideshow": {
     "slide_type": "subslide"
    }
   },
   "source": [
    "#### Caso 02\n",
    "\n",
    "Crear un diccionario como utilizando la función dict().\n",
    "\n",
    "```python\n",
    "var_miDiccionario = dict([\n",
    "    (\"nombre\",\"Mi Nombre\"),\n",
    "    (\"edad\",20),\n",
    "    (\"documento\",\"123456789\")\n",
    "])\n",
    "```"
   ]
  },
  {
   "cell_type": "markdown",
   "metadata": {
    "slideshow": {
     "slide_type": "subslide"
    }
   },
   "source": [
    "#### Caso 03\n",
    "\n",
    "Crear un diccionario como utilizando la función dict().\n",
    "\n",
    "```python\n",
    "var_miDiccionario = dict(nombre=\"Nombre\",edad=20,documento=\"123456789\")\n",
    "```"
   ]
  },
  {
   "cell_type": "markdown",
   "metadata": {
    "slideshow": {
     "slide_type": "subslide"
    }
   },
   "source": [
    "### Ejemplos"
   ]
  },
  {
   "cell_type": "markdown",
   "metadata": {
    "slideshow": {
     "slide_type": "subslide"
    }
   },
   "source": [
    "#### Ejemplo 01\n",
    "\n",
    "Crear un diccionario con base un grupo de propiedades en {}"
   ]
  },
  {
   "cell_type": "code",
   "execution_count": 121,
   "metadata": {
    "slideshow": {
     "slide_type": "fragment"
    }
   },
   "outputs": [
    {
     "name": "stdout",
     "output_type": "stream",
     "text": [
      "{'nombre': 'Mi Nombre', 'edad': 20, 'documento': '123456789'} <class 'dict'>\n"
     ]
    }
   ],
   "source": [
    "var_miDiccionario = {\n",
    "    \"nombre\" : \"Mi Nombre\",\n",
    "    \"edad\" : 20,\n",
    "    \"documento\" : \"123456789\"\n",
    "}\n",
    "print(var_miDiccionario, type(var_miDiccionario))"
   ]
  },
  {
   "cell_type": "markdown",
   "metadata": {
    "slideshow": {
     "slide_type": "subslide"
    }
   },
   "source": [
    "#### Ejemplo 02\n",
    "\n",
    "Crear un diccionario utilizando la funcion dict() y una lista de propiedades"
   ]
  },
  {
   "cell_type": "code",
   "execution_count": 122,
   "metadata": {
    "slideshow": {
     "slide_type": "fragment"
    }
   },
   "outputs": [
    {
     "name": "stdout",
     "output_type": "stream",
     "text": [
      "{'nombre': 'Mi Nombre', 'edad': 20, 'documento': '123456789'} <class 'dict'>\n"
     ]
    }
   ],
   "source": [
    "var_miDiccionario = dict([\n",
    "    (\"nombre\",\"Mi Nombre\"),\n",
    "    (\"edad\",20),\n",
    "    (\"documento\",\"123456789\")\n",
    "])\n",
    "print(var_miDiccionario, type(var_miDiccionario))"
   ]
  },
  {
   "cell_type": "markdown",
   "metadata": {
    "slideshow": {
     "slide_type": "subslide"
    }
   },
   "source": [
    "#### Ejemplo 03\n",
    "\n",
    "Crear un diccionario utilizando la funcion dict() y un conjunto de **key = value** como propiedades"
   ]
  },
  {
   "cell_type": "code",
   "execution_count": 123,
   "metadata": {
    "slideshow": {
     "slide_type": "fragment"
    }
   },
   "outputs": [
    {
     "name": "stdout",
     "output_type": "stream",
     "text": [
      "{'nombre': 'Nombre', 'edad': 20, 'documento': '123456789'} <class 'dict'>\n"
     ]
    }
   ],
   "source": [
    "var_miDiccionario = dict(nombre=\"Nombre\",edad=20,documento=\"123456789\")\n",
    "print(var_miDiccionario, type(var_miDiccionario))"
   ]
  },
  {
   "cell_type": "markdown",
   "metadata": {
    "slideshow": {
     "slide_type": "subslide"
    }
   },
   "source": [
    "#### Ejemplo 04\n",
    "\n",
    "Obtener un valor del diccionario"
   ]
  },
  {
   "cell_type": "code",
   "execution_count": 127,
   "metadata": {
    "slideshow": {
     "slide_type": "fragment"
    }
   },
   "outputs": [
    {
     "name": "stdout",
     "output_type": "stream",
     "text": [
      "Utilizando el indice: Miguel angel\n",
      "Utilizando la función get(): None\n"
     ]
    }
   ],
   "source": [
    "var_miDiccionario = dict(nombre=\"Miguel angel\",edad=20,documento=\"123456789\")\n",
    "print(\"Utilizando el indice:\",var_miDiccionario[\"nombre\"])\n",
    "print(\"Utilizando la función get():\",var_miDiccionario.get(\"nombre2\"))"
   ]
  },
  {
   "cell_type": "markdown",
   "metadata": {
    "slideshow": {
     "slide_type": "subslide"
    }
   },
   "source": [
    "#### Ejemplo 05\n",
    "\n",
    "Modificar un valor de un diccionario"
   ]
  },
  {
   "cell_type": "code",
   "execution_count": 129,
   "metadata": {
    "slideshow": {
     "slide_type": "fragment"
    }
   },
   "outputs": [
    {
     "name": "stdout",
     "output_type": "stream",
     "text": [
      "edad: 20\n",
      "edad: 25\n"
     ]
    }
   ],
   "source": [
    "var_miDiccionario = dict(nombre=\"Nombre\",edad=20,documento=\"123456789\")\n",
    "print(\"edad:\",var_miDiccionario[\"edad\"])\n",
    "# Modifico el valor asignado al key : edad\n",
    "var_miDiccionario[\"edad\"] = 25\n",
    "print(\"edad:\",var_miDiccionario[\"edad\"])"
   ]
  },
  {
   "cell_type": "markdown",
   "metadata": {
    "slideshow": {
     "slide_type": "subslide"
    }
   },
   "source": [
    "#### Ejemplo 06\n",
    "\n",
    "Añadir un valor al diccionario"
   ]
  },
  {
   "cell_type": "code",
   "execution_count": 130,
   "metadata": {
    "slideshow": {
     "slide_type": "fragment"
    }
   },
   "outputs": [
    {
     "name": "stdout",
     "output_type": "stream",
     "text": [
      "Diccionario actual: {'nombre': 'Nombre', 'edad': 20, 'documento': '123456789'}\n",
      "Diccionario modificado: {'nombre': 'Nombre', 'edad': 20, 'documento': '123456789', 'apellido': 'apellido'}\n"
     ]
    }
   ],
   "source": [
    "var_miDiccionario = dict(nombre=\"Nombre\",edad=20,documento=\"123456789\")\n",
    "print(\"Diccionario actual:\",var_miDiccionario)\n",
    "# Agrego un nuevo key a mi diccionario\n",
    "var_miDiccionario[\"apellido\"] = \"apellido\"\n",
    "print(\"Diccionario modificado:\",var_miDiccionario)"
   ]
  },
  {
   "cell_type": "markdown",
   "metadata": {
    "slideshow": {
     "slide_type": "subslide"
    }
   },
   "source": [
    "#### Ejemplo 07\n",
    "\n",
    "Elimino un valor de mi diccionario"
   ]
  },
  {
   "cell_type": "code",
   "execution_count": 135,
   "metadata": {
    "slideshow": {
     "slide_type": "fragment"
    }
   },
   "outputs": [
    {
     "name": "stdout",
     "output_type": "stream",
     "text": [
      "Diccionario actual: {'nombre': 'Nombre', 'edad': [20, 25], 'documento': '123456789'}\n",
      "Diccionario modificado: {'nombre': 'Nombre', 'edad': [20, 25]}\n"
     ]
    }
   ],
   "source": [
    "var_miDiccionario = dict(nombre=\"Nombre\",edad=[20,25],documento=\"123456789\")\n",
    "print(\"Diccionario actual:\",var_miDiccionario)\n",
    "# Agrego un nuevo key a mi diccionario\n",
    "del var_miDiccionario[\"documento\"]\n",
    "print(\"Diccionario modificado:\",var_miDiccionario)"
   ]
  },
  {
   "cell_type": "markdown",
   "metadata": {
    "slideshow": {
     "slide_type": "subslide"
    }
   },
   "source": [
    "#### Ejemplo 08\n",
    "\n",
    "Iterar un diccionario"
   ]
  },
  {
   "cell_type": "code",
   "execution_count": 136,
   "metadata": {
    "slideshow": {
     "slide_type": "fragment"
    }
   },
   "outputs": [
    {
     "name": "stdout",
     "output_type": "stream",
     "text": [
      "nombre\n",
      "edad\n",
      "documento\n"
     ]
    }
   ],
   "source": [
    "var_miDiccionario = dict(nombre=\"Nombre\",edad=20,documento=\"123456789\")\n",
    "for item in var_miDiccionario:\n",
    "    print(item)"
   ]
  },
  {
   "cell_type": "markdown",
   "metadata": {
    "slideshow": {
     "slide_type": "subslide"
    }
   },
   "source": [
    "#### Ejemplo 09\n",
    "\n",
    "Iterar un diccionario e imprimir sus valores"
   ]
  },
  {
   "cell_type": "code",
   "execution_count": 140,
   "metadata": {
    "slideshow": {
     "slide_type": "fragment"
    }
   },
   "outputs": [
    {
     "name": "stdout",
     "output_type": "stream",
     "text": [
      "nombre -> Mi Nombre\n",
      "edad -> 20\n",
      "documento -> 123456789\n"
     ]
    }
   ],
   "source": [
    "var_miDiccionario = dict(nombre=\"Mi Nombre\",edad=20,documento=\"123456789\")\n",
    "for llave in var_miDiccionario:\n",
    "    # Imprime el valor del diccionario basado en su indice\n",
    "    print(llave, '->', var_miDiccionario[llave])"
   ]
  },
  {
   "cell_type": "markdown",
   "metadata": {
    "slideshow": {
     "slide_type": "subslide"
    }
   },
   "source": [
    "#### Ejemplo 09\n",
    "\n",
    "Iterar un diccionario e imprimir sus valores"
   ]
  },
  {
   "cell_type": "code",
   "execution_count": 141,
   "metadata": {
    "slideshow": {
     "slide_type": "fragment"
    }
   },
   "outputs": [
    {
     "name": "stdout",
     "output_type": "stream",
     "text": [
      "nombre -> Mi Nombre\n",
      "edad -> 20\n",
      "documento -> 123456789\n"
     ]
    }
   ],
   "source": [
    "var_miDiccionario = dict(nombre=\"Mi Nombre\",edad=20,documento=\"123456789\")\n",
    "for llave,valor in var_miDiccionario.items():\n",
    "    # Imprime el valor del diccionario junto a su llave\n",
    "    print(llave, '->', valor)"
   ]
  },
  {
   "cell_type": "markdown",
   "metadata": {
    "slideshow": {
     "slide_type": "subslide"
    }
   },
   "source": [
    "### Funciones built-in"
   ]
  },
  {
   "cell_type": "markdown",
   "metadata": {
    "slideshow": {
     "slide_type": "subslide"
    }
   },
   "source": [
    "#### get()\n",
    "\n",
    "Obtiene un valor del diccionario. Se puede agregar un atributo adicional para que se retorne cuando no encuentra el valor buscado.\n",
    "\n",
    "```python\n",
    "var_miDiccionario.get(texto[,default])\n",
    "```"
   ]
  },
  {
   "cell_type": "code",
   "execution_count": 149,
   "metadata": {
    "slideshow": {
     "slide_type": "fragment"
    }
   },
   "outputs": [
    {
     "name": "stdout",
     "output_type": "stream",
     "text": [
      "None\n"
     ]
    }
   ],
   "source": [
    "var_miDiccionario = dict(nombre=\"Mi Nombre\",edad=[20],documento=\"123456789\")\n",
    "print(var_miDiccionario.get(\"edad1\"))"
   ]
  },
  {
   "cell_type": "markdown",
   "metadata": {
    "slideshow": {
     "slide_type": "subslide"
    }
   },
   "source": [
    "#### clear()\n",
    "\n",
    "Limpia el diccionario eliminando todos sus valores.\n",
    "\n",
    "```python\n",
    "var_miDiccionario.clear()\n",
    "```"
   ]
  },
  {
   "cell_type": "code",
   "execution_count": 150,
   "metadata": {
    "slideshow": {
     "slide_type": "fragment"
    }
   },
   "outputs": [
    {
     "name": "stdout",
     "output_type": "stream",
     "text": [
      "{}\n"
     ]
    }
   ],
   "source": [
    "var_miDiccionario = dict(nombre=\"Mi Nombre\",edad=20,documento=\"123456789\")\n",
    "var_miDiccionario.clear()\n",
    "print(var_miDiccionario)"
   ]
  },
  {
   "cell_type": "markdown",
   "metadata": {
    "slideshow": {
     "slide_type": "subslide"
    }
   },
   "source": [
    "#### keys()\n",
    "\n",
    "Retorna una lista con las llaves del diccionario\n",
    "\n",
    "```python\n",
    "var_miDiccionario.keys()\n",
    "```"
   ]
  },
  {
   "cell_type": "code",
   "execution_count": 151,
   "metadata": {
    "slideshow": {
     "slide_type": "fragment"
    }
   },
   "outputs": [
    {
     "name": "stdout",
     "output_type": "stream",
     "text": [
      "dict_keys(['nombre', 'edad', 'documento'])\n"
     ]
    }
   ],
   "source": [
    "var_miDiccionario = dict(nombre=\"Mi Nombre\",edad=20,documento=\"123456789\")\n",
    "print(var_miDiccionario.keys())"
   ]
  },
  {
   "cell_type": "markdown",
   "metadata": {
    "slideshow": {
     "slide_type": "subslide"
    }
   },
   "source": [
    "#### values()\n",
    "\n",
    "Retorna una lista con los valores del diccionario\n",
    "\n",
    "```python\n",
    "var_miDiccionario.values()\n",
    "```"
   ]
  },
  {
   "cell_type": "code",
   "execution_count": 152,
   "metadata": {
    "slideshow": {
     "slide_type": "fragment"
    }
   },
   "outputs": [
    {
     "name": "stdout",
     "output_type": "stream",
     "text": [
      "dict_values(['Mi Nombre', 20, '123456789'])\n"
     ]
    }
   ],
   "source": [
    "var_miDiccionario = dict(nombre=\"Mi Nombre\",edad=20,documento=\"123456789\")\n",
    "print(var_miDiccionario.values())"
   ]
  },
  {
   "cell_type": "markdown",
   "metadata": {
    "slideshow": {
     "slide_type": "subslide"
    }
   },
   "source": [
    "#### pop()\n",
    "\n",
    "Elimina un valor del diccionario basado en su llave.\n",
    "\n",
    "```python\n",
    "var_miDiccionario.pop(llave[,default])\n",
    "```"
   ]
  },
  {
   "cell_type": "code",
   "execution_count": 156,
   "metadata": {
    "slideshow": {
     "slide_type": "fragment"
    }
   },
   "outputs": [
    {
     "name": "stdout",
     "output_type": "stream",
     "text": [
      "-1\n",
      "{'nombre': 'Mi Nombre', 'edad': 20, 'documento': '123456789'}\n"
     ]
    }
   ],
   "source": [
    "var_miDiccionario = dict(nombre=\"Mi Nombre\",edad=20,documento=\"123456789\")\n",
    "print(var_miDiccionario.pop(\"nombre2\", -1))\n",
    "print(var_miDiccionario)\n",
    "print(\"numero de temperaturas mayores a 35 grados\",len([numero for numero in var_listadeTemperaturas if numero > 35]))"
   ]
  },
  {
   "cell_type": "markdown",
   "metadata": {
    "slideshow": {
     "slide_type": "subslide"
    }
   },
   "source": [
    "### List Comprehension"
   ]
  },
  {
   "cell_type": "markdown",
   "metadata": {
    "slideshow": {
     "slide_type": "subslide"
    }
   },
   "source": [
    "- Utiliza la función **zip()** que requiere 2 listas, una con las llaves y la otra con los valores a asociar en el diccionario\n",
    "- En caso de que una lista sea mayor a la otra, tomara los datos en ambas correspondientes al tamaño de la lista con menor cantidad de items.\n",
    "- Utiliza {} para la definición del objeto (en las listas se utilizaba [])\n",
    "\n",
    "```python\n",
    "var_variable = {llave: valor for llave, valor in zip(listaLlaves,listaValores)}\n",
    "\n",
    "```"
   ]
  },
  {
   "cell_type": "code",
   "execution_count": null,
   "metadata": {
    "slideshow": {
     "slide_type": "fragment"
    }
   },
   "outputs": [],
   "source": [
    "var_listaLlaves = ['nombre','apellido','edad','puntaje']\n",
    "var_listaValores = ['mi nombre','mi apellido',30]\n",
    "var_miDiccionario = {llave: valor for llave, valor in zip(var_listaLlaves, var_listaValores)}\n",
    "print(var_miDiccionario)"
   ]
  },
  {
   "cell_type": "markdown",
   "metadata": {
    "slideshow": {
     "slide_type": "slide"
    }
   },
   "source": [
    "### Ejemplos"
   ]
  },
  {
   "cell_type": "markdown",
   "metadata": {
    "slideshow": {
     "slide_type": "subslide"
    }
   },
   "source": [
    "Escribir un programa que pregunte al usuario su nombre, edad, dirección y teléfono y lo guarde en un diccionario. Después debe mostrar por pantalla el mensaje **nombre** tiene **edad** años, vive en **dirección** y su número de teléfono es **teléfono**"
   ]
  },
  {
   "cell_type": "code",
   "execution_count": null,
   "metadata": {
    "slideshow": {
     "slide_type": "subslide"
    }
   },
   "outputs": [],
   "source": [
    "# Solución"
   ]
  },
  {
   "cell_type": "markdown",
   "metadata": {
    "slideshow": {
     "slide_type": "subslide"
    }
   },
   "source": [
    "Escribir un programa que guarde en un diccionario los precios de las frutas de la tabla, pregunte al usuario por una fruta, un número de kilos y muestre por pantalla el precio de ese número de kilos de fruta. Si la fruta no está en el diccionario debe mostrar un mensaje informando de ello.\n",
    "\n",
    "|fruta|precio|\n",
    "|:-:|:-:|\n",
    "|Plátano|1.35|\n",
    "|Manzana|0.80|\n",
    "|Pera|0.85|\n",
    "|Naranja|0.70|"
   ]
  },
  {
   "cell_type": "code",
   "execution_count": null,
   "metadata": {
    "slideshow": {
     "slide_type": "subslide"
    }
   },
   "outputs": [],
   "source": [
    "# Solución"
   ]
  },
  {
   "cell_type": "markdown",
   "metadata": {
    "slideshow": {
     "slide_type": "subslide"
    }
   },
   "source": [
    "Escribir un programa que almacene el diccionario con los créditos de las asignaturas de un curso {'Matemáticas': 6, 'Física': 4, 'Química': 5} y después muestre por pantalla los créditos de cada asignatura en el formato **asignatura** tiene **créditos** créditos, donde **asignatura** es cada una de las asignaturas del curso, y **créditos** son sus créditos. Al final debe mostrar también el número total de créditos del curso."
   ]
  },
  {
   "cell_type": "code",
   "execution_count": null,
   "metadata": {
    "slideshow": {
     "slide_type": "subslide"
    }
   },
   "outputs": [],
   "source": [
    "# Solución"
   ]
  }
 ],
 "metadata": {
  "celltoolbar": "Slideshow",
  "kernelspec": {
   "display_name": "Python 3",
   "language": "python",
   "name": "python3"
  },
  "language_info": {
   "codemirror_mode": {
    "name": "ipython",
    "version": 3
   },
   "file_extension": ".py",
   "mimetype": "text/x-python",
   "name": "python",
   "nbconvert_exporter": "python",
   "pygments_lexer": "ipython3",
   "version": "3.7.4"
  }
 },
 "nbformat": 4,
 "nbformat_minor": 4
}
