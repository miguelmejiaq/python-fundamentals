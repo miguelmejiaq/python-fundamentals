{
 "cells": [
  {
   "cell_type": "markdown",
   "metadata": {
    "slideshow": {
     "slide_type": "slide"
    }
   },
   "source": [
    "## Sesión 18 - Manejo de excepciones\n",
    "### Fundamentos de programación"
   ]
  },
  {
   "cell_type": "markdown",
   "metadata": {
    "slideshow": {
     "slide_type": "slide"
    }
   },
   "source": [
    "### Temario"
   ]
  },
  {
   "cell_type": "markdown",
   "metadata": {
    "slideshow": {
     "slide_type": "subslide"
    }
   },
   "source": [
    "- Recursividad.\n",
    "- Funciones lambda.\n",
    "- Manejo de excepciones.\n",
    "    - Caso de estudio.\n",
    "    - Definición.\n",
    "    - Sintaxis.\n",
    "    - Ejemplos.\n",
    "    - Else.\n",
    "    - Finally.\n",
    "    "
   ]
  },
  {
   "cell_type": "markdown",
   "metadata": {
    "slideshow": {
     "slide_type": "slide"
    }
   },
   "source": [
    "### Recursividad\n"
   ]
  },
  {
   "cell_type": "markdown",
   "metadata": {
    "slideshow": {
     "slide_type": "subslide"
    }
   },
   "source": [
    "#### Serie de Fibonacci\n",
    "\n",
    "<br/>\n",
    "1 2 3 5 8 13\n",
    "\n",
    "fibonacci(4) = 5"
   ]
  },
  {
   "cell_type": "code",
   "execution_count": 8,
   "metadata": {
    "slideshow": {
     "slide_type": "subslide"
    }
   },
   "outputs": [
    {
     "name": "stdout",
     "output_type": "stream",
     "text": [
      "3\n"
     ]
    }
   ],
   "source": [
    "# 1 2 3 5 8 13 21\n",
    "# funcion objetivo: fb(n) = fb(n - 1) + fb( n - 2)\n",
    "def fn_serieFibonacci(posicion):\n",
    "    if posicion in (1,2):\n",
    "        return posicion\n",
    "    return fn_serieFibonacci(posicion - 1) + fn_serieFibonacci(posicion - 2)\n",
    "print(fn_serieFibonacci(3))"
   ]
  },
  {
   "cell_type": "markdown",
   "metadata": {
    "slideshow": {
     "slide_type": "slide"
    }
   },
   "source": [
    "### Funciones Lambda"
   ]
  },
  {
   "cell_type": "markdown",
   "metadata": {
    "slideshow": {
     "slide_type": "subslide"
    }
   },
   "source": [
    "- Palabra reservada **lambda**.\n",
    "- Funciones anonimas.\n",
    "- Se definine en una linea.\n",
    "- El código a ejecutar suele ser pequeño.\n",
    "- Realiza un return.\n",
    "\n",
    "<br/>\n",
    "\n",
    "<center><i>“Python lambdas are only a shorthand notation if you’re too lazy to define a function.”</i></center>"
   ]
  },
  {
   "cell_type": "markdown",
   "metadata": {
    "slideshow": {
     "slide_type": "subslide"
    }
   },
   "source": [
    "### Sintaxis\n",
    "\n",
    "```python\n",
    "lambda <variables separadas por coma>: <operacion a aplicar con las variables>\n",
    "```"
   ]
  },
  {
   "cell_type": "code",
   "execution_count": 20,
   "metadata": {
    "slideshow": {
     "slide_type": "subslide"
    }
   },
   "outputs": [
    {
     "name": "stdout",
     "output_type": "stream",
     "text": [
      "8\n"
     ]
    }
   ],
   "source": [
    "# Implementación de suma\n",
    "fn_suma = lambda num1,num2: num1 + num2\n",
    "# imprimir la suma de 2 valores\n",
    "print(fn_suma(2,6))"
   ]
  },
  {
   "cell_type": "code",
   "execution_count": 29,
   "metadata": {
    "slideshow": {
     "slide_type": "subslide"
    }
   },
   "outputs": [
    {
     "name": "stdout",
     "output_type": "stream",
     "text": [
      "27\n"
     ]
    }
   ],
   "source": [
    "# lambda e invocación en la misma linea\n",
    "print((lambda num1, num2 : num1 + num2)(10,17))"
   ]
  },
  {
   "cell_type": "code",
   "execution_count": 34,
   "metadata": {
    "slideshow": {
     "slide_type": "subslide"
    }
   },
   "outputs": [
    {
     "name": "stdout",
     "output_type": "stream",
     "text": [
      "35\n",
      "19\n"
     ]
    }
   ],
   "source": [
    "# lambda como entrada en una función\n",
    "def fn_calcular(funcion,num1, num2):\n",
    "    return funcion(num1,num2)\n",
    "# Defino una función lambda para sumar 2 valores\n",
    "fn_suma = lambda num1,num2 : num1 + num2\n",
    "fn_resta = lambda num1,num2 : num1 - num2\n",
    "#variables de entrada\n",
    "var_numero1 = 27\n",
    "var_numero2 = 8\n",
    "# Ejecuto mi funcion de calculo pasando la funcion lambda y los 2 valores que voy a operar\n",
    "print(fn_calcular(fn_suma,var_numero1,var_numero2))\n",
    "print(fn_calcular(fn_resta,var_numero1,var_numero2))"
   ]
  },
  {
   "cell_type": "code",
   "execution_count": 49,
   "metadata": {
    "slideshow": {
     "slide_type": "subslide"
    }
   },
   "outputs": [
    {
     "name": "stdout",
     "output_type": "stream",
     "text": [
      "9\n"
     ]
    }
   ],
   "source": [
    "# lambda con parámetros por defecto\n",
    "fn_operacion = lambda num1, num2, factor = 1: (num1 + num2) * factor\n",
    "print(fn_operacion(1,2,3))"
   ]
  },
  {
   "cell_type": "code",
   "execution_count": 58,
   "metadata": {
    "scrolled": true,
    "slideshow": {
     "slide_type": "subslide"
    }
   },
   "outputs": [
    {
     "name": "stdout",
     "output_type": "stream",
     "text": [
      "53\n"
     ]
    }
   ],
   "source": [
    "# lambda con parámetros variables (tuple unpacking)\n",
    "fn_suma = lambda *numeros : sum(numeros)\n",
    "print(fn_suma(3,4,5,14,3,4,10,10))"
   ]
  },
  {
   "cell_type": "markdown",
   "metadata": {
    "slideshow": {
     "slide_type": "slide"
    }
   },
   "source": [
    "### Manejo de excepciones"
   ]
  },
  {
   "cell_type": "markdown",
   "metadata": {
    "slideshow": {
     "slide_type": "subslide"
    }
   },
   "source": [
    "### Caso de estudio"
   ]
  },
  {
   "cell_type": "code",
   "execution_count": 60,
   "metadata": {
    "slideshow": {
     "slide_type": "subslide"
    }
   },
   "outputs": [
    {
     "ename": "ZeroDivisionError",
     "evalue": "division by zero",
     "output_type": "error",
     "traceback": [
      "\u001b[1;31m---------------------------------------------------------------------------\u001b[0m",
      "\u001b[1;31mZeroDivisionError\u001b[0m                         Traceback (most recent call last)",
      "\u001b[1;32m<ipython-input-60-e589b868388e>\u001b[0m in \u001b[0;36m<module>\u001b[1;34m\u001b[0m\n\u001b[0;32m      1\u001b[0m \u001b[1;31m# Arrojar un error por division 0\u001b[0m\u001b[1;33m\u001b[0m\u001b[1;33m\u001b[0m\u001b[1;33m\u001b[0m\u001b[0m\n\u001b[0;32m      2\u001b[0m \u001b[0mvar_num1\u001b[0m\u001b[1;33m,\u001b[0m \u001b[0mvar_num2\u001b[0m \u001b[1;33m=\u001b[0m \u001b[1;36m5\u001b[0m\u001b[1;33m,\u001b[0m\u001b[1;36m0\u001b[0m\u001b[1;33m\u001b[0m\u001b[1;33m\u001b[0m\u001b[0m\n\u001b[1;32m----> 3\u001b[1;33m \u001b[0mvar_resultado\u001b[0m \u001b[1;33m=\u001b[0m \u001b[0mvar_num1\u001b[0m\u001b[1;33m/\u001b[0m\u001b[0mvar_num2\u001b[0m\u001b[1;33m\u001b[0m\u001b[1;33m\u001b[0m\u001b[0m\n\u001b[0m\u001b[0;32m      4\u001b[0m \u001b[0mprint\u001b[0m\u001b[1;33m(\u001b[0m\u001b[0mvar_resultado\u001b[0m\u001b[1;33m)\u001b[0m\u001b[1;33m\u001b[0m\u001b[1;33m\u001b[0m\u001b[0m\n",
      "\u001b[1;31mZeroDivisionError\u001b[0m: division by zero"
     ]
    }
   ],
   "source": [
    "# Arrojar un error por division 0\n",
    "var_num1, var_num2 = 5,0\n",
    "var_resultado = var_num1/var_num2\n",
    "print(var_resultado)"
   ]
  },
  {
   "cell_type": "markdown",
   "metadata": {
    "slideshow": {
     "slide_type": "subslide"
    }
   },
   "source": [
    "### Evitar una división sobre 0"
   ]
  },
  {
   "cell_type": "code",
   "execution_count": 69,
   "metadata": {
    "slideshow": {
     "slide_type": "fragment"
    }
   },
   "outputs": [
    {
     "name": "stdout",
     "output_type": "stream",
     "text": [
      "ingrese un valorvkjnfdj\n"
     ]
    },
    {
     "ename": "ValueError",
     "evalue": "invalid literal for int() with base 10: 'vkjnfdj'",
     "output_type": "error",
     "traceback": [
      "\u001b[1;31m---------------------------------------------------------------------------\u001b[0m",
      "\u001b[1;31mValueError\u001b[0m                                Traceback (most recent call last)",
      "\u001b[1;32m<ipython-input-69-bbdc3e15abc6>\u001b[0m in \u001b[0;36m<module>\u001b[1;34m\u001b[0m\n\u001b[0;32m      1\u001b[0m \u001b[1;31m# Verificar el valor para determinar si se puede o no dividir\u001b[0m\u001b[1;33m\u001b[0m\u001b[1;33m\u001b[0m\u001b[1;33m\u001b[0m\u001b[0m\n\u001b[1;32m----> 2\u001b[1;33m \u001b[0mvar_num1\u001b[0m\u001b[1;33m,\u001b[0m \u001b[0mvar_num2\u001b[0m \u001b[1;33m=\u001b[0m \u001b[1;36m5\u001b[0m\u001b[1;33m,\u001b[0m\u001b[0mint\u001b[0m\u001b[1;33m(\u001b[0m\u001b[0minput\u001b[0m\u001b[1;33m(\u001b[0m\u001b[1;34m\"ingrese un valor\"\u001b[0m\u001b[1;33m)\u001b[0m\u001b[1;33m)\u001b[0m\u001b[1;33m\u001b[0m\u001b[1;33m\u001b[0m\u001b[0m\n\u001b[0m\u001b[0;32m      3\u001b[0m \u001b[0mprint\u001b[0m\u001b[1;33m(\u001b[0m\u001b[1;34m\"Hola mundo\"\u001b[0m\u001b[1;33m)\u001b[0m\u001b[1;33m\u001b[0m\u001b[1;33m\u001b[0m\u001b[0m\n\u001b[0;32m      4\u001b[0m \u001b[1;32mif\u001b[0m \u001b[0mvar_num2\u001b[0m \u001b[1;33m==\u001b[0m \u001b[1;36m0\u001b[0m\u001b[1;33m:\u001b[0m\u001b[1;33m\u001b[0m\u001b[1;33m\u001b[0m\u001b[0m\n\u001b[0;32m      5\u001b[0m     \u001b[0mprint\u001b[0m\u001b[1;33m(\u001b[0m\u001b[1;34m\"La division no puede realizarse, ya que el divisor es 0.\"\u001b[0m\u001b[1;33m)\u001b[0m\u001b[1;33m\u001b[0m\u001b[1;33m\u001b[0m\u001b[0m\n",
      "\u001b[1;31mValueError\u001b[0m: invalid literal for int() with base 10: 'vkjnfdj'"
     ]
    }
   ],
   "source": [
    "# Verificar el valor para determinar si se puede o no dividir\n",
    "var_num1, var_num2 = 5,int(input(\"ingrese un valor\"))\n",
    "print(\"Hola mundo\")\n",
    "if var_num2 == 0:\n",
    "    print(\"La division no puede realizarse, ya que el divisor es 0.\")\n",
    "else:\n",
    "    var_resultado = var_num1/var_num2\n",
    "    print(var_resultado)"
   ]
  },
  {
   "cell_type": "markdown",
   "metadata": {
    "slideshow": {
     "slide_type": "slide"
    }
   },
   "source": [
    "### Manejo de excepciones - Definición"
   ]
  },
  {
   "cell_type": "markdown",
   "metadata": {
    "slideshow": {
     "slide_type": "subslide"
    }
   },
   "source": [
    "- Forma de controlar un comportamiento cuando se produce un error.\n",
    "- Permite informar al usuario de una forma mas clara cuando falla el sistema.\n",
    "- Permite realizar validaciones o conversiones.\n",
    "- En caso de no tratarse el error, el programa se detiene."
   ]
  },
  {
   "cell_type": "markdown",
   "metadata": {
    "slideshow": {
     "slide_type": "subslide"
    }
   },
   "source": [
    "### Sintaxis"
   ]
  },
  {
   "cell_type": "markdown",
   "metadata": {
    "slideshow": {
     "slide_type": "subslide"
    }
   },
   "source": [
    "```python\n",
    "# Se utiliza la palabra reservada \"try\" para el manejo de la excepción\n",
    "# Es importante recordar que la linea debe terminar en :\n",
    "# para que python analice el subbloque de código\n",
    "try:\n",
    "    print(a/0)\n",
    "# Se utiliza la palabra reservada \"except\" seguida de el tipo de excepción\n",
    "# en caso de que se quira capturar una excepción puntual.\n",
    "except <Tipo de excepción>:\n",
    "    # Aca se captura la excepción\n",
    "    print(\"Aca se notifica el error\")\n",
    "```"
   ]
  },
  {
   "cell_type": "markdown",
   "metadata": {
    "slideshow": {
     "slide_type": "slide"
    }
   },
   "source": [
    "### Ejemplos"
   ]
  },
  {
   "cell_type": "markdown",
   "metadata": {
    "slideshow": {
     "slide_type": "subslide"
    }
   },
   "source": [
    "### Evitar una división sobre 0"
   ]
  },
  {
   "cell_type": "code",
   "execution_count": 72,
   "metadata": {
    "slideshow": {
     "slide_type": "fragment"
    }
   },
   "outputs": [
    {
     "name": "stdout",
     "output_type": "stream",
     "text": [
      "Error al ejecutar la división\n",
      "Fin del comunicado\n"
     ]
    }
   ],
   "source": [
    "# Ejemplo de division sobre 0\n",
    "var_num1, var_num2 = 5,0\n",
    "# \"intente!\"\n",
    "try:\n",
    "    print(var_num1/var_num2)\n",
    "# \"si falla! haga...\"\n",
    "except:\n",
    "    print(\"Error al ejecutar la división\")\n",
    "print(\"Fin del comunicado\")"
   ]
  },
  {
   "cell_type": "markdown",
   "metadata": {
    "slideshow": {
     "slide_type": "subslide"
    }
   },
   "source": [
    "### Determinar el tipo de excepción"
   ]
  },
  {
   "cell_type": "code",
   "execution_count": 78,
   "metadata": {
    "slideshow": {
     "slide_type": "fragment"
    }
   },
   "outputs": [
    {
     "name": "stdout",
     "output_type": "stream",
     "text": [
      "Ups! fallo la division <class 'ValueError'>\n"
     ]
    }
   ],
   "source": [
    "# Verificar el tipo de excepción que viene\n",
    "try:\n",
    "    var_num1, var_num2 = 5,int(\"0b\")\n",
    "    print(var_num1/var_num2)\n",
    "except Exception as ex:\n",
    "    print(\"Ups! fallo la division\",type(ex))"
   ]
  },
  {
   "cell_type": "markdown",
   "metadata": {
    "slideshow": {
     "slide_type": "subslide"
    }
   },
   "source": [
    "### Controlar diferentes excepciones"
   ]
  },
  {
   "cell_type": "code",
   "execution_count": 91,
   "metadata": {
    "slideshow": {
     "slide_type": "fragment"
    }
   },
   "outputs": [
    {
     "name": "stdout",
     "output_type": "stream",
     "text": [
      "El tipo de dato del divisor no es valido\n"
     ]
    }
   ],
   "source": [
    "# Cambiar el mensaje según el tipo de excepción\n",
    "var_num1 = 10\n",
    "try:\n",
    "    var_num2 = int(\"10\")\n",
    "    print(var_num1 / var_num2)\n",
    "except ZeroDivisionError:\n",
    "    print(\"Se esta colocando un divisor 0 el cual provoca un error.\")\n",
    "except TypeError:\n",
    "    print(\"El tipo de dato del divisor no es valido\")\n",
    "except ValueError:\n",
    "    print(\"El valor ingresado no puede ser convertido a un numero entero. formato esperado: [0-9]\")\n",
    "except Exception as ex: # default\n",
    "    print(\"Error sin controlar\", type(ex))"
   ]
  },
  {
   "cell_type": "markdown",
   "metadata": {
    "slideshow": {
     "slide_type": "subslide"
    }
   },
   "source": [
    "### Utilizar una función para validar un tipo de dato"
   ]
  },
  {
   "cell_type": "code",
   "execution_count": 93,
   "metadata": {
    "slideshow": {
     "slide_type": "fragment"
    }
   },
   "outputs": [
    {
     "name": "stdout",
     "output_type": "stream",
     "text": [
      "(None, False, 'Ocurrio un error al intentar convertir el valor')\n"
     ]
    }
   ],
   "source": [
    "# Definir una funcion para validar que el dato sea entero\n",
    "def fn_validarNumeroEntero(texto):\n",
    "    var_valorSalida,var_textoError = None, None\n",
    "    try:\n",
    "        var_valorSalida = int(texto)\n",
    "        return var_valorSalida,True,var_textoError\n",
    "    except:\n",
    "        return var_valorSalida, False,\"Ocurrio un error al intentar convertir el valor\"\n",
    "print(fn_validarNumeroEntero(\"10a\"))"
   ]
  },
  {
   "cell_type": "markdown",
   "metadata": {
    "slideshow": {
     "slide_type": "subslide"
    }
   },
   "source": [
    "## Else"
   ]
  },
  {
   "cell_type": "markdown",
   "metadata": {
    "slideshow": {
     "slide_type": "subslide"
    }
   },
   "source": [
    "- Se ejecuta cuando el try no arroja la excepción.\n",
    "- Sirve para correr un bloque de código adicional al try.\n",
    "- Utiliza la palabra reservada **else**."
   ]
  },
  {
   "cell_type": "markdown",
   "metadata": {
    "slideshow": {
     "slide_type": "subslide"
    }
   },
   "source": [
    "### try + else"
   ]
  },
  {
   "cell_type": "code",
   "execution_count": 102,
   "metadata": {
    "slideshow": {
     "slide_type": "fragment"
    }
   },
   "outputs": [
    {
     "name": "stdout",
     "output_type": "stream",
     "text": [
      "2.5\n",
      "la impresion funciono\n",
      "Entro por aca porque no fallo el codigo\n"
     ]
    }
   ],
   "source": [
    "# configurar un try con un else\n",
    "try:\n",
    "    print(5/2)\n",
    "    print(\"la impresion funciono\")\n",
    "except: \n",
    "    print(\"fallo por imprimir sobre 0\")    \n",
    "print(\"Entro por aca porque no fallo el codigo\")"
   ]
  },
  {
   "cell_type": "markdown",
   "metadata": {
    "slideshow": {
     "slide_type": "subslide"
    }
   },
   "source": [
    "## Finally"
   ]
  },
  {
   "cell_type": "markdown",
   "metadata": {
    "slideshow": {
     "slide_type": "subslide"
    }
   },
   "source": [
    "- Se ejecuta al final del try sin importar si se arrojo o no la excepción.\n",
    "- Sirve para correr un bloque de código adicional al try.\n",
    "- Utiliza la palabra reservada **finally**.\n",
    "- **Ejemplo**: Cerrar una conexión a una base de datos."
   ]
  },
  {
   "cell_type": "markdown",
   "metadata": {
    "slideshow": {
     "slide_type": "subslide"
    }
   },
   "source": [
    "### try + finally"
   ]
  },
  {
   "cell_type": "code",
   "execution_count": 115,
   "metadata": {
    "slideshow": {
     "slide_type": "fragment"
    }
   },
   "outputs": [
    {
     "name": "stdout",
     "output_type": "stream",
     "text": [
      "Abre conexion a la base de datos\n",
      "5/0\n"
     ]
    }
   ],
   "source": [
    "# configurar un try con un finally\n",
    "try: # intente\n",
    "    print(\"Abre conexion a la base de datos\")\n",
    "    print(\"5/0\")\n",
    "except TypeError:\n",
    "    print(\"el tipo de dato ingresado no es valido\")\n",
    "except ZeroDivisionError:\n",
    "    print(\"El divisor es 0\")\n",
    "except Exception as ex: # capture si\n",
    "    print(\"ocurrio un problema en la impresion\",type(ex))\n",
    "finally:\n",
    "    print(\"Fin del proceso\")"
   ]
  }
 ],
 "metadata": {
  "celltoolbar": "Slideshow",
  "kernelspec": {
   "display_name": "Python 3",
   "language": "python",
   "name": "python3"
  },
  "language_info": {
   "codemirror_mode": {
    "name": "ipython",
    "version": 3
   },
   "file_extension": ".py",
   "mimetype": "text/x-python",
   "name": "python",
   "nbconvert_exporter": "python",
   "pygments_lexer": "ipython3",
   "version": "3.7.4"
  }
 },
 "nbformat": 4,
 "nbformat_minor": 2
}
