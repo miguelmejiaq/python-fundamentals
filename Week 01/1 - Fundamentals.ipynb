{
 "cells": [
  {
   "cell_type": "markdown",
   "metadata": {
    "slideshow": {
     "slide_type": "slide"
    }
   },
   "source": [
    "<br/>\n",
    "\n",
    "## Sesión 1\n",
    "\n",
    "# Fundamentos de Programación\n",
    "\n",
    "\n",
    "\n"
   ]
  },
  {
   "cell_type": "markdown",
   "metadata": {
    "slideshow": {
     "slide_type": "subslide"
    }
   },
   "source": [
    "<center><img src=\"../Images/ruta-aprendizaje.png\"/></center>\n",
    "<center><i>Fig 1. Ruta de aprendizaje.</i></center>"
   ]
  },
  {
   "cell_type": "markdown",
   "metadata": {
    "slideshow": {
     "slide_type": "subslide"
    }
   },
   "source": [
    "## Temario"
   ]
  },
  {
   "cell_type": "markdown",
   "metadata": {
    "slideshow": {
     "slide_type": "subslide"
    }
   },
   "source": [
    "### Semana 1\n",
    "\n",
    "- Presentación del curso.\n",
    "    - Presentación del docente.\n",
    "    - Reglas Generales.\n",
    "    - Retos.\n",
    "    - Miscelanea.\n",
    "- Computadores.\n",
    "    - Hardware/Software.\n",
    "    - Estructura funcional.\n",
    "- Metodología de programación.\n",
    "    - Definición.\n",
    "    - Ejemplos.\n",
    "    - Fases de programación."
   ]
  },
  {
   "cell_type": "markdown",
   "metadata": {
    "slideshow": {
     "slide_type": "subslide"
    }
   },
   "source": [
    "### Semana 1\n",
    "- Entornos de desarrollo.\n",
    "- Paradigmas de programación.\n",
    "    - Imperativa.\n",
    "        - Estructurado.\n",
    "        - Procedimental.\n",
    "        - Orientado a objetos.\n",
    "    - Declarativa.\n",
    "        - Lógica.\n",
    "        - Funcional."
   ]
  },
  {
   "cell_type": "markdown",
   "metadata": {
    "slideshow": {
     "slide_type": "subslide"
    }
   },
   "source": [
    "### Semana 1\n",
    "- Lenguajes de programación.\n",
    "    - Introducción a los lenguajes de programación.\n",
    "    - Lenguaje Compilado.\n",
    "    - Lenguaje Interpretado.\n",
    "- Python.\n",
    "    - Historia.\n",
    "    - Aplicaciones.\n",
    "- <b>Extra: </b>Repositorios de código."
   ]
  },
  {
   "cell_type": "markdown",
   "metadata": {
    "slideshow": {
     "slide_type": "slide"
    }
   },
   "source": [
    "## Presentación del Curso"
   ]
  },
  {
   "cell_type": "markdown",
   "metadata": {
    "slideshow": {
     "slide_type": "subslide"
    }
   },
   "source": [
    "### Presentación docente\n",
    "\n",
    "![title](../Images/lenguajes.png)"
   ]
  },
  {
   "cell_type": "markdown",
   "metadata": {
    "slideshow": {
     "slide_type": "subslide"
    }
   },
   "source": [
    "### Reglas generales\n",
    "- 7 Semanas (7:30 horas semanales).\n",
    "- 3 clases de 2 hrs 30 min por semana.\n",
    "- Lunes, Miercoles y Viernes: 6:00 - 8:30 PM.\n",
    "- Break de 10 minutos.\n",
    "- Días festivos: <b>No hay sesión.</b>\n",
    "- Las preguntas se responden al final de cada tema.\n",
    "- Foro general del ciclo para preguntas sobre el curso."
   ]
  },
  {
   "cell_type": "markdown",
   "metadata": {
    "slideshow": {
     "slide_type": "subslide"
    }
   },
   "source": [
    "### Retos\n",
    "- Actividades propuestas durante cada semana del ciclo.\n",
    "- 5 Retos:\n",
    "    - Semana 1 y 2.\n",
    "    - Semana 3.\n",
    "    - Semana 4.\n",
    "    - Semana 5.\n",
    "    - Semana 6 y 7."
   ]
  },
  {
   "cell_type": "markdown",
   "metadata": {
    "slideshow": {
     "slide_type": "subslide"
    }
   },
   "source": [
    "### Miscelanea\n",
    "#### ¿Qué necesitamos para programar en python?\n",
    "- Computador con mínimo 4GB de Ram.\n",
    "- Conexión a Internet.\n",
    "- Paciencia y ganas de aprender.\n",
    "\n",
    "#### ¿Qué pasa si no puedo instalar nada en mi computador?\n",
    "- Si no cuentas con una cuenta de google, creala.\n",
    "- Google Colab."
   ]
  },
  {
   "cell_type": "markdown",
   "metadata": {
    "slideshow": {
     "slide_type": "subslide"
    }
   },
   "source": [
    "### Miscelanea\n",
    "#### ¿Puedo entrar directamente a las sesiones de WebEx sin ingresar a OpenLMS?\n",
    "- Si, pero se recomienda hacerlo mediante OpenLMS para llevar la asistencia.\n",
    "\n",
    "#### ¿Qué pasa si no puedo asistir a una sesión?\n",
    "- <b>TODAS</b> las sesiones serán grabadas, por los que podras verlas desde OpenLMS una vez se carguen.\n",
    "- Es importante asistir a las sesiones."
   ]
  },
  {
   "cell_type": "markdown",
   "metadata": {
    "slideshow": {
     "slide_type": "subslide"
    }
   },
   "source": [
    "### Miscelanea\n",
    "#### ¿Si tengo dudas sobre los retos, quién puede apoyarme?\n",
    "- Tutores.\n",
    "- Foro general del ciclo.\n",
    "- <b>Opcional:</b> 30 minutos al final de las sesiones.\n",
    "\n",
    "#### ¿ Cuando comienzan las clases de ingles?\n",
    "\n",
    "- La otra semana.\n",
    "\n",
    "#### ¿Cúal es la fecha límite para entregar los retos?\n",
    "- El domingo de la semana del reto. (para reto 1 y reto 5, la entrega es en la semana 2 y semana 7)."
   ]
  },
  {
   "cell_type": "markdown",
   "metadata": {
    "slideshow": {
     "slide_type": "slide"
    }
   },
   "source": [
    "## Computadores\n",
    "<br/>\n",
    "<br/>"
   ]
  },
  {
   "cell_type": "markdown",
   "metadata": {
    "slideshow": {
     "slide_type": "fragment"
    }
   },
   "source": [
    "<center>\n",
    "    <i>\"Unidad lógica que ejecuta una serie de comandos para procesar una entrada y obtener una salida.\"</i>\n",
    "</center>"
   ]
  },
  {
   "cell_type": "markdown",
   "metadata": {
    "slideshow": {
     "slide_type": "fragment"
    }
   },
   "source": [
    "<center>\n",
    "    <i>\"Máquina digital que permite procesar datos y generar salidas.\"</i>\n",
    "</center>"
   ]
  },
  {
   "cell_type": "markdown",
   "metadata": {
    "slideshow": {
     "slide_type": "subslide"
    }
   },
   "source": [
    "<center><img src=\"../Images/abaco.jpg\" height=\"600\" width=\"400\"/></center>\n",
    "<center><i>Fig 2. Abaco (300 A.C.)</i></center>"
   ]
  },
  {
   "cell_type": "markdown",
   "metadata": {
    "slideshow": {
     "slide_type": "subslide"
    }
   },
   "source": [
    "<center><img src=\"../Images/z1.jpg\" height=\"600\" width=\"500\"/></center>\n",
    "<center><i>Fig 3. Z1 (1931 - 1936)</i></center>"
   ]
  },
  {
   "cell_type": "markdown",
   "metadata": {
    "slideshow": {
     "slide_type": "subslide"
    }
   },
   "source": [
    "<center><img src=\"../Images/ibm5100.jpg\" height=\"600\" width=\"500\"/></center>\n",
    "<center><i>Fig 3. IBM 5100 (1975)</i></center>"
   ]
  },
  {
   "cell_type": "markdown",
   "metadata": {
    "slideshow": {
     "slide_type": "subslide"
    }
   },
   "source": [
    "<center>\n",
    "    <i>\n",
    "        \"Actualmente, una computadora es un dispositivo compuesto por Hardware y Software, el cual permite procesar cualquier tipo de información.\"\n",
    "    </i>\n",
    "</center>"
   ]
  },
  {
   "cell_type": "markdown",
   "metadata": {
    "slideshow": {
     "slide_type": "subslide"
    }
   },
   "source": [
    "- Computadores portatiles.\n",
    "- Computadores de escritorio.\n",
    "- Satelites.\n",
    "- IoT (Internet de las cosas).\n",
    "- Inteligencia Artificial y Robotica.\n",
    "- Ciencia de datos.\n",
    "- Teléfonos inteligentes.\n",
    "- Internet."
   ]
  },
  {
   "cell_type": "markdown",
   "metadata": {
    "slideshow": {
     "slide_type": "subslide"
    }
   },
   "source": [
    "### Hardware\n",
    "\n",
    "- Componentes electrónicos, físicos.\n",
    "- CPU.\n",
    "- Bus.\n",
    "- RAM / Cache.\n",
    "- Disco Duro.\n",
    "\n",
    "### Software\n",
    "\n",
    "- Sistema operativo.\n",
    "- Aplicaciones."
   ]
  },
  {
   "cell_type": "markdown",
   "metadata": {
    "slideshow": {
     "slide_type": "slide"
    }
   },
   "source": [
    "## Metodología de Programación"
   ]
  },
  {
   "cell_type": "markdown",
   "metadata": {
    "slideshow": {
     "slide_type": "fragment"
    }
   },
   "source": [
    "- <b>Problema:</b> Necesidad de algo.\n",
    "- <b>Proceso:</b> Lista de pasos con las que se puede ejecutar una o varias tareas.\n",
    "- <b>Salida:</b> Respuesta del proceso.\n",
    "<br/>\n",
    "\n",
    "<center><img src=\"../Images/metodologia-programacion.png\"/></center>\n",
    "<center><i>Fig 4. Metodología de programación.</i></center>"
   ]
  },
  {
   "cell_type": "markdown",
   "metadata": {
    "slideshow": {
     "slide_type": "subslide"
    }
   },
   "source": [
    "### Ejemplo 01\n",
    "\n",
    "#### Problema\n",
    "\n",
    "Preparar una pizza.\n",
    "\n",
    "#### Proceso\n",
    "\n",
    "- Cortar todos los ingredientes.\n",
    "- Preparar la masa.\n",
    "- Colocar los ingredientes en la masa.\n",
    "- Poner la pizza en el horno.\n",
    "\n",
    "#### Salida\n",
    "\n",
    "- Entregar la pizza."
   ]
  },
  {
   "cell_type": "markdown",
   "metadata": {
    "slideshow": {
     "slide_type": "subslide"
    }
   },
   "source": [
    "### Ejemplo 02\n",
    "\n",
    "#### Problema\n",
    "\n",
    "Comprar un tiquete aéreo.\n",
    "\n",
    "#### Proceso\n",
    "\n",
    "- Buscar el destino y las fechas indicadas.\n",
    "- Verificar las opciones de vuelos disponibles.\n",
    "- Seleccionar el vuelo.\n",
    "- Realizar el pago.\n",
    "\n",
    "#### Salida\n",
    "\n",
    "- Tiquete de avión."
   ]
  },
  {
   "cell_type": "markdown",
   "metadata": {
    "slideshow": {
     "slide_type": "subslide"
    }
   },
   "source": [
    "### Ejemplo 03\n",
    "\n",
    "#### Problema\n",
    "\n",
    "Calcular los divisores de un número <i>n</i>.\n",
    "\n",
    "#### Proceso\n",
    "\n",
    "- Solicitar el número.\n",
    "- Verificar que no sea primo.\n",
    "- Calcular el modulo (%) de cada numero entre 2 y el número buscando por un valor 0\n",
    "- Si el modulo del número es 0, significa que es divisor. Agregar a la lista.\n",
    "\n",
    "#### Salida\n",
    "\n",
    "- Listado de números primos de un número <i>n</i>."
   ]
  },
  {
   "cell_type": "markdown",
   "metadata": {},
   "source": [
    "# Problema\n",
    "\n",
    "Determinar cuando un numero es o no par.\n",
    "\n",
    "## Proceso\n",
    "\n",
    "- ingresar el dato\n",
    "- dividirlo en 2\n",
    "\n",
    "### Restricción (reglas)\n",
    "\n",
    "- el numero debe ser mayor que 1\n",
    "- Siempre se divide en 2.\n",
    "- el residuo debe ser igual 0.\n",
    "- El numero debe ser un numero entero\n",
    "- El dato ingresado debe ser un numero.\n",
    "\n",
    "## Salida\n",
    "\n",
    "\"Es un numero par\" o \"No es un numero par\"\n",
    "\n",
    "\n"
   ]
  },
  {
   "cell_type": "markdown",
   "metadata": {},
   "source": [
    "seudocodigo\n",
    "\n",
    "- Solicitar el dato\n",
    "- identificar si es un numero\n",
    "- revisar que sea un numero entero\n",
    "- verificar que el numero sea mayor que uno\n",
    "- dividimos entre 2\n",
    "- verificar el residuo\n",
    "- si el residuo es 0 entonces salida es \"numero par\"\n",
    "- si no \"numero impar\"\n",
    "\n",
    "\n",
    "\n",
    "\n"
   ]
  },
  {
   "cell_type": "code",
   "execution_count": 14,
   "metadata": {},
   "outputs": [
    {
     "name": "stdout",
     "output_type": "stream",
     "text": [
      "Ingrese un numero12\n",
      "El numero es par\n"
     ]
    }
   ],
   "source": [
    "try:\n",
    "    # convertir de texto a entero\n",
    "    var_numero = int(input(\"Ingrese un numero\"))\n",
    "except:\n",
    "    var_numero = -1\n",
    "# Verificamos si el numero es mayor que 1 para dividirlo entre 2\n",
    "if (var_numero > 1):\n",
    "    var_residuo = var_numero % 2\n",
    "    \n",
    "# Salida\n",
    "\n",
    "# si mi numero es -1 (cuando no se puede convertir en entero)\n",
    "if (var_numero == -1):\n",
    "    print(\"Se debe ingresar un numero para ejecutar nuestro programa.\")\n",
    "# cuando el valor ingresado es un numero pero es menor que 2\n",
    "elif (var_numero >= 0 and var_numero < 2):\n",
    "    print(\"Se debe ingresar un numero positivo mayor que 1\")\n",
    "# cuando el numero ingresado es mayor que 2 y el residuo es 0\n",
    "elif (var_numero > 1 and var_residuo == 0):\n",
    "    print(\"El numero es par\")\n",
    "# Cuando el residuo es distinto a 0\n",
    "else:\n",
    "    print(\"El numero es impar.\")\n",
    "\n"
   ]
  },
  {
   "cell_type": "markdown",
   "metadata": {
    "slideshow": {
     "slide_type": "subslide"
    }
   },
   "source": [
    "<center>\n",
    "    <img src=\"../Images/fases-programacion.png\" width=\"800\" />\n",
    "    <i>Fig 5. Fases de la programación.</i>\n",
    "</center>"
   ]
  }
 ],
 "metadata": {
  "celltoolbar": "Slideshow",
  "kernelspec": {
   "display_name": "Python 3",
   "language": "python",
   "name": "python3"
  },
  "language_info": {
   "codemirror_mode": {
    "name": "ipython",
    "version": 3
   },
   "file_extension": ".py",
   "mimetype": "text/x-python",
   "name": "python",
   "nbconvert_exporter": "python",
   "pygments_lexer": "ipython3",
   "version": "3.7.4"
  }
 },
 "nbformat": 4,
 "nbformat_minor": 4
}
