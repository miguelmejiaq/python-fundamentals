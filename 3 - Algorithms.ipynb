{
 "cells": [
  {
   "cell_type": "markdown",
   "metadata": {
    "slideshow": {
     "slide_type": "slide"
    }
   },
   "source": [
    "<br/>\n",
    "\n",
    "## Sesión 3 - Algortimos & Python\n",
    "\n",
    "# Fundamentos de Programación\n",
    "\n",
    "\n",
    "\n"
   ]
  },
  {
   "cell_type": "markdown",
   "metadata": {
    "slideshow": {
     "slide_type": "subslide"
    }
   },
   "source": [
    "## Temario"
   ]
  },
  {
   "cell_type": "markdown",
   "metadata": {
    "slideshow": {
     "slide_type": "subslide"
    }
   },
   "source": [
    "### Semana 1\n",
    "\n",
    "- <s>Presentación del curso.\n",
    "    - Presentación del docente.\n",
    "    - Reglas Generales.\n",
    "    - Retos.\n",
    "    - Miscelanea.\n",
    "- Computación.\n",
    "    - Hardware/Software.\n",
    "    - Estructura funcional.\n",
    "- Metodología de programación.\n",
    "    - Definición.\n",
    "    - Ejemplos.\n",
    "    - Fases de programación.</s>"
   ]
  },
  {
   "cell_type": "markdown",
   "metadata": {
    "slideshow": {
     "slide_type": "subslide"
    }
   },
   "source": [
    "### Semana 1\n",
    "- <s>Paradigmas de programación.\n",
    "    - Imperativa.\n",
    "        - Estructurado.\n",
    "        - Procedimental.\n",
    "        - Orientado a objetos.\n",
    "    - Declarativa.\n",
    "        - Lógica.\n",
    "        - Funcional.</s>"
   ]
  },
  {
   "cell_type": "markdown",
   "metadata": {
    "slideshow": {
     "slide_type": "subslide"
    }
   },
   "source": [
    "### Semana 1\n",
    "\n",
    "- <s>Lenguajes de programación.\n",
    "    - Intoducción a los lenguajes de programación.\n",
    "    - Lenguaje Compilado.\n",
    "    - Lenguaje Interpretado.\n",
    "- Entornos de desarrollo.</s>\n",
    "- Diagramas de flujo.\n",
    "- Algoritmos.\n",
    "- Seudocódigo.\n",
    "- Python.\n",
    "    - Definición.\n",
    "    - Ejemplos.\n",
    "- <b>Extra: </b>Repositorios de código."
   ]
  },
  {
   "cell_type": "markdown",
   "metadata": {
    "slideshow": {
     "slide_type": "slide"
    }
   },
   "source": [
    "### Algoritmos"
   ]
  },
  {
   "cell_type": "markdown",
   "metadata": {
    "slideshow": {
     "slide_type": "subslide"
    }
   },
   "source": [
    "<center>\n",
    "<i>\"Secuencia de pasos lógicos que busca la solución a un problema específico.\"</i>\n",
    "</center>"
   ]
  },
  {
   "cell_type": "markdown",
   "metadata": {
    "slideshow": {
     "slide_type": "subslide"
    }
   },
   "source": [
    "- **Preciso:** No debe ser ambiguo.\n",
    "- **Definido:** La salida de una misma entrada siempre debe dar el mismo resultado. El rango de entradas debe ser especificado cuidadosamente.\n",
    "- **Finito:** Debe tener un fin, un número de pasos finitos y debe ejecutarse en un tiempo finito.\n",
    "- **Representación:** Debe poderse representar mediante Diagramas o seudocodigo.\n",
    "- **Legible:** Debe ser claro y entendible al momento de leerse.\n",
    "- **Debe definir 3 partes: Entrada, proceso y salida.**"
   ]
  },
  {
   "cell_type": "markdown",
   "metadata": {
    "slideshow": {
     "slide_type": "slide"
    }
   },
   "source": [
    "### Diagramas de flujo\n",
    "\n",
    "- Representación gráfica de un proceso.\n",
    "- Presenta un proceso desde su inicio hasta su fin.\n",
    "- Permita identificar condiciones o puntos de fuga.\n",
    "\n",
    "<br/>\n",
    "<br/>\n",
    "\n",
    "<center>\n",
    "    <img src=\"Images/ddf-ejemplo-0.png\" width=\"800\" />\n",
    "    <i>Fig 1. Ejemplo de un diagrama de flujo.</i>\n",
    "</center>"
   ]
  },
  {
   "cell_type": "markdown",
   "metadata": {
    "slideshow": {
     "slide_type": "subslide"
    }
   },
   "source": [
    "### Ejemplo 01\n",
    "\n",
    "<br/>\n",
    "\n",
    "<center>\n",
    "    <img src=\"Images/ddf-ejemplo-1.png\" width=\"900\" />\n",
    "    <i>Fig 2. Diagrama de como jugar en un Play Station.</i>\n",
    "</center>"
   ]
  },
  {
   "cell_type": "markdown",
   "metadata": {
    "slideshow": {
     "slide_type": "subslide"
    }
   },
   "source": [
    "### Ejemplo 02\n",
    "\n",
    "\n",
    "<br/>\n",
    "\n",
    "<center>\n",
    "    <img src=\"Images/ddf-ejemplo-2.png\" width=\"800\" />\n",
    "    <i>Fig 3. Diagrama de como determinar qué número es mayor entre 2.</i>\n",
    "</center>"
   ]
  },
  {
   "cell_type": "markdown",
   "metadata": {
    "slideshow": {
     "slide_type": "subslide"
    }
   },
   "source": [
    "### Ejemplo 03\n",
    "\n",
    "<br/>\n",
    "\n",
    "<center>\n",
    "    <img src=\"Images/ddf-ejemplo-3.png\" width=\"1200\" />\n",
    "    <i>Fig 4. Diagrama para determinar los pares hasta un número N.</i>\n",
    "</center>"
   ]
  },
  {
   "cell_type": "markdown",
   "metadata": {
    "slideshow": {
     "slide_type": "slide"
    }
   },
   "source": [
    "### Seudocódigo."
   ]
  },
  {
   "cell_type": "markdown",
   "metadata": {
    "slideshow": {
     "slide_type": "subslide"
    }
   },
   "source": [
    "- Traducción de un problema a instrucciones.\n",
    "- Se hace de forma que sea muy entendible.\n",
    "- Permite verificar y encontrar fugas antes de codificar.\n",
    "- Se puede definir como un lenguaje de especificación de algoritmos.\n",
    "- **Importante:** Se debe identar para dar mas claridad."
   ]
  },
  {
   "cell_type": "markdown",
   "metadata": {
    "slideshow": {
     "slide_type": "subslide"
    }
   },
   "source": [
    "### Ejemplo 01\n",
    "\n",
    "```\n",
    "encender play station\n",
    "si hay un disco entonces\n",
    "   retirar el disco\n",
    "fin si\n",
    "insertar el disco\n",
    "jugar play station\n",
    "```"
   ]
  },
  {
   "cell_type": "markdown",
   "metadata": {
    "slideshow": {
     "slide_type": "subslide"
    }
   },
   "source": [
    "### Ejemplo 02\n",
    "\n",
    "```\n",
    "asignar 0 a numero1,0 a numero2,\"\" a salida\n",
    "mientras que numero1 sea igual a numero2 hacer\n",
    "  Introducir numero1,numero2\n",
    "fin mientras\n",
    "si numero1 es mayor que numero2 entonces\n",
    "    asignar \"numero1 es mayor que numero2\" a salida\n",
    "sino\n",
    "    asignar \"numero2 es mayor que numero1\" a salida\n",
    "fin si\n",
    "imprimir salida\n",
    "```"
   ]
  },
  {
   "cell_type": "markdown",
   "metadata": {
    "slideshow": {
     "slide_type": "subslide"
    }
   },
   "source": [
    "### Ejemplo 03\n",
    "\n",
    "```\n",
    "asignar entrada a t\n",
    "asignar 0 a n\n",
    "asignar \"\" a p\n",
    "mientras que n es menor o igual a t hacer\n",
    "    si n modulo 2 es igual a 0 entonces\n",
    "        concatenar en p \",\" y n\n",
    "    fin si\n",
    "    incrementamos n en 1\n",
    "fin mientras que\n",
    "imprimir p\n",
    "```"
   ]
  },
  {
   "cell_type": "code",
   "execution_count": 1,
   "metadata": {},
   "outputs": [
    {
     "name": "stdout",
     "output_type": "stream",
     "text": [
      "ingrese el numero25\n",
      ",0,2,4,6,8,10,12,14,16,18,20,22,24\n"
     ]
    }
   ],
   "source": [
    "t= int(input(\"ingrese el numero\"))\n",
    "n = 0\n",
    "p = \"\"\n",
    "while n <= t:\n",
    "    if (n%2 == 0) :\n",
    "        p = p + \",\" + str(n)\n",
    "    n = n + 1;\n",
    "print(p)"
   ]
  },
  {
   "cell_type": "markdown",
   "metadata": {
    "slideshow": {
     "slide_type": "slide"
    }
   },
   "source": [
    "### Python"
   ]
  },
  {
   "cell_type": "markdown",
   "metadata": {
    "slideshow": {
     "slide_type": "subslide"
    }
   },
   "source": [
    "- Lenguaje multiplataforma.\n",
    "- Multiparadigma.\n",
    "- legible.\n",
    "- Código abierto (gran comunidad de desarrolladores).\n",
    "- +30 años de historia.\n",
    "- Version actual **3.9** (por temas de soporte a otras librerias se recomienda ir una version atras **3.8**).\n",
    "- Automatización."
   ]
  },
  {
   "cell_type": "markdown",
   "metadata": {
    "slideshow": {
     "slide_type": "subslide"
    }
   },
   "source": [
    "### WEB\n",
    "\n",
    "- django.\n",
    "- flask.\n",
    "- tornado\n",
    "- web2py\n",
    "\n",
    "### AI / Data Science\n",
    "\n",
    "- Scypi\n",
    "- numpy\n",
    "- keras\n",
    "- tensorflow\n",
    "- pandas"
   ]
  },
  {
   "cell_type": "markdown",
   "metadata": {
    "slideshow": {
     "slide_type": "subslide"
    }
   },
   "source": [
    "<center>\n",
    "    <img src=\"Images/top-lenguajes.png\" width=\"1200\" />\n",
    "    <i>Fig 5. Top lenguajes de programación.</i>\n",
    "</center>"
   ]
  },
  {
   "cell_type": "markdown",
   "metadata": {
    "slideshow": {
     "slide_type": "subslide"
    }
   },
   "source": [
    "<center>\n",
    "    <img src=\"Images/java-println.png\" width=\"700\"/>\n",
    "    <i>Fig 6. Impresion en java.</i>\n",
    "</center>"
   ]
  },
  {
   "cell_type": "code",
   "execution_count": 2,
   "metadata": {
    "slideshow": {
     "slide_type": "fragment"
    }
   },
   "outputs": [
    {
     "name": "stdout",
     "output_type": "stream",
     "text": [
      "Welcome\n",
      "To\n",
      "GeeksforGeeks\n"
     ]
    }
   ],
   "source": [
    "print(\"Welcome\",\"To\",\"GeeksforGeeks\",sep=\"\\n\")"
   ]
  },
  {
   "cell_type": "markdown",
   "metadata": {
    "slideshow": {
     "slide_type": "slide"
    }
   },
   "source": [
    "### Repositorios de Código"
   ]
  },
  {
   "cell_type": "markdown",
   "metadata": {
    "slideshow": {
     "slide_type": "subslide"
    }
   },
   "source": [
    "- Sistema de repositorios centralizado.\n",
    "- Trabajo colaborativo.\n",
    "- Versionamiento.\n",
    "- Integración Continua.\n",
    "- Aislar versiones para trabajar sin afectar miembros del equipo."
   ]
  },
  {
   "cell_type": "markdown",
   "metadata": {
    "slideshow": {
     "slide_type": "subslide"
    }
   },
   "source": [
    "<center>\n",
    "    <img src=\"Images/team01.png\" width=\"700\" />\n",
    "    <i>Fig 7. Desarrollador independiente.</i>\n",
    "</center>"
   ]
  },
  {
   "cell_type": "markdown",
   "metadata": {
    "slideshow": {
     "slide_type": "subslide"
    }
   },
   "source": [
    "<center>\n",
    "    <img src=\"Images/team02.png\" width=\"700\" />\n",
    "    <i>Fig 8. Equipo de desarrollo.</i>\n",
    "</center>"
   ]
  },
  {
   "cell_type": "markdown",
   "metadata": {
    "slideshow": {
     "slide_type": "subslide"
    }
   },
   "source": [
    "<center>\n",
    "    <img src=\"Images/team03.png\" width=\"700\" />\n",
    "    <i>Fig 9. Equipos de desarrollo</i>\n",
    "</center>"
   ]
  },
  {
   "cell_type": "markdown",
   "metadata": {
    "slideshow": {
     "slide_type": "subslide"
    }
   },
   "source": [
    "<center>\n",
    "    <img src=\"Images/gitrepo.png\" width=\"600\" />\n",
    "    <i>Fig 9. Proyecto bajo repositorio de codigo.</i>\n",
    "</center>"
   ]
  },
  {
   "cell_type": "markdown",
   "metadata": {
    "slideshow": {
     "slide_type": "subslide"
    }
   },
   "source": [
    "- 2 versiones de códigos. Una local **(origin)** y una remote **(remote)**\n",
    "- El servidor se encarga de mezclar el código **(merge)**.\n",
    "- En caso de encontrar una inconsistencia, el desarrollador debera hacer la integración.\n",
    "- Si un desarrollador publica codigo **(push)**, los otros desarrolladores no tendran afectación.\n",
    "- Si se desea obtener los cambios, debe actualizarse el código local **(pull)**\n",
    "- Si se daña una versión local, se puede volver a descargar.\n",
    "- Se manejan las mismas dependencias."
   ]
  },
  {
   "cell_type": "markdown",
   "metadata": {
    "slideshow": {
     "slide_type": "subslide"
    }
   },
   "source": [
    "### Los mas usados\n",
    "\n",
    "- Github (Microsoft).\n",
    "- Azure DevOps (Microsoft).\n",
    "- Gitlab.\n",
    "- Bitbucket."
   ]
  }
 ],
 "metadata": {
  "celltoolbar": "Slideshow",
  "kernelspec": {
   "display_name": "Python 3",
   "language": "python",
   "name": "python3"
  },
  "language_info": {
   "codemirror_mode": {
    "name": "ipython",
    "version": 3
   },
   "file_extension": ".py",
   "mimetype": "text/x-python",
   "name": "python",
   "nbconvert_exporter": "python",
   "pygments_lexer": "ipython3",
   "version": "3.7.4"
  }
 },
 "nbformat": 4,
 "nbformat_minor": 4
}
