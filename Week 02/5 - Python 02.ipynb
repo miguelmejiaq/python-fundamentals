{
 "cells": [
  {
   "cell_type": "markdown",
   "metadata": {
    "slideshow": {
     "slide_type": "slide"
    }
   },
   "source": [
    "<br/>\n",
    "\n",
    "## Sesión 4 - Python 01\n",
    "\n",
    "# Fundamentos de Programación\n",
    "\n",
    "\n",
    "\n"
   ]
  },
  {
   "cell_type": "markdown",
   "metadata": {
    "slideshow": {
     "slide_type": "subslide"
    }
   },
   "source": [
    "## Temario"
   ]
  },
  {
   "cell_type": "markdown",
   "metadata": {
    "slideshow": {
     "slide_type": "subslide"
    }
   },
   "source": [
    "- Ejercicio Entero y Textos.\n",
    "- Tipos de dato.\n",
    "    - Decimales.\n",
    "        - Definición.\n",
    "        - Ejemplos.\n",
    "        - Funciones built-in.\n",
    "    - Boolean.\n",
    "        - Definición.\n",
    "        - Ejemplos.\n",
    "        - Funciones built-in.\n",
    "- Ejercicio"
   ]
  },
  {
   "cell_type": "markdown",
   "metadata": {
    "slideshow": {
     "slide_type": "slide"
    }
   },
   "source": [
    "## Ejercicio sesión anterior"
   ]
  },
  {
   "cell_type": "markdown",
   "metadata": {
    "slideshow": {
     "slide_type": "subslide"
    }
   },
   "source": [
    "**Problema**\n",
    "\n",
    "Se requiere aplicar operaciones de enteros y strings en unos valores ingresados desde el teclado ( 2 números enteros, el nombre completo del estudiante).\n",
    "\n",
    "**Salida**\n",
    "\n",
    "- promedio de los 2 números.\n",
    "- la suma de los números.\n",
    "- el cuadrado de los 2 números.\n",
    "- El nombre en mayusculas.\n",
    "- Reemplace la letra a (no importa si es mayuscula o minuscula) por * e imprima el nombre con solo la primera letra en mayuscula.\n",
    "- Imprimir 3 veces el nombre."
   ]
  },
  {
   "cell_type": "code",
   "execution_count": null,
   "metadata": {
    "slideshow": {
     "slide_type": "subslide"
    }
   },
   "outputs": [],
   "source": [
    "# Solución"
   ]
  },
  {
   "cell_type": "markdown",
   "metadata": {
    "slideshow": {
     "slide_type": "slide"
    }
   },
   "source": [
    "## Tipos de datos"
   ]
  },
  {
   "cell_type": "markdown",
   "metadata": {
    "slideshow": {
     "slide_type": "subslide"
    }
   },
   "source": [
    "## Decimal (float)"
   ]
  },
  {
   "cell_type": "markdown",
   "metadata": {
    "slideshow": {
     "slide_type": "subslide"
    }
   },
   "source": [
    "#### Entero (int)\n",
    "\n",
    "- Permite almacenar un entero numérico no decimal de cualquier valor **positivo** o **negativo**.\n",
    "- A diferencia de otros lenguajes, no debemos preocuparnos de la memoria, ya que se encarga automaticamente de asignar el espacio necesario para el número.\n",
    "- Permite manejar números binarios, octales, decimales y hexadecimales."
   ]
  },
  {
   "cell_type": "markdown",
   "metadata": {
    "slideshow": {
     "slide_type": "subslide"
    }
   },
   "source": [
    "#### Ejemplo 01\n",
    "\n",
    "- Imprimir un entero."
   ]
  },
  {
   "cell_type": "code",
   "execution_count": null,
   "metadata": {
    "slideshow": {
     "slide_type": "fragment"
    }
   },
   "outputs": [],
   "source": [
    "print(1.0)\n",
    "print(10e-1)\n",
    "print(.1)"
   ]
  },
  {
   "cell_type": "markdown",
   "metadata": {
    "slideshow": {
     "slide_type": "subslide"
    }
   },
   "source": [
    "#### Ejemplo 02\n",
    "\n",
    "- Verificar el tipo de dato."
   ]
  },
  {
   "cell_type": "code",
   "execution_count": null,
   "metadata": {
    "slideshow": {
     "slide_type": "fragment"
    }
   },
   "outputs": [],
   "source": [
    "print(type(1.0))\n",
    "print(type(10e-1))"
   ]
  },
  {
   "cell_type": "markdown",
   "metadata": {
    "slideshow": {
     "slide_type": "subslide"
    }
   },
   "source": [
    "#### Ejemplo 03\n",
    "\n",
    "- Asignar a una variable un decimal."
   ]
  },
  {
   "cell_type": "code",
   "execution_count": null,
   "metadata": {
    "slideshow": {
     "slide_type": "fragment"
    }
   },
   "outputs": [],
   "source": [
    "var_miNumero = 5.0\n",
    "print(type(var_miNumero))"
   ]
  },
  {
   "cell_type": "markdown",
   "metadata": {
    "slideshow": {
     "slide_type": "subslide"
    }
   },
   "source": [
    "#### Ejemplo 04\n",
    "\n",
    "- Modos de expresar un decimal."
   ]
  },
  {
   "cell_type": "code",
   "execution_count": null,
   "metadata": {
    "slideshow": {
     "slide_type": "fragment"
    }
   },
   "outputs": [],
   "source": [
    "a = 0.1\n",
    "b = 1.0e-1\n",
    "print(a == b)"
   ]
  },
  {
   "cell_type": "markdown",
   "metadata": {
    "slideshow": {
     "slide_type": "subslide"
    }
   },
   "source": [
    "#### Funciones built-in"
   ]
  },
  {
   "cell_type": "markdown",
   "metadata": {
    "slideshow": {
     "slide_type": "subslide"
    }
   },
   "source": [
    "#### float(valor)\n",
    "\n",
    "```python\n",
    "float(valor)\n",
    "```\n",
    "\n",
    "- Convertir un valor a decimal."
   ]
  },
  {
   "cell_type": "code",
   "execution_count": null,
   "metadata": {
    "slideshow": {
     "slide_type": "fragment"
    }
   },
   "outputs": [],
   "source": [
    "print(float(0b100)) # Convierte el 100 de binario a decimal (4).\n",
    "print(float(\"10\")) # Convierte una cadena de texto a decimal.\n",
    "print(float(0x17)) # Convirte un hexadecimal a decimal\n",
    "print(float(0o720)) # Convierte un octal a decimal"
   ]
  },
  {
   "cell_type": "markdown",
   "metadata": {
    "slideshow": {
     "slide_type": "subslide"
    }
   },
   "source": [
    "#### pow(base,exp)\n",
    "\n",
    "```python\n",
    "pow(base,potencia)\n",
    "```\n",
    "\n",
    "- Ejecuta un calculo de potencia."
   ]
  },
  {
   "cell_type": "code",
   "execution_count": null,
   "metadata": {
    "slideshow": {
     "slide_type": "fragment"
    }
   },
   "outputs": [],
   "source": [
    "print(pow(9.2,1e-4))"
   ]
  },
  {
   "cell_type": "markdown",
   "metadata": {
    "slideshow": {
     "slide_type": "subslide"
    }
   },
   "source": [
    "### Operaciones aritméticas\n",
    "\n"
   ]
  },
  {
   "cell_type": "markdown",
   "metadata": {
    "slideshow": {
     "slide_type": "subslide"
    }
   },
   "source": [
    "|Operator|Nombre|Ejemplo|\n",
    "|:------:|:------:|:----:|\n",
    "|Suma|+|5+3|\n",
    "|Resta|-|5-3|\n",
    "|Multiplicación|*|5*3|\n",
    "|Division|/|5/3|\n",
    "|Módulo|%|5%3|\n",
    "|Potencia|** | 5**3 |\n",
    "|División Entera|//|5//3|"
   ]
  },
  {
   "cell_type": "code",
   "execution_count": null,
   "metadata": {
    "slideshow": {
     "slide_type": "fragment"
    }
   },
   "outputs": [],
   "source": [
    "var_numA, var_numB = float(5),float(4)\n",
    "print(var_numA + var_numB) # Suma\n",
    "print(var_numA - var_numB) # Resta\n",
    "print(var_numA * var_numB) # Multiplicación\n",
    "print(var_numA / var_numB) # División\n",
    "print(var_numA % var_numB) # Módulo\n",
    "print(var_numA ** var_numB) # Potencia\n",
    "print(var_numA // var_numB) # División entera."
   ]
  }
 ],
 "metadata": {
  "celltoolbar": "Slideshow",
  "kernelspec": {
   "display_name": "Python 3",
   "language": "python",
   "name": "python3"
  },
  "language_info": {
   "codemirror_mode": {
    "name": "ipython",
    "version": 3
   },
   "file_extension": ".py",
   "mimetype": "text/x-python",
   "name": "python",
   "nbconvert_exporter": "python",
   "pygments_lexer": "ipython3",
   "version": "3.7.4"
  }
 },
 "nbformat": 4,
 "nbformat_minor": 4
}
