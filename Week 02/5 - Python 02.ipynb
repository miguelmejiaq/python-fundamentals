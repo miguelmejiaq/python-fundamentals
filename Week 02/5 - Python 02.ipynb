{
 "cells": [
  {
   "cell_type": "markdown",
   "metadata": {
    "slideshow": {
     "slide_type": "slide"
    }
   },
   "source": [
    "<br/>\n",
    "\n",
    "## Sesión 5 - Python 02\n",
    "\n",
    "# Fundamentos de Programación\n",
    "\n",
    "<br/>\n",
    "Iniciamos 6:10PM\n",
    "\n"
   ]
  },
  {
   "cell_type": "markdown",
   "metadata": {
    "slideshow": {
     "slide_type": "subslide"
    }
   },
   "source": [
    "## Temario"
   ]
  },
  {
   "cell_type": "markdown",
   "metadata": {
    "slideshow": {
     "slide_type": "subslide"
    }
   },
   "source": [
    "- Ejercicio Entero y Textos.\n",
    "- Tipos de datos.\n",
    "    - Entero\n",
    "        - Operadores de asignación.\n",
    "    - Decimales.\n",
    "        - Definición.\n",
    "        - Ejemplos.\n",
    "        - Funciones built-in.\n",
    "    - Boolean.\n",
    "        - Definición.\n",
    "        - Ejemplos.\n",
    "        - Funciones built-in.\n",
    "        - Operadores Relacionales.\n",
    "- Ejercicio"
   ]
  },
  {
   "cell_type": "markdown",
   "metadata": {
    "slideshow": {
     "slide_type": "slide"
    }
   },
   "source": [
    "## Ejercicio sesión anterior"
   ]
  },
  {
   "cell_type": "markdown",
   "metadata": {
    "slideshow": {
     "slide_type": "subslide"
    }
   },
   "source": [
    "**Problema**\n",
    "\n",
    "Se requiere aplicar operaciones de enteros y strings en unos valores ingresados desde el teclado ( 2 números enteros, el nombre completo del estudiante).\n",
    "\n",
    "**Salida**\n",
    "\n",
    "- promedio de los 2 números.\n",
    "- la suma de los números.\n",
    "- el cuadrado de los 2 números.\n",
    "- El nombre en mayusculas.\n",
    "- Reemplace la letra a (no importa si es mayuscula o minuscula) por * e imprima el nombre con solo la primera letra en mayuscula.\n",
    "- Imprimir 3 veces el nombre."
   ]
  },
  {
   "cell_type": "code",
   "execution_count": 65,
   "metadata": {
    "slideshow": {
     "slide_type": "subslide"
    }
   },
   "outputs": [
    {
     "name": "stdout",
     "output_type": "stream",
     "text": [
      "el promedio es:  4573\n",
      "la suma de los 2 números es:  9146\n",
      "El cuadrado del primer número es:  58660281 El cuadrado del segundo número es:  2211169\n",
      "Nombre en mayuscula:  ANA MARIA\n",
      "Ana Mar*A\n",
      "Ana mariaAna mariaAna maria\n"
     ]
    }
   ],
   "source": [
    "### Solución\n",
    "# plantillas de texto.\n",
    "var_PreguntaNumero = 'Ingrese el {valor} numero: '\n",
    "var_preguntaNombre = 'Ingrese su nombre: '\n",
    "var_textoNumero1, var_textoNumero2 = 'primer','segundo'\n",
    "# Definimos las entradas\n",
    "#var_numero1 = int(input(var_PreguntaNumero.format(valor = var_textoNumero1)))\n",
    "#var_numero2 = int(input(var_PreguntaNumero.format(valor = var_textoNumero2)))\n",
    "#var_nombre = input(var_preguntaNombre)\n",
    "# Salidas\n",
    "print(\"el promedio es: \",(var_numero1 + var_numero2) // 2)\n",
    "print(\"la suma de los 2 números es: \",var_numero1 + var_numero2)\n",
    "print(\"El cuadrado del primer número es: \",pow(var_numero1,2),\"El cuadrado del segundo número es: \", var_numero2**2)\n",
    "print(\"Nombre en mayuscula: \",var_nombre.upper())\n",
    "print(var_nombre.lower().replace(\"i\",\"*\").title())\n",
    "print(var_nombre*3)"
   ]
  },
  {
   "cell_type": "markdown",
   "metadata": {
    "slideshow": {
     "slide_type": "slide"
    }
   },
   "source": [
    "## Tipos de datos"
   ]
  },
  {
   "cell_type": "markdown",
   "metadata": {
    "slideshow": {
     "slide_type": "subslide"
    }
   },
   "source": [
    "## Entero (Int)"
   ]
  },
  {
   "cell_type": "markdown",
   "metadata": {
    "slideshow": {
     "slide_type": "subslide"
    }
   },
   "source": [
    " ### Operadores de asignación"
   ]
  },
  {
   "cell_type": "markdown",
   "metadata": {
    "slideshow": {
     "slide_type": "subslide"
    }
   },
   "source": [
    " |Operador| Ejemplo | Equivalente|\n",
    " |:--:|:--:|:--:|\n",
    " | =  | x = 7|x = 7|\n",
    " | += | x += 2|x = x + 2|\n",
    " | -= | x -= 2 |x = x - 2|\n",
    " | *= | x *= 2| x = x * 2|\n",
    " | /= | x /= 2| x = x / 2|\n",
    " | %= | x %= 2|x = x % 2|\n",
    " | //= |x //= 2|x = x // 2|\n",
    " | **= |x **= 2| x = x ** 2|"
   ]
  },
  {
   "cell_type": "code",
   "execution_count": 70,
   "metadata": {
    "slideshow": {
     "slide_type": "subslide"
    }
   },
   "outputs": [
    {
     "name": "stdout",
     "output_type": "stream",
     "text": [
      "49\n"
     ]
    }
   ],
   "source": [
    "var_numero = 7\n",
    "# Incremento mi variable sin crear una nueva\n",
    "var_numero **= 2 \n",
    "print(var_numero)"
   ]
  },
  {
   "cell_type": "markdown",
   "metadata": {
    "slideshow": {
     "slide_type": "subslide"
    }
   },
   "source": [
    "## Decimal (float)"
   ]
  },
  {
   "cell_type": "markdown",
   "metadata": {
    "slideshow": {
     "slide_type": "subslide"
    }
   },
   "source": [
    "- Permiten almacenar números reales con una parte decimal (fracción).\n",
    "- Los decimales en python tienen un maximo y minimo (308 decimales).\n",
    "- Permite convertir números binarios, octales, decimales y hexadecimales a números decimales."
   ]
  },
  {
   "cell_type": "markdown",
   "metadata": {
    "slideshow": {
     "slide_type": "subslide"
    }
   },
   "source": [
    "#### Ejemplo 01\n",
    "\n",
    "- Imprimir un entero."
   ]
  },
  {
   "cell_type": "code",
   "execution_count": 76,
   "metadata": {
    "slideshow": {
     "slide_type": "fragment"
    }
   },
   "outputs": [
    {
     "name": "stdout",
     "output_type": "stream",
     "text": [
      "-1.0\n",
      "0.01456\n",
      "0.75\n"
     ]
    }
   ],
   "source": [
    "print(-1.0)\n",
    "print(1456e-5)\n",
    "print(.75)"
   ]
  },
  {
   "cell_type": "markdown",
   "metadata": {
    "slideshow": {
     "slide_type": "subslide"
    }
   },
   "source": [
    "#### Ejemplo 02\n",
    "\n",
    "- Verificar el tipo de dato."
   ]
  },
  {
   "cell_type": "code",
   "execution_count": 77,
   "metadata": {
    "slideshow": {
     "slide_type": "fragment"
    }
   },
   "outputs": [
    {
     "name": "stdout",
     "output_type": "stream",
     "text": [
      "<class 'float'>\n",
      "<class 'float'>\n"
     ]
    }
   ],
   "source": [
    "print(type(1.0))\n",
    "print(type(10e-1))"
   ]
  },
  {
   "cell_type": "markdown",
   "metadata": {
    "slideshow": {
     "slide_type": "subslide"
    }
   },
   "source": [
    "#### Ejemplo 03\n",
    "\n",
    "- Asignar a una variable un decimal."
   ]
  },
  {
   "cell_type": "code",
   "execution_count": 81,
   "metadata": {
    "slideshow": {
     "slide_type": "fragment"
    }
   },
   "outputs": [
    {
     "name": "stdout",
     "output_type": "stream",
     "text": [
      "5.0 <class 'float'>\n"
     ]
    }
   ],
   "source": [
    "var_miNumero = 5.0\n",
    "print(var_miNumero, type(var_miNumero))"
   ]
  },
  {
   "cell_type": "markdown",
   "metadata": {
    "slideshow": {
     "slide_type": "subslide"
    }
   },
   "source": [
    "#### Ejemplo 04\n",
    "\n",
    "- Modos de expresar un decimal."
   ]
  },
  {
   "cell_type": "code",
   "execution_count": 82,
   "metadata": {
    "slideshow": {
     "slide_type": "fragment"
    }
   },
   "outputs": [
    {
     "name": "stdout",
     "output_type": "stream",
     "text": [
      "True\n"
     ]
    }
   ],
   "source": [
    "a = 0.1\n",
    "b = 1e-1\n",
    "print(a == b) # True False"
   ]
  },
  {
   "cell_type": "markdown",
   "metadata": {
    "slideshow": {
     "slide_type": "subslide"
    }
   },
   "source": [
    "#### Funciones built-in"
   ]
  },
  {
   "cell_type": "markdown",
   "metadata": {
    "slideshow": {
     "slide_type": "subslide"
    }
   },
   "source": [
    "#### float(valor)\n",
    "\n",
    "```python\n",
    "float(valor)\n",
    "```\n",
    "\n",
    "- Convertir un valor a decimal."
   ]
  },
  {
   "cell_type": "code",
   "execution_count": 13,
   "metadata": {
    "slideshow": {
     "slide_type": "fragment"
    }
   },
   "outputs": [
    {
     "name": "stdout",
     "output_type": "stream",
     "text": [
      "4.0\n",
      "10.675\n",
      "23.0\n",
      "464.0\n",
      "576.0\n"
     ]
    }
   ],
   "source": [
    "print(float(0b100)) # Convierte el 100 de binario a decimal (4).\n",
    "print(float(\"10.675\")) # Convierte una cadena de texto a decimal.\n",
    "print(float(0x17)) # Convirte un hexadecimal a decimal\n",
    "print(float(0o720)) # Convierte un octal a decimal\n",
    "print(float(576))"
   ]
  },
  {
   "cell_type": "markdown",
   "metadata": {
    "slideshow": {
     "slide_type": "subslide"
    }
   },
   "source": [
    "#### pow(base,exp)\n",
    "\n",
    "```python\n",
    "pow(base,potencia)\n",
    "```\n",
    "\n",
    "- Ejecuta un calculo de potencia."
   ]
  },
  {
   "cell_type": "code",
   "execution_count": 14,
   "metadata": {
    "slideshow": {
     "slide_type": "fragment"
    }
   },
   "outputs": [
    {
     "name": "stdout",
     "output_type": "stream",
     "text": [
      "156.58774563947273\n"
     ]
    }
   ],
   "source": [
    "print(pow(9,2.3))"
   ]
  },
  {
   "cell_type": "markdown",
   "metadata": {
    "slideshow": {
     "slide_type": "subslide"
    }
   },
   "source": [
    "### Operaciones aritméticas\n",
    "\n"
   ]
  },
  {
   "cell_type": "markdown",
   "metadata": {
    "slideshow": {
     "slide_type": "subslide"
    }
   },
   "source": [
    "|Operator|Nombre|Ejemplo|\n",
    "|:------:|:------:|:----:|\n",
    "|Suma|+|5+3|\n",
    "|Resta|-|5-3|\n",
    "|Multiplicación|*|5*3|\n",
    "|Division|/|5/3|\n",
    "|Módulo|%|5%3|\n",
    "|Potencia|** | 5**3 |\n",
    "|División Entera|//|5//3|"
   ]
  },
  {
   "cell_type": "code",
   "execution_count": 15,
   "metadata": {
    "slideshow": {
     "slide_type": "fragment"
    }
   },
   "outputs": [
    {
     "name": "stdout",
     "output_type": "stream",
     "text": [
      "8.0\n",
      "2.0\n",
      "15.0\n",
      "1.6666666666666667\n",
      "2.0\n",
      "125.0\n",
      "1.0\n"
     ]
    }
   ],
   "source": [
    "var_numA, var_numB = float(5),float(3)\n",
    "print(var_numA + var_numB) # Suma\n",
    "print(var_numA - var_numB) # Resta\n",
    "print(var_numA * var_numB) # Multiplicación\n",
    "print(var_numA / var_numB) # División\n",
    "print(var_numA % var_numB) # Módulo\n",
    "print(var_numA ** var_numB) # Potencia\n",
    "print(var_numA // var_numB) # División entera."
   ]
  },
  {
   "cell_type": "markdown",
   "metadata": {
    "slideshow": {
     "slide_type": "subslide"
    }
   },
   "source": [
    "## Boolean (booleano)"
   ]
  },
  {
   "cell_type": "markdown",
   "metadata": {
    "slideshow": {
     "slide_type": "subslide"
    }
   },
   "source": [
    "- Tipo de dato que permite almacenar 2 valores. **True** o **False**\n",
    "- Se utilizar para asignar estados.\n",
    "- **Uso en condicionales**.\n",
    "\n",
    "```python\n",
    "x = True\n",
    "y = False\n",
    "```"
   ]
  },
  {
   "cell_type": "markdown",
   "metadata": {
    "slideshow": {
     "slide_type": "subslide"
    }
   },
   "source": [
    "### Ejemplo 01\n",
    "\n",
    "- Asignación de variable e impresion."
   ]
  },
  {
   "cell_type": "code",
   "execution_count": 97,
   "metadata": {
    "slideshow": {
     "slide_type": "fragment"
    }
   },
   "outputs": [
    {
     "name": "stdout",
     "output_type": "stream",
     "text": [
      "True <class 'bool'>\n"
     ]
    }
   ],
   "source": [
    "var_miVariable = True\n",
    "print(var_miVariable,type(var_miVariable))"
   ]
  },
  {
   "cell_type": "markdown",
   "metadata": {
    "slideshow": {
     "slide_type": "subslide"
    }
   },
   "source": [
    "### Operadores relacionales (Comparadores)"
   ]
  },
  {
   "cell_type": "markdown",
   "metadata": {
    "slideshow": {
     "slide_type": "subslide"
    }
   },
   "source": [
    "|Operador| Nombre| Ejemplo|\n",
    "|:----:|:-:|:-:|\n",
    "|==|Igual| x == y|\n",
    "|!=|Diferente| x != y|\n",
    "|>|Mayor| x > y|\n",
    "|<|Menor| x < y|\n",
    "|<=|Menor o igual| x <= y|\n",
    "|>=|Mayor o igual| x >= y|"
   ]
  },
  {
   "cell_type": "code",
   "execution_count": 11,
   "metadata": {
    "slideshow": {
     "slide_type": "subslide"
    }
   },
   "outputs": [],
   "source": [
    "#var_numero1, var_numero2 = int(False),0\n",
    "#print(var_numero1 == var_numero2)\n",
    "var_False = False\n",
    "var_int = 10"
   ]
  },
  {
   "cell_type": "markdown",
   "metadata": {},
   "source": [
    "### Ejercicio\n",
    "\n",
    "Utilizando los conocimientos adquiridos en las sesiones de python, vamos a solucionar los siguientes problemas.\n",
    "\n",
    "#### Problema\n",
    "\n",
    "Se requiere de un código en python que nos permita obtener los siguientes resultados, basados en unos valores que vamos a insertar desde consola.\n",
    "\n",
    "#### Requisitos\n",
    "\n",
    "Capturar 2 numeros (uno entero y el otro decimal) y una palabra cualquiera e imprimir los siguientes resultados.\n",
    "\n",
    "- Raiz cuadrada de los 2 números.\n",
    "- Imprimir si el segundo numero ingresado es mayor que el primero.\n",
    "- Imprimir los 2 numeros y la palabra separados por ** y colocando un @ al final.\n",
    "- Imprimir True si el numero de caracteres de la palabra ingresada es mayor a 7.\n",
    "- Imprimir la palabra repetida el numero de veces del numero entero ingresado.\n",
    "\n",
    "**Utilizar format en las impresiones y una correcta nomencla**"
   ]
  }
 ],
 "metadata": {
  "celltoolbar": "Slideshow",
  "kernelspec": {
   "display_name": "Python 3",
   "language": "python",
   "name": "python3"
  },
  "language_info": {
   "codemirror_mode": {
    "name": "ipython",
    "version": 3
   },
   "file_extension": ".py",
   "mimetype": "text/x-python",
   "name": "python",
   "nbconvert_exporter": "python",
   "pygments_lexer": "ipython3",
   "version": "3.7.4"
  }
 },
 "nbformat": 4,
 "nbformat_minor": 4
}
