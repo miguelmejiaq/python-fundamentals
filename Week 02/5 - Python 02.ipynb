{
 "cells": [
  {
   "cell_type": "markdown",
   "metadata": {
    "slideshow": {
     "slide_type": "slide"
    }
   },
   "source": [
    "<br/>\n",
    "\n",
    "## Sesión 4 - Python 01\n",
    "\n",
    "# Fundamentos de Programación\n",
    "\n",
    "\n",
    "\n"
   ]
  },
  {
   "cell_type": "markdown",
   "metadata": {
    "slideshow": {
     "slide_type": "subslide"
    }
   },
   "source": [
    "## Temario"
   ]
  },
  {
   "cell_type": "markdown",
   "metadata": {
    "slideshow": {
     "slide_type": "subslide"
    }
   },
   "source": [
    "- Tipos de dato.\n",
    "    - Decimales.\n",
    "        - Definición.\n",
    "        - Ejemplos.\n",
    "        - Funciones built-in.\n",
    "    - Boolean.\n",
    "        - Definición.\n",
    "        - Ejemplos.\n",
    "        - Funciones built-in.\n",
    "- Ejercicio"
   ]
  },
  {
   "cell_type": "markdown",
   "metadata": {
    "slideshow": {
     "slide_type": "slide"
    }
   },
   "source": [
    "### Tipos de datos"
   ]
  },
  {
   "cell_type": "markdown",
   "metadata": {
    "slideshow": {
     "slide_type": "subslide"
    }
   },
   "source": [
    "## Decimal (float)"
   ]
  },
  {
   "cell_type": "markdown",
   "metadata": {
    "slideshow": {
     "slide_type": "subslide"
    }
   },
   "source": [
    "#### Entero (int)\n",
    "\n",
    "- Permite almacenar un entero numérico no decimal de cualquier valor **positivo** o **negativo**.\n",
    "- A diferencia de otros lenguajes, no debemos preocuparnos de la memoria, ya que se encarga automaticamente de asignar el espacio necesario para el número.\n",
    "- Permite manejar números binarios, octales, decimales y hexadecimales."
   ]
  },
  {
   "cell_type": "markdown",
   "metadata": {
    "slideshow": {
     "slide_type": "subslide"
    }
   },
   "source": [
    "#### Ejemplo 01\n",
    "\n",
    "- Imprimir un entero."
   ]
  },
  {
   "cell_type": "code",
   "execution_count": 22,
   "metadata": {
    "slideshow": {
     "slide_type": "fragment"
    }
   },
   "outputs": [
    {
     "name": "stdout",
     "output_type": "stream",
     "text": [
      "1.0\n",
      "1.0\n",
      "0.1\n"
     ]
    }
   ],
   "source": [
    "print(1.0)\n",
    "print(10e-1)\n",
    "print(.1)"
   ]
  },
  {
   "cell_type": "markdown",
   "metadata": {
    "slideshow": {
     "slide_type": "subslide"
    }
   },
   "source": [
    "#### Ejemplo 02\n",
    "\n",
    "- Verificar el tipo de dato."
   ]
  },
  {
   "cell_type": "code",
   "execution_count": 13,
   "metadata": {
    "slideshow": {
     "slide_type": "fragment"
    }
   },
   "outputs": [
    {
     "name": "stdout",
     "output_type": "stream",
     "text": [
      "<class 'float'>\n",
      "<class 'float'>\n"
     ]
    }
   ],
   "source": [
    "print(type(1.0))\n",
    "print(type(10e-1))"
   ]
  },
  {
   "cell_type": "markdown",
   "metadata": {
    "slideshow": {
     "slide_type": "subslide"
    }
   },
   "source": [
    "#### Ejemplo 03\n",
    "\n",
    "- Asignar a una variable un decimal."
   ]
  },
  {
   "cell_type": "code",
   "execution_count": 14,
   "metadata": {
    "slideshow": {
     "slide_type": "fragment"
    }
   },
   "outputs": [
    {
     "name": "stdout",
     "output_type": "stream",
     "text": [
      "<class 'float'>\n"
     ]
    }
   ],
   "source": [
    "var_miNumero = 5.0\n",
    "print(type(var_miNumero))"
   ]
  },
  {
   "cell_type": "markdown",
   "metadata": {
    "slideshow": {
     "slide_type": "subslide"
    }
   },
   "source": [
    "#### Ejemplo 04\n",
    "\n",
    "- Modos de expresar un decimal."
   ]
  },
  {
   "cell_type": "code",
   "execution_count": 11,
   "metadata": {
    "slideshow": {
     "slide_type": "fragment"
    }
   },
   "outputs": [
    {
     "name": "stdout",
     "output_type": "stream",
     "text": [
      "True\n"
     ]
    }
   ],
   "source": [
    "a = 0.1\n",
    "b = 1.0e-1\n",
    "print(a == b)"
   ]
  },
  {
   "cell_type": "markdown",
   "metadata": {
    "slideshow": {
     "slide_type": "subslide"
    }
   },
   "source": [
    "#### Funciones built-in"
   ]
  },
  {
   "cell_type": "markdown",
   "metadata": {
    "slideshow": {
     "slide_type": "subslide"
    }
   },
   "source": [
    "#### float(valor)\n",
    "\n",
    "```python\n",
    "float(valor)\n",
    "```\n",
    "\n",
    "- Convertir un valor a decimal."
   ]
  },
  {
   "cell_type": "code",
   "execution_count": 16,
   "metadata": {
    "slideshow": {
     "slide_type": "fragment"
    }
   },
   "outputs": [
    {
     "name": "stdout",
     "output_type": "stream",
     "text": [
      "4.0\n",
      "10.0\n",
      "23.0\n",
      "464.0\n"
     ]
    }
   ],
   "source": [
    "print(float(0b100)) # Convierte el 100 de binario a decimal (4).\n",
    "print(float(\"10\")) # Convierte una cadena de texto a decimal.\n",
    "print(float(0x17)) # Convirte un hexadecimal a decimal\n",
    "print(float(0o720)) # Convierte un octal a decimal"
   ]
  },
  {
   "cell_type": "markdown",
   "metadata": {
    "slideshow": {
     "slide_type": "subslide"
    }
   },
   "source": [
    "#### pow(base,exp)\n",
    "\n",
    "```python\n",
    "pow(base,potencia)\n",
    "```\n",
    "\n",
    "- Ejecuta un calculo de potencia."
   ]
  },
  {
   "cell_type": "code",
   "execution_count": 20,
   "metadata": {
    "slideshow": {
     "slide_type": "fragment"
    }
   },
   "outputs": [
    {
     "name": "stdout",
     "output_type": "stream",
     "text": [
      "1.0002219449745477\n"
     ]
    }
   ],
   "source": [
    "print(pow(9.2,1e-4))"
   ]
  },
  {
   "cell_type": "markdown",
   "metadata": {
    "slideshow": {
     "slide_type": "subslide"
    }
   },
   "source": [
    "### Operaciones aritméticas\n",
    "\n"
   ]
  },
  {
   "cell_type": "markdown",
   "metadata": {
    "slideshow": {
     "slide_type": "subslide"
    }
   },
   "source": [
    "<table>\n",
    "    <thhead>\n",
    "        <td> Operador </td><td> Nombre </td><td> Ejemplo </td>\n",
    "    </thead>\n",
    "    <tr>\n",
    "        <td>+</td><td>Suma</td><td>5.0+3.0</td>\n",
    "    </tr>\n",
    "    <tr>\n",
    "        <td>-</td><td>Resta</td><td>5.0-3.0</td>\n",
    "    </tr>\n",
    "    <tr>\n",
    "        <td>*</td><td>Multiplicación</td><td>5.0*3.0</td>\n",
    "    </tr>\n",
    "    <tr>\n",
    "        <td>/</td><td>División</td><td>5.0/3.0</td>\n",
    "    </tr>\n",
    "    <tr>\n",
    "        <td>%</td><td>Módulo</td><td>5.0%3.0</td>\n",
    "    </tr>\n",
    "    <tr>\n",
    "        <td>**</td><td>Potencia</td><td>5.0**3.0</td>\n",
    "    </tr>\n",
    "    <tr>\n",
    "        <td>//</td><td>División Entera</td><td>5.0//3.0</td>\n",
    "    </tr>\n",
    "<table>"
   ]
  },
  {
   "cell_type": "code",
   "execution_count": 21,
   "metadata": {
    "slideshow": {
     "slide_type": "fragment"
    }
   },
   "outputs": [
    {
     "name": "stdout",
     "output_type": "stream",
     "text": [
      "9.0\n",
      "1.0\n",
      "20.0\n",
      "1.25\n",
      "1.0\n",
      "625.0\n",
      "1.0\n"
     ]
    }
   ],
   "source": [
    "var_numA, var_numB = float(5),float(4)\n",
    "print(var_numA + var_numB) # Suma\n",
    "print(var_numA - var_numB) # Resta\n",
    "print(var_numA * var_numB) # Multiplicación\n",
    "print(var_numA / var_numB) # División\n",
    "print(var_numA % var_numB) # Módulo\n",
    "print(var_numA ** var_numB) # Potencia\n",
    "print(var_numA // var_numB) # División entera."
   ]
  },
  {
   "cell_type": "markdown",
   "metadata": {
    "slideshow": {
     "slide_type": "subslide"
    }
   },
   "source": [
    "## Texto (string)"
   ]
  },
  {
   "cell_type": "markdown",
   "metadata": {
    "slideshow": {
     "slide_type": "subslide"
    }
   },
   "source": [
    "#### Texto (string)\n",
    "\n",
    "- No diferencia entre comilla sencilla o comilla doble.\n",
    "- En caso de no asignarse a una variable, permite usar comentarios multilinea.\n",
    "- Permite dar formato a textos para inyeccion de valores."
   ]
  },
  {
   "cell_type": "markdown",
   "metadata": {
    "slideshow": {
     "slide_type": "subslide"
    }
   },
   "source": [
    "#### Ejemplo 01\n",
    "\n",
    "Imprimir una cadena de texto"
   ]
  },
  {
   "cell_type": "code",
   "execution_count": 51,
   "metadata": {
    "slideshow": {
     "slide_type": "fragment"
    }
   },
   "outputs": [
    {
     "name": "stdout",
     "output_type": "stream",
     "text": [
      "Esta es una cadena de texto cdkjcndksjn\n"
     ]
    }
   ],
   "source": [
    "print('Esta es una cadena de texto cdkjcndksjn')"
   ]
  },
  {
   "cell_type": "markdown",
   "metadata": {
    "slideshow": {
     "slide_type": "subslide"
    }
   },
   "source": [
    "#### Ejemplo 02\n",
    "\n",
    "Imprimir una variable"
   ]
  },
  {
   "cell_type": "code",
   "execution_count": 52,
   "metadata": {
    "slideshow": {
     "slide_type": "fragment"
    }
   },
   "outputs": [
    {
     "name": "stdout",
     "output_type": "stream",
     "text": [
      "lorem ipsum dolor sit amet, consectetur adipiscing elit, sed do eiusmod tempor incididunt ut \n",
      "labore et dolore magna aliqua. Ut enim ad minim veniam, quis nostrud exercitation ullamco laboris nisi ut \n",
      "aliquip ex ea commodo consequat. Duis aute irure dolor in reprehenderit in voluptate velit esse cillum \n",
      "dolore eu fugiat nulla pariatur. Excepteur sint occaecat cupidatat non proident, sunt in culpa \n",
      "qui officia deserunt mollit anim id est laborum. 23\n"
     ]
    }
   ],
   "source": [
    "var_text = \"\"\"lorem ipsum dolor sit amet, consectetur adipiscing elit, sed do eiusmod tempor incididunt ut \n",
    "labore et dolore magna aliqua. Ut enim ad minim veniam, quis nostrud exercitation ullamco laboris nisi ut \n",
    "aliquip ex ea commodo consequat. Duis aute irure dolor in reprehenderit in voluptate velit esse cillum \n",
    "dolore eu fugiat nulla pariatur. Excepteur sint occaecat cupidatat non proident, sunt in culpa \n",
    "qui officia deserunt mollit anim id est laborum.\"\"\"\n",
    "var_numero = 23\n",
    "print(var_text,var_numero)"
   ]
  },
  {
   "cell_type": "markdown",
   "metadata": {
    "slideshow": {
     "slide_type": "subslide"
    }
   },
   "source": [
    "#### Ejemplo 03\n",
    "\n",
    "Contar caracteres en una cadena de texto"
   ]
  },
  {
   "cell_type": "code",
   "execution_count": 55,
   "metadata": {
    "slideshow": {
     "slide_type": "fragment"
    }
   },
   "outputs": [
    {
     "name": "stdout",
     "output_type": "stream",
     "text": [
      "4\n"
     ]
    }
   ],
   "source": [
    "print(var_text.count(\"dolor\"))"
   ]
  },
  {
   "cell_type": "markdown",
   "metadata": {
    "slideshow": {
     "slide_type": "subslide"
    }
   },
   "source": [
    "#### Ejemplo 04\n",
    "\n",
    "Modificar el formato de texto de una variable\n",
    "\n",
    "- **capitalize():** Presenta en mayuscula la primera letra.\n",
    "- **upper():** Convierte todo el texto en mayuscula.\n",
    "- **lower():** Convierte todo el texto en minuscula."
   ]
  },
  {
   "cell_type": "code",
   "execution_count": 60,
   "metadata": {
    "slideshow": {
     "slide_type": "fragment"
    }
   },
   "outputs": [
    {
     "name": "stdout",
     "output_type": "stream",
     "text": [
      "Lorem ipsum dolor sit amet, consectetur adipiscing elit, sed do eiusmod tempor incididunt ut \n",
      "labore et dolore magna aliqua. ut enim ad minim veniam, quis nostrud exercitation ullamco laboris nisi ut \n",
      "aliquip ex ea commodo consequat. duis aute irure dolor in reprehenderit in voluptate velit esse cillum \n",
      "dolore eu fugiat nulla pariatur. excepteur sint occaecat cupidatat non proident, sunt in culpa \n",
      "qui officia deserunt mollit anim id est laborum.\n",
      "LOREM IPSUM DOLOR SIT AMET, CONSECTETUR ADIPISCING ELIT, SED DO EIUSMOD TEMPOR INCIDIDUNT UT \n",
      "LABORE ET DOLORE MAGNA ALIQUA. UT ENIM AD MINIM VENIAM, QUIS NOSTRUD EXERCITATION ULLAMCO LABORIS NISI UT \n",
      "ALIQUIP EX EA COMMODO CONSEQUAT. DUIS AUTE IRURE DOLOR IN REPREHENDERIT IN VOLUPTATE VELIT ESSE CILLUM \n",
      "DOLORE EU FUGIAT NULLA PARIATUR. EXCEPTEUR SINT OCCAECAT CUPIDATAT NON PROIDENT, SUNT IN CULPA \n",
      "QUI OFFICIA DESERUNT MOLLIT ANIM ID EST LABORUM.\n",
      "lorem ipsum dolor sit amet, consectetur adipiscing elit, sed do eiusmod tempor incididunt ut \n",
      "labore et dolore magna aliqua. ut enim ad minim veniam, quis nostrud exercitation ullamco laboris nisi ut \n",
      "aliquip ex ea commodo consequat. duis aute irure dolor in reprehenderit in voluptate velit esse cillum \n",
      "dolore eu fugiat nulla pariatur. excepteur sint occaecat cupidatat non proident, sunt in culpa \n",
      "qui officia deserunt mollit anim id est laborum.\n"
     ]
    }
   ],
   "source": [
    "print(var_text.capitalize(),var_text.upper(),var_text.lower(), sep=\"\\n\")"
   ]
  },
  {
   "cell_type": "markdown",
   "metadata": {
    "slideshow": {
     "slide_type": "subslide"
    }
   },
   "source": [
    "#### Ejemplo 05\n",
    "\n",
    "Búsqueda de caractéres.\n",
    "\n",
    "- **find(valor):** Busca la posición donde se encuentra el valor pasado como atributo. En caso de no encontrarlo, retorna -1\n",
    "- **index(valor):** Busca el valor pasado por parámetro. En caso de no encontrarlo arroja una excepción.\n",
    "- **rfind(valor):** Busca el valor pasado por parámetro en el texto, pero lo hace de derecha a izquiera."
   ]
  },
  {
   "cell_type": "code",
   "execution_count": 67,
   "metadata": {
    "slideshow": {
     "slide_type": "fragment"
    }
   },
   "outputs": [
    {
     "name": "stdout",
     "output_type": "stream",
     "text": [
      "lorem ipsum dolor sit amet, consectetur adipiscing elit, sed do eiusmod tempor incididunt ut \n",
      "labore et dolore magna aliqua. Ut enim ad minim veniam, quis nostrud exercitation ullamco laboris nisi ut \n",
      "aliquip ex ea commodo consequat. Duis aute irure dolor in reprehenderit in voluptate velit esse cillum \n",
      "dolore eu fugiat nulla pariatur. Excepteur sint occaecat cupidatat non proident, sunt in culpa \n",
      "qui officia deserunt mollit anim id est laborum.\n",
      "0\n",
      "0\n",
      "0\n"
     ]
    }
   ],
   "source": [
    "print(var_text)\n",
    "print(var_text.find(\"lorem\"))\n",
    "print(var_text.index(\"lorem\"))\n",
    "print(var_text.rfind(\"lorem\"))"
   ]
  },
  {
   "cell_type": "markdown",
   "metadata": {
    "slideshow": {
     "slide_type": "subslide"
    }
   },
   "source": [
    "#### Ejemplo 06\n",
    "\n",
    "Determinar si una cadena empieza o termina por un valor.\n",
    "\n",
    "- **startswith(valor):** Retorna true, si la cadena de texto inicia con el valor pasado por parámetro.\n",
    "- **endswith(valor):** Retorna true, si la cadena de texto termina con el valor pasado por parámetro."
   ]
  },
  {
   "cell_type": "code",
   "execution_count": 73,
   "metadata": {
    "slideshow": {
     "slide_type": "fragment"
    }
   },
   "outputs": [
    {
     "name": "stdout",
     "output_type": "stream",
     "text": [
      "lorem ipsum dolor sit amet, consectetur adipiscing elit, sed do eiusmod tempor incididunt ut \n",
      "labore et dolore magna aliqua. Ut enim ad minim veniam, quis nostrud exercitation ullamco laboris nisi ut \n",
      "aliquip ex ea commodo consequat. Duis aute irure dolor in reprehenderit in voluptate velit esse cillum \n",
      "dolore eu fugiat nulla pariatur. Excepteur sint occaecat cupidatat non proident, sunt in culpa \n",
      "qui officia deserunt mollit anim id est laborum.\n",
      "True\n",
      "True\n"
     ]
    }
   ],
   "source": [
    "print(var_text)\n",
    "print(var_text.startswith(\"lorem\"))\n",
    "print(var_text.title().endswith(\"LaBorum.\".title()))"
   ]
  },
  {
   "cell_type": "markdown",
   "metadata": {
    "slideshow": {
     "slide_type": "subslide"
    }
   },
   "source": [
    "#### Ejemplo 07\n",
    "\n",
    "Reemplazar un caracter en un texto\n",
    "\n",
    "- **replace(valor_a_buscar, valor_a_reemplazar):** Actualiza la cadena de texto con el valor de reemplazo"
   ]
  },
  {
   "cell_type": "code",
   "execution_count": 77,
   "metadata": {
    "slideshow": {
     "slide_type": "fragment"
    }
   },
   "outputs": [
    {
     "name": "stdout",
     "output_type": "stream",
     "text": [
      "lorem*ipsum*dolor*sit*amet,*consectetur*adipiscing*elit,*sed*do*eiusmod*tempor*incididunt*ut*\n",
      "labore*et*dolore*magna*aliqua.*Ut*enim*ad*minim*veniam,*quis*nostrud*exercitation*ullamco*laboris*nisi*ut*\n",
      "aliquip*ex*ea*commodo*consequat.*Duis*aute*irure*dolor*in*reprehenderit*in*voluptate*velit*esse*cillum*\n",
      "dolore*eu*fugiat*nulla*pariatur.*Excepteur*sint*occaecat*cupidatat*non*proident,*sunt*in*culpa*\n",
      "qui*officia*deserunt*mollit*anim*id*est*laborum.\n"
     ]
    }
   ],
   "source": [
    "print(var_text.replace(\" \",\"*\"))"
   ]
  },
  {
   "cell_type": "markdown",
   "metadata": {
    "slideshow": {
     "slide_type": "subslide"
    }
   },
   "source": [
    "#### Funciones built-in"
   ]
  },
  {
   "cell_type": "markdown",
   "metadata": {
    "slideshow": {
     "slide_type": "subslide"
    }
   },
   "source": [
    "#### len(texto)\n",
    "\n",
    "```python\n",
    "len(text)\n",
    "```\n",
    "\n",
    "- Retorna el tamaño del texto (cantidad de caracteres)."
   ]
  },
  {
   "cell_type": "code",
   "execution_count": 76,
   "metadata": {
    "slideshow": {
     "slide_type": "fragment"
    }
   },
   "outputs": [
    {
     "name": "stdout",
     "output_type": "stream",
     "text": [
      "449\n"
     ]
    }
   ],
   "source": [
    "print(len(var_text))"
   ]
  },
  {
   "cell_type": "markdown",
   "metadata": {
    "slideshow": {
     "slide_type": "subslide"
    }
   },
   "source": [
    "### Formatos de texto"
   ]
  },
  {
   "cell_type": "markdown",
   "metadata": {
    "slideshow": {
     "slide_type": "subslide"
    }
   },
   "source": [
    "- Permite asignar valores a una cadena de texto mediante el paso de parametros.\n",
    "- Se puede dar formato a las variables.\n",
    "- Permite globalizar los textos.\n",
    "- **Es una buena practica para centralizar los textos.**"
   ]
  },
  {
   "cell_type": "code",
   "execution_count": 85,
   "metadata": {
    "slideshow": {
     "slide_type": "fragment"
    }
   },
   "outputs": [
    {
     "name": "stdout",
     "output_type": "stream",
     "text": [
      "Ingrese su nombre: mignisd\n",
      "Ingrese su edad: 2\n",
      "Mi nombre es Mignisd y tengo 2.0 años.\n"
     ]
    }
   ],
   "source": [
    "var_plantilla01 = \"Mi nombre es {nombre} y tengo {edad:.1f} años.\"\n",
    "var_nombre, var_edad = input(\"Ingrese su nombre: \"), float(input(\"Ingrese su edad: \"))\n",
    "print(var_plantilla01.format(nombre = var_nombre.title(), edad = var_edad))"
   ]
  },
  {
   "cell_type": "markdown",
   "metadata": {
    "slideshow": {
     "slide_type": "slide"
    }
   },
   "source": [
    "## Ejercicio\n",
    "\n",
    "**Problema**\n",
    "\n",
    "Se requiere aplicar operaciones de enteros y strings en unos valores ingresados desde el teclado ( 2 números enteros, el nombre completo del estudiante).\n",
    "\n",
    "**Salida**\n",
    "\n",
    "- promedio de los 2 números.\n",
    "- la suma de los números.\n",
    "- el cuadrado de los 2 números.\n",
    "- El nombre en mayusculas.\n",
    "- Reemplace la letra a (no importa si es mayuscula o minuscula) por * e imprima el nombre con solo la primera letra en mayuscula.\n",
    "- Imprimir 3 veces el nombre."
   ]
  }
 ],
 "metadata": {
  "celltoolbar": "Slideshow",
  "kernelspec": {
   "display_name": "Python 3",
   "language": "python",
   "name": "python3"
  },
  "language_info": {
   "codemirror_mode": {
    "name": "ipython",
    "version": 3
   },
   "file_extension": ".py",
   "mimetype": "text/x-python",
   "name": "python",
   "nbconvert_exporter": "python",
   "pygments_lexer": "ipython3",
   "version": "3.7.4"
  }
 },
 "nbformat": 4,
 "nbformat_minor": 4
}
