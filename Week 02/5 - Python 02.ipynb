{
 "cells": [
  {
   "cell_type": "markdown",
   "metadata": {
    "slideshow": {
     "slide_type": "slide"
    }
   },
   "source": [
    "<br/>\n",
    "\n",
    "## Sesión 5 - Python 02\n",
    "\n",
    "# Fundamentos de Programación\n",
    "\n",
    "<br/>\n",
    "Iniciamos 6:10PM\n",
    "\n"
   ]
  },
  {
   "cell_type": "markdown",
   "metadata": {
    "slideshow": {
     "slide_type": "subslide"
    }
   },
   "source": [
    "## Temario"
   ]
  },
  {
   "cell_type": "markdown",
   "metadata": {
    "slideshow": {
     "slide_type": "subslide"
    }
   },
   "source": [
    "- Ejercicio Entero y Textos.\n",
    "- Tipos de datos.\n",
    "    - Entero\n",
    "        - Operadores de asignación.\n",
    "    - Decimales.\n",
    "        - Definición.\n",
    "        - Ejemplos.\n",
    "        - Funciones built-in.\n",
    "    - Boolean.\n",
    "        - Definición.\n",
    "        - Ejemplos.\n",
    "        - Funciones built-in.\n",
    "        - Operadores Relacionales.\n",
    "- Ejercicio"
   ]
  },
  {
   "cell_type": "markdown",
   "metadata": {
    "slideshow": {
     "slide_type": "slide"
    }
   },
   "source": [
    "## Ejercicio sesión anterior"
   ]
  },
  {
   "cell_type": "markdown",
   "metadata": {
    "slideshow": {
     "slide_type": "subslide"
    }
   },
   "source": [
    "**Problema**\n",
    "\n",
    "Se requiere aplicar operaciones de enteros y strings en unos valores ingresados desde el teclado ( 2 números enteros, el nombre completo del estudiante).\n",
    "\n",
    "**Salida**\n",
    "\n",
    "- promedio de los 2 números.\n",
    "- la suma de los números.\n",
    "- el cuadrado de los 2 números.\n",
    "- El nombre en mayusculas.\n",
    "- Reemplace la letra a (no importa si es mayuscula o minuscula) por * e imprima el nombre con solo la primera letra en mayuscula.\n",
    "- Imprimir 3 veces el nombre."
   ]
  },
  {
   "cell_type": "code",
   "execution_count": 32,
   "metadata": {
    "slideshow": {
     "slide_type": "subslide"
    }
   },
   "outputs": [
    {
     "name": "stdout",
     "output_type": "stream",
     "text": [
      "Promedio: 404.5\n",
      "Suma: 809\n",
      "Cuadrado 1: 589824 Cuadrado 2: 1681\n",
      "Nombre en mayusculas: MIGUEL ANGEL MEJIA\n",
      "Nombre en formato: Miguel *ngel meji*\n",
      "Nombre 3 veces: Miguel Angel MejiaMiguel Angel MejiaMiguel Angel Mejia\n"
     ]
    }
   ],
   "source": [
    "var_textoNumero1,var_textoNumero2 = 'primer', 'segundo'\n",
    "var_textoNombre, var_textoNumero = 'Ingrese su nombre completo', 'Ingrese el {valor} número: '\n",
    "### Solución\n",
    "#var_numero1 = int(input(var_textoNumero.format(valor = var_textoNumero1)))\n",
    "#var_numero2 = int(input(var_textoNumero.format(valor = var_textoNumero2)))\n",
    "#var_nombre = input(var_textoNombre)\n",
    "print(\"Promedio:\",(var_numero1 + var_numero2) /2)\n",
    "print(\"Suma:\",var_numero1 + var_numero2)\n",
    "print(\"Cuadrado 1:\",var_numero1**2,\"Cuadrado 2:\",pow(var_numero2,2))\n",
    "print(\"Nombre en mayusculas:\",var_nombre.upper())\n",
    "print(\"Nombre en formato:\", var_nombre.lower().replace('a','*').capitalize())\n",
    "print(\"Nombre 3 veces:\",var_nombre*3)"
   ]
  },
  {
   "cell_type": "markdown",
   "metadata": {
    "slideshow": {
     "slide_type": "slide"
    }
   },
   "source": [
    "## Tipos de datos"
   ]
  },
  {
   "cell_type": "markdown",
   "metadata": {
    "slideshow": {
     "slide_type": "subslide"
    }
   },
   "source": [
    "## Entero (Int)"
   ]
  },
  {
   "cell_type": "markdown",
   "metadata": {
    "slideshow": {
     "slide_type": "subslide"
    }
   },
   "source": [
    " ### Operadores de asignación"
   ]
  },
  {
   "cell_type": "markdown",
   "metadata": {
    "slideshow": {
     "slide_type": "subslide"
    }
   },
   "source": [
    " |Operador| Ejemplo | Equivalente|\n",
    " |:--:|:--:|:--:|\n",
    " | =  | x = 7|x = 7|\n",
    " | += | x += 2|x = x + 2|\n",
    " | -= | x -= 2 |x = x - 2|\n",
    " | *= | x *= 2| x = x * 2|\n",
    " | /= | x /= 2| x = x / 2|\n",
    " | %= | x %= 2|x = x % 2|\n",
    " | //= |x //= 2|x = x // 2|\n",
    " | **= |x **= 2| x = x ** 2|"
   ]
  },
  {
   "cell_type": "code",
   "execution_count": 37,
   "metadata": {
    "slideshow": {
     "slide_type": "subslide"
    }
   },
   "outputs": [
    {
     "name": "stdout",
     "output_type": "stream",
     "text": [
      "1\n",
      "1\n"
     ]
    }
   ],
   "source": [
    "var_numero = 7\n",
    "# Incremento mi variable sin crear una nueva\n",
    "var_numero += 1\n",
    "print(var_numero)\n",
    "var_numero = 7\n",
    "var_numero = var_numero + 1 \n",
    "print(var_numero)"
   ]
  },
  {
   "cell_type": "markdown",
   "metadata": {
    "slideshow": {
     "slide_type": "subslide"
    }
   },
   "source": [
    "## Decimal (float)"
   ]
  },
  {
   "cell_type": "markdown",
   "metadata": {
    "slideshow": {
     "slide_type": "subslide"
    }
   },
   "source": [
    "- Permiten almacenar números reales con una parte decimal (fracción).\n",
    "- Los decimales en python tienen un maximo y minimo (308 decimales).\n",
    "- Permite convertir números binarios, octales, decimales y hexadecimales a números decimales."
   ]
  },
  {
   "cell_type": "markdown",
   "metadata": {
    "slideshow": {
     "slide_type": "subslide"
    }
   },
   "source": [
    "#### Ejemplo 01\n",
    "\n",
    "- Imprimir un decimal."
   ]
  },
  {
   "cell_type": "code",
   "execution_count": 41,
   "metadata": {
    "slideshow": {
     "slide_type": "fragment"
    }
   },
   "outputs": [
    {
     "name": "stdout",
     "output_type": "stream",
     "text": [
      "-1.0\n",
      "0.001456\n",
      "0.75\n"
     ]
    }
   ],
   "source": [
    "print(-1.0)\n",
    "print(1456e-6)\n",
    "print(.75)"
   ]
  },
  {
   "cell_type": "markdown",
   "metadata": {
    "slideshow": {
     "slide_type": "subslide"
    }
   },
   "source": [
    "#### Ejemplo 02\n",
    "\n",
    "- Verificar el tipo de dato."
   ]
  },
  {
   "cell_type": "code",
   "execution_count": 46,
   "metadata": {
    "slideshow": {
     "slide_type": "fragment"
    }
   },
   "outputs": [
    {
     "name": "stdout",
     "output_type": "stream",
     "text": [
      "<class 'float'>\n",
      "<class 'float'>\n"
     ]
    }
   ],
   "source": [
    "print(type(1.0))\n",
    "print(type(10e-1))"
   ]
  },
  {
   "cell_type": "markdown",
   "metadata": {
    "slideshow": {
     "slide_type": "subslide"
    }
   },
   "source": [
    "#### Ejemplo 03\n",
    "\n",
    "- Asignar a una variable un decimal."
   ]
  },
  {
   "cell_type": "code",
   "execution_count": 47,
   "metadata": {
    "slideshow": {
     "slide_type": "fragment"
    }
   },
   "outputs": [
    {
     "name": "stdout",
     "output_type": "stream",
     "text": [
      "5.0 <class 'float'>\n"
     ]
    }
   ],
   "source": [
    "var_miNumero = 5.0\n",
    "print(var_miNumero, type(var_miNumero))"
   ]
  },
  {
   "cell_type": "markdown",
   "metadata": {
    "slideshow": {
     "slide_type": "subslide"
    }
   },
   "source": [
    "#### Ejemplo 04\n",
    "\n",
    "- Modos de expresar un decimal."
   ]
  },
  {
   "cell_type": "code",
   "execution_count": 48,
   "metadata": {
    "slideshow": {
     "slide_type": "fragment"
    }
   },
   "outputs": [
    {
     "name": "stdout",
     "output_type": "stream",
     "text": [
      "True\n"
     ]
    }
   ],
   "source": [
    "a = 0.1\n",
    "b = 1e-1\n",
    "print(a == b) # True False"
   ]
  },
  {
   "cell_type": "markdown",
   "metadata": {
    "slideshow": {
     "slide_type": "subslide"
    }
   },
   "source": [
    "#### Funciones built-in"
   ]
  },
  {
   "cell_type": "markdown",
   "metadata": {
    "slideshow": {
     "slide_type": "subslide"
    }
   },
   "source": [
    "#### float(valor)\n",
    "\n",
    "```python\n",
    "float(valor)\n",
    "```\n",
    "\n",
    "- Convertir un valor a decimal."
   ]
  },
  {
   "cell_type": "code",
   "execution_count": 51,
   "metadata": {
    "slideshow": {
     "slide_type": "fragment"
    }
   },
   "outputs": [
    {
     "name": "stdout",
     "output_type": "stream",
     "text": [
      "4.0\n",
      "10.675\n",
      "23.0\n",
      "464.0\n",
      "576.0\n"
     ]
    }
   ],
   "source": [
    "print(float(0b100)) # Convierte el 100 de binario a decimal (4).\n",
    "print(float(\"10.675\")) # Convierte una cadena de texto a decimal.\n",
    "print(float(0x17)) # Convirte un hexadecimal a decimal\n",
    "print(float(0o720)) # Convierte un octal a decimal\n",
    "print(float(576))"
   ]
  },
  {
   "cell_type": "markdown",
   "metadata": {
    "slideshow": {
     "slide_type": "subslide"
    }
   },
   "source": [
    "#### pow(base,exp)\n",
    "\n",
    "```python\n",
    "pow(base,potencia)\n",
    "```\n",
    "\n",
    "- Ejecuta un calculo de potencia."
   ]
  },
  {
   "cell_type": "code",
   "execution_count": 53,
   "metadata": {
    "slideshow": {
     "slide_type": "fragment"
    }
   },
   "outputs": [
    {
     "name": "stdout",
     "output_type": "stream",
     "text": [
      "156.58774563947273\n"
     ]
    }
   ],
   "source": [
    "print(pow(9.0,2.3))"
   ]
  },
  {
   "cell_type": "markdown",
   "metadata": {
    "slideshow": {
     "slide_type": "subslide"
    }
   },
   "source": [
    "### Operaciones aritméticas\n",
    "\n"
   ]
  },
  {
   "cell_type": "markdown",
   "metadata": {
    "slideshow": {
     "slide_type": "subslide"
    }
   },
   "source": [
    "|Operator|Nombre|Ejemplo|\n",
    "|:------:|:------:|:----:|\n",
    "|Suma|+|5+3|\n",
    "|Resta|-|5-3|\n",
    "|Multiplicación|*|5*3|\n",
    "|Division|/|5/3|\n",
    "|Módulo|%|5%3|\n",
    "|Potencia|** | 5**3 |\n",
    "|División Entera|//|5//3|"
   ]
  },
  {
   "cell_type": "code",
   "execution_count": 57,
   "metadata": {
    "slideshow": {
     "slide_type": "fragment"
    }
   },
   "outputs": [
    {
     "name": "stdout",
     "output_type": "stream",
     "text": [
      "8.6\n",
      "2.5999999999999996\n",
      "16.799999999999997\n",
      "1.8666666666666665\n",
      "2.5999999999999996\n",
      "175.61599999999996\n",
      "1.0\n"
     ]
    }
   ],
   "source": [
    "var_numA, var_numB = 5.6,float(3)\n",
    "print(var_numA + var_numB) # Suma\n",
    "print(var_numA - var_numB) # Resta\n",
    "print(var_numA * var_numB) # Multiplicación\n",
    "print(var_numA / var_numB) # División\n",
    "print(var_numA % var_numB) # Módulo\n",
    "print(var_numA ** var_numB) # Potencia\n",
    "print(var_numA // var_numB) # División entera."
   ]
  },
  {
   "cell_type": "markdown",
   "metadata": {
    "slideshow": {
     "slide_type": "subslide"
    }
   },
   "source": [
    "## Boolean (booleano)"
   ]
  },
  {
   "cell_type": "markdown",
   "metadata": {
    "slideshow": {
     "slide_type": "subslide"
    }
   },
   "source": [
    "- Tipo de dato que permite almacenar 2 valores. **True** o **False**\n",
    "- Se utilizar para asignar estados.\n",
    "- **Uso en condicionales**.\n",
    "\n",
    "```python\n",
    "x = True\n",
    "y = False\n",
    "```"
   ]
  },
  {
   "cell_type": "markdown",
   "metadata": {
    "slideshow": {
     "slide_type": "subslide"
    }
   },
   "source": [
    "### Ejemplo 01\n",
    "\n",
    "- Asignación de variable e impresion."
   ]
  },
  {
   "cell_type": "code",
   "execution_count": 62,
   "metadata": {
    "slideshow": {
     "slide_type": "fragment"
    }
   },
   "outputs": [
    {
     "name": "stdout",
     "output_type": "stream",
     "text": [
      "True <class 'bool'>\n"
     ]
    }
   ],
   "source": [
    "var_miVariable = True\n",
    "print(var_miVariable,type(var_miVariable))"
   ]
  },
  {
   "cell_type": "markdown",
   "metadata": {
    "slideshow": {
     "slide_type": "subslide"
    }
   },
   "source": [
    "### Operadores relacionales (Comparadores)"
   ]
  },
  {
   "cell_type": "markdown",
   "metadata": {
    "slideshow": {
     "slide_type": "subslide"
    }
   },
   "source": [
    "|Operador| Nombre| Ejemplo|\n",
    "|:----:|:-:|:-:|\n",
    "|==|Igual| x == y|\n",
    "|!=|Diferente| x != y|\n",
    "|>|Mayor| x > y|\n",
    "|<|Menor| x < y|\n",
    "|<=|Menor o igual| x <= y|\n",
    "|>=|Mayor o igual| x >= y|"
   ]
  },
  {
   "cell_type": "code",
   "execution_count": 67,
   "metadata": {
    "slideshow": {
     "slide_type": "subslide"
    }
   },
   "outputs": [
    {
     "name": "stdout",
     "output_type": "stream",
     "text": [
      "False\n",
      "True\n"
     ]
    }
   ],
   "source": [
    "#var_numero1, var_numero2 = int(False),0\n",
    "#print(var_numero1 == var_numero2)\n",
    "print( 10 > 10)\n",
    "print( 10 >= 10)"
   ]
  },
  {
   "cell_type": "markdown",
   "metadata": {
    "slideshow": {
     "slide_type": "slide"
    }
   },
   "source": [
    "### Ejercicio\n",
    "\n",
    "Se requiere de un código en python que nos permita obtener los siguientes resultados, basados en unos valores que vamos a insertar desde consola.\n",
    "\n",
    "Capturar 2 numeros (uno entero y el otro decimal) y una palabra cualquiera e imprimir los siguientes resultados.\n",
    "\n",
    "- Raiz cuadrada de los 2 números.\n",
    "- Imprimir si el segundo numero ingresado es mayor que el primero.\n",
    "- Imprimir los 2 numeros y la palabra separados por ** y colocando un @ al final.\n",
    "- Imprimir True si el numero de caracteres de la palabra ingresada es mayor a 7.\n",
    "- Imprimir la palabra repetida el numero de veces del numero entero ingresado.\n",
    "\n",
    "**Utilizar format en las impresiones y una correcta nomenclatura en las variables**\n",
    "\n",
    "\n",
    "**No se les olvide comentar el código!**"
   ]
  },
  {
   "cell_type": "markdown",
   "metadata": {
    "slideshow": {
     "slide_type": "slide"
    }
   },
   "source": [
    "### Ejercicios adicionales\n",
    "\n",
    "https://aprendeconalf.es/docencia/python/ejercicios/tipos-datos/"
   ]
  }
 ],
 "metadata": {
  "celltoolbar": "Slideshow",
  "kernelspec": {
   "display_name": "Python 3",
   "language": "python",
   "name": "python3"
  },
  "language_info": {
   "codemirror_mode": {
    "name": "ipython",
    "version": 3
   },
   "file_extension": ".py",
   "mimetype": "text/x-python",
   "name": "python",
   "nbconvert_exporter": "python",
   "pygments_lexer": "ipython3",
   "version": "3.7.4"
  }
 },
 "nbformat": 4,
 "nbformat_minor": 4
}
