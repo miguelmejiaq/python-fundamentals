{
 "cells": [
  {
   "cell_type": "markdown",
   "metadata": {
    "slideshow": {
     "slide_type": "slide"
    }
   },
   "source": [
    "<br/>\n",
    "\n",
    "## Sesión 6 - Python 03\n",
    "\n",
    "# Fundamentos de Programación\n",
    "\n",
    "\n"
   ]
  },
  {
   "cell_type": "markdown",
   "metadata": {
    "slideshow": {
     "slide_type": "subslide"
    }
   },
   "source": [
    "## Temario"
   ]
  },
  {
   "cell_type": "markdown",
   "metadata": {
    "slideshow": {
     "slide_type": "subslide"
    }
   },
   "source": [
    "- Ejercicio Decimales y Boolean.\n",
    "- Estructuras de control.\n",
    "    - Definición.\n",
    "    - if.\n",
    "        - Definición.\n",
    "        - Ejemplos.\n",
    "    - else.\n",
    "        - Definición.\n",
    "        - Ejemplos.\n",
    "    - elif.\n",
    "        - Definición.\n",
    "        - Ejemplos.\n",
    "- Ejercicio"
   ]
  },
  {
   "cell_type": "markdown",
   "metadata": {
    "slideshow": {
     "slide_type": "slide"
    }
   },
   "source": [
    "## Ejercicio sesión anterior"
   ]
  },
  {
   "cell_type": "markdown",
   "metadata": {
    "slideshow": {
     "slide_type": "subslide"
    }
   },
   "source": [
    "### Ejercicio\n",
    "\n",
    "Se requiere de un código en python que nos permita obtener los siguientes resultados, basados en unos valores que vamos a insertar desde consola.\n",
    "\n",
    "Capturar 2 numeros (uno entero y el otro decimal) y una palabra cualquiera e imprimir los siguientes resultados.\n",
    "\n",
    "- Raiz cuadrada de los 2 números.\n",
    "- Imprimir si el segundo numero ingresado es mayor que el primero.\n",
    "- Imprimir los 2 numeros y la palabra separados por ** y colocando un @ al final.\n",
    "- Imprimir True si el numero de caracteres de la palabra ingresada es mayor a 7.\n",
    "- Imprimir la palabra repetida el numero de veces del numero entero ingresado.\n",
    "\n",
    "**Utilizar format en las impresiones y una correcta nomenclatura en las variables**"
   ]
  },
  {
   "cell_type": "code",
   "execution_count": 84,
   "metadata": {
    "slideshow": {
     "slide_type": "subslide"
    }
   },
   "outputs": [
    {
     "name": "stdout",
     "output_type": "stream",
     "text": [
      "Primer numero:  12.041594578792296 Segundo numero:  99.10382333694297\n",
      "El segundo numero ingresado es mayor que el primero?  True\n",
      "145**9821.5678**anitalavalatina@\n",
      "El tamaño de la palabra es mayor que 7? True\n",
      "anitalavalatinaanitalavalatina\n"
     ]
    }
   ],
   "source": [
    "### Solución\n",
    "var_textoNumero1, var_textoNumero2 = 'primer', 'segundo'\n",
    "var_inputNumero, var_inputPalabra = 'Ingrese el {valor} número: ', 'Ingrese una palabra: '\n",
    "# Ingresar los datos (input)\n",
    "#var_numeroEntero = int(input(var_inputNumero.format(valor = var_textoNumero1)))\n",
    "#var_numeroDecimal = float(input(var_inputNumero.format(valor = var_textoNumero2)))\n",
    "#var_palabra = input(var_inputPalabra)\n",
    "print(\"Primer numero: \",var_numeroEntero**.5,\"Segundo numero: \",pow(var_numeroDecimal,.5))\n",
    "print(\"El segundo numero ingresado es mayor que el primero? \", var_numeroDecimal > var_numeroEntero)\n",
    "print(var_numeroEntero, var_numeroDecimal, var_palabra, sep=\"**\", end = \"@\")\n",
    "print()\n",
    "print(\"El tamaño de la palabra es mayor que 7?\",len(var_palabra) > 7)\n",
    "print(var_palabra*2)"
   ]
  },
  {
   "cell_type": "markdown",
   "metadata": {
    "slideshow": {
     "slide_type": "slide"
    }
   },
   "source": [
    "## Ejercicios tipos de datos"
   ]
  },
  {
   "cell_type": "markdown",
   "metadata": {
    "slideshow": {
     "slide_type": "subslide"
    }
   },
   "source": [
    "Escribir un programa que pregunte el nombre del usuario en la consola y después de que el usuario lo introduzca muestre por pantalla la cadena ¡Hola **nombre**!, donde **nombre** es el nombre que el usuario haya introducido."
   ]
  },
  {
   "cell_type": "code",
   "execution_count": 94,
   "metadata": {
    "slideshow": {
     "slide_type": "fragment"
    }
   },
   "outputs": [
    {
     "name": "stdout",
     "output_type": "stream",
     "text": [
      "Escriba su nombre: miguel\n",
      "<class 'str'> ¡Hola buenos dias, miguel!. como estas?\n",
      "¡Holamiguel!\n"
     ]
    }
   ],
   "source": [
    "# Solución\n",
    "var_nombre = input(\"Escriba su nombre: \")\n",
    "print(type(var_nombre),\"¡Hola buenos dias, {var_nombre}!. como estas?\".format(var_nombre = var_nombre))\n",
    "print(\"¡Hola\", var_nombre, '!', sep=\"\")"
   ]
  },
  {
   "cell_type": "markdown",
   "metadata": {
    "slideshow": {
     "slide_type": "subslide"
    }
   },
   "source": [
    "Escribir un programa que pida al usuario su peso (en kg) y estatura (en metros), calcule el índice de masa corporal y lo almacene en una variable, y muestre por pantalla la frase Tu índice de masa corporal es **imc** donde **imc** es el índice de masa corporal calculado redondeado con dos decimales."
   ]
  },
  {
   "cell_type": "code",
   "execution_count": null,
   "metadata": {
    "slideshow": {
     "slide_type": "fragment"
    }
   },
   "outputs": [],
   "source": [
    "# Solución"
   ]
  },
  {
   "cell_type": "markdown",
   "metadata": {
    "slideshow": {
     "slide_type": "subslide"
    }
   },
   "source": [
    "Escribir un programa que pida al usuario dos números enteros y muestre por pantalla la **n** entre **m** da un cociente **c** y un resto **r** donde **n** y **m** son los números introducidos por el usuario, y **c** y **r** son el cociente y el resto de la división entera respectivamente."
   ]
  },
  {
   "cell_type": "code",
   "execution_count": 97,
   "metadata": {
    "slideshow": {
     "slide_type": "fragment"
    }
   },
   "outputs": [
    {
     "name": "stdout",
     "output_type": "stream",
     "text": [
      "la 10 entre 3 da un cociente 3 y un resto 1\n"
     ]
    }
   ],
   "source": [
    "# Solución\n",
    "var_numero1 = 10\n",
    "var_numero2 = 3\n",
    "var_salida = \"la {n} entre {m} da un cociente {c} y un resto {r}\"\n",
    "print(var_salida.format(n = var_numero1, m = var_numero2, c = var_numero1 // var_numero2, r = var_numero1 % var_numero2))"
   ]
  },
  {
   "cell_type": "markdown",
   "metadata": {
    "slideshow": {
     "slide_type": "subslide"
    }
   },
   "source": [
    "Una juguetería tiene mucho éxito en dos de sus productos: payasos y muñecas. Suele hacer venta por correo y la empresa de logística les cobra por peso de cada paquete así que deben calcular el peso de los payasos y muñecas que saldrán en cada paquete a demanda. Cada payaso pesa 112 g y cada muñeca 75 g. Escribir un programa que lea el número de payasos y muñecas vendidos en el último pedido y calcule el peso total del paquete que será enviado."
   ]
  },
  {
   "cell_type": "code",
   "execution_count": 101,
   "metadata": {
    "slideshow": {
     "slide_type": "fragment"
    }
   },
   "outputs": [
    {
     "name": "stdout",
     "output_type": "stream",
     "text": [
      "el peso total del paquete seria: 5.13\n"
     ]
    }
   ],
   "source": [
    "# constantes\n",
    "var_pesoPayaso, var_pesoMuneca = .112, .075\n",
    "# variables\n",
    "var_cantidadPayasos, var_cantidadMunecas = 23, 34\n",
    "print(\"el peso total del paquete seria: {total:.2f}\".format(total=(var_cantidadPayasos * var_pesoPayaso)+(var_cantidadMunecas * var_pesoMuneca)))"
   ]
  },
  {
   "cell_type": "markdown",
   "metadata": {
    "slideshow": {
     "slide_type": "slide"
    }
   },
   "source": [
    "## Estructuras de control"
   ]
  },
  {
   "cell_type": "markdown",
   "metadata": {
    "slideshow": {
     "slide_type": "subslide"
    }
   },
   "source": [
    "- Permiten tomar decisiones dentro del código.\n",
    "- Pueden provocar salidas bajo distintas condiciones.\n",
    "- Permiten reducir código repetido. (Iteraciones).\n",
    "- **if**.\n",
    "- **while**.\n",
    "- **for**."
   ]
  },
  {
   "cell_type": "markdown",
   "metadata": {
    "slideshow": {
     "slide_type": "slide"
    }
   },
   "source": [
    " ### if (si, entonces)"
   ]
  },
  {
   "cell_type": "markdown",
   "metadata": {
    "slideshow": {
     "slide_type": "subslide"
    }
   },
   "source": [
    "- Evalua valores mediante el uso de condiciones.\n",
    "- Genera respuestas de tipo **bool**.\n",
    "- Permite evaluar varias condiciones en un mismo if (**and**, **or**).\n",
    "- Permite evaluar distintas condiciones.\n",
    "- Puede utilizarse para anidamientos de if (if dentro de if)."
   ]
  },
  {
   "cell_type": "markdown",
   "metadata": {
    "slideshow": {
     "slide_type": "subslide"
    }
   },
   "source": [
    " #### Ejemplo 01\n",
    " \n",
    " - Verificar las salidas de condiciones."
   ]
  },
  {
   "cell_type": "code",
   "execution_count": 110,
   "metadata": {
    "slideshow": {
     "slide_type": "fragment"
    }
   },
   "outputs": [
    {
     "name": "stdout",
     "output_type": "stream",
     "text": [
      "False\n"
     ]
    }
   ],
   "source": [
    "var_activo = True\n",
    "print(1 == 0 or 2 == 1)\n",
    "#print(1 > 0)\n",
    "#print(0 != 0)\n",
    "#print(not var_activo == False)"
   ]
  },
  {
   "cell_type": "markdown",
   "metadata": {
    "slideshow": {
     "slide_type": "subslide"
    }
   },
   "source": [
    " #### Ejemplo 02\n",
    " \n",
    " - Determinar si un número es menor que otro."
   ]
  },
  {
   "cell_type": "code",
   "execution_count": 113,
   "metadata": {
    "slideshow": {
     "slide_type": "fragment"
    }
   },
   "outputs": [
    {
     "name": "stdout",
     "output_type": "stream",
     "text": [
      "Hola\n"
     ]
    }
   ],
   "source": [
    "var_numero = 10\n",
    "if (var_numero <= 7) :\n",
    "    print(var_numero)\n",
    "print(\"Hola\")"
   ]
  },
  {
   "cell_type": "markdown",
   "metadata": {
    "slideshow": {
     "slide_type": "subslide"
    }
   },
   "source": [
    " #### Ejemplo 03\n",
    " \n",
    " - Determinar si una variable es True o False."
   ]
  },
  {
   "cell_type": "code",
   "execution_count": 123,
   "metadata": {
    "slideshow": {
     "slide_type": "fragment"
    }
   },
   "outputs": [
    {
     "name": "stdout",
     "output_type": "stream",
     "text": [
      "prueba\n"
     ]
    }
   ],
   "source": [
    "var_miVariable = True\n",
    "# Incremento mi variable sin crear una nueva\n",
    "if(not var_miVariable == True):\n",
    "    print(\"Mi variable es true\")\n",
    "print(\"prueba\")"
   ]
  },
  {
   "cell_type": "markdown",
   "metadata": {
    "slideshow": {
     "slide_type": "subslide"
    }
   },
   "source": [
    "\n",
    "#### Ejemplo 04\n",
    " \n",
    " - Determinar si un número es par."
   ]
  },
  {
   "cell_type": "code",
   "execution_count": 125,
   "metadata": {
    "slideshow": {
     "slide_type": "fragment"
    }
   },
   "outputs": [
    {
     "name": "stdout",
     "output_type": "stream",
     "text": [
      "Ingrese un número: 13\n"
     ]
    }
   ],
   "source": [
    "var_miVariable = int(input(\"Ingrese un número: \"))\n",
    "# Incremento mi variable sin crear una nueva\n",
    "if(var_miVariable % 2 == 0):\n",
    "    print(\"El número {valor} es par.\".format(valor = var_miVariable))"
   ]
  },
  {
   "cell_type": "markdown",
   "metadata": {
    "slideshow": {
     "slide_type": "subslide"
    }
   },
   "source": [
    " #### Ejemplo 05\n",
    " \n",
    " - Determinar si un número esta en un intervalo."
   ]
  },
  {
   "cell_type": "code",
   "execution_count": 131,
   "metadata": {
    "slideshow": {
     "slide_type": "fragment"
    }
   },
   "outputs": [
    {
     "name": "stdout",
     "output_type": "stream",
     "text": [
      "Ingrese un número: 23\n"
     ]
    }
   ],
   "source": [
    "var_miVariable = float(input(\"Ingrese un número: \"))\n",
    "# Incremento mi variable sin crear una nueva\n",
    "if(var_miVariable >= 2 and var_miVariable < 4):\n",
    "    print(\"El número {numero} esta en el intervalo [2,4]\".format(numero = var_miVariable))"
   ]
  },
  {
   "cell_type": "markdown",
   "metadata": {
    "slideshow": {
     "slide_type": "subslide"
    }
   },
   "source": [
    "## if else (si entonces si no)."
   ]
  },
  {
   "cell_type": "markdown",
   "metadata": {
    "slideshow": {
     "slide_type": "subslide"
    }
   },
   "source": [
    "- A diferencia del if sencillo, permite procesar un sub bloque de codigo cuando la condición del if no se cumple.\n",
    "- Aumenta el control del código."
   ]
  },
  {
   "cell_type": "markdown",
   "metadata": {
    "slideshow": {
     "slide_type": "subslide"
    }
   },
   "source": [
    "#### Ejemplo 01\n",
    "\n",
    "- Flujo básico del if else."
   ]
  },
  {
   "cell_type": "code",
   "execution_count": 136,
   "metadata": {
    "slideshow": {
     "slide_type": "fragment"
    }
   },
   "outputs": [
    {
     "name": "stdout",
     "output_type": "stream",
     "text": [
      "miVariable es false\n"
     ]
    }
   ],
   "source": [
    "var_miVariable = False\n",
    "if(var_miVariable):\n",
    "    print(\"miVariable es true\")\n",
    "else:\n",
    "    print(\"miVariable es false\")"
   ]
  },
  {
   "cell_type": "markdown",
   "metadata": {
    "slideshow": {
     "slide_type": "subslide"
    }
   },
   "source": [
    "#### Ejemplo 02\n",
    "\n",
    "- Determinar si un número es mayor que otro."
   ]
  },
  {
   "cell_type": "code",
   "execution_count": 139,
   "metadata": {
    "slideshow": {
     "slide_type": "fragment"
    }
   },
   "outputs": [
    {
     "name": "stdout",
     "output_type": "stream",
     "text": [
      "el numero es mayor o igual a 10.\n"
     ]
    }
   ],
   "source": [
    "var_miVariable = 10\n",
    "if(var_miVariable < 10):\n",
    "    print(\"El numero es menor que 10\")\n",
    "else:\n",
    "    print(\"el numero es mayor o igual a 10.\")"
   ]
  },
  {
   "cell_type": "markdown",
   "metadata": {
    "slideshow": {
     "slide_type": "subslide"
    }
   },
   "source": [
    "#### Ejemplo 03\n",
    "\n",
    "- Determinar si un número es par o impar."
   ]
  },
  {
   "cell_type": "code",
   "execution_count": 147,
   "metadata": {
    "slideshow": {
     "slide_type": "fragment"
    }
   },
   "outputs": [
    {
     "name": "stdout",
     "output_type": "stream",
     "text": [
      "El número 35 es impar\n"
     ]
    }
   ],
   "source": [
    "var_miNumero = 35\n",
    "var_textoSalida = \"El número {numero} es {salida}\"\n",
    "if(var_miNumero % 2 == 0):\n",
    "    var_salida = \"par\"\n",
    "else:\n",
    "    var_salida = \"impar\"\n",
    "print(var_textoSalida.format(numero = var_miNumero, salida = var_salida))"
   ]
  },
  {
   "cell_type": "markdown",
   "metadata": {
    "slideshow": {
     "slide_type": "subslide"
    }
   },
   "source": [
    "#### Ejemplo 04\n",
    "\n",
    "- Determinar si un número esta en un intervalo."
   ]
  },
  {
   "cell_type": "code",
   "execution_count": 149,
   "metadata": {
    "slideshow": {
     "slide_type": "fragment"
    }
   },
   "outputs": [
    {
     "name": "stdout",
     "output_type": "stream",
     "text": [
      "Ingrese un número: 3\n",
      "El número 3 esta en el intervalo [2,4]\n"
     ]
    }
   ],
   "source": [
    "var_miVariable = int(input(\"Ingrese un número: \"))\n",
    "var_textoSalida = \"El número {valor} esta en el intervalo [2,4]\"\n",
    "# Incremento mi variable sin crear una nueva\n",
    "if(var_miVariable > 2 and var_miVariable < 4):\n",
    "    print(var_textoSalida.format(valor = var_miVariable))\n",
    "else:\n",
    "    print(\"El número {valor} no esta en el intervalo\".format(valor = var_miVariable))"
   ]
  },
  {
   "cell_type": "markdown",
   "metadata": {
    "slideshow": {
     "slide_type": "subslide"
    }
   },
   "source": [
    "### if elif (if con varias salidas)"
   ]
  },
  {
   "cell_type": "markdown",
   "metadata": {
    "slideshow": {
     "slide_type": "subslide"
    }
   },
   "source": [
    "- Permite evaluar distintas condiciones.\n",
    "- Se cuenta con distintas salidas.\n",
    "- En python, es la homologación del \"switch\"."
   ]
  },
  {
   "cell_type": "markdown",
   "metadata": {
    "slideshow": {
     "slide_type": "subslide"
    }
   },
   "source": [
    "#### Ejemplo 01\n",
    "\n",
    "- Flujo básico de un if con multiples condiciones"
   ]
  },
  {
   "cell_type": "code",
   "execution_count": 158,
   "metadata": {
    "slideshow": {
     "slide_type": "fragment"
    }
   },
   "outputs": [
    {
     "name": "stdout",
     "output_type": "stream",
     "text": [
      "El numero es  2\n",
      "Hola mundo\n"
     ]
    }
   ],
   "source": [
    "var_numero = 2\n",
    "if var_numero == 1:\n",
    "    print(\"El numero es \",1)\n",
    "elif var_numero == 2:\n",
    "    print(\"El numero es \",2)\n",
    "elif (var_numero == 3):\n",
    "    print(\"El numero es \", 3)\n",
    "else:\n",
    "    print(\"Se coloco otro numero,\")\n",
    "print(\"Hola mundo\")"
   ]
  },
  {
   "cell_type": "markdown",
   "metadata": {
    "slideshow": {
     "slide_type": "subslide"
    }
   },
   "source": [
    "#### Ejemplo 02\n",
    "\n",
    "- Verificar si un número esta en un intervalo"
   ]
  },
  {
   "cell_type": "code",
   "execution_count": 165,
   "metadata": {
    "slideshow": {
     "slide_type": "fragment"
    }
   },
   "outputs": [
    {
     "name": "stdout",
     "output_type": "stream",
     "text": [
      "El numero esta en el intervalo de 1 a 3\n"
     ]
    }
   ],
   "source": [
    "var_numero = 3\n",
    "if var_numero > 0 and var_numero <= 3:\n",
    "    print(\"El numero esta en el intervalo de 1 a 3\")\n",
    "elif var_numero >= 3 and var_numero <= 20:\n",
    "    print(\"el número esta en el intervalo de 4 a 20\")\n",
    "else:\n",
    "    print(\"El número no esta en ningún intervalo.\")\n"
   ]
  },
  {
   "cell_type": "markdown",
   "metadata": {
    "slideshow": {
     "slide_type": "slide"
    }
   },
   "source": [
    "#### Ejercicios de la sesión\n",
    "\n",
    "Teniendo en cuenta el conocimiento adquirido en esta sesión, realizar los siguientes codigos:\n",
    "\n",
    "- Preguntar por 2 números e informar si el menor numero es divisor del mayor.\n",
    "- Preguntar por 2 números y determinar cual esta mas cerca de 0 (el programa debe ser capaz de recibir números negativos). En caso de que esten a la misma distancia, informar que los 2 numeros estan a la misma distancia de 0.\n",
    "- Preguntar por 2 años e informar dependiendo de los valores ingresados.\n",
    "    - cuantos años faltan en caso de que la segunda fecha sea mayor a la primera.\n",
    "    - Cuantos años han pasado en caso de que la segunda fecha sea menor a la primera.\n",
    "- Ingresar 2 palabras e informar que palabra tiene la mayor cantidad de letras **a**. En caso de no tener letra **a** debe informar que ninguna lo tiene, de lo contrario debe decir cual es la mayor o informar si ambas palabras tienen la misma cantidad."
   ]
  },
  {
   "cell_type": "markdown",
   "metadata": {
    "slideshow": {
     "slide_type": "slide"
    }
   },
   "source": [
    "#### Ejercicios de práctica\n",
    "\n",
    "http://patriciaemiguel.com/ejercicios/python/2019/03/10/ejercicios-decision-python.html"
   ]
  }
 ],
 "metadata": {
  "celltoolbar": "Slideshow",
  "kernelspec": {
   "display_name": "Python 3",
   "language": "python",
   "name": "python3"
  },
  "language_info": {
   "codemirror_mode": {
    "name": "ipython",
    "version": 3
   },
   "file_extension": ".py",
   "mimetype": "text/x-python",
   "name": "python",
   "nbconvert_exporter": "python",
   "pygments_lexer": "ipython3",
   "version": "3.7.4"
  }
 },
 "nbformat": 4,
 "nbformat_minor": 4
}
