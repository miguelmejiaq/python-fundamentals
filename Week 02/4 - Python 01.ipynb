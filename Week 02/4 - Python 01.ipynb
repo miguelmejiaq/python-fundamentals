{
 "cells": [
  {
   "cell_type": "markdown",
   "metadata": {
    "slideshow": {
     "slide_type": "slide"
    }
   },
   "source": [
    "<br/>\n",
    "\n",
    "## Sesión 4 - Python 01\n",
    "\n",
    "# Fundamentos de Programación\n",
    "\n",
    "<br/>\n",
    "Inicio de sesión 6:10PM\n",
    "\n",
    "\n",
    "\n"
   ]
  },
  {
   "cell_type": "markdown",
   "metadata": {
    "slideshow": {
     "slide_type": "subslide"
    }
   },
   "source": [
    "## Temario"
   ]
  },
  {
   "cell_type": "markdown",
   "metadata": {
    "slideshow": {
     "slide_type": "subslide"
    }
   },
   "source": [
    "- Ejecución de código.\n",
    "    - Modo interactivo.\n",
    "    - Modo Script.\n",
    "- Sintaxis.\n",
    "- Palabras reservadas.\n",
    "- Funciones Built-in.\n",
    "    - Función print.\n",
    "    - Función input.\n",
    "    - Función type."
   ]
  },
  {
   "cell_type": "markdown",
   "metadata": {
    "slideshow": {
     "slide_type": "subslide"
    }
   },
   "source": [
    "- Tipos de dato.\n",
    "    - Entero.\n",
    "        - Definición.\n",
    "        - Ejemplo.\n",
    "        - Funciones built-in.\n",
    "        - Operaciones aritméticas.\n",
    "    - Texto.\n",
    "        - Definición.\n",
    "        - Ejemplo.\n",
    "        - Funciones built-in.\n",
    "- Ejercicio"
   ]
  },
  {
   "cell_type": "markdown",
   "metadata": {
    "slideshow": {
     "slide_type": "slide"
    }
   },
   "source": [
    "### Ejecución de código"
   ]
  },
  {
   "cell_type": "markdown",
   "metadata": {
    "slideshow": {
     "slide_type": "subslide"
    }
   },
   "source": [
    "#### Modo Interactivo (Interactive Mode)\n",
    "\n",
    "<br/>\n",
    "\n",
    "- La interfaz puede ser una consola o un jupyter notebook.\n",
    "- Ejecución basada en el código que se va pasando.\n",
    "- **Jupyter:** <i>Celdas de tipo \"Code\"</i>\n",
    "- **Consola:** <i>python</i>"
   ]
  },
  {
   "cell_type": "code",
   "execution_count": null,
   "metadata": {
    "slideshow": {
     "slide_type": "fragment"
    }
   },
   "outputs": [],
   "source": [
    "print(\"Ejecutando código desde modo interactivo.\")"
   ]
  },
  {
   "cell_type": "markdown",
   "metadata": {
    "slideshow": {
     "slide_type": "subslide"
    }
   },
   "source": [
    "#### Modo Script (Script Mode)\n",
    "\n",
    "<br/>\n",
    "\n",
    "- Ejecuta el código pasandose como archivo al interprete.\n",
    "- El interprete ejecuta linea a linea el código como si fuese de modo interactivo.\n",
    "- **Jupyter:** <i>Celdas de tipo \"Code\" > %run -i \"archivo\"</i>\n",
    "- **Comando:** <i>python \"archivo\"</i>"
   ]
  },
  {
   "cell_type": "code",
   "execution_count": null,
   "metadata": {
    "slideshow": {
     "slide_type": "fragment"
    }
   },
   "outputs": [],
   "source": [
    "%run -i \"../my-script.py\""
   ]
  },
  {
   "cell_type": "markdown",
   "metadata": {
    "slideshow": {
     "slide_type": "slide"
    }
   },
   "source": [
    "### Sintaxis"
   ]
  },
  {
   "cell_type": "markdown",
   "metadata": {
    "slideshow": {
     "slide_type": "subslide"
    }
   },
   "source": [
    "#### Comentarios\n",
    "\n",
    "**Única linea**\n",
    "\n",
    "```python\n",
    "# Este es un comentario en una linea\n",
    "# Esta es mi segunda linea\n",
    "# Tercera linea\n",
    "```\n",
    "**Multi linea**\n",
    "\n",
    "```python\n",
    "\"\"\"\n",
    "Este es un comentario\n",
    "En varias lineas\n",
    "\"\"\"\n",
    "```"
   ]
  },
  {
   "cell_type": "markdown",
   "metadata": {
    "slideshow": {
     "slide_type": "subslide"
    }
   },
   "source": [
    "#### Bloques de código\n",
    "\n",
    "```python\n",
    "estructura de control:\n",
    "····sub-bloque de codigo\n",
    "aca continua mi codigo\n",
    "```\n",
    "\n",
    "```Python\n",
    "if True:\n",
    "    print(\"\")\n",
    "```"
   ]
  },
  {
   "cell_type": "markdown",
   "metadata": {
    "slideshow": {
     "slide_type": "subslide"
    }
   },
   "source": [
    "#### Variables\n",
    "\n",
    "**Formato básico**\n",
    "\n",
    "```python\n",
    "nombreVariable = 0\n",
    "```\n",
    "**Multiples variables con el mismo valor**\n",
    "\n",
    "```python\n",
    "var1 = var2 = var3 = valor\n",
    "```\n",
    "**Multiples variables con diferente valor**\n",
    "\n",
    "```python\n",
    "var1,var2,var3 = valor1,valor2,valor3\n",
    "```\n",
    "\n",
    "```python\n",
    "var1 = valor1\n",
    "var2 = valor2\n",
    "```"
   ]
  },
  {
   "cell_type": "code",
   "execution_count": null,
   "metadata": {
    "slideshow": {
     "slide_type": "subslide"
    }
   },
   "outputs": [],
   "source": [
    "# Forma basica\n",
    "var_miVariable = \"Mi valor\"\n",
    "# asignacion de mismo valor a varias variables\n",
    "var_1 = var_2 = var_3 = 10\n",
    "# multiple asignacion en una linea\n",
    "var_multi1, var_multi2, var_multi3 = 10,\"hola\", 5.0\n",
    "# Cambiando el tipo de dato\n",
    "print(var_miVariable)\n",
    "var_miVariable = 5\n",
    "var_multi1 = var_miVariable\n",
    "print(var_miVariable)\n",
    "print(var_1,var_2,var_3)\n",
    "print(var_multi1,var_multi2,var_multi3)"
   ]
  },
  {
   "cell_type": "markdown",
   "metadata": {
    "slideshow": {
     "slide_type": "subslide"
    }
   },
   "source": [
    "#### Generalidades de las variables\n",
    "\n",
    "- No deben contener guiones '-'.\n",
    "- No deben empezar por un número.\n",
    "- No se permite el uso de espacios.\n",
    "- El nombre de una variable no puede ser una **palabra reservada**."
   ]
  },
  {
   "cell_type": "markdown",
   "metadata": {
    "slideshow": {
     "slide_type": "subslide"
    }
   },
   "source": [
    "### Palabras reservadas"
   ]
  },
  {
   "cell_type": "markdown",
   "metadata": {
    "slideshow": {
     "slide_type": "subslide"
    }
   },
   "source": [
    "- Dentro de la sintaxis de python, son palabras que no pueden usarse como clases, funciones o variables dentro del código desarrollado.\n",
    "- El uso de estas podria desencadenar en errores de sintaxis o ejecución.\n",
    "\n",
    "```python\n",
    "var_print = \"20\" # Esto funciona\n",
    "print = \"20\" # Funciona pero sobreescribe la funcion print()\n",
    "False = \"Hola mundo\" # No funciona\n",
    "```"
   ]
  },
  {
   "cell_type": "code",
   "execution_count": null,
   "metadata": {
    "slideshow": {
     "slide_type": "subslide"
    }
   },
   "outputs": [],
   "source": [
    "help('keywords')"
   ]
  },
  {
   "cell_type": "markdown",
   "metadata": {
    "slideshow": {
     "slide_type": "subslide"
    }
   },
   "source": [
    "### Funciones Built-In"
   ]
  },
  {
   "cell_type": "markdown",
   "metadata": {
    "slideshow": {
     "slide_type": "subslide"
    }
   },
   "source": [
    "- Funciones ya incluidas dentro del lenguaje python.\n",
    "- Programación **declarativa**.\n",
    "- Funcionan como ayudas y permite ahorrar algunas lineas de código."
   ]
  },
  {
   "cell_type": "markdown",
   "metadata": {
    "slideshow": {
     "slide_type": "subslide"
    }
   },
   "source": [
    "### Función \"print\"\n",
    "\n",
    "```python\n",
    "print(valor1,valor2,valor3....[,end=\"\",sep=\"\"])\n",
    "```\n",
    "\n",
    "Imprime en la consola los valores que se pasan por atributo.\n",
    "\n",
    "- En caso de contener **end**, este se agrega al final del ultimo valor.\n",
    "- En caso de contener **sep**, reemplaza el espacio \" \" como separador del texto."
   ]
  },
  {
   "cell_type": "code",
   "execution_count": null,
   "metadata": {
    "slideshow": {
     "slide_type": "fragment"
    }
   },
   "outputs": [],
   "source": [
    "print(\"Hola\",\"desde python\",1500, end=\".\", sep=\"_\")"
   ]
  },
  {
   "cell_type": "markdown",
   "metadata": {
    "slideshow": {
     "slide_type": "subslide"
    }
   },
   "source": [
    "### Función \"input\"\n",
    "\n",
    "```python\n",
    "input(valor)\n",
    "```\n",
    "\n",
    "Imprime en la consola el texto que se pasa como atributo y adicional, espera un valor para almacenarlo dentro del código."
   ]
  },
  {
   "cell_type": "code",
   "execution_count": null,
   "metadata": {
    "slideshow": {
     "slide_type": "fragment"
    }
   },
   "outputs": [],
   "source": [
    "var_nombre = input(\"Ingrese su nombre: \")\n",
    "print(\"Hola\", var_nombre)"
   ]
  },
  {
   "cell_type": "markdown",
   "metadata": {
    "slideshow": {
     "slide_type": "subslide"
    }
   },
   "source": [
    "### Función \"type\"\n",
    "\n",
    "```python\n",
    "type(valor)\n",
    "```\n",
    "\n",
    "Retorna el tipo de dato que tiene el atributo que le enviamos."
   ]
  },
  {
   "cell_type": "code",
   "execution_count": null,
   "metadata": {
    "slideshow": {
     "slide_type": "fragment"
    }
   },
   "outputs": [],
   "source": [
    "print(type(\"Hola mundo\")) # string \\ cadena de texto | str\n",
    "print(type(10)) # int\n",
    "print(type('False')) # Booleano | bool\n",
    "var_nombre = float(input(\"Ingrese un número: \")) # int\n",
    "print(type(var_nombre))"
   ]
  },
  {
   "cell_type": "markdown",
   "metadata": {
    "slideshow": {
     "slide_type": "slide"
    }
   },
   "source": [
    "### Tipos de datos"
   ]
  },
  {
   "cell_type": "markdown",
   "metadata": {
    "slideshow": {
     "slide_type": "subslide"
    }
   },
   "source": [
    "## Entero (int)"
   ]
  },
  {
   "cell_type": "markdown",
   "metadata": {
    "slideshow": {
     "slide_type": "subslide"
    }
   },
   "source": [
    "#### Entero (int)\n",
    "\n",
    "- Permite almacenar un entero numérico no decimal de cualquier valor **positivo** o **negativo**.\n",
    "- A diferencia de otros lenguajes, no debemos preocuparnos de la memoria, ya que se encarga automaticamente de asignar el espacio necesario para el número.\n",
    "- Permite manejar números binarios, octales, decimales y hexadecimales."
   ]
  },
  {
   "cell_type": "markdown",
   "metadata": {
    "slideshow": {
     "slide_type": "subslide"
    }
   },
   "source": [
    "#### Ejemplo 01\n",
    "\n",
    "- Imprimir un entero."
   ]
  },
  {
   "cell_type": "code",
   "execution_count": null,
   "metadata": {
    "slideshow": {
     "slide_type": "fragment"
    }
   },
   "outputs": [],
   "source": [
    "10"
   ]
  },
  {
   "cell_type": "markdown",
   "metadata": {
    "slideshow": {
     "slide_type": "subslide"
    }
   },
   "source": [
    "#### Ejemplo 02\n",
    "\n",
    "- Verificar el tipo de dato."
   ]
  },
  {
   "cell_type": "code",
   "execution_count": null,
   "metadata": {
    "slideshow": {
     "slide_type": "fragment"
    }
   },
   "outputs": [],
   "source": [
    "type(10)"
   ]
  },
  {
   "cell_type": "markdown",
   "metadata": {
    "slideshow": {
     "slide_type": "subslide"
    }
   },
   "source": [
    "#### Ejemplo 03\n",
    "\n",
    "- Asignar a una variable un entero."
   ]
  },
  {
   "cell_type": "code",
   "execution_count": null,
   "metadata": {
    "slideshow": {
     "slide_type": "fragment"
    }
   },
   "outputs": [],
   "source": [
    "var_miNumero = 10\n",
    "type(var_miNumero)"
   ]
  },
  {
   "cell_type": "markdown",
   "metadata": {
    "slideshow": {
     "slide_type": "subslide"
    }
   },
   "source": [
    "#### Ejemplo 04\n",
    "\n",
    "- Números binarios, octales y hexadecimales."
   ]
  },
  {
   "cell_type": "code",
   "execution_count": null,
   "metadata": {
    "slideshow": {
     "slide_type": "fragment"
    }
   },
   "outputs": [],
   "source": [
    "a = 0b10 # base 2 0,1\n",
    "b = 0x1A # base 16 0123456789ABCDEF\n",
    "c = 0o720 # base 8 01234567\n",
    "print(a, type(a))\n",
    "print(b, type(b))\n",
    "print(c, type(c))"
   ]
  },
  {
   "cell_type": "markdown",
   "metadata": {
    "slideshow": {
     "slide_type": "subslide"
    }
   },
   "source": [
    "#### Funciones built-in"
   ]
  },
  {
   "cell_type": "markdown",
   "metadata": {
    "slideshow": {
     "slide_type": "subslide"
    }
   },
   "source": [
    "#### int(valor)\n",
    "\n",
    "```python\n",
    "int(valor)\n",
    "```\n",
    "\n",
    "- Convertir un valor a entero."
   ]
  },
  {
   "cell_type": "code",
   "execution_count": null,
   "metadata": {
    "slideshow": {
     "slide_type": "fragment"
    }
   },
   "outputs": [],
   "source": [
    "print(int(0b100)) # Convierte el 100 de binario a entero (4).\n",
    "print(int(\"10\")) # Convierte una cadena de texto a entero.\n",
    "print(int(50.123)) # Convierte un flotante a entero.\n",
    "print(int(0x17)) # Convirte un hexadecimal a entero\n",
    "print(int(0o720)) # Convierte un octal a entero"
   ]
  },
  {
   "cell_type": "markdown",
   "metadata": {
    "slideshow": {
     "slide_type": "subslide"
    }
   },
   "source": [
    "#### pow(base,exp)\n",
    "\n",
    "```python\n",
    "pow(base,potencia)\n",
    "```\n",
    "\n",
    "- Ejecuta un calculo de potencia."
   ]
  },
  {
   "cell_type": "code",
   "execution_count": null,
   "metadata": {
    "slideshow": {
     "slide_type": "fragment"
    }
   },
   "outputs": [],
   "source": [
    "print(pow(81,.5)) # Retorna la potencia de 9^2"
   ]
  },
  {
   "cell_type": "markdown",
   "metadata": {
    "slideshow": {
     "slide_type": "subslide"
    }
   },
   "source": [
    "#### round(valor)\n",
    "\n",
    "```python\n",
    "round(valor)\n",
    "```\n",
    "\n",
    "- Redondea al entero mas cercano el numero decimal. \n",
    "- Si es menor o igual a .5 (.49 aveces), redondea al menor entero, de lo contrario redondea al siguiente entero"
   ]
  },
  {
   "cell_type": "code",
   "execution_count": null,
   "metadata": {
    "slideshow": {
     "slide_type": "fragment"
    }
   },
   "outputs": [],
   "source": [
    "print(round(1.49))\n",
    "print(round(1.51))"
   ]
  },
  {
   "cell_type": "markdown",
   "metadata": {
    "slideshow": {
     "slide_type": "subslide"
    }
   },
   "source": [
    "### Operaciones aritméticas\n",
    "\n"
   ]
  },
  {
   "cell_type": "markdown",
   "metadata": {
    "slideshow": {
     "slide_type": "subslide"
    }
   },
   "source": [
    "|Operator|Nombre|Ejemplo|\n",
    "|:------:|:------:|:----:|\n",
    "|Suma|+|5+3|\n",
    "|Resta|-|5-3|\n",
    "|Multiplicación|*|5*3|\n",
    "|Division|/|5/3|\n",
    "|Módulo|%|5%3|\n",
    "|Potencia|** | 5**3 |\n",
    "|División Entera|//|5//3|"
   ]
  },
  {
   "cell_type": "code",
   "execution_count": null,
   "metadata": {
    "slideshow": {
     "slide_type": "fragment"
    }
   },
   "outputs": [],
   "source": [
    "var_numA, var_numB = 5,3\n",
    "print(var_numA + var_numB) # Suma\n",
    "print(var_numA - var_numB) # Resta\n",
    "print(var_numA * var_numB) # Multiplicación\n",
    "print(var_numA / var_numB) # División\n",
    "print(var_numA % var_numB) # Módulo\n",
    "print(var_numA ** var_numB) # Potencia\n",
    "print(var_numA // var_numB) # División entera."
   ]
  },
  {
   "cell_type": "markdown",
   "metadata": {
    "slideshow": {
     "slide_type": "subslide"
    }
   },
   "source": [
    "## Texto (string)"
   ]
  },
  {
   "cell_type": "markdown",
   "metadata": {
    "slideshow": {
     "slide_type": "subslide"
    }
   },
   "source": [
    "#### Texto (string)\n",
    "\n",
    "- No diferencia entre comilla sencilla o comilla doble.\n",
    "- En caso de no asignarse a una variable, permite usar comentarios multilinea.\n",
    "- Permite dar formato a textos para inyeccion de valores."
   ]
  },
  {
   "cell_type": "markdown",
   "metadata": {
    "slideshow": {
     "slide_type": "subslide"
    }
   },
   "source": [
    "#### Ejemplo 01\n",
    "\n",
    "Imprimir una cadena de texto"
   ]
  },
  {
   "cell_type": "code",
   "execution_count": null,
   "metadata": {
    "slideshow": {
     "slide_type": "fragment"
    }
   },
   "outputs": [],
   "source": [
    "print('Esta es una cadena de texto \\'Mi nombre\\\"')"
   ]
  },
  {
   "cell_type": "markdown",
   "metadata": {
    "slideshow": {
     "slide_type": "subslide"
    }
   },
   "source": [
    "#### Ejemplo 02\n",
    "\n",
    "Imprimir una variable"
   ]
  },
  {
   "cell_type": "code",
   "execution_count": null,
   "metadata": {
    "slideshow": {
     "slide_type": "fragment"
    }
   },
   "outputs": [],
   "source": [
    "var_text = \"\"\"lorem ipsum dolor sit amet, consectetur adipiscing elit, sed do eiusmod tempor incididunt ut \n",
    "labore et dolore magna aliqua. Ut enim ad minim veniam, quis nostrud exercitation ullamco laboris nisi ut \n",
    "aliquip ex ea commodo consequat. Duis aute irure dolor in reprehenderit in voluptate velit esse cillum \n",
    "dolore eu fugiat nulla pariatur. Excepteur sint occaecat cupidatat non proident, sunt in culpa \n",
    "qui officia deserunt mollit anim id est laborum.\"\"\"\n",
    "var_numero = 23\n",
    "print(var_text,var_numero)"
   ]
  },
  {
   "cell_type": "markdown",
   "metadata": {
    "slideshow": {
     "slide_type": "subslide"
    }
   },
   "source": [
    "#### Ejemplo 03\n",
    "\n",
    "Contar caracteres en una cadena de texto"
   ]
  },
  {
   "cell_type": "code",
   "execution_count": null,
   "metadata": {
    "slideshow": {
     "slide_type": "fragment"
    }
   },
   "outputs": [],
   "source": [
    "print(var_text.count(\"o\"))"
   ]
  },
  {
   "cell_type": "markdown",
   "metadata": {
    "slideshow": {
     "slide_type": "subslide"
    }
   },
   "source": [
    "#### Ejemplo 04\n",
    "\n",
    "Modificar el formato de texto de una variable\n",
    "\n",
    "- **capitalize():** Presenta en mayuscula la primera letra.\n",
    "- **upper():** Convierte todo el texto en mayuscula.\n",
    "- **lower():** Convierte todo el texto en minuscula.\n",
    "- **title():** Coloca mayuscula la primera letra en cada palabra y el resto lo pasa a minúscula."
   ]
  },
  {
   "cell_type": "code",
   "execution_count": null,
   "metadata": {
    "slideshow": {
     "slide_type": "fragment"
    }
   },
   "outputs": [],
   "source": [
    "print(var_text.capitalize(),var_text.upper(),var_text.lower(), var_text.title(), sep=\"\\n\")"
   ]
  },
  {
   "cell_type": "markdown",
   "metadata": {
    "slideshow": {
     "slide_type": "subslide"
    }
   },
   "source": [
    "#### Ejemplo 05\n",
    "\n",
    "Búsqueda de caractéres.\n",
    "\n",
    "- **find(valor):** Busca la posición donde se encuentra el valor pasado como atributo. En caso de no encontrarlo, retorna -1\n",
    "- **index(valor):** Busca el valor pasado por parámetro. En caso de no encontrarlo arroja una excepción.\n",
    "- **rfind(valor):** Busca el valor pasado por parámetro en el texto, pero lo hace de derecha a izquiera."
   ]
  },
  {
   "cell_type": "code",
   "execution_count": null,
   "metadata": {
    "slideshow": {
     "slide_type": "fragment"
    }
   },
   "outputs": [],
   "source": [
    "print(var_text)\n",
    "print(var_text.find(\"dolor\"))\n",
    "print(var_text.index(\"lorem\"))\n",
    "print(var_text.rfind(\"dolor\"))"
   ]
  },
  {
   "cell_type": "markdown",
   "metadata": {
    "slideshow": {
     "slide_type": "subslide"
    }
   },
   "source": [
    "#### Ejemplo 06\n",
    "\n",
    "Determinar si una cadena empieza o termina por un valor.\n",
    "\n",
    "- **startswith(valor):** Retorna true, si la cadena de texto inicia con el valor pasado por parámetro.\n",
    "- **endswith(valor):** Retorna true, si la cadena de texto termina con el valor pasado por parámetro."
   ]
  },
  {
   "cell_type": "code",
   "execution_count": null,
   "metadata": {
    "slideshow": {
     "slide_type": "fragment"
    }
   },
   "outputs": [],
   "source": [
    "print(var_text)\n",
    "print(var_text.startswith(\"lorem\"))\n",
    "print(var_text.title().endswith(\"LaBorum.\".title()))"
   ]
  },
  {
   "cell_type": "markdown",
   "metadata": {
    "slideshow": {
     "slide_type": "subslide"
    }
   },
   "source": [
    "#### Ejemplo 07\n",
    "\n",
    "Reemplazar un caracter en un texto\n",
    "\n",
    "- **replace(valor_a_buscar, valor_a_reemplazar):** Actualiza la cadena de texto con el valor de reemplazo"
   ]
  },
  {
   "cell_type": "code",
   "execution_count": null,
   "metadata": {
    "slideshow": {
     "slide_type": "fragment"
    }
   },
   "outputs": [],
   "source": [
    "print(var_text.replace(\" \",\"*\"))"
   ]
  },
  {
   "cell_type": "markdown",
   "metadata": {
    "slideshow": {
     "slide_type": "subslide"
    }
   },
   "source": [
    "#### Funciones built-in"
   ]
  },
  {
   "cell_type": "markdown",
   "metadata": {
    "slideshow": {
     "slide_type": "subslide"
    }
   },
   "source": [
    "#### len(texto)\n",
    "\n",
    "```python\n",
    "len(text)\n",
    "```\n",
    "\n",
    "- Retorna el tamaño del texto (cantidad de caracteres)."
   ]
  },
  {
   "cell_type": "code",
   "execution_count": null,
   "metadata": {
    "slideshow": {
     "slide_type": "fragment"
    }
   },
   "outputs": [],
   "source": [
    "print(len(var_text))"
   ]
  },
  {
   "cell_type": "markdown",
   "metadata": {
    "slideshow": {
     "slide_type": "subslide"
    }
   },
   "source": [
    "### Formatos de texto"
   ]
  },
  {
   "cell_type": "markdown",
   "metadata": {
    "slideshow": {
     "slide_type": "subslide"
    }
   },
   "source": [
    "- Permite asignar valores a una cadena de texto mediante el paso de parametros.\n",
    "- Se puede dar formato a las variables.\n",
    "- Permite globalizar los textos.\n",
    "- **Es una buena practica para centralizar los textos.**"
   ]
  },
  {
   "cell_type": "code",
   "execution_count": null,
   "metadata": {
    "slideshow": {
     "slide_type": "fragment"
    }
   },
   "outputs": [],
   "source": [
    "var_plantilla01 = \"Mi nombre es {nombre} y tengo {edad:.1f} años.\"\n",
    "var_nombre, var_edad = input(\"Ingrese su nombre: \"), float(input(\"Ingrese su edad: \"))\n",
    "print(var_plantilla01.format(nombre = var_nombre.title(), edad = var_edad))"
   ]
  },
  {
   "cell_type": "markdown",
   "metadata": {
    "slideshow": {
     "slide_type": "slide"
    }
   },
   "source": [
    "## Ejercicio\n",
    "\n",
    "**Problema**\n",
    "\n",
    "Se requiere aplicar operaciones de enteros y strings en unos valores ingresados desde el teclado ( 2 números enteros, el nombre completo del estudiante).\n",
    "\n",
    "**Salida**\n",
    "\n",
    "- promedio de los 2 números.\n",
    "- la suma de los números.\n",
    "- el cuadrado de los 2 números.\n",
    "- El nombre en mayusculas.\n",
    "- Reemplace la letra a (no importa si es mayuscula o minuscula) por * e imprima el nombre con solo la primera letra en mayuscula.\n",
    "- Imprimir 3 veces el nombre."
   ]
  }
 ],
 "metadata": {
  "celltoolbar": "Slideshow",
  "kernelspec": {
   "display_name": "Python 3",
   "language": "python",
   "name": "python3"
  },
  "language_info": {
   "codemirror_mode": {
    "name": "ipython",
    "version": 3
   },
   "file_extension": ".py",
   "mimetype": "text/x-python",
   "name": "python",
   "nbconvert_exporter": "python",
   "pygments_lexer": "ipython3",
   "version": "3.7.4"
  }
 },
 "nbformat": 4,
 "nbformat_minor": 4
}
