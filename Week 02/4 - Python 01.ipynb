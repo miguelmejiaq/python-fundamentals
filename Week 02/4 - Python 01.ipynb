{
 "cells": [
  {
   "cell_type": "markdown",
   "metadata": {
    "slideshow": {
     "slide_type": "slide"
    }
   },
   "source": [
    "<br/>\n",
    "\n",
    "## Sesión 4 - Python 01\n",
    "\n",
    "# Fundamentos de Programación\n",
    "\n",
    "\n",
    "\n"
   ]
  },
  {
   "cell_type": "markdown",
   "metadata": {
    "slideshow": {
     "slide_type": "subslide"
    }
   },
   "source": [
    "## Temario"
   ]
  },
  {
   "cell_type": "markdown",
   "metadata": {
    "slideshow": {
     "slide_type": "subslide"
    }
   },
   "source": [
    "- Ejecución de código.\n",
    "    - Modo interactivo.\n",
    "    - Modo Script.\n",
    "- Sintaxis.\n",
    "- Palabras reservadas.\n",
    "- Funciones Built-in.\n",
    "    - Función print.\n",
    "    - Función input.\n",
    "    - Función type.\n",
    "- Tipos de dato.\n",
    "    - Entero.\n",
    "        - Funciones built-in.\n",
    "    - Texto."
   ]
  },
  {
   "cell_type": "markdown",
   "metadata": {
    "slideshow": {
     "slide_type": "slide"
    }
   },
   "source": [
    "### Ejecución de código"
   ]
  },
  {
   "cell_type": "markdown",
   "metadata": {
    "slideshow": {
     "slide_type": "subslide"
    }
   },
   "source": [
    "#### Modo Interactivo (Interactive Mode)\n",
    "\n",
    "<br/>\n",
    "\n",
    "- La interfaz puede ser una consola o un jupyter notebook.\n",
    "- Ejecución basada en el código que se va pasando.\n",
    "- **Jupyter:** <i>Celdas de tipo \"Code\"</i>\n",
    "- **Consola:** <i>python</i>"
   ]
  },
  {
   "cell_type": "code",
   "execution_count": null,
   "metadata": {
    "slideshow": {
     "slide_type": "fragment"
    }
   },
   "outputs": [],
   "source": [
    "print(\"Ejecutando código desde modo interactivo.\")"
   ]
  },
  {
   "cell_type": "markdown",
   "metadata": {
    "slideshow": {
     "slide_type": "subslide"
    }
   },
   "source": [
    "#### Modo Script (Script Mode)\n",
    "\n",
    "<br/>\n",
    "\n",
    "- Ejecuta el código pasandose como archivo al interprete.\n",
    "- El interprete ejecuta linea a linea el código como si fuese de modo interactivo.\n",
    "- **Jupyter:** <i>Celdas de tipo \"Code\" > %run -i \"archivo\"</i>\n",
    "- **Comando:** <i>python \"archivo\"</i>"
   ]
  },
  {
   "cell_type": "code",
   "execution_count": null,
   "metadata": {
    "slideshow": {
     "slide_type": "fragment"
    }
   },
   "outputs": [],
   "source": [
    "%run -i \"../my-script.py\""
   ]
  },
  {
   "cell_type": "markdown",
   "metadata": {
    "slideshow": {
     "slide_type": "slide"
    }
   },
   "source": [
    "### Sintaxis"
   ]
  },
  {
   "cell_type": "markdown",
   "metadata": {
    "slideshow": {
     "slide_type": "subslide"
    }
   },
   "source": [
    "#### Comentarios\n",
    "\n",
    "**Única linea**\n",
    "\n",
    "```python\n",
    "# Este es un comentario en una linea\n",
    "```\n",
    "**Multi linea**\n",
    "\n",
    "```python\n",
    "\"\"\"\n",
    "Este es un comentario\n",
    "En varias lineas\n",
    "\"\"\"\n",
    "```"
   ]
  },
  {
   "cell_type": "markdown",
   "metadata": {
    "slideshow": {
     "slide_type": "subslide"
    }
   },
   "source": [
    "#### Bloques de código\n",
    "\n",
    "```python\n",
    "condicion:\n",
    "····sub-bloque de codigo\n",
    "```\n",
    "\n",
    "```Python\n",
    "if True:\n",
    "    print(\"Es un sub-bloque de código\")\n",
    "```"
   ]
  },
  {
   "cell_type": "markdown",
   "metadata": {
    "slideshow": {
     "slide_type": "subslide"
    }
   },
   "source": [
    "#### Variables\n",
    "\n",
    "**Formato básico**\n",
    "\n",
    "```python\n",
    "nombreVariable = valor\n",
    "```\n",
    "**Multiples variables con el mismo valor**\n",
    "\n",
    "```python\n",
    "var1 = var2 = var3 = valor\n",
    "```\n",
    "**Multiples variables con diferente valor**\n",
    "\n",
    "```python\n",
    "var1,var2,var3 = valor1,valor2,valor3\n",
    "```\n",
    "\n",
    "```python\n",
    "var1 = valor1\n",
    "var2 = valor2\n",
    "```"
   ]
  },
  {
   "cell_type": "code",
   "execution_count": null,
   "metadata": {
    "slideshow": {
     "slide_type": "subslide"
    }
   },
   "outputs": [],
   "source": [
    "var_miVariable = \"Mi valor\"\n",
    "var_1 = var_2 = var_3 = 10\n",
    "var_multi1, var_multi2, var_multi3 = 1,\"hola\", 5.0\n",
    "print(var_miVariable)\n",
    "print(var_1,var_2,var_3)\n",
    "print(var_multi1,var_multi2,var_multi3)"
   ]
  },
  {
   "cell_type": "markdown",
   "metadata": {
    "slideshow": {
     "slide_type": "subslide"
    }
   },
   "source": [
    "#### Generalidades de las variables\n",
    "\n",
    "- No deben contener guiones '-'.\n",
    "- No deben empezar por un número.\n",
    "- No se permite el uso de espacios.\n",
    "- El nombre de una variable no puede ser una **palabra reservada**."
   ]
  },
  {
   "cell_type": "markdown",
   "metadata": {
    "slideshow": {
     "slide_type": "subslide"
    }
   },
   "source": [
    "### Palabras reservadas"
   ]
  },
  {
   "cell_type": "markdown",
   "metadata": {
    "slideshow": {
     "slide_type": "subslide"
    }
   },
   "source": [
    "- Dentro de la sintaxis de python, son palabras que no pueden usarse como clases, funciones o variables dentro del código desarrollado.\n",
    "- El uso de estas podria desencadenar en errores de sintaxis o ejecución.\n",
    "\n",
    "```python\n",
    "var_print = \"20\"\n",
    "print = \"20\"\n",
    "```"
   ]
  },
  {
   "cell_type": "code",
   "execution_count": null,
   "metadata": {
    "slideshow": {
     "slide_type": "subslide"
    }
   },
   "outputs": [],
   "source": [
    "help('keywords')"
   ]
  },
  {
   "cell_type": "markdown",
   "metadata": {
    "slideshow": {
     "slide_type": "subslide"
    }
   },
   "source": [
    "### Funciones Built-In"
   ]
  },
  {
   "cell_type": "markdown",
   "metadata": {
    "slideshow": {
     "slide_type": "subslide"
    }
   },
   "source": [
    "- Funciones ya incluidas dentro del lenguaje python.\n",
    "- Programación **declarativa**.\n",
    "- Funcionan como ayudas y permite ahorrar algunas lineas de código."
   ]
  },
  {
   "cell_type": "markdown",
   "metadata": {
    "slideshow": {
     "slide_type": "subslide"
    }
   },
   "source": [
    "### Función \"print\"\n",
    "\n",
    "```python\n",
    "print(valor1,valor2,valor3....[,end=\"\",sep=\"\"])\n",
    "```\n",
    "\n",
    "Imprime en la consola los valores que se pasan por atributo.\n",
    "\n",
    "- En caso de contener **end**, este se agrega al final del ultimo valor.\n",
    "- En caso de contener **sep**, reemplaza el espacio \" \" como separador del texto."
   ]
  },
  {
   "cell_type": "code",
   "execution_count": null,
   "metadata": {
    "slideshow": {
     "slide_type": "fragment"
    }
   },
   "outputs": [],
   "source": [
    "print(\"Hola\",\"desde python\", end=\".\", sep=\"**\")"
   ]
  },
  {
   "cell_type": "markdown",
   "metadata": {
    "slideshow": {
     "slide_type": "subslide"
    }
   },
   "source": [
    "### Función \"input\"\n",
    "\n",
    "```python\n",
    "input(valor)\n",
    "```\n",
    "\n",
    "Imprime en la consola el texto que se pasa como atributo y adicional, espera un valor para almacenarlo dentro del código."
   ]
  },
  {
   "cell_type": "code",
   "execution_count": null,
   "metadata": {
    "slideshow": {
     "slide_type": "fragment"
    }
   },
   "outputs": [],
   "source": [
    "var_nombre = input(\"Ingrese su nombre: \")\n",
    "print(\"Hola\", var_nombre)"
   ]
  },
  {
   "cell_type": "markdown",
   "metadata": {
    "slideshow": {
     "slide_type": "subslide"
    }
   },
   "source": [
    "### Función \"type\"\n",
    "\n",
    "```python\n",
    "type(valor)\n",
    "```\n",
    "\n",
    "Retorna el tipo de dato que tiene el atributo que le enviamos."
   ]
  },
  {
   "cell_type": "code",
   "execution_count": null,
   "metadata": {
    "slideshow": {
     "slide_type": "fragment"
    }
   },
   "outputs": [],
   "source": [
    "print(type(\"Hola mundo\"))\n",
    "print(type(10))\n",
    "print(type(True))"
   ]
  },
  {
   "cell_type": "markdown",
   "metadata": {
    "slideshow": {
     "slide_type": "slide"
    }
   },
   "source": [
    "### Tipos de datos"
   ]
  },
  {
   "cell_type": "markdown",
   "metadata": {
    "slideshow": {
     "slide_type": "subslide"
    }
   },
   "source": [
    "## Entero (int)"
   ]
  },
  {
   "cell_type": "markdown",
   "metadata": {
    "slideshow": {
     "slide_type": "subslide"
    }
   },
   "source": [
    "#### Entero (int)\n",
    "\n",
    "- Permite almacenar un entero numérico no decimal de cualquier valor **positivo** o **negativo**.\n",
    "- A diferencia de otros lenguajes, no debemos preocuparnos de la memoria, ya que se encarga automaticamente de asignar el espacio necesario para el número.\n",
    "- Permite manejar números binarios, octales, decimales y hexadecimales."
   ]
  },
  {
   "cell_type": "markdown",
   "metadata": {
    "slideshow": {
     "slide_type": "subslide"
    }
   },
   "source": [
    "#### Ejemplo 01\n",
    "\n",
    "- Imprimir un entero."
   ]
  },
  {
   "cell_type": "code",
   "execution_count": null,
   "metadata": {
    "slideshow": {
     "slide_type": "fragment"
    }
   },
   "outputs": [],
   "source": [
    "10"
   ]
  },
  {
   "cell_type": "markdown",
   "metadata": {
    "slideshow": {
     "slide_type": "subslide"
    }
   },
   "source": [
    "#### Ejemplo 02\n",
    "\n",
    "- Verificar el tipo de dato."
   ]
  },
  {
   "cell_type": "code",
   "execution_count": null,
   "metadata": {
    "slideshow": {
     "slide_type": "fragment"
    }
   },
   "outputs": [],
   "source": [
    "type(10)"
   ]
  },
  {
   "cell_type": "markdown",
   "metadata": {
    "slideshow": {
     "slide_type": "subslide"
    }
   },
   "source": [
    "#### Ejemplo 03\n",
    "\n",
    "- Asignar a una variable un entero."
   ]
  },
  {
   "cell_type": "code",
   "execution_count": null,
   "metadata": {
    "slideshow": {
     "slide_type": "fragment"
    }
   },
   "outputs": [],
   "source": [
    "var_miNumero = 10\n",
    "type(var_miNumero)"
   ]
  },
  {
   "cell_type": "markdown",
   "metadata": {
    "slideshow": {
     "slide_type": "subslide"
    }
   },
   "source": [
    "#### Ejemplo 04\n",
    "\n",
    "- Números binarios, octales y hexadecimales."
   ]
  },
  {
   "cell_type": "code",
   "execution_count": null,
   "metadata": {
    "slideshow": {
     "slide_type": "fragment"
    }
   },
   "outputs": [],
   "source": [
    "a = 0b100\n",
    "b = 0x17\n",
    "c = 0o720\n",
    "print(a, type(a))\n",
    "print(b, type(b))\n",
    "print(c, type(c))"
   ]
  },
  {
   "cell_type": "markdown",
   "metadata": {
    "slideshow": {
     "slide_type": "subslide"
    }
   },
   "source": [
    "#### Funciones built-in"
   ]
  },
  {
   "cell_type": "markdown",
   "metadata": {
    "slideshow": {
     "slide_type": "subslide"
    }
   },
   "source": [
    "#### int(valor)\n",
    "\n",
    "```python\n",
    "int(valor)\n",
    "```\n",
    "\n",
    "- Convertir un valor a entero."
   ]
  },
  {
   "cell_type": "code",
   "execution_count": null,
   "metadata": {
    "slideshow": {
     "slide_type": "fragment"
    }
   },
   "outputs": [],
   "source": [
    "print(int(0b100)) # Convierte el 100 de binario a entero (4).\n",
    "print(int(\"20\")) # Convierte una cadena de texto a entero.\n",
    "print(int(50.123)) # Convierte un flotante a entero.\n",
    "print(int(0x17)) # Convirte un hexadecimal a entero\n",
    "print(int(0o720)) # Convierte un octal a entero"
   ]
  },
  {
   "cell_type": "markdown",
   "metadata": {
    "slideshow": {
     "slide_type": "subslide"
    }
   },
   "source": [
    "#### pow(base,exp)\n",
    "\n",
    "```python\n",
    "pow(base,potencia)\n",
    "```\n",
    "\n",
    "- Ejecuta un calculo de potencia."
   ]
  },
  {
   "cell_type": "code",
   "execution_count": null,
   "metadata": {
    "slideshow": {
     "slide_type": "fragment"
    }
   },
   "outputs": [],
   "source": [
    "print(pow(9,2)) # Retorna la potencia de 9^2"
   ]
  },
  {
   "cell_type": "markdown",
   "metadata": {
    "slideshow": {
     "slide_type": "subslide"
    }
   },
   "source": [
    "## Texto (string)"
   ]
  },
  {
   "cell_type": "markdown",
   "metadata": {
    "slideshow": {
     "slide_type": "subslide"
    }
   },
   "source": [
    "#### Texto (string)\n",
    "\n",
    "- No diferencia entre comilla sencilla o comilla doble.\n",
    "- En caso de no asignarse a una variable, permite usar comentarios multilinea.\n",
    "- Permite dar formato a textos para inyeccion de valores."
   ]
  },
  {
   "cell_type": "markdown",
   "metadata": {
    "slideshow": {
     "slide_type": "subslide"
    }
   },
   "source": [
    "#### Ejemplo 01\n",
    "\n",
    "Imprimir una cadena de texto"
   ]
  },
  {
   "cell_type": "code",
   "execution_count": null,
   "metadata": {
    "slideshow": {
     "slide_type": "fragment"
    }
   },
   "outputs": [],
   "source": [
    "print(\"Esta es una cadena de texto\")"
   ]
  },
  {
   "cell_type": "markdown",
   "metadata": {
    "slideshow": {
     "slide_type": "subslide"
    }
   },
   "source": [
    "#### Ejemplo 02\n",
    "\n",
    "Imprimir una variable"
   ]
  },
  {
   "cell_type": "code",
   "execution_count": null,
   "metadata": {
    "slideshow": {
     "slide_type": "fragment"
    }
   },
   "outputs": [],
   "source": [
    "var_text = \"El numero es\"\n",
    "var_numero = 23\n",
    "print(var_text,var_numero)"
   ]
  },
  {
   "cell_type": "markdown",
   "metadata": {
    "slideshow": {
     "slide_type": "subslide"
    }
   },
   "source": [
    "#### Ejemplo 03\n",
    "\n",
    "Modificar el formato de texto de una variable"
   ]
  },
  {
   "cell_type": "code",
   "execution_count": null,
   "metadata": {
    "slideshow": {
     "slide_type": "fragment"
    }
   },
   "outputs": [],
   "source": [
    "var_text = \"mi curso de PYTHON\"\n",
    "print(var_text.capitalize(),var_text.upper(),var_text.lower)"
   ]
  }
 ],
 "metadata": {
  "celltoolbar": "Slideshow",
  "kernelspec": {
   "display_name": "Python 3",
   "language": "python",
   "name": "python3"
  },
  "language_info": {
   "codemirror_mode": {
    "name": "ipython",
    "version": 3
   },
   "file_extension": ".py",
   "mimetype": "text/x-python",
   "name": "python",
   "nbconvert_exporter": "python",
   "pygments_lexer": "ipython3",
   "version": "3.7.4"
  }
 },
 "nbformat": 4,
 "nbformat_minor": 4
}
