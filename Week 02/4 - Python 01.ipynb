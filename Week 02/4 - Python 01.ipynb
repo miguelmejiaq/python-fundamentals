{
 "cells": [
  {
   "cell_type": "markdown",
   "metadata": {
    "slideshow": {
     "slide_type": "slide"
    }
   },
   "source": [
    "<br/>\n",
    "\n",
    "## Sesión 4 - Python 01\n",
    "\n",
    "# Fundamentos de Programación\n",
    "\n",
    "\n",
    "\n"
   ]
  },
  {
   "cell_type": "markdown",
   "metadata": {
    "slideshow": {
     "slide_type": "subslide"
    }
   },
   "source": [
    "## Temario"
   ]
  },
  {
   "cell_type": "markdown",
   "metadata": {
    "slideshow": {
     "slide_type": "subslide"
    }
   },
   "source": [
    "- Ejecución de código.\n",
    "    - Modo interactivo.\n",
    "    - Modo Script.\n",
    "- Sintaxis.\n",
    "- Palabras reservadas.\n",
    "- Funciones Built-in.\n",
    "    - Función print.\n",
    "    - Función input.\n",
    "    - Función type.\n",
    "- Tipos de dato.\n",
    "    - Entero.\n",
    "        - Funciones built-in.\n",
    "        - Operaciones aritméticas.\n",
    "    - Texto.\n",
    "        - Funciones built-in.\n",
    "- Ejercicio"
   ]
  },
  {
   "cell_type": "markdown",
   "metadata": {
    "slideshow": {
     "slide_type": "slide"
    }
   },
   "source": [
    "### Ejecución de código"
   ]
  },
  {
   "cell_type": "markdown",
   "metadata": {
    "slideshow": {
     "slide_type": "subslide"
    }
   },
   "source": [
    "#### Modo Interactivo (Interactive Mode)\n",
    "\n",
    "<br/>\n",
    "\n",
    "- La interfaz puede ser una consola o un jupyter notebook.\n",
    "- Ejecución basada en el código que se va pasando.\n",
    "- **Jupyter:** <i>Celdas de tipo \"Code\"</i>\n",
    "- **Consola:** <i>python</i>"
   ]
  },
  {
   "cell_type": "code",
   "execution_count": null,
   "metadata": {
    "slideshow": {
     "slide_type": "fragment"
    }
   },
   "outputs": [],
   "source": [
    "print(\"Ejecutando código desde modo interactivo.\")"
   ]
  },
  {
   "cell_type": "markdown",
   "metadata": {
    "slideshow": {
     "slide_type": "subslide"
    }
   },
   "source": [
    "#### Modo Script (Script Mode)\n",
    "\n",
    "<br/>\n",
    "\n",
    "- Ejecuta el código pasandose como archivo al interprete.\n",
    "- El interprete ejecuta linea a linea el código como si fuese de modo interactivo.\n",
    "- **Jupyter:** <i>Celdas de tipo \"Code\" > %run -i \"archivo\"</i>\n",
    "- **Comando:** <i>python \"archivo\"</i>"
   ]
  },
  {
   "cell_type": "code",
   "execution_count": null,
   "metadata": {
    "slideshow": {
     "slide_type": "fragment"
    }
   },
   "outputs": [],
   "source": [
    "%run -i \"../my-script.py\""
   ]
  },
  {
   "cell_type": "markdown",
   "metadata": {
    "slideshow": {
     "slide_type": "slide"
    }
   },
   "source": [
    "### Sintaxis"
   ]
  },
  {
   "cell_type": "markdown",
   "metadata": {
    "slideshow": {
     "slide_type": "subslide"
    }
   },
   "source": [
    "#### Comentarios\n",
    "\n",
    "**Única linea**\n",
    "\n",
    "```python\n",
    "# Este es un comentario en una linea\n",
    "```\n",
    "**Multi linea**\n",
    "\n",
    "```python\n",
    "\"\"\"\n",
    "Este es un comentario\n",
    "En varias lineas\n",
    "\"\"\"\n",
    "```"
   ]
  },
  {
   "cell_type": "markdown",
   "metadata": {
    "slideshow": {
     "slide_type": "subslide"
    }
   },
   "source": [
    "#### Bloques de código\n",
    "\n",
    "```python\n",
    "estructura de control:\n",
    "····sub-bloque de codigo\n",
    "```\n",
    "\n",
    "```Python\n",
    "if True:\n",
    "    print(\"\")\n",
    "```"
   ]
  },
  {
   "cell_type": "markdown",
   "metadata": {
    "slideshow": {
     "slide_type": "subslide"
    }
   },
   "source": [
    "#### Variables\n",
    "\n",
    "**Formato básico**\n",
    "\n",
    "```python\n",
    "nombreVariable = valor\n",
    "```\n",
    "**Multiples variables con el mismo valor**\n",
    "\n",
    "```python\n",
    "var1 = var2 = var3 = valor\n",
    "```\n",
    "**Multiples variables con diferente valor**\n",
    "\n",
    "```python\n",
    "var1,var2,var3 = valor1,valor2,valor3\n",
    "```\n",
    "\n",
    "```python\n",
    "var1 = valor1\n",
    "var2 = valor2\n",
    "```"
   ]
  },
  {
   "cell_type": "code",
   "execution_count": 1,
   "metadata": {
    "slideshow": {
     "slide_type": "subslide"
    }
   },
   "outputs": [
    {
     "name": "stdout",
     "output_type": "stream",
     "text": [
      "5\n",
      "10 10 10\n",
      "10 hola 5.0\n"
     ]
    }
   ],
   "source": [
    "var_miVariable = \"Mi valor\"\n",
    "var_1 = var_2 = var_3 = 10\n",
    "var_multi1, var_multi2, var_multi3 = 10,\"hola\", 5.0\n",
    "var_miVariable = 5\n",
    "print(var_miVariable)\n",
    "print(var_1,var_2,var_3)\n",
    "print(var_multi1,var_multi2,var_multi3)"
   ]
  },
  {
   "cell_type": "markdown",
   "metadata": {
    "slideshow": {
     "slide_type": "subslide"
    }
   },
   "source": [
    "#### Generalidades de las variables\n",
    "\n",
    "- No deben contener guiones '-'.\n",
    "- No deben empezar por un número.\n",
    "- No se permite el uso de espacios.\n",
    "- El nombre de una variable no puede ser una **palabra reservada**."
   ]
  },
  {
   "cell_type": "markdown",
   "metadata": {
    "slideshow": {
     "slide_type": "subslide"
    }
   },
   "source": [
    "### Palabras reservadas"
   ]
  },
  {
   "cell_type": "markdown",
   "metadata": {
    "slideshow": {
     "slide_type": "subslide"
    }
   },
   "source": [
    "- Dentro de la sintaxis de python, son palabras que no pueden usarse como clases, funciones o variables dentro del código desarrollado.\n",
    "- El uso de estas podria desencadenar en errores de sintaxis o ejecución.\n",
    "\n",
    "```python\n",
    "var_print = \"20\"\n",
    "print = \"20\"\n",
    "```"
   ]
  },
  {
   "cell_type": "code",
   "execution_count": 2,
   "metadata": {
    "slideshow": {
     "slide_type": "subslide"
    }
   },
   "outputs": [
    {
     "name": "stdout",
     "output_type": "stream",
     "text": [
      "\n",
      "Here is a list of the Python keywords.  Enter any keyword to get more help.\n",
      "\n",
      "False               class               from                or\n",
      "None                continue            global              pass\n",
      "True                def                 if                  raise\n",
      "and                 del                 import              return\n",
      "as                  elif                in                  try\n",
      "assert              else                is                  while\n",
      "async               except              lambda              with\n",
      "await               finally             nonlocal            yield\n",
      "break               for                 not                 \n",
      "\n"
     ]
    }
   ],
   "source": [
    "help('keywords')"
   ]
  },
  {
   "cell_type": "markdown",
   "metadata": {
    "slideshow": {
     "slide_type": "subslide"
    }
   },
   "source": [
    "### Funciones Built-In"
   ]
  },
  {
   "cell_type": "markdown",
   "metadata": {
    "slideshow": {
     "slide_type": "subslide"
    }
   },
   "source": [
    "- Funciones ya incluidas dentro del lenguaje python.\n",
    "- Programación **declarativa**.\n",
    "- Funcionan como ayudas y permite ahorrar algunas lineas de código."
   ]
  },
  {
   "cell_type": "markdown",
   "metadata": {
    "slideshow": {
     "slide_type": "subslide"
    }
   },
   "source": [
    "### Función \"print\"\n",
    "\n",
    "```python\n",
    "print(valor1,valor2,valor3....[,end=\"\",sep=\"\"])\n",
    "```\n",
    "\n",
    "Imprime en la consola los valores que se pasan por atributo.\n",
    "\n",
    "- En caso de contener **end**, este se agrega al final del ultimo valor.\n",
    "- En caso de contener **sep**, reemplaza el espacio \" \" como separador del texto."
   ]
  },
  {
   "cell_type": "code",
   "execution_count": 10,
   "metadata": {
    "slideshow": {
     "slide_type": "fragment"
    }
   },
   "outputs": [
    {
     "name": "stdout",
     "output_type": "stream",
     "text": [
      "Hola\n",
      "desde python\n",
      "feliz\n"
     ]
    }
   ],
   "source": [
    "print(\"Hola\",\"desde python\",\"feliz\", end=\".\", sep=\"\\n\")"
   ]
  },
  {
   "cell_type": "markdown",
   "metadata": {
    "slideshow": {
     "slide_type": "subslide"
    }
   },
   "source": [
    "### Función \"input\"\n",
    "\n",
    "```python\n",
    "input(valor)\n",
    "```\n",
    "\n",
    "Imprime en la consola el texto que se pasa como atributo y adicional, espera un valor para almacenarlo dentro del código."
   ]
  },
  {
   "cell_type": "code",
   "execution_count": 11,
   "metadata": {
    "slideshow": {
     "slide_type": "fragment"
    }
   },
   "outputs": [
    {
     "name": "stdout",
     "output_type": "stream",
     "text": [
      "Ingrese su nombre: Miguel Angel\n",
      "Hola Miguel Angel\n"
     ]
    }
   ],
   "source": [
    "var_nombre = input(\"Ingrese su nombre: \")\n",
    "print(\"Hola\", var_nombre)"
   ]
  },
  {
   "cell_type": "markdown",
   "metadata": {
    "slideshow": {
     "slide_type": "subslide"
    }
   },
   "source": [
    "### Función \"type\"\n",
    "\n",
    "```python\n",
    "type(valor)\n",
    "```\n",
    "\n",
    "Retorna el tipo de dato que tiene el atributo que le enviamos."
   ]
  },
  {
   "cell_type": "code",
   "execution_count": 18,
   "metadata": {
    "slideshow": {
     "slide_type": "fragment"
    }
   },
   "outputs": [
    {
     "name": "stdout",
     "output_type": "stream",
     "text": [
      "<class 'str'>\n",
      "<class 'int'>\n",
      "<class 'bool'>\n"
     ]
    }
   ],
   "source": [
    "print(type(\"Hola mundo\"))\n",
    "print(type(10))\n",
    "print(type(True))\n",
    "var_nombre = int(input(\"Ingrese su nombre: \"))\n",
    "print(type(var_nombre))"
   ]
  },
  {
   "cell_type": "markdown",
   "metadata": {
    "slideshow": {
     "slide_type": "slide"
    }
   },
   "source": [
    "### Tipos de datos"
   ]
  },
  {
   "cell_type": "markdown",
   "metadata": {
    "slideshow": {
     "slide_type": "subslide"
    }
   },
   "source": [
    "## Entero (int)"
   ]
  },
  {
   "cell_type": "markdown",
   "metadata": {
    "slideshow": {
     "slide_type": "subslide"
    }
   },
   "source": [
    "#### Entero (int)\n",
    "\n",
    "- Permite almacenar un entero numérico no decimal de cualquier valor **positivo** o **negativo**.\n",
    "- A diferencia de otros lenguajes, no debemos preocuparnos de la memoria, ya que se encarga automaticamente de asignar el espacio necesario para el número.\n",
    "- Permite manejar números binarios, octales, decimales y hexadecimales."
   ]
  },
  {
   "cell_type": "markdown",
   "metadata": {
    "slideshow": {
     "slide_type": "subslide"
    }
   },
   "source": [
    "#### Ejemplo 01\n",
    "\n",
    "- Imprimir un entero."
   ]
  },
  {
   "cell_type": "code",
   "execution_count": 19,
   "metadata": {
    "slideshow": {
     "slide_type": "fragment"
    }
   },
   "outputs": [
    {
     "data": {
      "text/plain": [
       "10"
      ]
     },
     "execution_count": 19,
     "metadata": {},
     "output_type": "execute_result"
    }
   ],
   "source": [
    "10"
   ]
  },
  {
   "cell_type": "markdown",
   "metadata": {
    "slideshow": {
     "slide_type": "subslide"
    }
   },
   "source": [
    "#### Ejemplo 02\n",
    "\n",
    "- Verificar el tipo de dato."
   ]
  },
  {
   "cell_type": "code",
   "execution_count": 25,
   "metadata": {
    "slideshow": {
     "slide_type": "fragment"
    }
   },
   "outputs": [
    {
     "data": {
      "text/plain": [
       "int"
      ]
     },
     "execution_count": 25,
     "metadata": {},
     "output_type": "execute_result"
    }
   ],
   "source": [
    "type(10)"
   ]
  },
  {
   "cell_type": "markdown",
   "metadata": {
    "slideshow": {
     "slide_type": "subslide"
    }
   },
   "source": [
    "#### Ejemplo 03\n",
    "\n",
    "- Asignar a una variable un entero."
   ]
  },
  {
   "cell_type": "code",
   "execution_count": 26,
   "metadata": {
    "slideshow": {
     "slide_type": "fragment"
    }
   },
   "outputs": [
    {
     "data": {
      "text/plain": [
       "int"
      ]
     },
     "execution_count": 26,
     "metadata": {},
     "output_type": "execute_result"
    }
   ],
   "source": [
    "var_miNumero = 10\n",
    "type(var_miNumero)"
   ]
  },
  {
   "cell_type": "markdown",
   "metadata": {
    "slideshow": {
     "slide_type": "subslide"
    }
   },
   "source": [
    "#### Ejemplo 04\n",
    "\n",
    "- Números binarios, octales y hexadecimales."
   ]
  },
  {
   "cell_type": "code",
   "execution_count": 28,
   "metadata": {
    "slideshow": {
     "slide_type": "fragment"
    }
   },
   "outputs": [
    {
     "name": "stdout",
     "output_type": "stream",
     "text": [
      "4 <class 'int'>\n",
      "23 <class 'int'>\n",
      "464 <class 'int'>\n"
     ]
    }
   ],
   "source": [
    "a = 0b100\n",
    "b = 0x17\n",
    "c = 0o720\n",
    "print(a, type(a))\n",
    "print(b, type(b))\n",
    "print(c, type(c))"
   ]
  },
  {
   "cell_type": "markdown",
   "metadata": {
    "slideshow": {
     "slide_type": "subslide"
    }
   },
   "source": [
    "#### Funciones built-in"
   ]
  },
  {
   "cell_type": "markdown",
   "metadata": {
    "slideshow": {
     "slide_type": "subslide"
    }
   },
   "source": [
    "#### int(valor)\n",
    "\n",
    "```python\n",
    "int(valor)\n",
    "```\n",
    "\n",
    "- Convertir un valor a entero."
   ]
  },
  {
   "cell_type": "code",
   "execution_count": 32,
   "metadata": {
    "slideshow": {
     "slide_type": "fragment"
    }
   },
   "outputs": [
    {
     "name": "stdout",
     "output_type": "stream",
     "text": [
      "4\n",
      "10\n",
      "50\n",
      "23\n",
      "464\n"
     ]
    }
   ],
   "source": [
    "print(int(0b100)) # Convierte el 100 de binario a entero (4).\n",
    "print(int(\"10\")) # Convierte una cadena de texto a entero.\n",
    "print(int(50.123)) # Convierte un flotante a entero.\n",
    "print(int(0x17)) # Convirte un hexadecimal a entero\n",
    "print(int(0o720)) # Convierte un octal a entero"
   ]
  },
  {
   "cell_type": "markdown",
   "metadata": {
    "slideshow": {
     "slide_type": "subslide"
    }
   },
   "source": [
    "#### pow(base,exp)\n",
    "\n",
    "```python\n",
    "pow(base,potencia)\n",
    "```\n",
    "\n",
    "- Ejecuta un calculo de potencia."
   ]
  },
  {
   "cell_type": "code",
   "execution_count": 33,
   "metadata": {
    "slideshow": {
     "slide_type": "fragment"
    }
   },
   "outputs": [
    {
     "name": "stdout",
     "output_type": "stream",
     "text": [
      "81\n"
     ]
    }
   ],
   "source": [
    "print(pow(9,2)) # Retorna la potencia de 9^2"
   ]
  },
  {
   "cell_type": "markdown",
   "metadata": {
    "slideshow": {
     "slide_type": "subslide"
    }
   },
   "source": [
    "### Operaciones aritméticas\n",
    "\n"
   ]
  },
  {
   "cell_type": "markdown",
   "metadata": {
    "slideshow": {
     "slide_type": "subslide"
    }
   },
   "source": [
    "<table>\n",
    "    <thhead>\n",
    "        <td> Operador </td><td> Nombre </td><td> Ejemplo </td>\n",
    "    </thead>\n",
    "    <tr>\n",
    "        <td>+</td><td>Suma</td><td>5+3</td>\n",
    "    </tr>\n",
    "    <tr>\n",
    "        <td>-</td><td>Resta</td><td>5-3</td>\n",
    "    </tr>\n",
    "    <tr>\n",
    "        <td>*</td><td>Multiplicación</td><td>5*3</td>\n",
    "    </tr>\n",
    "    <tr>\n",
    "        <td>/</td><td>División</td><td>5/3</td>\n",
    "    </tr>\n",
    "    <tr>\n",
    "        <td>%</td><td>Módulo</td><td>5%3</td>\n",
    "    </tr>\n",
    "    <tr>\n",
    "        <td>**</td><td>Potencia</td><td>5**3</td>\n",
    "    </tr>\n",
    "    <tr>\n",
    "        <td>//</td><td>División Entera</td><td>5//3</td>\n",
    "    </tr>\n",
    "<table>"
   ]
  },
  {
   "cell_type": "code",
   "execution_count": 42,
   "metadata": {
    "slideshow": {
     "slide_type": "fragment"
    }
   },
   "outputs": [
    {
     "name": "stdout",
     "output_type": "stream",
     "text": [
      "9\n",
      "1\n",
      "20\n",
      "1.25\n",
      "1\n",
      "625\n",
      "1\n"
     ]
    }
   ],
   "source": [
    "var_numA, var_numB = 5,4\n",
    "print(var_numA + var_numB) # Suma\n",
    "print(var_numA - var_numB) # Resta\n",
    "print(var_numA * var_numB) # Multiplicación\n",
    "print(var_numA / var_numB) # División\n",
    "print(var_numA % var_numB) # Módulo\n",
    "print(var_numA ** var_numB) # Potencia\n",
    "print(var_numA // var_numB) # División entera."
   ]
  },
  {
   "cell_type": "markdown",
   "metadata": {
    "slideshow": {
     "slide_type": "subslide"
    }
   },
   "source": [
    "## Texto (string)"
   ]
  },
  {
   "cell_type": "markdown",
   "metadata": {
    "slideshow": {
     "slide_type": "subslide"
    }
   },
   "source": [
    "#### Texto (string)\n",
    "\n",
    "- No diferencia entre comilla sencilla o comilla doble.\n",
    "- En caso de no asignarse a una variable, permite usar comentarios multilinea.\n",
    "- Permite dar formato a textos para inyeccion de valores."
   ]
  },
  {
   "cell_type": "markdown",
   "metadata": {
    "slideshow": {
     "slide_type": "subslide"
    }
   },
   "source": [
    "#### Ejemplo 01\n",
    "\n",
    "Imprimir una cadena de texto"
   ]
  },
  {
   "cell_type": "code",
   "execution_count": 51,
   "metadata": {
    "slideshow": {
     "slide_type": "fragment"
    }
   },
   "outputs": [
    {
     "name": "stdout",
     "output_type": "stream",
     "text": [
      "Esta es una cadena de texto cdkjcndksjn\n"
     ]
    }
   ],
   "source": [
    "print('Esta es una cadena de texto cdkjcndksjn')"
   ]
  },
  {
   "cell_type": "markdown",
   "metadata": {
    "slideshow": {
     "slide_type": "subslide"
    }
   },
   "source": [
    "#### Ejemplo 02\n",
    "\n",
    "Imprimir una variable"
   ]
  },
  {
   "cell_type": "code",
   "execution_count": 52,
   "metadata": {
    "slideshow": {
     "slide_type": "fragment"
    }
   },
   "outputs": [
    {
     "name": "stdout",
     "output_type": "stream",
     "text": [
      "lorem ipsum dolor sit amet, consectetur adipiscing elit, sed do eiusmod tempor incididunt ut \n",
      "labore et dolore magna aliqua. Ut enim ad minim veniam, quis nostrud exercitation ullamco laboris nisi ut \n",
      "aliquip ex ea commodo consequat. Duis aute irure dolor in reprehenderit in voluptate velit esse cillum \n",
      "dolore eu fugiat nulla pariatur. Excepteur sint occaecat cupidatat non proident, sunt in culpa \n",
      "qui officia deserunt mollit anim id est laborum. 23\n"
     ]
    }
   ],
   "source": [
    "var_text = \"\"\"lorem ipsum dolor sit amet, consectetur adipiscing elit, sed do eiusmod tempor incididunt ut \n",
    "labore et dolore magna aliqua. Ut enim ad minim veniam, quis nostrud exercitation ullamco laboris nisi ut \n",
    "aliquip ex ea commodo consequat. Duis aute irure dolor in reprehenderit in voluptate velit esse cillum \n",
    "dolore eu fugiat nulla pariatur. Excepteur sint occaecat cupidatat non proident, sunt in culpa \n",
    "qui officia deserunt mollit anim id est laborum.\"\"\"\n",
    "var_numero = 23\n",
    "print(var_text,var_numero)"
   ]
  },
  {
   "cell_type": "markdown",
   "metadata": {
    "slideshow": {
     "slide_type": "subslide"
    }
   },
   "source": [
    "#### Ejemplo 03\n",
    "\n",
    "Contar caracteres en una cadena de texto"
   ]
  },
  {
   "cell_type": "code",
   "execution_count": 55,
   "metadata": {
    "slideshow": {
     "slide_type": "fragment"
    }
   },
   "outputs": [
    {
     "name": "stdout",
     "output_type": "stream",
     "text": [
      "4\n"
     ]
    }
   ],
   "source": [
    "print(var_text.count(\"dolor\"))"
   ]
  },
  {
   "cell_type": "markdown",
   "metadata": {
    "slideshow": {
     "slide_type": "subslide"
    }
   },
   "source": [
    "#### Ejemplo 04\n",
    "\n",
    "Modificar el formato de texto de una variable\n",
    "\n",
    "- **capitalize():** Presenta en mayuscula la primera letra.\n",
    "- **upper():** Convierte todo el texto en mayuscula.\n",
    "- **lower():** Convierte todo el texto en minuscula."
   ]
  },
  {
   "cell_type": "code",
   "execution_count": 60,
   "metadata": {
    "slideshow": {
     "slide_type": "fragment"
    }
   },
   "outputs": [
    {
     "name": "stdout",
     "output_type": "stream",
     "text": [
      "Lorem ipsum dolor sit amet, consectetur adipiscing elit, sed do eiusmod tempor incididunt ut \n",
      "labore et dolore magna aliqua. ut enim ad minim veniam, quis nostrud exercitation ullamco laboris nisi ut \n",
      "aliquip ex ea commodo consequat. duis aute irure dolor in reprehenderit in voluptate velit esse cillum \n",
      "dolore eu fugiat nulla pariatur. excepteur sint occaecat cupidatat non proident, sunt in culpa \n",
      "qui officia deserunt mollit anim id est laborum.\n",
      "LOREM IPSUM DOLOR SIT AMET, CONSECTETUR ADIPISCING ELIT, SED DO EIUSMOD TEMPOR INCIDIDUNT UT \n",
      "LABORE ET DOLORE MAGNA ALIQUA. UT ENIM AD MINIM VENIAM, QUIS NOSTRUD EXERCITATION ULLAMCO LABORIS NISI UT \n",
      "ALIQUIP EX EA COMMODO CONSEQUAT. DUIS AUTE IRURE DOLOR IN REPREHENDERIT IN VOLUPTATE VELIT ESSE CILLUM \n",
      "DOLORE EU FUGIAT NULLA PARIATUR. EXCEPTEUR SINT OCCAECAT CUPIDATAT NON PROIDENT, SUNT IN CULPA \n",
      "QUI OFFICIA DESERUNT MOLLIT ANIM ID EST LABORUM.\n",
      "lorem ipsum dolor sit amet, consectetur adipiscing elit, sed do eiusmod tempor incididunt ut \n",
      "labore et dolore magna aliqua. ut enim ad minim veniam, quis nostrud exercitation ullamco laboris nisi ut \n",
      "aliquip ex ea commodo consequat. duis aute irure dolor in reprehenderit in voluptate velit esse cillum \n",
      "dolore eu fugiat nulla pariatur. excepteur sint occaecat cupidatat non proident, sunt in culpa \n",
      "qui officia deserunt mollit anim id est laborum.\n"
     ]
    }
   ],
   "source": [
    "print(var_text.capitalize(),var_text.upper(),var_text.lower(), sep=\"\\n\")"
   ]
  },
  {
   "cell_type": "markdown",
   "metadata": {
    "slideshow": {
     "slide_type": "subslide"
    }
   },
   "source": [
    "#### Ejemplo 05\n",
    "\n",
    "Búsqueda de caractéres.\n",
    "\n",
    "- **find(valor):** Busca la posición donde se encuentra el valor pasado como atributo. En caso de no encontrarlo, retorna -1\n",
    "- **index(valor):** Busca el valor pasado por parámetro. En caso de no encontrarlo arroja una excepción.\n",
    "- **rfind(valor):** Busca el valor pasado por parámetro en el texto, pero lo hace de derecha a izquiera."
   ]
  },
  {
   "cell_type": "code",
   "execution_count": 67,
   "metadata": {
    "slideshow": {
     "slide_type": "fragment"
    }
   },
   "outputs": [
    {
     "name": "stdout",
     "output_type": "stream",
     "text": [
      "lorem ipsum dolor sit amet, consectetur adipiscing elit, sed do eiusmod tempor incididunt ut \n",
      "labore et dolore magna aliqua. Ut enim ad minim veniam, quis nostrud exercitation ullamco laboris nisi ut \n",
      "aliquip ex ea commodo consequat. Duis aute irure dolor in reprehenderit in voluptate velit esse cillum \n",
      "dolore eu fugiat nulla pariatur. Excepteur sint occaecat cupidatat non proident, sunt in culpa \n",
      "qui officia deserunt mollit anim id est laborum.\n",
      "0\n",
      "0\n",
      "0\n"
     ]
    }
   ],
   "source": [
    "print(var_text)\n",
    "print(var_text.find(\"lorem\"))\n",
    "print(var_text.index(\"lorem\"))\n",
    "print(var_text.rfind(\"lorem\"))"
   ]
  },
  {
   "cell_type": "markdown",
   "metadata": {
    "slideshow": {
     "slide_type": "subslide"
    }
   },
   "source": [
    "#### Ejemplo 06\n",
    "\n",
    "Determinar si una cadena empieza o termina por un valor.\n",
    "\n",
    "- **startswith(valor):** Retorna true, si la cadena de texto inicia con el valor pasado por parámetro.\n",
    "- **endswith(valor):** Retorna true, si la cadena de texto termina con el valor pasado por parámetro."
   ]
  },
  {
   "cell_type": "code",
   "execution_count": 73,
   "metadata": {
    "slideshow": {
     "slide_type": "fragment"
    }
   },
   "outputs": [
    {
     "name": "stdout",
     "output_type": "stream",
     "text": [
      "lorem ipsum dolor sit amet, consectetur adipiscing elit, sed do eiusmod tempor incididunt ut \n",
      "labore et dolore magna aliqua. Ut enim ad minim veniam, quis nostrud exercitation ullamco laboris nisi ut \n",
      "aliquip ex ea commodo consequat. Duis aute irure dolor in reprehenderit in voluptate velit esse cillum \n",
      "dolore eu fugiat nulla pariatur. Excepteur sint occaecat cupidatat non proident, sunt in culpa \n",
      "qui officia deserunt mollit anim id est laborum.\n",
      "True\n",
      "True\n"
     ]
    }
   ],
   "source": [
    "print(var_text)\n",
    "print(var_text.startswith(\"lorem\"))\n",
    "print(var_text.title().endswith(\"LaBorum.\".title()))"
   ]
  },
  {
   "cell_type": "markdown",
   "metadata": {
    "slideshow": {
     "slide_type": "subslide"
    }
   },
   "source": [
    "#### Ejemplo 07\n",
    "\n",
    "Reemplazar un caracter en un texto\n",
    "\n",
    "- **replace(valor_a_buscar, valor_a_reemplazar):** Actualiza la cadena de texto con el valor de reemplazo"
   ]
  },
  {
   "cell_type": "code",
   "execution_count": 77,
   "metadata": {
    "slideshow": {
     "slide_type": "fragment"
    }
   },
   "outputs": [
    {
     "name": "stdout",
     "output_type": "stream",
     "text": [
      "lorem*ipsum*dolor*sit*amet,*consectetur*adipiscing*elit,*sed*do*eiusmod*tempor*incididunt*ut*\n",
      "labore*et*dolore*magna*aliqua.*Ut*enim*ad*minim*veniam,*quis*nostrud*exercitation*ullamco*laboris*nisi*ut*\n",
      "aliquip*ex*ea*commodo*consequat.*Duis*aute*irure*dolor*in*reprehenderit*in*voluptate*velit*esse*cillum*\n",
      "dolore*eu*fugiat*nulla*pariatur.*Excepteur*sint*occaecat*cupidatat*non*proident,*sunt*in*culpa*\n",
      "qui*officia*deserunt*mollit*anim*id*est*laborum.\n"
     ]
    }
   ],
   "source": [
    "print(var_text.replace(\" \",\"*\"))"
   ]
  },
  {
   "cell_type": "markdown",
   "metadata": {
    "slideshow": {
     "slide_type": "subslide"
    }
   },
   "source": [
    "#### Funciones built-in"
   ]
  },
  {
   "cell_type": "markdown",
   "metadata": {
    "slideshow": {
     "slide_type": "subslide"
    }
   },
   "source": [
    "#### len(texto)\n",
    "\n",
    "```python\n",
    "len(text)\n",
    "```\n",
    "\n",
    "- Retorna el tamaño del texto (cantidad de caracteres)."
   ]
  },
  {
   "cell_type": "code",
   "execution_count": 76,
   "metadata": {
    "slideshow": {
     "slide_type": "fragment"
    }
   },
   "outputs": [
    {
     "name": "stdout",
     "output_type": "stream",
     "text": [
      "449\n"
     ]
    }
   ],
   "source": [
    "print(len(var_text))"
   ]
  },
  {
   "cell_type": "markdown",
   "metadata": {
    "slideshow": {
     "slide_type": "subslide"
    }
   },
   "source": [
    "### Formatos de texto"
   ]
  },
  {
   "cell_type": "markdown",
   "metadata": {
    "slideshow": {
     "slide_type": "subslide"
    }
   },
   "source": [
    "- Permite asignar valores a una cadena de texto mediante el paso de parametros.\n",
    "- Se puede dar formato a las variables.\n",
    "- Permite globalizar los textos.\n",
    "- **Es una buena practica para centralizar los textos.**"
   ]
  },
  {
   "cell_type": "code",
   "execution_count": 85,
   "metadata": {
    "slideshow": {
     "slide_type": "fragment"
    }
   },
   "outputs": [
    {
     "name": "stdout",
     "output_type": "stream",
     "text": [
      "Ingrese su nombre: mignisd\n",
      "Ingrese su edad: 2\n",
      "Mi nombre es Mignisd y tengo 2.0 años.\n"
     ]
    }
   ],
   "source": [
    "var_plantilla01 = \"Mi nombre es {nombre} y tengo {edad:.1f} años.\"\n",
    "var_nombre, var_edad = input(\"Ingrese su nombre: \"), float(input(\"Ingrese su edad: \"))\n",
    "print(var_plantilla01.format(nombre = var_nombre.title(), edad = var_edad))"
   ]
  },
  {
   "cell_type": "markdown",
   "metadata": {
    "slideshow": {
     "slide_type": "slide"
    }
   },
   "source": [
    "## Ejercicio\n",
    "\n",
    "**Problema**\n",
    "\n",
    "Se requiere aplicar operaciones de enteros y strings en unos valores ingresados desde el teclado ( 2 números enteros, el nombre completo del estudiante).\n",
    "\n",
    "**Salida**\n",
    "\n",
    "- promedio de los 2 números.\n",
    "- la suma de los números.\n",
    "- el cuadrado de los 2 números.\n",
    "- El nombre en mayusculas.\n",
    "- Reemplace la letra a (no importa si es mayuscula o minuscula) por * e imprima el nombre con solo la primera letra en mayuscula.\n",
    "- Imprimir 3 veces el nombre."
   ]
  }
 ],
 "metadata": {
  "celltoolbar": "Slideshow",
  "kernelspec": {
   "display_name": "Python 3",
   "language": "python",
   "name": "python3"
  },
  "language_info": {
   "codemirror_mode": {
    "name": "ipython",
    "version": 3
   },
   "file_extension": ".py",
   "mimetype": "text/x-python",
   "name": "python",
   "nbconvert_exporter": "python",
   "pygments_lexer": "ipython3",
   "version": "3.7.4"
  }
 },
 "nbformat": 4,
 "nbformat_minor": 4
}
