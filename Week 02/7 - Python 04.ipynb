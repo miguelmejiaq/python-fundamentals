{
 "cells": [
  {
   "cell_type": "markdown",
   "metadata": {
    "slideshow": {
     "slide_type": "slide"
    }
   },
   "source": [
    "<br/>\n",
    "\n",
    "## Sesión 7 - Python 04\n",
    "\n",
    "# Fundamentos de Programación\n",
    "\n",
    "<br/>\n",
    "Iniciamos 6:10 PM :)\n"
   ]
  },
  {
   "cell_type": "markdown",
   "metadata": {
    "slideshow": {
     "slide_type": "subslide"
    }
   },
   "source": [
    "## Temario"
   ]
  },
  {
   "cell_type": "markdown",
   "metadata": {
    "slideshow": {
     "slide_type": "subslide"
    }
   },
   "source": [
    "- Ejercicios de if- if else - if elif else - if anidados"
   ]
  },
  {
   "cell_type": "markdown",
   "metadata": {
    "slideshow": {
     "slide_type": "slide"
    }
   },
   "source": [
    "## Ejercicio sesión anterior"
   ]
  },
  {
   "cell_type": "markdown",
   "metadata": {
    "slideshow": {
     "slide_type": "subslide"
    }
   },
   "source": [
    "Teniendo en cuenta el conocimiento adquirido en esta sesión, realizar los siguientes codigos:\n",
    "\n",
    "- Preguntar por 2 números e informar si el menor numero es divisor del mayor.\n",
    "- Preguntar por 2 números y determinar cual esta mas cerca de 0 (el programa debe ser capaz de recibir números negativos). En caso de que esten a la misma distancia, informar que los 2 numeros estan a la misma distancia de 0.\n",
    "- Preguntar por 2 años e informar dependiendo de los valores ingresados.\n",
    "    - cuantos años faltan en caso de que la segunda fecha sea mayor a la primera.\n",
    "    - Cuantos años han pasado en caso de que la segunda fecha sea menor a la primera.\n",
    "- Ingresar 2 palabras e informar que palabra tiene la mayor cantidad de letras **a**. En caso de no tener letra **a** debe informar que ninguna lo tiene, de lo contrario debe decir cual es la mayor o informar si ambas palabras tienen la misma cantidad."
   ]
  },
  {
   "cell_type": "markdown",
   "metadata": {
    "slideshow": {
     "slide_type": "subslide"
    }
   },
   "source": [
    "#### Preguntar por 2 números e informar si el menor numero es divisor del mayor."
   ]
  },
  {
   "cell_type": "code",
   "execution_count": 36,
   "metadata": {
    "slideshow": {
     "slide_type": "fragment"
    }
   },
   "outputs": [
    {
     "name": "stdout",
     "output_type": "stream",
     "text": [
      "Ingrese el primer numero: 10\n",
      "Ingrese el segundo numero: -5\n",
      "10.0 es divisor de  -5.0\n"
     ]
    }
   ],
   "source": [
    "#solucion1\n",
    "var_Preguntanum = 'Ingrese el {valor} numero: '\n",
    "var_textnum1,var_textnum2 = 'primer','segundo'\n",
    "var_textsal = 'El numero {num} es divisor {condi}: '\n",
    "# Definimos las entradas\n",
    "var_number1 = float(input(var_Preguntanum.format(valor = var_textnum1)))\n",
    "var_number2 = float(input(var_Preguntanum.format(valor = var_textnum2)))\n",
    "# Salidas\n",
    "if var_number1 % var_number2 == 0:\n",
    "    print(var_number1, \"es divisor de \", var_number2)\n",
    "elif var_number2 % var_number1 == 0:\n",
    "    print(var_number2, \"es divisor de \", var_number1)"
   ]
  },
  {
   "cell_type": "markdown",
   "metadata": {
    "slideshow": {
     "slide_type": "subslide"
    }
   },
   "source": [
    "#### Preguntar por 2 números y determinar cual esta mas cerca de 0 (el programa debe ser capaz de recibir números negativos). En caso de que esten a la misma distancia, informar que los 2 numeros estan a la misma distancia de 0."
   ]
  },
  {
   "cell_type": "code",
   "execution_count": 56,
   "metadata": {
    "slideshow": {
     "slide_type": "fragment"
    }
   },
   "outputs": [
    {
     "name": "stdout",
     "output_type": "stream",
     "text": [
      "Hola 26\n",
      "hola 26\n"
     ]
    }
   ],
   "source": [
    "var_Preguntanum = 'Ingrese el {valor} numero: '\n",
    "var_textnum1,var_textnum2 = 'primer','segundo'\n",
    "var_textsal = 'El numero {num} es divisor {condi}: '\n",
    "# Definimos las entradas\n",
    "var_num1, var_num2 = float(input(var_Preguntanum.format(valor = var_textnum1))),float(input(var_Preguntanum.format(valor = var_textnum2)))\n",
    "var_num1, var_num2 = (var_num1),(var_num2)\n",
    "if var_num1 == var_num2:\n",
    "    print(\"Los numeros estan a la misma distancia.\")\n",
    "elif var_num1 < var_num2:\n",
    "    print(var_num1, \"esta mas cerca de 0\")\n",
    "else:\n",
    "    print(var_num2, \"esta mas cerca de 0\")"
   ]
  },
  {
   "cell_type": "markdown",
   "metadata": {
    "slideshow": {
     "slide_type": "subslide"
    }
   },
   "source": [
    "#### Preguntar por 2 años e informar dependiendo de los valores ingresados.\n",
    "    - cuantos años faltan en caso de que la segunda fecha sea mayor a la primera.\n",
    "    - Cuantos años han pasado en caso de que la segunda fecha sea menor a la primera."
   ]
  },
  {
   "cell_type": "code",
   "execution_count": 66,
   "metadata": {
    "slideshow": {
     "slide_type": "fragment"
    }
   },
   "outputs": [
    {
     "name": "stdout",
     "output_type": "stream",
     "text": [
      "Ingrese el primer año: 1000\n",
      "ingrese el segundo año: 2000\n",
      "faltan 1000 años\n"
     ]
    }
   ],
   "source": [
    "#entradas\n",
    "var_ano1 = int(input('Ingrese el primer año: '))\n",
    "var_ano2 = int(input('ingrese el segundo año: '))\n",
    "var_resultado = var_ano1 - var_ano2\n",
    "#proceso\n",
    "if var_resultado > 0: \n",
    "    print('han pasado', abs(var_resultado), 'años')\n",
    "else:\n",
    "    print('faltan', abs(var_resultado), 'años')"
   ]
  },
  {
   "cell_type": "markdown",
   "metadata": {
    "slideshow": {
     "slide_type": "subslide"
    }
   },
   "source": [
    "#### Ingresar 2 palabras e informar que palabra tiene la mayor cantidad de letras **a**. En caso de no tener letra **a** debe informar que ninguna lo tiene, de lo contrario debe decir cual es la mayor o informar si ambas palabras tienen la misma cantidad"
   ]
  },
  {
   "cell_type": "code",
   "execution_count": null,
   "metadata": {
    "slideshow": {
     "slide_type": "fragment"
    }
   },
   "outputs": [],
   "source": [
    "# Solución"
   ]
  },
  {
   "cell_type": "markdown",
   "metadata": {
    "slideshow": {
     "slide_type": "subslide"
    }
   },
   "source": [
    "#### Solicitar al usuario que ingrese los nombres de dos personas, los cuales se almacenarán en dos variables. A continuación, imprimir “coincidencia” si los nombres de ambas personas comienzan con la misma letra ó si terminan con la misma letra. Si no es así, imprimir “no hay coincidencia”"
   ]
  },
  {
   "cell_type": "code",
   "execution_count": null,
   "metadata": {
    "slideshow": {
     "slide_type": "fragment"
    }
   },
   "outputs": [],
   "source": [
    "# Solución"
   ]
  },
  {
   "cell_type": "markdown",
   "metadata": {
    "slideshow": {
     "slide_type": "subslide"
    }
   },
   "source": [
    "#### Crear un programa que permita al usuario elegir un candidato por el cual votar. Las posibilidades son: candidato A por el partido rojo, candidato B por el partido verde, candidato C por el partido azul. Según el candidato elegido (A, B ó C) se le debe imprimir el mensaje “Usted ha votado por el partido [color que corresponda al candidato elegido]”. Si el usuario ingresa una opción que no corresponde a ninguno de los candidatos disponibles, indicar “Opción errónea”."
   ]
  },
  {
   "cell_type": "code",
   "execution_count": null,
   "metadata": {
    "slideshow": {
     "slide_type": "fragment"
    }
   },
   "outputs": [],
   "source": [
    "# Solución"
   ]
  },
  {
   "cell_type": "markdown",
   "metadata": {
    "slideshow": {
     "slide_type": "subslide"
    }
   },
   "source": [
    "#### Hacer un programa que permita saber si un año es bisiesto. Para que un año sea bisiesto debe ser divisible por 4 y no debe ser divisible por 100, excepto que también sea divisible por 400"
   ]
  },
  {
   "cell_type": "code",
   "execution_count": null,
   "metadata": {
    "slideshow": {
     "slide_type": "fragment"
    }
   },
   "outputs": [],
   "source": [
    "# Solución"
   ]
  },
  {
   "cell_type": "markdown",
   "metadata": {
    "slideshow": {
     "slide_type": "subslide"
    }
   },
   "source": [
    "#### Crear un programa que solicite un número entero al usuario y determine si este es par y, adicionalmente, informe si el número es mayor que 10."
   ]
  },
  {
   "cell_type": "code",
   "execution_count": null,
   "metadata": {
    "slideshow": {
     "slide_type": "fragment"
    }
   },
   "outputs": [],
   "source": [
    "# Solución"
   ]
  },
  {
   "cell_type": "markdown",
   "metadata": {
    "slideshow": {
     "slide_type": "subslide"
    }
   },
   "source": [
    "#### Crear un programa que al solicitar la edad, la estatura (cms) y el peso (kgs) de una persona retorne un numero correspondiente a un factor variable. Salida debera incluir en una cadena de texto los valores ingresados junto al factor variable. Se deben cumplir los siguientes criterios:\n",
    "\n",
    "- si la edad es menor a 10, el factor variable es 0.5. \n",
    "- si la edad esta entre 15 y 19, y adicional la estatura es menor a 175, el factor sera de 0.59 siempre y cuando el peso sea mayor a 75KG, de lo contrario el factor sera de 0.23. para los demas casos el factor sera de 0.34\n",
    "- si la edad esta entre 20 y 50, el factor sera de 0.7 siempre y cuando el peso este entre 50 y 59 y su peso es par o la estatura es mayor a 167, o 0.6 si el peso es mayor a 59. en otros casos sera de 0.8\n",
    "- Para los demas casos sera de 0.9 mientras que la estatura sea menor a 180, de lo contrario sera 1"
   ]
  },
  {
   "cell_type": "code",
   "execution_count": 78,
   "metadata": {
    "slideshow": {
     "slide_type": "subslide"
    }
   },
   "outputs": [
    {
     "name": "stdout",
     "output_type": "stream",
     "text": [
      "181 60 54 1\n"
     ]
    }
   ],
   "source": [
    "# Solución\n",
    "var_estatura,var_edad, var_peso, var_factor = 181, 60, 54, 0.5\n",
    "if var_edad < 10:\n",
    "    var_factor = 0.5\n",
    "elif var_edad > 15 and var_edad < 19:\n",
    "    if var_estatura < 175:\n",
    "        if var_peso > 75:\n",
    "            var_factor = 0.59\n",
    "        else:\n",
    "            var_factor = 0.23\n",
    "    else:\n",
    "        var_factor = 0.34\n",
    "elif var_edad > 20 and var_edad < 50:\n",
    "    if (var_peso > 50 and var_peso < 59) and (var_peso % 2 == 0 or var_estatura > 167) :\n",
    "        var_factor = 0.7\n",
    "    elif var_peso > 59:\n",
    "        var_factor = 0.6\n",
    "    else:\n",
    "        var_factor = 0.8\n",
    "else:\n",
    "    if var_estatura < 180:\n",
    "        var_factor = 0.9\n",
    "    else:\n",
    "        var_factor = 1\n",
    "print(var_estatura, var_edad, var_peso, var_factor)"
   ]
  }
 ],
 "metadata": {
  "celltoolbar": "Slideshow",
  "kernelspec": {
   "display_name": "Python 3",
   "language": "python",
   "name": "python3"
  },
  "language_info": {
   "codemirror_mode": {
    "name": "ipython",
    "version": 3
   },
   "file_extension": ".py",
   "mimetype": "text/x-python",
   "name": "python",
   "nbconvert_exporter": "python",
   "pygments_lexer": "ipython3",
   "version": "3.7.4"
  }
 },
 "nbformat": 4,
 "nbformat_minor": 4
}
