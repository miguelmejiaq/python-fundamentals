{
 "cells": [
  {
   "cell_type": "markdown",
   "metadata": {
    "slideshow": {
     "slide_type": "slide"
    }
   },
   "source": [
    "<br/>\n",
    "\n",
    "## Sesión 9 - Python 06\n",
    "\n",
    "# Fundamentos de Programación\n"
   ]
  },
  {
   "cell_type": "markdown",
   "metadata": {
    "slideshow": {
     "slide_type": "slide"
    }
   },
   "source": [
    "## Temario"
   ]
  },
  {
   "cell_type": "markdown",
   "metadata": {
    "slideshow": {
     "slide_type": "subslide"
    }
   },
   "source": [
    "- Ejercicios sesión anterior.\n",
    "- Estructuras de control.\n",
    "    - For\n",
    "        - Definición\n",
    "        - Ejemplos.\n",
    "- Ejercicios"
   ]
  },
  {
   "cell_type": "markdown",
   "metadata": {
    "slideshow": {
     "slide_type": "slide"
    }
   },
   "source": [
    "### Ejercicios\n",
    "\n",
    "Dada una lista de números [3,6,5,4,8,7,6,10,3,5,6,7,12,5,33,6,15,14,18,7,16,10,3,15,6,27,12,5] Realizar las siguientes operaciones:\n",
    "\n",
    "- Obtener el mayor número.\n",
    "- Obtener el menor número.\n",
    "- Obtener el promedio.\n",
    "- Ordenarlos de forma descendente.\n",
    "- Obtener la sumatoria de todos los valores.\n",
    "- Imprimir únicamente los numeros impares."
   ]
  },
  {
   "cell_type": "markdown",
   "metadata": {
    "slideshow": {
     "slide_type": "subslide"
    }
   },
   "source": [
    "### Ejercicios\n",
    "\n",
    "Dada una lista de números [3,6,5,4,8,7,6,10,3,5,6,7,12,5,33,6,15,14,18,7,16,10,3,15,6,27,12,5] Realizar las siguientes operaciones:\n",
    "\n",
    "- Obtener el mayor número."
   ]
  },
  {
   "cell_type": "code",
   "execution_count": null,
   "metadata": {
    "slideshow": {
     "slide_type": "fragment"
    }
   },
   "outputs": [],
   "source": [
    "# Solución"
   ]
  },
  {
   "cell_type": "markdown",
   "metadata": {
    "slideshow": {
     "slide_type": "subslide"
    }
   },
   "source": [
    "Dada una lista de números [3,6,5,4,8,7,6,10,3,5,6,7,12,5,33,6,15,14,18,7,16,10,3,15,6,27,12,5] Realizar las siguientes operaciones:\n",
    "\n",
    "- Obtener el menor número."
   ]
  },
  {
   "cell_type": "code",
   "execution_count": null,
   "metadata": {
    "slideshow": {
     "slide_type": "fragment"
    }
   },
   "outputs": [],
   "source": [
    "# Solución"
   ]
  },
  {
   "cell_type": "markdown",
   "metadata": {
    "slideshow": {
     "slide_type": "subslide"
    }
   },
   "source": [
    "Dada una lista de números [3,6,5,4,8,7,6,10,3,5,6,7,12,5,33,6,15,14,18,7,16,10,3,15,6,27,12,5] Realizar las siguientes operaciones:\n",
    "\n",
    "- Obtener el promedio."
   ]
  },
  {
   "cell_type": "code",
   "execution_count": null,
   "metadata": {
    "slideshow": {
     "slide_type": "fragment"
    }
   },
   "outputs": [],
   "source": [
    "# Solución"
   ]
  },
  {
   "cell_type": "markdown",
   "metadata": {
    "slideshow": {
     "slide_type": "subslide"
    }
   },
   "source": [
    "Dada una lista de números [3,6,5,4,8,7,6,10,3,5,6,7,12,5,33,6,15,14,18,7,16,10,3,15,6,27,12,5] Realizar las siguientes operaciones:\n",
    "\n",
    "- Ordenarlos de forma descendente."
   ]
  },
  {
   "cell_type": "code",
   "execution_count": null,
   "metadata": {
    "slideshow": {
     "slide_type": "fragment"
    }
   },
   "outputs": [],
   "source": [
    "# Solución"
   ]
  },
  {
   "cell_type": "markdown",
   "metadata": {
    "slideshow": {
     "slide_type": "subslide"
    }
   },
   "source": [
    "Dada una lista de números [3,6,5,4,8,7,6,10,3,5,6,7,12,5,33,6,15,14,18,7,16,10,3,15,6,27,12,5] Realizar las siguientes operaciones:\n",
    "\n",
    "- Obtener la sumatoria de todos los valores."
   ]
  },
  {
   "cell_type": "code",
   "execution_count": null,
   "metadata": {
    "slideshow": {
     "slide_type": "fragment"
    }
   },
   "outputs": [],
   "source": [
    "# Solución"
   ]
  },
  {
   "cell_type": "markdown",
   "metadata": {
    "slideshow": {
     "slide_type": "subslide"
    }
   },
   "source": [
    "Dada una lista de números [3,6,5,4,8,7,6,10,3,5,6,7,12,5,33,6,15,14,18,7,16,10,3,15,6,27,12,5] Realizar las siguientes operaciones:\n",
    "\n",
    "- Imprimir únicamente los numeros impares."
   ]
  },
  {
   "cell_type": "code",
   "execution_count": null,
   "metadata": {
    "slideshow": {
     "slide_type": "fragment"
    }
   },
   "outputs": [],
   "source": [
    "# Solución"
   ]
  }
 ],
 "metadata": {
  "celltoolbar": "Slideshow",
  "kernelspec": {
   "display_name": "Python 3",
   "language": "python",
   "name": "python3"
  },
  "language_info": {
   "codemirror_mode": {
    "name": "ipython",
    "version": 3
   },
   "file_extension": ".py",
   "mimetype": "text/x-python",
   "name": "python",
   "nbconvert_exporter": "python",
   "pygments_lexer": "ipython3",
   "version": "3.7.4"
  }
 },
 "nbformat": 4,
 "nbformat_minor": 4
}
