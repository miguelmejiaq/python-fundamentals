{
 "cells": [
  {
   "cell_type": "markdown",
   "metadata": {
    "slideshow": {
     "slide_type": "slide"
    }
   },
   "source": [
    "<br/>\n",
    "\n",
    "## Sesión 9 - Python 06\n",
    "\n",
    "# Fundamentos de Programación\n"
   ]
  },
  {
   "cell_type": "markdown",
   "metadata": {
    "slideshow": {
     "slide_type": "slide"
    }
   },
   "source": [
    "## Temario"
   ]
  },
  {
   "cell_type": "markdown",
   "metadata": {
    "slideshow": {
     "slide_type": "subslide"
    }
   },
   "source": [
    "- Ejercicios sesión anterior.\n",
    "- Estructuras de control.\n",
    "    - For\n",
    "        - Definición\n",
    "        - Ejemplos.\n",
    "- List comprehension."
   ]
  },
  {
   "cell_type": "markdown",
   "metadata": {
    "slideshow": {
     "slide_type": "slide"
    }
   },
   "source": [
    "### Ejercicios\n",
    "\n",
    "Dada una lista de números [3,6,5,4,8,7,6,10,3,5,6,7,12,5,33,6,15,14,18,7,16,10,3,15,6,27,12,5] Realizar las siguientes operaciones:\n",
    "\n",
    "- Obtener el mayor número.\n",
    "- Obtener el menor número.\n",
    "- Obtener el promedio.\n",
    "- Ordenarlos de forma descendente.\n",
    "- Obtener la sumatoria de todos los valores.\n",
    "- Imprimir únicamente los numeros impares."
   ]
  },
  {
   "cell_type": "markdown",
   "metadata": {
    "slideshow": {
     "slide_type": "subslide"
    }
   },
   "source": [
    "### Ejercicios\n",
    "\n",
    "Dada una lista de números [3,6,5,4,8,7,6,10,3,5,6,7,12,5,33,6,15,14,18,7,16,10,3,15,6,27,12,5] Realizar las siguientes operaciones:\n",
    "\n",
    "- Obtener el mayor número."
   ]
  },
  {
   "cell_type": "code",
   "execution_count": 13,
   "metadata": {
    "slideshow": {
     "slide_type": "fragment"
    }
   },
   "outputs": [
    {
     "name": "stdout",
     "output_type": "stream",
     "text": [
      "33\n"
     ]
    }
   ],
   "source": [
    "var_lista = [3,6,5,4,8,7,6,10,3,5,6,7,12,5,33,6,15,14,18,7,16,10,3,15,6,27,12,5]\n",
    "var_numeroMayor = -1000\n",
    "while(len(var_lista) != 0):\n",
    "    if ( var_lista[-1] > var_numeroMayor):\n",
    "        var_numeroMayor = var_lista[-1]\n",
    "    var_lista.pop()\n",
    "print(var_numeroMayor)"
   ]
  },
  {
   "cell_type": "markdown",
   "metadata": {
    "slideshow": {
     "slide_type": "subslide"
    }
   },
   "source": [
    "Dada una lista de números [3,6,5,4,8,7,6,10,3,5,6,7,12,5,33,6,15,14,18,7,16,10,3,15,6,27,12,5] Realizar las siguientes operaciones:\n",
    "\n",
    "- Obtener el menor número."
   ]
  },
  {
   "cell_type": "code",
   "execution_count": 23,
   "metadata": {
    "slideshow": {
     "slide_type": "fragment"
    }
   },
   "outputs": [
    {
     "name": "stdout",
     "output_type": "stream",
     "text": [
      "-10\n"
     ]
    }
   ],
   "source": [
    "var_lista = [3,6,5,4,8,7,6,10,-10,5,6,7,12,5,33,6,15,14,18,2,16,10,3,15,6,27,12,5]\n",
    "var_numeroMenor = 1245678945645132156\n",
    "while(len(var_lista) != 0):\n",
    "    if ( var_lista[-1] < var_numeroMenor):\n",
    "        var_numeroMenor = var_lista[-1]\n",
    "    var_lista.pop()\n",
    "print(var_numeroMenor)"
   ]
  },
  {
   "cell_type": "markdown",
   "metadata": {
    "slideshow": {
     "slide_type": "subslide"
    }
   },
   "source": [
    "Dada una lista de números [3,6,5,4,8,7,6,10,3,5,6,7,12,5,33,6,15,14,18,7,16,10,3,15,6,27,12,5] Realizar las siguientes operaciones:\n",
    "\n",
    "- Obtener el promedio."
   ]
  },
  {
   "cell_type": "code",
   "execution_count": 42,
   "metadata": {
    "slideshow": {
     "slide_type": "fragment"
    }
   },
   "outputs": [
    {
     "name": "stdout",
     "output_type": "stream",
     "text": [
      "0 3 3\n",
      "1 6 9\n",
      "2 5 14\n",
      "3 4 18\n",
      "4 8 26\n",
      "5 7 33\n",
      "6 6 39\n",
      "7 10 49\n",
      "8 -10 39\n",
      "4.333333333333333\n"
     ]
    }
   ],
   "source": [
    "# entrada\n",
    "var_lista = [3,6,5,4,8,7,6,10,-10]\n",
    "var_total = var_posicion = 0\n",
    "#proceso\n",
    "while (var_posicion < len(var_lista)):\n",
    "    var_total = var_total + var_lista[var_posicion]\n",
    "    print(var_posicion, var_lista[var_posicion], var_total)\n",
    "    var_posicion = var_posicion + 1\n",
    "#salida\n",
    "print(var_total/len(var_lista))"
   ]
  },
  {
   "cell_type": "markdown",
   "metadata": {
    "slideshow": {
     "slide_type": "subslide"
    }
   },
   "source": [
    "Dada una lista de números [3,6,5,4,8,7,6,10,3,5,6,7,12,5,33,6,15,14,18,7,16,10,3,15,6,27,12,5] Realizar las siguientes operaciones:\n",
    "\n",
    "- Ordenarlos de forma descendente."
   ]
  },
  {
   "cell_type": "code",
   "execution_count": 43,
   "metadata": {
    "slideshow": {
     "slide_type": "fragment"
    }
   },
   "outputs": [
    {
     "name": "stdout",
     "output_type": "stream",
     "text": [
      "[33, 27, 18, 16, 15, 15, 14, 12, 12, 10, 10, 8, 7, 7, 7, 6, 6, 6, 6, 6, 5, 5, 5, 5, 4, 3, 3, 3]\n"
     ]
    }
   ],
   "source": [
    "var_lista = [3,6,5,4,8,7,6,10,3,5,6,7,12,5,33,6,15,14,18,7,16,10,3,15,6,27,12,5]\n",
    "var_lista.sort(reverse = True)\n",
    "print(var_lista)"
   ]
  },
  {
   "cell_type": "markdown",
   "metadata": {
    "slideshow": {
     "slide_type": "subslide"
    }
   },
   "source": [
    "Dada una lista de números [3,6,5,4,8,7,6,10,3,5,6,7,12,5,33,6,15,14,18,7,16,10,3,15,6,27,12,5] Realizar las siguientes operaciones:\n",
    "\n",
    "- Obtener la sumatoria de todos los valores."
   ]
  },
  {
   "cell_type": "code",
   "execution_count": 46,
   "metadata": {
    "slideshow": {
     "slide_type": "fragment"
    }
   },
   "outputs": [
    {
     "name": "stdout",
     "output_type": "stream",
     "text": [
      "274\n",
      "274\n"
     ]
    }
   ],
   "source": [
    "var_lista = [3,6,5,4,8,7,6,10,3,5,6,7,12,5,33,6,15,14,18,7,16,10,3,15,6,27,12,5]\n",
    "var_lista.sort(reverse = True)\n",
    "var_total = var_posicion = 0\n",
    "#proceso\n",
    "while (var_posicion < len(var_lista)):\n",
    "    # sumamos el valor del item al total\n",
    "    var_total = var_total + var_lista[var_posicion]\n",
    "    # incrementamos nuestra posición en 1\n",
    "    var_posicion = var_posicion + 1\n",
    "print(var_total)"
   ]
  },
  {
   "cell_type": "markdown",
   "metadata": {
    "slideshow": {
     "slide_type": "subslide"
    }
   },
   "source": [
    "Dada una lista de números [3,6,5,4,8,7,6,10,3,5,6,7,12,5,33,6,15,14,18,7,16,10,3,15,6,27,12,5] Realizar las siguientes operaciones:\n",
    "\n",
    "- Imprimir únicamente los numeros impares."
   ]
  },
  {
   "cell_type": "code",
   "execution_count": 61,
   "metadata": {
    "slideshow": {
     "slide_type": "fragment"
    }
   },
   "outputs": [
    {
     "name": "stdout",
     "output_type": "stream",
     "text": [
      "[3, 5, 7, 3, 5, 7, 5, 33, 15, 7, 3, 15, 27, 5]\n"
     ]
    }
   ],
   "source": [
    "var_lista = [3,6,5,4,8,7,6,10,3,5,6,7,12,5,33,6,15,14,18,7,16,10,3,15,6,27,12,5]\n",
    "var_posicion, var_salida = 0, []\n",
    "#proceso\n",
    "while (var_posicion < len(var_lista)):\n",
    "    if ( var_lista[var_posicion] % 2 != 0):\n",
    "        var_salida.append(var_lista[var_posicion])\n",
    "    # incrementamos nuestra posición en 1\n",
    "    var_posicion = var_posicion + 1\n",
    "print(var_salida)"
   ]
  },
  {
   "cell_type": "markdown",
   "metadata": {
    "slideshow": {
     "slide_type": "slide"
    }
   },
   "source": [
    "## For (para cada uno)"
   ]
  },
  {
   "cell_type": "markdown",
   "metadata": {
    "slideshow": {
     "slide_type": "subslide"
    }
   },
   "source": [
    "- El número de iteraciones esta definido.\n",
    "- La condición depende de una iteración, no de un estado.\n",
    "- Permite reutilizar código.\n",
    "- Permite anidamientos (for anidado)"
   ]
  },
  {
   "cell_type": "markdown",
   "metadata": {
    "slideshow": {
     "slide_type": "subslide"
    }
   },
   "source": [
    "### Sintaxis"
   ]
  },
  {
   "cell_type": "markdown",
   "metadata": {
    "slideshow": {
     "slide_type": "subslide"
    }
   },
   "source": [
    "```python\n",
    "código...\n",
    "for <variable> in <iterable> :\n",
    "····subbloque\n",
    "código...\n",
    "```"
   ]
  },
  {
   "cell_type": "markdown",
   "metadata": {
    "slideshow": {
     "slide_type": "subslide"
    }
   },
   "source": [
    "### Ejemplo 01\n",
    "\n",
    "Imprimir los números del 0 al 9"
   ]
  },
  {
   "cell_type": "code",
   "execution_count": 63,
   "metadata": {
    "slideshow": {
     "slide_type": "fragment"
    }
   },
   "outputs": [
    {
     "name": "stdout",
     "output_type": "stream",
     "text": [
      "0\n",
      "1\n",
      "2\n",
      "3\n",
      "4\n",
      "5\n",
      "6\n",
      "7\n",
      "8\n",
      "9\n"
     ]
    }
   ],
   "source": [
    "for numero in range(10):\n",
    "    print(numero)"
   ]
  },
  {
   "cell_type": "markdown",
   "metadata": {
    "slideshow": {
     "slide_type": "subslide"
    }
   },
   "source": [
    "### Ejemplo 02\n",
    "\n",
    "Iterar una palabra"
   ]
  },
  {
   "cell_type": "code",
   "execution_count": 67,
   "metadata": {
    "slideshow": {
     "slide_type": "fragment"
    }
   },
   "outputs": [
    {
     "name": "stdout",
     "output_type": "stream",
     "text": [
      "M\n",
      "i\n",
      " \n",
      "c\n",
      "u\n",
      "r\n",
      "s\n",
      "o\n",
      " \n",
      "d\n",
      "e\n",
      " \n",
      "p\n",
      "y\n",
      "t\n",
      "h\n",
      "o\n",
      "n\n"
     ]
    }
   ],
   "source": [
    "for i in \"Mi curso de python\":\n",
    "    print(i)"
   ]
  },
  {
   "cell_type": "markdown",
   "metadata": {
    "slideshow": {
     "slide_type": "subslide"
    }
   },
   "source": [
    "### Ejemplo 02\n",
    "\n",
    "Iterar una palabra"
   ]
  },
  {
   "cell_type": "code",
   "execution_count": null,
   "metadata": {
    "slideshow": {
     "slide_type": "fragment"
    }
   },
   "outputs": [],
   "source": [
    "for letra in \"palabra\":\n",
    "    print(letra)"
   ]
  },
  {
   "cell_type": "markdown",
   "metadata": {
    "slideshow": {
     "slide_type": "subslide"
    }
   },
   "source": [
    "### Ejemplo 03\n",
    "\n",
    "Iterar una lista"
   ]
  },
  {
   "cell_type": "code",
   "execution_count": 69,
   "metadata": {
    "slideshow": {
     "slide_type": "fragment"
    }
   },
   "outputs": [
    {
     "name": "stdout",
     "output_type": "stream",
     "text": [
      "1\n",
      "2\n",
      "3\n",
      "4\n",
      "5\n",
      "6\n",
      "Miguel\n",
      "2.25\n"
     ]
    }
   ],
   "source": [
    "var_miLista = [1,2,3,4,5,6,\"Miguel\",2.25]\n",
    "for i in var_miLista:\n",
    "    print(i)"
   ]
  },
  {
   "cell_type": "markdown",
   "metadata": {
    "slideshow": {
     "slide_type": "subslide"
    }
   },
   "source": [
    "#### Ejemplo 03\n",
    "\n",
    "Iterar una lista con sublistas"
   ]
  },
  {
   "cell_type": "code",
   "execution_count": 71,
   "metadata": {
    "slideshow": {
     "slide_type": "fragment"
    }
   },
   "outputs": [
    {
     "name": "stdout",
     "output_type": "stream",
     "text": [
      "[2, 25000]\n",
      "2\n",
      "25000\n",
      "[3, 18000, 153]\n",
      "3\n",
      "18000\n",
      "153\n",
      "[1, 20000]\n",
      "1\n",
      "20000\n"
     ]
    }
   ],
   "source": [
    "var_miLista = [[2,25000],[3,18000,153],[1,20000]]\n",
    "for item in var_miLista:\n",
    "    print(item)\n",
    "    for subitem in item:\n",
    "        print(subitem)"
   ]
  },
  {
   "cell_type": "markdown",
   "metadata": {
    "slideshow": {
     "slide_type": "subslide"
    }
   },
   "source": [
    "#### Ejemplo 04\n",
    "\n",
    "Obtener el total de una lista de productos"
   ]
  },
  {
   "cell_type": "code",
   "execution_count": 78,
   "metadata": {
    "slideshow": {
     "slide_type": "fragment"
    }
   },
   "outputs": [
    {
     "name": "stdout",
     "output_type": "stream",
     "text": [
      "184000\n"
     ]
    }
   ],
   "source": [
    "var_total = 0\n",
    "var_miLista = [[2,\"25000\"],[3,18000],[1,20000],[12,5000]]\n",
    "# Itero mi lista de productos\n",
    "for item in var_miLista:\n",
    "    # Asigno independientemente los valores\n",
    "    var_cantidad, var_precio = item\n",
    "    # Concateno en mi variable total\n",
    "    var_total += (var_cantidad * int(var_precio))\n",
    "print(var_total)"
   ]
  },
  {
   "cell_type": "markdown",
   "metadata": {
    "slideshow": {
     "slide_type": "subslide"
    }
   },
   "source": [
    "#### Ejemplo 04\n",
    "\n",
    "Imprimir mi lista de productos al reves"
   ]
  },
  {
   "cell_type": "code",
   "execution_count": 81,
   "metadata": {
    "slideshow": {
     "slide_type": "fragment"
    }
   },
   "outputs": [
    {
     "name": "stdout",
     "output_type": "stream",
     "text": [
      "6\n",
      "5\n",
      "4\n",
      "3\n",
      "2\n",
      "1\n"
     ]
    }
   ],
   "source": [
    "var_miLista = [1,2,3,4,5,6]\n",
    "# Itero mi lista de productos\n",
    "for i in var_miLista[::-1]:\n",
    "    print(i)"
   ]
  },
  {
   "cell_type": "markdown",
   "metadata": {
    "slideshow": {
     "slide_type": "slide"
    }
   },
   "source": [
    "### List comprehensions"
   ]
  },
  {
   "cell_type": "markdown",
   "metadata": {
    "slideshow": {
     "slide_type": "subslide"
    }
   },
   "source": [
    "- una forma distinta de expresar listas\n",
    "- Idiomatic Expressions."
   ]
  },
  {
   "cell_type": "markdown",
   "metadata": {
    "slideshow": {
     "slide_type": "subslide"
    }
   },
   "source": [
    "#### Ejemplo 01\n",
    "\n",
    "Imprimir los números del 0 al 9"
   ]
  },
  {
   "cell_type": "code",
   "execution_count": 83,
   "metadata": {
    "slideshow": {
     "slide_type": "fragment"
    }
   },
   "outputs": [
    {
     "name": "stdout",
     "output_type": "stream",
     "text": [
      "[0, 1, 2, 3, 4, 5, 6, 7, 8, 9]\n"
     ]
    }
   ],
   "source": [
    "var_miLista = [item for item in range(10)]\n",
    "print(var_miLista)"
   ]
  },
  {
   "cell_type": "markdown",
   "metadata": {
    "slideshow": {
     "slide_type": "subslide"
    }
   },
   "source": [
    "#### Ejemplo 02\n",
    "\n",
    "Imprimir los primeros 20 números pares"
   ]
  },
  {
   "cell_type": "code",
   "execution_count": 90,
   "metadata": {
    "slideshow": {
     "slide_type": "fragment"
    }
   },
   "outputs": [
    {
     "name": "stdout",
     "output_type": "stream",
     "text": [
      "Ingrese los datos: 10,35\n",
      "Ingrese los datos: 20,20\n",
      "Ingrese los datos: 0,0\n",
      "[10, 35, 20, 20, 0, 0]\n"
     ]
    }
   ],
   "source": [
    "#var_miLista = [i for i in range(41) if i % 8 == 0 and i % 5 == 0]\n",
    "#print(var_miLista)\n",
    "var_entrada = []\n",
    "var_temporal = \"5,35\"\n",
    "while( var_temporal != '0,0'):\n",
    "    var_temporal = input(\"Ingrese los datos: \")\n",
    "    var_entrada.extend([int(i) for i in var_temporal.split(',')])\n",
    "print(var_entrada)"
   ]
  }
 ],
 "metadata": {
  "celltoolbar": "Slideshow",
  "kernelspec": {
   "display_name": "Python 3",
   "language": "python",
   "name": "python3"
  },
  "language_info": {
   "codemirror_mode": {
    "name": "ipython",
    "version": 3
   },
   "file_extension": ".py",
   "mimetype": "text/x-python",
   "name": "python",
   "nbconvert_exporter": "python",
   "pygments_lexer": "ipython3",
   "version": "3.7.4"
  }
 },
 "nbformat": 4,
 "nbformat_minor": 4
}
