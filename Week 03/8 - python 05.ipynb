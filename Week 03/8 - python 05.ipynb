{
 "cells": [
  {
   "cell_type": "markdown",
   "metadata": {
    "slideshow": {
     "slide_type": "slide"
    }
   },
   "source": [
    "<br/>\n",
    "\n",
    "## Sesión 8 - Python 05\n",
    "\n",
    "# Fundamentos de Programación\n"
   ]
  },
  {
   "cell_type": "markdown",
   "metadata": {
    "slideshow": {
     "slide_type": "slide"
    }
   },
   "source": [
    "## Temario"
   ]
  },
  {
   "cell_type": "markdown",
   "metadata": {
    "slideshow": {
     "slide_type": "subslide"
    }
   },
   "source": [
    "- Tipos de datos.\n",
    "    - Listas\n",
    "        - Definición.\n",
    "        - Ejemplos.\n",
    "        - Funciones de listas.\n",
    "- Estructuras de control.\n",
    "    - While\n",
    "        - Definición\n",
    "        - Ejemplos.\n",
    "- Ejercicios"
   ]
  },
  {
   "cell_type": "markdown",
   "metadata": {
    "slideshow": {
     "slide_type": "slide"
    }
   },
   "source": [
    "## Listas"
   ]
  },
  {
   "cell_type": "markdown",
   "metadata": {
    "slideshow": {
     "slide_type": "subslide"
    }
   },
   "source": [
    "- Tipo de dato que permite almacenar cualquier tipo de dato.\n",
    "- Ordenadas.\n",
    "- Se manejan mediante indices.\n",
    "- mutables.\n",
    "- dinámicas."
   ]
  },
  {
   "cell_type": "markdown",
   "metadata": {
    "slideshow": {
     "slide_type": "subslide"
    }
   },
   "source": [
    "```python\n",
    "var_miLista = [1,2,3]\n",
    "var_miLista2 = [1,\"2\",[1,2,3]]\n",
    "var_miLista3 = list(\"palabra\")\n",
    "```"
   ]
  },
  {
   "cell_type": "markdown",
   "metadata": {
    "slideshow": {
     "slide_type": "subslide"
    }
   },
   "source": [
    "### Ejemplo 01\n",
    "\n",
    "Crear una lista de números"
   ]
  },
  {
   "cell_type": "code",
   "execution_count": 147,
   "metadata": {
    "slideshow": {
     "slide_type": "fragment"
    }
   },
   "outputs": [
    {
     "name": "stdout",
     "output_type": "stream",
     "text": [
      "[1, 2, 3, 4, 5, 6, 7, 8, 9, 10]\n"
     ]
    }
   ],
   "source": [
    "var_listaNumeros = [1,2,3,4,5,6,7,8,9,10]\n",
    "print(var_listaNumeros)"
   ]
  },
  {
   "cell_type": "markdown",
   "metadata": {
    "slideshow": {
     "slide_type": "subslide"
    }
   },
   "source": [
    "### Ejemplo 02\n",
    "\n",
    "Verificar el tipo de dato"
   ]
  },
  {
   "cell_type": "code",
   "execution_count": 150,
   "metadata": {
    "slideshow": {
     "slide_type": "fragment"
    }
   },
   "outputs": [
    {
     "name": "stdout",
     "output_type": "stream",
     "text": [
      "<class 'list'>\n"
     ]
    }
   ],
   "source": [
    "var_listaNumeros = [1,2,3,4,5,6,7,8,9,10]\n",
    "print(type(var_listaNumeros))"
   ]
  },
  {
   "cell_type": "markdown",
   "metadata": {
    "slideshow": {
     "slide_type": "subslide"
    }
   },
   "source": [
    "### Ejemplo 03\n",
    "\n",
    "Crear una lista basada en un iterable"
   ]
  },
  {
   "cell_type": "code",
   "execution_count": 159,
   "metadata": {
    "slideshow": {
     "slide_type": "fragment"
    }
   },
   "outputs": [
    {
     "name": "stdout",
     "output_type": "stream",
     "text": [
      "['p', 'a', 'l', 'a', 'b', 'r', 'a'] <class 'list'>\n",
      "[0, 1, 2, 3, 4, 5, 6, 7, 8, 9] <class 'list'>\n"
     ]
    }
   ],
   "source": [
    "var_listaCaracteres = list(\"palabra\")\n",
    "var_listaNumeros = list(range(10))\n",
    "print(var_listaCaracteres,type(var_listaCaracteres))\n",
    "print(var_listaNumeros, type(var_listaNumeros))"
   ]
  },
  {
   "cell_type": "markdown",
   "metadata": {
    "slideshow": {
     "slide_type": "subslide"
    }
   },
   "source": [
    "### Ejemplo 04\n",
    "\n",
    "Verificar el tamaño de una lista"
   ]
  },
  {
   "cell_type": "code",
   "execution_count": 160,
   "metadata": {
    "slideshow": {
     "slide_type": "fragment"
    }
   },
   "outputs": [
    {
     "name": "stdout",
     "output_type": "stream",
     "text": [
      "7 10\n"
     ]
    }
   ],
   "source": [
    "var_listaNumeros = [1,2,3,4,5,6,7,8,9,10]\n",
    "var_listaCaracteres = list(\"palabra\")\n",
    "print(len(var_listaCaracteres),len(var_listaNumeros))"
   ]
  },
  {
   "cell_type": "markdown",
   "metadata": {
    "slideshow": {
     "slide_type": "subslide"
    }
   },
   "source": [
    "### Ejemplo 05\n",
    "\n",
    "Imprimir valores de la lista"
   ]
  },
  {
   "cell_type": "code",
   "execution_count": 168,
   "metadata": {
    "slideshow": {
     "slide_type": "fragment"
    }
   },
   "outputs": [
    {
     "name": "stdout",
     "output_type": "stream",
     "text": [
      "1 r\n"
     ]
    }
   ],
   "source": [
    "var_listaNumeros = [1,2,3,4,5,6,7,8,9,10]\n",
    "var_listaCaracteres = list(\"palabra\")\n",
    "print(var_listaNumeros[0],var_listaCaracteres[-2])"
   ]
  },
  {
   "cell_type": "markdown",
   "metadata": {
    "slideshow": {
     "slide_type": "subslide"
    }
   },
   "source": [
    "### Ejemplo 06\n",
    "\n",
    "Obtener un intervalo de valores"
   ]
  },
  {
   "cell_type": "code",
   "execution_count": 173,
   "metadata": {
    "slideshow": {
     "slide_type": "fragment"
    }
   },
   "outputs": [
    {
     "name": "stdout",
     "output_type": "stream",
     "text": [
      "[3, 4]\n"
     ]
    }
   ],
   "source": [
    "var_listaNumeros = [1,2,3,4,5]\n",
    "print(var_listaNumeros[2:4])"
   ]
  },
  {
   "cell_type": "markdown",
   "metadata": {
    "slideshow": {
     "slide_type": "subslide"
    }
   },
   "source": [
    "### Ejemplo 07\n",
    "\n",
    "Imprimir todos los valores hasta una posicion"
   ]
  },
  {
   "cell_type": "code",
   "execution_count": 176,
   "metadata": {
    "slideshow": {
     "slide_type": "fragment"
    }
   },
   "outputs": [
    {
     "name": "stdout",
     "output_type": "stream",
     "text": [
      "[1, 2, 3]\n"
     ]
    }
   ],
   "source": [
    "var_listaNumeros = [1,2,3,4,5]\n",
    "print(var_listaNumeros[:3])"
   ]
  },
  {
   "cell_type": "markdown",
   "metadata": {
    "slideshow": {
     "slide_type": "subslide"
    }
   },
   "source": [
    "### Ejemplo 08\n",
    "\n",
    "Imprimir todos los valores desde una posicion"
   ]
  },
  {
   "cell_type": "code",
   "execution_count": 177,
   "metadata": {
    "slideshow": {
     "slide_type": "fragment"
    }
   },
   "outputs": [
    {
     "name": "stdout",
     "output_type": "stream",
     "text": [
      "[3, 4, 5]\n"
     ]
    }
   ],
   "source": [
    "var_listaNumeros = [1,2,3,4,5]\n",
    "print(var_listaNumeros[2:])"
   ]
  },
  {
   "cell_type": "markdown",
   "metadata": {
    "slideshow": {
     "slide_type": "subslide"
    }
   },
   "source": [
    "### Ejemplo 09\n",
    "\n",
    "Añadir un elemento a una lista"
   ]
  },
  {
   "cell_type": "code",
   "execution_count": 178,
   "metadata": {
    "slideshow": {
     "slide_type": "fragment"
    }
   },
   "outputs": [
    {
     "name": "stdout",
     "output_type": "stream",
     "text": [
      "[1, 2, 3, 4, 5]\n",
      "[1, 2, 3, 4, 5, 6]\n"
     ]
    }
   ],
   "source": [
    "var_listaNumeros = [1,2,3,4,5]\n",
    "print(var_listaNumeros)\n",
    "var_listaNumeros += [6]\n",
    "print(var_listaNumeros)"
   ]
  },
  {
   "cell_type": "markdown",
   "metadata": {
    "slideshow": {
     "slide_type": "subslide"
    }
   },
   "source": [
    "### Ejemplo 10\n",
    "\n",
    "Añadir un elemento en una posicion de la lista"
   ]
  },
  {
   "cell_type": "code",
   "execution_count": 186,
   "metadata": {
    "slideshow": {
     "slide_type": "fragment"
    }
   },
   "outputs": [
    {
     "name": "stdout",
     "output_type": "stream",
     "text": [
      "[1, 2, 3, 4, 5, 6, 7, 8, 9, 10]\n",
      "[1, 2, 3, '21', 12, 12.34, 4, 5, 6, 7, 8, 9, 10]\n"
     ]
    }
   ],
   "source": [
    "var_listaNumeros = [1,2,3,4,5,6,7,8,9,10]\n",
    "print(var_listaNumeros)\n",
    "var_listaNumeros = var_listaNumeros[:3] + [\"21\",12,12.34] + var_listaNumeros[3:]\n",
    "print(var_listaNumeros)"
   ]
  },
  {
   "cell_type": "markdown",
   "metadata": {
    "slideshow": {
     "slide_type": "subslide"
    }
   },
   "source": [
    "### Ejemplo 11\n",
    "\n",
    "Eliminar un elemento de la lista"
   ]
  },
  {
   "cell_type": "code",
   "execution_count": 187,
   "metadata": {
    "slideshow": {
     "slide_type": "fragment"
    }
   },
   "outputs": [
    {
     "name": "stdout",
     "output_type": "stream",
     "text": [
      "[1, 2, 3, 4, 5]\n",
      "[1, 3, 4, 5]\n"
     ]
    }
   ],
   "source": [
    "var_listaNumeros = [1,2,3,4,5]\n",
    "print(var_listaNumeros)\n",
    "del var_listaNumeros[1]\n",
    "print(var_listaNumeros)"
   ]
  },
  {
   "cell_type": "markdown",
   "metadata": {
    "slideshow": {
     "slide_type": "subslide"
    }
   },
   "source": [
    "### Ejemplo 12\n",
    "\n",
    "Editar un objeto de una lista"
   ]
  },
  {
   "cell_type": "code",
   "execution_count": 200,
   "metadata": {
    "slideshow": {
     "slide_type": "fragment"
    }
   },
   "outputs": [
    {
     "name": "stdout",
     "output_type": "stream",
     "text": [
      "[1, 2, 3, 4, 5]\n",
      "[1, 23, 3, 4, 5]\n"
     ]
    },
    {
     "data": {
      "text/plain": [
       "'\\n0 1,\\n1 2,\\n2 3,\\n3 4,\\n4 5\\n'"
      ]
     },
     "execution_count": 200,
     "metadata": {},
     "output_type": "execute_result"
    }
   ],
   "source": [
    "var_listaNumeros = [1,2,3,4,5]\n",
    "print(var_listaNumeros)\n",
    "var_listaNumeros[1] = 23\n",
    "print(var_listaNumeros)\n",
    "\n",
    "\"\"\"\n",
    "0 1,\n",
    "1 2,\n",
    "2 3,\n",
    "3 4,\n",
    "4 5\n",
    "\"\"\""
   ]
  },
  {
   "cell_type": "markdown",
   "metadata": {
    "slideshow": {
     "slide_type": "subslide"
    }
   },
   "source": [
    "### Ejemplo 13\n",
    "\n",
    "Listas con sublistas"
   ]
  },
  {
   "cell_type": "code",
   "execution_count": 201,
   "metadata": {
    "slideshow": {
     "slide_type": "fragment"
    }
   },
   "outputs": [
    {
     "name": "stdout",
     "output_type": "stream",
     "text": [
      "<class 'list'>\n",
      "5\n"
     ]
    },
    {
     "data": {
      "text/plain": [
       "'\\n  0 1 2 3\\n0[1,2,3],\\n1[4,5,6,10],\\n2[7,8,9]\\n\\n'"
      ]
     },
     "execution_count": 201,
     "metadata": {},
     "output_type": "execute_result"
    }
   ],
   "source": [
    "var_listaNumeros = [[1,2,3],[4,5,6,10],[7,8,9]]\n",
    "print(type(var_listaNumeros[0]))\n",
    "print(var_listaNumeros[1][1])\n",
    "\n",
    "\"\"\"\n",
    "  0 1 2 3\n",
    "0[1,2,3],\n",
    "1[4,5,6,10],\n",
    "2[7,8,9]\n",
    "\n",
    "\"\"\""
   ]
  },
  {
   "cell_type": "markdown",
   "metadata": {
    "slideshow": {
     "slide_type": "subslide"
    }
   },
   "source": [
    "### Funciones built-in"
   ]
  },
  {
   "cell_type": "markdown",
   "metadata": {
    "slideshow": {
     "slide_type": "subslide"
    }
   },
   "source": [
    "### append\n",
    "\n",
    "Permite agregar items a la lista.\n",
    "\n",
    "```python\n",
    "var_lista = [1,2,3]\n",
    "var_lista.append(2)\n",
    "```"
   ]
  },
  {
   "cell_type": "code",
   "execution_count": 204,
   "metadata": {
    "slideshow": {
     "slide_type": "fragment"
    }
   },
   "outputs": [
    {
     "name": "stdout",
     "output_type": "stream",
     "text": [
      "[1, 2, 3, 4, 5, 8, [6, 7]]\n"
     ]
    }
   ],
   "source": [
    "var_listaNumeros = [1,2,3,4,5]\n",
    "var_listaNumeros.append(8)\n",
    "var_listaNumeros.append([6,7])\n",
    "print(var_listaNumeros)"
   ]
  },
  {
   "cell_type": "markdown",
   "metadata": {
    "slideshow": {
     "slide_type": "subslide"
    }
   },
   "source": [
    "### extend\n",
    "\n",
    "Permite extender la lista con otra.\n",
    "\n",
    "```python\n",
    "var_lista = [1,2,3]\n",
    "var_lista.extend([4,5])\n",
    "```"
   ]
  },
  {
   "cell_type": "code",
   "execution_count": 207,
   "metadata": {
    "slideshow": {
     "slide_type": "fragment"
    }
   },
   "outputs": [
    {
     "name": "stdout",
     "output_type": "stream",
     "text": [
      "[1, 2, 3, 4, 5, 8, 'p', 'a', 'l', 'a', 'b', 'r', 'a']\n"
     ]
    }
   ],
   "source": [
    "var_listaNumeros = [1,2,3,4,5]\n",
    "var_listaNumeros.append(8)\n",
    "var_listaNumeros.extend(\"palabra\")\n",
    "print(var_listaNumeros)"
   ]
  },
  {
   "cell_type": "markdown",
   "metadata": {
    "slideshow": {
     "slide_type": "subslide"
    }
   },
   "source": [
    "### remove\n",
    "\n",
    "Remueve un objeto de la lista.\n",
    "\n",
    "```python\n",
    "var_lista = [1,2,3]\n",
    "var_lista.remove(3)\n",
    "```"
   ]
  },
  {
   "cell_type": "code",
   "execution_count": 217,
   "metadata": {
    "slideshow": {
     "slide_type": "fragment"
    }
   },
   "outputs": [
    {
     "name": "stdout",
     "output_type": "stream",
     "text": [
      "[1, 2, 3, 5, [1, 2]]\n",
      "[1, 2, 3, 5]\n"
     ]
    }
   ],
   "source": [
    "var_listaNumeros = [1,2,3,4,5,4,[1,2]]\n",
    "var_listaNumeros.remove(4)\n",
    "var_listaNumeros.remove(4)\n",
    "print(var_listaNumeros)\n",
    "var_listaNumeros.remove([1,2])\n",
    "print(var_listaNumeros)"
   ]
  },
  {
   "cell_type": "markdown",
   "metadata": {
    "slideshow": {
     "slide_type": "subslide"
    }
   },
   "source": [
    "### pop\n",
    "\n",
    "Elimina por defecto el último item de la lista. Se puede pasar por atributo el indice del item que se quiera eliminar\n",
    "\n",
    "```python\n",
    "var_lista = [1,2,3]\n",
    "var_lista.pop([index = 1])\n",
    "```"
   ]
  },
  {
   "cell_type": "code",
   "execution_count": 220,
   "metadata": {
    "slideshow": {
     "slide_type": "fragment"
    }
   },
   "outputs": [
    {
     "name": "stdout",
     "output_type": "stream",
     "text": [
      "[1, 3, 4]\n"
     ]
    }
   ],
   "source": [
    "var_listaNumeros = [1,2,3,4,5]\n",
    "var_listaNumeros.pop()\n",
    "var_listaNumeros.pop(1)\n",
    "print(var_listaNumeros)"
   ]
  },
  {
   "cell_type": "markdown",
   "metadata": {
    "slideshow": {
     "slide_type": "subslide"
    }
   },
   "source": [
    "### reverse\n",
    "\n",
    "Invierte el orden de la lista\n",
    "\n",
    "```python\n",
    "var_lista = [1,2,3]\n",
    "var_lista.reverse()\n",
    "```"
   ]
  },
  {
   "cell_type": "code",
   "execution_count": 226,
   "metadata": {
    "slideshow": {
     "slide_type": "fragment"
    }
   },
   "outputs": [
    {
     "name": "stdout",
     "output_type": "stream",
     "text": [
      "[3, 4, 5, 2, 1]\n"
     ]
    }
   ],
   "source": [
    "var_listaNumeros = [1,2,5,4,3]\n",
    "var_listaNumeros.reverse()\n",
    "print(var_listaNumeros)"
   ]
  },
  {
   "cell_type": "markdown",
   "metadata": {
    "slideshow": {
     "slide_type": "subslide"
    }
   },
   "source": [
    "### sort\n",
    "\n",
    "Permite ordenar los valores de la lista\n",
    "\n",
    "```python\n",
    "var_lista = [1,2,3]\n",
    "var_lista.sort([reverse = True])\n",
    "```"
   ]
  },
  {
   "cell_type": "code",
   "execution_count": 233,
   "metadata": {
    "slideshow": {
     "slide_type": "fragment"
    }
   },
   "outputs": [
    {
     "name": "stdout",
     "output_type": "stream",
     "text": [
      "[[1, 2, 3], [1, 2, 4]]\n",
      "[[1, 2, 4], [1, 2, 3]]\n"
     ]
    }
   ],
   "source": [
    "var_listaNumeros = [[1,2,3],[1,2,4]]\n",
    "var_listaNumeros.sort()\n",
    "print(var_listaNumeros)\n",
    "var_listaNumeros.sort(reverse = True)\n",
    "print(var_listaNumeros)"
   ]
  },
  {
   "cell_type": "markdown",
   "metadata": {
    "slideshow": {
     "slide_type": "subslide"
    }
   },
   "source": [
    "### index\n",
    "\n",
    "Retorna el indice de un objeto en una lista, permite pasar un punto de inicio para realizar la busqueda\n",
    "\n",
    "```python\n",
    "var_lista = [1,2,3]\n",
    "var_lista.index(value = int [, start = int])\n",
    "```"
   ]
  },
  {
   "cell_type": "code",
   "execution_count": 237,
   "metadata": {
    "slideshow": {
     "slide_type": "fragment"
    }
   },
   "outputs": [
    {
     "name": "stdout",
     "output_type": "stream",
     "text": [
      "1\n",
      "3\n"
     ]
    },
    {
     "data": {
      "text/plain": [
       "'\\n0 1 2 3 4 5 6\\np a l a b r a\\n'"
      ]
     },
     "execution_count": 237,
     "metadata": {},
     "output_type": "execute_result"
    }
   ],
   "source": [
    "var_listaNumeros = list(\"palabra\")\n",
    "print(var_listaNumeros.index(\"a\"))\n",
    "print(var_listaNumeros.index(\"a\",3))\n",
    "\"\"\"\n",
    "0 1 2 3 4 5 6\n",
    "p a l a b r a\n",
    "\"\"\""
   ]
  },
  {
   "cell_type": "markdown",
   "metadata": {
    "slideshow": {
     "slide_type": "slide"
    }
   },
   "source": [
    "### Estructuras de control"
   ]
  },
  {
   "cell_type": "markdown",
   "metadata": {
    "slideshow": {
     "slide_type": "subslide"
    }
   },
   "source": [
    "### While (mientras que)"
   ]
  },
  {
   "cell_type": "markdown",
   "metadata": {
    "slideshow": {
     "slide_type": "subslide"
    }
   },
   "source": [
    "- Permite ejecutar un mismo sub-bloque de codigo dada una condición.\n",
    "- Necesita una **condición de salida**.\n",
    "- Se puede usar para forzar ingresar un valor.\n",
    "- Es una forma de iterar listas."
   ]
  },
  {
   "cell_type": "markdown",
   "metadata": {
    "slideshow": {
     "slide_type": "subslide"
    }
   },
   "source": [
    "#### Ejemplo 01\n",
    "\n",
    "Calcular el total de un listado de productos"
   ]
  },
  {
   "cell_type": "markdown",
   "metadata": {
    "slideshow": {
     "slide_type": "subslide"
    }
   },
   "source": [
    "#### Seudocódigo.\n",
    "```python\n",
    "asignar 0 a total\n",
    "asignar [[2,25000],[3,10000],[5,4500],[1,22000]] a entrada\n",
    "mientras que productos por facturar haga:\n",
    "····sume precio * cantidad a total\n",
    "fin mientras que\n",
    "imprima total\n",
    "```"
   ]
  },
  {
   "cell_type": "code",
   "execution_count": 239,
   "metadata": {
    "slideshow": {
     "slide_type": "subslide"
    }
   },
   "outputs": [
    {
     "name": "stdout",
     "output_type": "stream",
     "text": [
      "0 [2, 25000]\n",
      "1 [3, 10000]\n",
      "2 [5, 4500]\n",
      "3 [1, 22000]\n",
      "Total: 124500\n"
     ]
    }
   ],
   "source": [
    "var_total = 0\n",
    "var_productos = [[2,25000],[3,10000],[5,4500],[1,22000]]\n",
    "var_index = 0\n",
    "# Itero los productos\n",
    "while(var_index < len(var_productos)):\n",
    "    print(var_index, var_productos[var_index])\n",
    "    var_total += (var_productos[var_index][0]*var_productos[var_index][1])\n",
    "    # Controla la condición de salida del while\n",
    "    var_index += 1\n",
    "print(\"Total:\",var_total)"
   ]
  },
  {
   "cell_type": "markdown",
   "metadata": {
    "slideshow": {
     "slide_type": "subslide"
    }
   },
   "source": [
    "#### Ejemplo 02\n",
    "\n",
    "Ingresar un valor hasta que se ponga -1."
   ]
  },
  {
   "cell_type": "code",
   "execution_count": 250,
   "metadata": {
    "slideshow": {
     "slide_type": "subslide"
    }
   },
   "outputs": [
    {
     "name": "stdout",
     "output_type": "stream",
     "text": [
      "Ingrese un número (se termina cuando ingresa -1): 23\n",
      "Ingrese un número (se termina cuando ingresa -1): 34\n",
      "Ingrese un número (se termina cuando ingresa -1): -1\n",
      "2\n"
     ]
    }
   ],
   "source": [
    "var_totalNumeros = []\n",
    "var_entradaNumero = 0\n",
    "var_textNumero = \"Ingrese un número (se termina cuando ingresa -1): \"\n",
    "# Introduzco el bucle\n",
    "# Verifico que se ejecute mientras que var_entradaNumero != -1\n",
    "while(var_entradaNumero != -1):\n",
    "    var_entradaNumero = int(input(var_textNumero))\n",
    "    # Incremento mientras que mi número no sea -1\n",
    "    if (var_entradaNumero != -1):\n",
    "        var_totalNumeros.append(var_entradaNumero)\n",
    "print(len(var_totalNumeros))"
   ]
  },
  {
   "cell_type": "markdown",
   "metadata": {
    "slideshow": {
     "slide_type": "subslide"
    }
   },
   "source": [
    "#### Ejemplo 03\n",
    "\n",
    "Sumar los componentes de una lista"
   ]
  },
  {
   "cell_type": "code",
   "execution_count": 253,
   "metadata": {
    "slideshow": {
     "slide_type": "subslide"
    }
   },
   "outputs": [
    {
     "name": "stdout",
     "output_type": "stream",
     "text": [
      "Total: 87\n"
     ]
    }
   ],
   "source": [
    "var_lista = [3,6,5,4,8,7,6,10,3,5,6,7,12,5]\n",
    "var_total = 0\n",
    "# Verifico que mi lista no sea vacia\n",
    "while(len(var_lista) > 0):\n",
    "    # Sumo a mi total el valor de mi último número en la lista\n",
    "    var_total += var_lista[-1]\n",
    "    # Elimino el último item\n",
    "    var_lista.pop()\n",
    "# Imprimo el valor\n",
    "print(\"Total:\",var_total)"
   ]
  },
  {
   "cell_type": "markdown",
   "metadata": {
    "slideshow": {
     "slide_type": "slide"
    }
   },
   "source": [
    "### Ejercicios\n",
    "\n",
    "Dada una lista de números [3,6,5,4,8,7,6,10,3,5,6,7,12,5,33,6,15,14,18,7,16,10,3,15,6,27,12,5] Realizar las siguientes operaciones:\n",
    "\n",
    "- Obtener el mayor número.\n",
    "- Obtener el menor número.\n",
    "- Obtener el promedio.\n",
    "- Ordenarlos de forma descendente.\n",
    "- Obtener la sumatoria de todos los valores.\n",
    "- Imprimir únicamente los numeros impares."
   ]
  }
 ],
 "metadata": {
  "celltoolbar": "Slideshow",
  "kernelspec": {
   "display_name": "Python 3",
   "language": "python",
   "name": "python3"
  },
  "language_info": {
   "codemirror_mode": {
    "name": "ipython",
    "version": 3
   },
   "file_extension": ".py",
   "mimetype": "text/x-python",
   "name": "python",
   "nbconvert_exporter": "python",
   "pygments_lexer": "ipython3",
   "version": "3.7.4"
  }
 },
 "nbformat": 4,
 "nbformat_minor": 4
}
