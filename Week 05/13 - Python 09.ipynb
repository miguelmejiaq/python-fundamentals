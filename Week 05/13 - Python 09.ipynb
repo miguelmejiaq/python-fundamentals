{
 "cells": [
  {
   "cell_type": "raw",
   "metadata": {},
   "source": []
  },
  {
   "cell_type": "markdown",
   "metadata": {
    "slideshow": {
     "slide_type": "slide"
    }
   },
   "source": [
    "## <br/>\n",
    "\n",
    "## Sesión 13 - Funciones\n",
    "\n",
    "# Fundamentos de Programación\n",
    "\n",
    "<br/>\n",
    "Iniciamos 6:15PM"
   ]
  },
  {
   "cell_type": "markdown",
   "metadata": {
    "slideshow": {
     "slide_type": "slide"
    }
   },
   "source": [
    "## Temario"
   ]
  },
  {
   "cell_type": "markdown",
   "metadata": {
    "slideshow": {
     "slide_type": "subslide"
    }
   },
   "source": [
    "- Funciones.\n",
    "    - Definición\n",
    "    - Sintaxis.\n",
    "    - Variables locales y globales.\n",
    "    - Ejemplos.\n",
    "        - Sin parámetros.\n",
    "        - Con parámetros.\n",
    "        - Con parámetros por default.\n",
    "        - Sin retorno.\n",
    "        - Con retorno.\n",
    "- Ejercicios."
   ]
  },
  {
   "cell_type": "markdown",
   "metadata": {
    "slideshow": {
     "slide_type": "slide"
    }
   },
   "source": [
    "## Funciones en python"
   ]
  },
  {
   "cell_type": "markdown",
   "metadata": {
    "slideshow": {
     "slide_type": "subslide"
    }
   },
   "source": [
    "### Definición"
   ]
  },
  {
   "cell_type": "markdown",
   "metadata": {
    "slideshow": {
     "slide_type": "fragment"
    }
   },
   "source": [
    "- Forma de modularización de código.\n",
    "- Permite aislar y reusar una fracción de código.\n",
    "- Principio de reusabilidad.\n",
    "- Limpieza en el código.\n",
    "- Componentes\n",
    "    - Nombre\n",
    "    - **Entrada**\n",
    "    - Código\n",
    "    - **salida**"
   ]
  },
  {
   "cell_type": "markdown",
   "metadata": {
    "slideshow": {
     "slide_type": "subslide"
    }
   },
   "source": [
    "### Sintaxis"
   ]
  },
  {
   "cell_type": "markdown",
   "metadata": {
    "slideshow": {
     "slide_type": "fragment"
    }
   },
   "source": [
    "```python\n",
    "# palabra reservada: def\n",
    "# nombreFuncion: Nombre de la función\n",
    "# [parametros] : Atributos que se pasan a la función\n",
    "def fn_nombreFuncion([parametros, param2]):\n",
    "    # Código ....\n",
    "    # [return valor]: En caso de que retorne algo, se agrega return y el valor o valores a retornar\n",
    "    [return valor, valor2]\n",
    "\n",
    "```"
   ]
  },
  {
   "cell_type": "markdown",
   "metadata": {
    "slideshow": {
     "slide_type": "subslide"
    }
   },
   "source": [
    "### Variables locales y globales"
   ]
  },
  {
   "cell_type": "markdown",
   "metadata": {
    "slideshow": {
     "slide_type": "fragment"
    }
   },
   "source": [
    "- Modularización -> aislamiento de código.\n",
    "- Las variables solo existen en el ambito del sub bloque."
   ]
  },
  {
   "cell_type": "code",
   "execution_count": null,
   "metadata": {
    "slideshow": {
     "slide_type": "fragment"
    }
   },
   "outputs": [],
   "source": [
    "# Verificamos que las variables locales no pueden ser usadas en distintos ambitos"
   ]
  },
  {
   "cell_type": "markdown",
   "metadata": {
    "slideshow": {
     "slide_type": "subslide"
    }
   },
   "source": [
    "### Ejemplo 01 : Función sin parámetros"
   ]
  },
  {
   "cell_type": "markdown",
   "metadata": {
    "slideshow": {
     "slide_type": "fragment"
    }
   },
   "source": [
    "- Se utilizan normalmente cuando la función tiene un objetivo pero no requiere retornar ningun valor.\n",
    "- Decoradores."
   ]
  },
  {
   "cell_type": "code",
   "execution_count": null,
   "metadata": {
    "slideshow": {
     "slide_type": "fragment"
    }
   },
   "outputs": [],
   "source": [
    "# Creamos una función que imprime \"Hola mundo\" cuando se invoca\n",
    "def fn_imprimirHolaMundo():\n",
    "    print(\"Hola Mundo\")\n",
    "    print(\"---------\")\n",
    "# Invoco la función\n",
    "fn_imprimirHolaMundo()"
   ]
  },
  {
   "cell_type": "markdown",
   "metadata": {
    "slideshow": {
     "slide_type": "subslide"
    }
   },
   "source": [
    "### Ejemplo 02 : Función con parámetros posicionales"
   ]
  },
  {
   "cell_type": "markdown",
   "metadata": {
    "slideshow": {
     "slide_type": "fragment"
    }
   },
   "source": [
    "- Es el tipo de función mas usado y permite pasar variables como atributos para procesar dentro de la función."
   ]
  },
  {
   "cell_type": "code",
   "execution_count": null,
   "metadata": {
    "slideshow": {
     "slide_type": "fragment"
    }
   },
   "outputs": [],
   "source": [
    "# Creamos una función que imprime los números del <numeroInicial> al <numeroFinal> como entradas.\n",
    "# funcion(1,20) -> 1 2 3 4 5 6 7 8 9 10#\n",
    "def fn_imprimirNumeros(numeroInicial, numeroFinal):\n",
    "    for i in range(numeroInicial,numeroFinal + 1):\n",
    "        print(i , end = \" \")\n",
    "fn_imprimirNumeros(20,10)"
   ]
  },
  {
   "cell_type": "markdown",
   "metadata": {
    "slideshow": {
     "slide_type": "subslide"
    }
   },
   "source": [
    "### Ejemplo 03 : Función con parámetros por nombre"
   ]
  },
  {
   "cell_type": "markdown",
   "metadata": {
    "slideshow": {
     "slide_type": "fragment"
    }
   },
   "source": [
    "- Es el tipo de función mas usado y permite pasar variables como atributos para procesar dentro de la función."
   ]
  },
  {
   "cell_type": "code",
   "execution_count": null,
   "metadata": {
    "slideshow": {
     "slide_type": "fragment"
    }
   },
   "outputs": [],
   "source": [
    "# Creamos una función que imprime los números del <numeroInicial> al <numeroFinal> como entradas.\n",
    "# Usamos los atributos como identificadores en el llamado de la función\n",
    "\n",
    "def fn_imprimirNumeros(numeroInicial, numeroFinal):\n",
    "    for i in range(numeroInicial, numeroFinal +1):\n",
    "        print(i, end=\" \")\n",
    "# best practice \n",
    "fn_imprimirNumeros(numeroFinal = 20,numeroInicial = 10)"
   ]
  },
  {
   "cell_type": "markdown",
   "metadata": {
    "slideshow": {
     "slide_type": "subslide"
    }
   },
   "source": [
    "### Ejemplo 04 : Función con parámetros por default"
   ]
  },
  {
   "cell_type": "markdown",
   "metadata": {
    "slideshow": {
     "slide_type": "fragment"
    }
   },
   "source": [
    "- Permite añadir valores por defecto a la función.\n",
    "- En caso de que no se definan se tomaran de los configurados por default.\n",
    "- Permite dar mas control de la función."
   ]
  },
  {
   "cell_type": "code",
   "execution_count": null,
   "metadata": {
    "slideshow": {
     "slide_type": "fragment"
    }
   },
   "outputs": [],
   "source": [
    "# Creamos una función que imprime los números del <numeroInicial> al <numeroFinal> como entradas.\n",
    "# Adicional, recibe un multiplicador en caso de querer aplicar una multiplicación al intervalo de números\n",
    "def fn_imprimirNumeros(numeroInicial,numeroFinal, multiplicador = 1):\n",
    "    for i in range(numeroInicial, numeroFinal +1):\n",
    "        print(i * multiplicador, end = \" \")\n",
    "fn_imprimirNumeros(numeroInicial = 10, numeroFinal = 20)"
   ]
  },
  {
   "cell_type": "markdown",
   "metadata": {
    "slideshow": {
     "slide_type": "subslide"
    }
   },
   "source": [
    "### Ejemplo 05 : Función sin retorno"
   ]
  },
  {
   "cell_type": "markdown",
   "metadata": {
    "slideshow": {
     "slide_type": "fragment"
    }
   },
   "source": [
    "- Realiza un procedimiento pero no informa o retorna un valor cuando termina su ejecución."
   ]
  },
  {
   "cell_type": "code",
   "execution_count": null,
   "metadata": {
    "slideshow": {
     "slide_type": "fragment"
    }
   },
   "outputs": [],
   "source": [
    "# Defino una lista de numeros del 1 al 20\n",
    "var_numeros = list(range(1,21))\n",
    "# Genero una función que me imprime los numeros pares de una lista que recibo por atributo\n",
    "def fn_imprimirPares(listaNumeros):\n",
    "    print([ i for i in listaNumeros if i % 2 == 0])\n",
    "fn_imprimirPares(var_numeros)\n",
    "print(var_numeros)"
   ]
  },
  {
   "cell_type": "markdown",
   "metadata": {
    "slideshow": {
     "slide_type": "subslide"
    }
   },
   "source": [
    "### Ejemplo 05 : Función con retorno"
   ]
  },
  {
   "cell_type": "markdown",
   "metadata": {
    "slideshow": {
     "slide_type": "fragment"
    }
   },
   "source": [
    "- Permite retornar un valor y manipularlo en el ciclo de ejecución.\n",
    "- Usado para toma de decisiones.\n",
    "- Permite generar nuevas respuestas de datos."
   ]
  },
  {
   "cell_type": "code",
   "execution_count": null,
   "metadata": {
    "slideshow": {
     "slide_type": "fragment"
    }
   },
   "outputs": [],
   "source": [
    "var_numero = 22\n",
    "# Genero una función que informa si un numero es o no primo\n",
    "# Retorna False cuando el numero no es primo o True cuando lo es\n",
    "def fn_esPrimo(numero):\n",
    "    if numero < 2:\n",
    "        return False\n",
    "    for i in range(2,numero):\n",
    "        if numero % i == 0:\n",
    "            return False\n",
    "    return True\n",
    "if fn_esPrimo(var_numero):\n",
    "    print(\"El numero es primo\")\n",
    "else:\n",
    "    print(\"El numero no es primo\")"
   ]
  },
  {
   "cell_type": "markdown",
   "metadata": {
    "slideshow": {
     "slide_type": "subslide"
    }
   },
   "source": [
    "### Ejemplo 06 : Función con multiple retorno"
   ]
  },
  {
   "cell_type": "markdown",
   "metadata": {
    "slideshow": {
     "slide_type": "fragment"
    }
   },
   "source": [
    "- Permite retornar multiples valores en una función.\n",
    "- los valores pueden ser de cualquier tipo de dato."
   ]
  },
  {
   "cell_type": "code",
   "execution_count": null,
   "metadata": {
    "slideshow": {
     "slide_type": "fragment"
    }
   },
   "outputs": [],
   "source": [
    "var_numero = 23\n",
    "var_textoSalidaTrue = \"El número {numero} tiene {divisores} divisores.\"\n",
    "var_textoSalidaFalse = \"El número {numero} no tiene divisores\"\n",
    "# Genero una función que determina si un numero tiene o no divisores.\n",
    "# retorna true o false dependiendo de los divisores y adicional, retorna la lista de divisores.\n",
    "def fn_obtenerDivisores(numero):\n",
    "    var_divisores = []\n",
    "    for i in range(2,numero):\n",
    "        if numero % i == 0:\n",
    "            var_divisores.append(i)\n",
    "    return len(var_divisores) != 0, var_divisores\n",
    "var_tieneDivisores, var_divisores = fn_obtenerDivisores(var_numero)\n",
    "if var_tieneDivisores:\n",
    "    print(var_textoSalidaTrue.format(numero = var_numero, divisores = var_divisores))\n",
    "else:\n",
    "    print(var_textoSalidaFalse.format(numero = var_numero))"
   ]
  },
  {
   "cell_type": "markdown",
   "metadata": {
    "slideshow": {
     "slide_type": "subslide"
    }
   },
   "source": [
    "### Ejercicios"
   ]
  },
  {
   "cell_type": "markdown",
   "metadata": {
    "slideshow": {
     "slide_type": "fragment"
    }
   },
   "source": [
    "Realizar el reto 2 aplicando funciones para calcular cada uno de los descuentos"
   ]
  },
  {
   "cell_type": "code",
   "execution_count": null,
   "metadata": {
    "slideshow": {
     "slide_type": "subslide"
    }
   },
   "outputs": [],
   "source": [
    "# Cálculo de descuento por edad"
   ]
  },
  {
   "cell_type": "code",
   "execution_count": null,
   "metadata": {
    "slideshow": {
     "slide_type": "subslide"
    }
   },
   "outputs": [],
   "source": [
    "# Cálculo de descuento por salarios"
   ]
  },
  {
   "cell_type": "code",
   "execution_count": null,
   "metadata": {
    "slideshow": {
     "slide_type": "subslide"
    }
   },
   "outputs": [],
   "source": [
    "# Cálculo de descuento por puntaje"
   ]
  },
  {
   "cell_type": "code",
   "execution_count": null,
   "metadata": {
    "slideshow": {
     "slide_type": "subslide"
    }
   },
   "outputs": [],
   "source": [
    "# Procedimiento\n",
    "var_edad, var_puntaje, var_ingreso = 17, 95, 2\n",
    "# Calculo los descuentos"
   ]
  }
 ],
 "metadata": {
  "celltoolbar": "Slideshow",
  "kernelspec": {
   "display_name": "Python 3",
   "language": "python",
   "name": "python3"
  },
  "language_info": {
   "codemirror_mode": {
    "name": "ipython",
    "version": 3
   },
   "file_extension": ".py",
   "mimetype": "text/x-python",
   "name": "python",
   "nbconvert_exporter": "python",
   "pygments_lexer": "ipython3",
   "version": "3.7.4"
  }
 },
 "nbformat": 4,
 "nbformat_minor": 2
}
