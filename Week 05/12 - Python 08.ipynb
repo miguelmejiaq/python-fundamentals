{
 "cells": [
  {
   "cell_type": "markdown",
   "metadata": {
    "slideshow": {
     "slide_type": "slide"
    }
   },
   "source": [
    "## <br/>\n",
    "\n",
    "## Sesión 12 - Python 08\n",
    "\n",
    "# Fundamentos de Programación\n",
    "\n",
    "<br/>\n",
    "Empezamos 6:15 pm\n"
   ]
  },
  {
   "cell_type": "markdown",
   "metadata": {
    "slideshow": {
     "slide_type": "slide"
    }
   },
   "source": [
    "## Temario"
   ]
  },
  {
   "cell_type": "markdown",
   "metadata": {
    "slideshow": {
     "slide_type": "subslide"
    }
   },
   "source": [
    "- Ejercicios sesión anterior.\n",
    "- Tipos de datos.\n",
    "    - Tuplas.\n",
    "        - Definición.\n",
    "        - Sintaxis.\n",
    "        - Ejemplos.\n",
    "        - Funciones built-in."
   ]
  },
  {
   "cell_type": "markdown",
   "metadata": {
    "slideshow": {
     "slide_type": "slide"
    }
   },
   "source": [
    "### Ejercicios sesión anterior"
   ]
  },
  {
   "cell_type": "markdown",
   "metadata": {
    "slideshow": {
     "slide_type": "subslide"
    }
   },
   "source": [
    "Escribir un programa que pregunte al usuario su nombre, edad, dirección y teléfono y lo guarde en un diccionario. Después debe mostrar por pantalla el mensaje **nombre** tiene **edad** años, vive en **dirección** y su número de teléfono es **teléfono**"
   ]
  },
  {
   "cell_type": "code",
   "execution_count": 13,
   "metadata": {
    "slideshow": {
     "slide_type": "fragment"
    }
   },
   "outputs": [
    {
     "name": "stdout",
     "output_type": "stream",
     "text": [
      "Ingrese su nombre: Miguel\n",
      "Ingrese su edad: 31\n",
      "Ingrese su dirección: calle 123\n",
      "Ingrese su teléfono: 452546243\n",
      "Miguel tiene 31 años, vive en calle 123 y su número de teléfono es 452546243\n"
     ]
    }
   ],
   "source": [
    "# Solución [\"llave\":<valor>]\n",
    "var_miDiccionario = {\"Nombre\": None, \"Edad\": None , \"Dirección\" : None, \"Teléfono\" : None }\n",
    "var_textoSalida = \"{Nombre} tiene {Edad} años, vive en {Dirección} y su número de teléfono es {Teléfono}\"\n",
    "for key in var_miDiccionario.keys():\n",
    "    var_miDiccionario[key] = input(\"Ingrese su {llave}: \".format(llave = key.lower()))\n",
    "print(var_textoSalida.format(**var_miDiccionario))"
   ]
  },
  {
   "cell_type": "markdown",
   "metadata": {
    "slideshow": {
     "slide_type": "subslide"
    }
   },
   "source": [
    "Escribir un programa que guarde en un diccionario los precios de las frutas de la tabla, pregunte al usuario por una fruta, un número de kilos y muestre por pantalla el precio de ese número de kilos de fruta. Si la fruta no está en el diccionario debe mostrar un mensaje informando de ello.\n",
    "\n",
    "|fruta|precio|\n",
    "|:-:|:-:|\n",
    "|Plátano|1.35|\n",
    "|Manzana|0.80|\n",
    "|Pera|0.85|\n",
    "|Naranja|0.70|"
   ]
  },
  {
   "cell_type": "code",
   "execution_count": null,
   "metadata": {
    "slideshow": {
     "slide_type": "fragment"
    }
   },
   "outputs": [],
   "source": [
    "# Solución\n",
    "var_dictFruits,var_input = {}, None\n",
    "var_textInputFruits = \"Ingrese una fruta con su precio separado por coma: \"\n",
    "while var_input != \"\":\n",
    "    var_input = input(var_textInputFruits)\n",
    "    if (var_input != \"\"):\n",
    "        var_input = var_input.split(',')\n",
    "        var_fruitName, var_fruitPrice = var_input[0], float(var_input[1])\n",
    "        print(var_fruitName, var_fruitPrice)\n",
    "        var_dictFruits[var_fruitName] = var_fruitPrice\n",
    "while var_input != \"NO\":\n",
    "    var_input = input(\"Desea consultar un producto? \")\n",
    "    if (var_input == \"SI\"):\n",
    "        var_input2 = input(\"Que producto desea consultar? \")\n",
    "        var_value = var_dictFruits.get(var_input2, -1)\n",
    "        if (var_value == -1):\n",
    "            print(\"Producto no encontrado\")\n",
    "        else:\n",
    "            var_input3 = float(input(\"Ingrese el peso: \"))\n",
    "            print(\"El valor de {peso} de {fruta} es: {valor}\".format(peso = var_input3, fruta = var_input2, valor = (var_value * var_input3)))"
   ]
  },
  {
   "cell_type": "markdown",
   "metadata": {
    "slideshow": {
     "slide_type": "subslide"
    }
   },
   "source": [
    "Escribir un programa que almacene el diccionario con los créditos de las asignaturas de un curso {'Matemáticas': 6, 'Física': 4, 'Química': 5} y después muestre por pantalla los créditos de cada asignatura en el formato **asignatura** tiene **créditos** créditos, donde **asignatura** es cada una de las asignaturas del curso, y **créditos** son sus créditos. Al final debe mostrar también el número total de créditos del curso."
   ]
  },
  {
   "cell_type": "code",
   "execution_count": 18,
   "metadata": {
    "slideshow": {
     "slide_type": "fragment"
    }
   },
   "outputs": [
    {
     "name": "stdout",
     "output_type": "stream",
     "text": [
      "Matemáticas tiene 6 créditos\n",
      "Física tiene 4 créditos\n",
      "Química tiene 5 créditos\n",
      "El número total de créditos del curso 15\n"
     ]
    }
   ],
   "source": [
    "# Solución\n",
    "var_dictAsignaturas ={'Matemáticas': 6, 'Física': 4, 'Química': 5} \n",
    "var_salidaAsignaturas = \"{asignatura} tiene {creditos} créditos\"\n",
    "for key,value in var_dictAsignaturas.items():\n",
    "    print(var_salidaAsignaturas.format(asignatura = key, creditos = value))\n",
    "print(\"El número total de créditos del curso\",sum(var_dictAsignaturas.values()))"
   ]
  },
  {
   "cell_type": "markdown",
   "metadata": {
    "slideshow": {
     "slide_type": "subslide"
    }
   },
   "source": [
    "Escribir un programa que almacene las asignaturas de un curso (por ejemplo Matemáticas, Física, Química, Historia y Lengua) en una lista, pregunte al usuario la nota que ha sacado en cada asignatura, y después las muestre por pantalla con el mensaje En **asignatura** has sacado **nota** donde **asignatura** es cada una des las asignaturas de la lista y **nota** cada una de las correspondientes notas introducidas por el usuario."
   ]
  },
  {
   "cell_type": "code",
   "execution_count": null,
   "metadata": {
    "slideshow": {
     "slide_type": "fragment"
    }
   },
   "outputs": [],
   "source": [
    "# Solución"
   ]
  },
  {
   "cell_type": "markdown",
   "metadata": {
    "slideshow": {
     "slide_type": "subslide"
    }
   },
   "source": [
    "Escribir un programa que pida al usuario una palabra y muestre por pantalla si es un palíndromo."
   ]
  },
  {
   "cell_type": "code",
   "execution_count": 32,
   "metadata": {
    "slideshow": {
     "slide_type": "fragment"
    }
   },
   "outputs": [
    {
     "name": "stdout",
     "output_type": "stream",
     "text": [
      "Ingrese una palabra: yodelominimoledoy\n",
      "la palabra es un palindromo\n"
     ]
    }
   ],
   "source": [
    "# Solución\n",
    "var_texto = input(\"Ingrese una palabra: \")\n",
    "var_entrada = list(var_texto)\n",
    "var_palabraReversa = list(var_texto)\n",
    "var_palabraReversa.reverse()\n",
    "if var_entrada == var_palabraReversa:\n",
    "    print(\"la palabra es un palindromo\")\n",
    "else:\n",
    "    print(\"la palabra no es palindromo\")"
   ]
  },
  {
   "cell_type": "markdown",
   "metadata": {
    "slideshow": {
     "slide_type": "subslide"
    }
   },
   "source": [
    "## Tipos de datos"
   ]
  },
  {
   "cell_type": "markdown",
   "metadata": {
    "slideshow": {
     "slide_type": "subslide"
    }
   },
   "source": [
    "### Tuplas"
   ]
  },
  {
   "cell_type": "markdown",
   "metadata": {
    "slideshow": {
     "slide_type": "subslide"
    }
   },
   "source": [
    "- Similares a las listas.\n",
    "- Inmutables.\n",
    "- A diferencia de los diccionarios y las listas, los objetos se deben colocar entre parentesis."
   ]
  },
  {
   "cell_type": "markdown",
   "metadata": {
    "slideshow": {
     "slide_type": "subslide"
    }
   },
   "source": [
    "#### Sintaxis\n",
    "\n",
    "```python\n",
    "var_tupla = (1,2,3)\n",
    "print(var_tupla)\n",
    "```"
   ]
  },
  {
   "cell_type": "markdown",
   "metadata": {
    "slideshow": {
     "slide_type": "subslide"
    }
   },
   "source": [
    "#### Ejemplo 01\n",
    "\n",
    "Crear una tupla con elementos."
   ]
  },
  {
   "cell_type": "code",
   "execution_count": 34,
   "metadata": {
    "slideshow": {
     "slide_type": "fragment"
    }
   },
   "outputs": [
    {
     "name": "stdout",
     "output_type": "stream",
     "text": [
      "(1, 2, 3, 4, 5, 4) <class 'tuple'>\n"
     ]
    }
   ],
   "source": [
    "var_miTupla = (1,2,3,4,5,4)\n",
    "print(var_miTupla, type(var_miTupla))"
   ]
  },
  {
   "cell_type": "markdown",
   "metadata": {
    "slideshow": {
     "slide_type": "subslide"
    }
   },
   "source": [
    "#### Ejemplo 02\n",
    "\n",
    "Crear una tupla utilizando la funcion tuple()\n",
    "\n",
    "```python\n",
    "var_miTupla = tuple(<iterable>)\n",
    "```"
   ]
  },
  {
   "cell_type": "code",
   "execution_count": 44,
   "metadata": {
    "slideshow": {
     "slide_type": "fragment"
    }
   },
   "outputs": [
    {
     "name": "stdout",
     "output_type": "stream",
     "text": [
      "('1', '2', '3', '4', '5') <class 'tuple'>\n",
      "(1, 2, 3, 4, 5) <class 'tuple'>\n",
      "(('nombre', 123), ('nombre2', 1)) <class 'tuple'>\n"
     ]
    }
   ],
   "source": [
    "var_miTupla = tuple(\"12345\")\n",
    "var_miTupla2 = tuple([1,2,3,4,5])\n",
    "var_miTupla3 = tuple({\"nombre\":123,\"nombre2\":1}.items())\n",
    "print(var_miTupla, type(var_miTupla))\n",
    "print(var_miTupla2, type(var_miTupla2))\n",
    "print(var_miTupla3, type(var_miTupla3))"
   ]
  },
  {
   "cell_type": "markdown",
   "metadata": {
    "slideshow": {
     "slide_type": "subslide"
    }
   },
   "source": [
    "#### Ejemplo 03\n",
    "\n",
    "Obtener un valor de una tupla"
   ]
  },
  {
   "cell_type": "code",
   "execution_count": 48,
   "metadata": {
    "slideshow": {
     "slide_type": "fragment"
    }
   },
   "outputs": [
    {
     "name": "stdout",
     "output_type": "stream",
     "text": [
      "1 <class 'str'>\n"
     ]
    }
   ],
   "source": [
    "var_miTupla = tuple(\"12345\")\n",
    "var_index = 0\n",
    "print(var_miTupla[var_index], type(var_miTupla[var_index]))\n"
   ]
  },
  {
   "cell_type": "markdown",
   "metadata": {
    "slideshow": {
     "slide_type": "subslide"
    }
   },
   "source": [
    "#### Ejemplo 04\n",
    "\n",
    "Iterar una tupla"
   ]
  },
  {
   "cell_type": "code",
   "execution_count": 50,
   "metadata": {
    "slideshow": {
     "slide_type": "fragment"
    }
   },
   "outputs": [
    {
     "name": "stdout",
     "output_type": "stream",
     "text": [
      "1 <class 'int'>\n",
      "2 <class 'str'>\n",
      "3.24 <class 'float'>\n",
      "4 <class 'str'>\n",
      "False <class 'bool'>\n",
      "None <class 'NoneType'>\n",
      "[] <class 'list'>\n",
      "{} <class 'dict'>\n",
      "() <class 'tuple'>\n"
     ]
    }
   ],
   "source": [
    "var_miTupla = tuple([1,\"2\",3.24,\"4\",False, None,[],{},()])\n",
    "for value in var_miTupla:\n",
    "    print(value, type(value))"
   ]
  },
  {
   "cell_type": "markdown",
   "metadata": {
    "slideshow": {
     "slide_type": "subslide"
    }
   },
   "source": [
    "#### Ejemplo 05\n",
    "\n",
    "Asignar el valor de una tupla a **n** variables "
   ]
  },
  {
   "cell_type": "code",
   "execution_count": 63,
   "metadata": {
    "slideshow": {
     "slide_type": "fragment"
    }
   },
   "outputs": [
    {
     "name": "stdout",
     "output_type": "stream",
     "text": [
      "1\n",
      "1 2 3 4 5\n"
     ]
    }
   ],
   "source": [
    "var_miTupla = tuple(\"12345\")\n",
    "a,b,c,d,e = var_miTupla\n",
    "print(var_miTupla.count(\"3\"))\n",
    "print(a,b,c,d,e)"
   ]
  }
 ],
 "metadata": {
  "celltoolbar": "Slideshow",
  "kernelspec": {
   "display_name": "Python 3",
   "language": "python",
   "name": "python3"
  },
  "language_info": {
   "codemirror_mode": {
    "name": "ipython",
    "version": 3
   },
   "file_extension": ".py",
   "mimetype": "text/x-python",
   "name": "python",
   "nbconvert_exporter": "python",
   "pygments_lexer": "ipython3",
   "version": "3.7.4"
  }
 },
 "nbformat": 4,
 "nbformat_minor": 4
}
