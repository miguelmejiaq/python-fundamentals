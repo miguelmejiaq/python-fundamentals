{
 "cells": [
  {
   "cell_type": "markdown",
   "metadata": {
    "slideshow": {
     "slide_type": "slide"
    }
   },
   "source": [
    "## <br/>\n",
    "\n",
    "## Sesión 14 - enumerate, Break, continue & Funciones 02\n",
    "\n",
    "# Fundamentos de Programación\n",
    "\n",
    "<br/>\n",
    "Iniciamos <b>6:15pm</b>"
   ]
  },
  {
   "cell_type": "markdown",
   "metadata": {
    "slideshow": {
     "slide_type": "slide"
    }
   },
   "source": [
    "### Temario"
   ]
  },
  {
   "cell_type": "markdown",
   "metadata": {
    "slideshow": {
     "slide_type": "subslide"
    }
   },
   "source": [
    "- Enumerate\n",
    "    - Definición\n",
    "    - sintaxis\n",
    "    - Ejemplo\n",
    "- Break / Continue\n",
    "    - Definición\n",
    "    - Ejemplo\n",
    "- Funciones.\n",
    "    - Documentación.\n",
    "    - Decoradores.\n",
    "    - Funciones de atributos variables.\n",
    "    - Recursividad."
   ]
  },
  {
   "cell_type": "markdown",
   "metadata": {
    "slideshow": {
     "slide_type": "slide"
    }
   },
   "source": [
    "### Enumerate"
   ]
  },
  {
   "cell_type": "markdown",
   "metadata": {
    "slideshow": {
     "slide_type": "subslide"
    }
   },
   "source": [
    "- Permite iterar listas basadas en indices.\n",
    "- Retorna el indice y el valor asociado a ese item."
   ]
  },
  {
   "cell_type": "markdown",
   "metadata": {
    "slideshow": {
     "slide_type": "subslide"
    }
   },
   "source": [
    "### Sintaxis"
   ]
  },
  {
   "cell_type": "markdown",
   "metadata": {
    "slideshow": {
     "slide_type": "subslide"
    }
   },
   "source": [
    "```python\n",
    "# Utilizamos la función enumerate que recibe un iterador para el procesamiento\n",
    "enumerate(<iterable>)\n",
    "```"
   ]
  },
  {
   "cell_type": "markdown",
   "metadata": {
    "slideshow": {
     "slide_type": "subslide"
    }
   },
   "source": [
    "### Ejemplo"
   ]
  },
  {
   "cell_type": "code",
   "execution_count": null,
   "metadata": {
    "slideshow": {
     "slide_type": "subslide"
    }
   },
   "outputs": [],
   "source": [
    "var_lista = [1,2,30,4,5]\n",
    "# Iterar var_lista para obtener el indice y el valor por cada item\n",
    "for key,item in enumerate(var_lista):\n",
    "    print(key,item)   "
   ]
  },
  {
   "cell_type": "markdown",
   "metadata": {
    "slideshow": {
     "slide_type": "slide"
    }
   },
   "source": [
    "### Break"
   ]
  },
  {
   "cell_type": "markdown",
   "metadata": {
    "slideshow": {
     "slide_type": "subslide"
    }
   },
   "source": [
    "- Altera el comportamiento del while y el for.\n",
    "- Cuando se detecta la linea, se termina con el bucle.\n",
    "\n",
    "- palabra reservada **break**"
   ]
  },
  {
   "cell_type": "code",
   "execution_count": 1,
   "metadata": {
    "slideshow": {
     "slide_type": "subslide"
    }
   },
   "outputs": [
    {
     "name": "stdout",
     "output_type": "stream",
     "text": [
      "17\n",
      "Aca termino\n"
     ]
    }
   ],
   "source": [
    "var_numero = 1203457684823\n",
    "var_esPrimo = True\n",
    "for i in range(2, var_numero):\n",
    "    if var_numero % i == 0:\n",
    "        print(i)\n",
    "        var_esPrimo = False\n",
    "        break\n",
    "print(\"Aca termino\")"
   ]
  },
  {
   "cell_type": "markdown",
   "metadata": {
    "slideshow": {
     "slide_type": "slide"
    }
   },
   "source": [
    "### Continue"
   ]
  },
  {
   "cell_type": "markdown",
   "metadata": {
    "slideshow": {
     "slide_type": "subslide"
    }
   },
   "source": [
    "- Altera el comportamiento del while y el for.\n",
    "- Cuando se detecta la linea, se salta las siguientes lineas de ejecución sin terminar el bucle.\n",
    "- palabra reservada **continue**"
   ]
  },
  {
   "cell_type": "code",
   "execution_count": 11,
   "metadata": {
    "slideshow": {
     "slide_type": "subslide"
    }
   },
   "outputs": [
    {
     "name": "stdout",
     "output_type": "stream",
     "text": [
      "1\n",
      "2\n",
      "7\n",
      "8\n",
      "13\n",
      "14\n",
      "19\n",
      "20\n",
      "25\n",
      "aca sigue mi código\n"
     ]
    }
   ],
   "source": [
    "var_contador = 0\n",
    "while True:\n",
    "    var_contador += 1\n",
    "    if var_contador >= 3 and var_contador % 3 == 0:\n",
    "        var_contador += 3\n",
    "        continue\n",
    "    print(var_contador)\n",
    "    if var_contador >= 25:\n",
    "        break\n",
    "print(\"aca sigue mi código\")"
   ]
  },
  {
   "cell_type": "markdown",
   "metadata": {
    "slideshow": {
     "slide_type": "slide"
    }
   },
   "source": [
    "### Funciones"
   ]
  },
  {
   "cell_type": "markdown",
   "metadata": {
    "slideshow": {
     "slide_type": "subslide"
    }
   },
   "source": [
    "### Documentación"
   ]
  },
  {
   "cell_type": "markdown",
   "metadata": {
    "slideshow": {
     "slide_type": "subslide"
    }
   },
   "source": [
    "- Permite adicionar información respecto a la función que se ha creado.\n",
    "- Se pueden dar ejemplos y las salidas para tener mas claro el funcionamiento.\n",
    "- Se pueden añadir los parámetros de entrada, tipos de dato y opcionales.\n",
    "- Se puede definir el tipo de retorno.\n",
    "- Ayuda al programador a justificar la función."
   ]
  },
  {
   "cell_type": "code",
   "execution_count": 18,
   "metadata": {
    "slideshow": {
     "slide_type": "subslide"
    }
   },
   "outputs": [
    {
     "name": "stdout",
     "output_type": "stream",
     "text": [
      "64\n"
     ]
    }
   ],
   "source": [
    "def fn_calcularPotencia(numero, potencia):\n",
    "    \"\"\"\n",
    "    Descripción:\n",
    "        Retorna un número (que se ingresa por parámetro, elevado a una potencia que también viene por parámetro)\n",
    "    Entradas:\n",
    "        [Requerido] numero (int,float): Número que se va a elevar.\n",
    "        [Requerido] potencia (int,float): Potencia que se va a aplicar al número\n",
    "    Retorno:\n",
    "        (int,float): Número elevado a la potencia\n",
    "    Ejemplos:\n",
    "        fn_calcularPotencia(2,3) #8\n",
    "        fn_calcularPotencia(3,3) # 27\n",
    "    \"\"\"\n",
    "    return numero**potencia\n",
    "print(fn_calcularPotencia(8,2))"
   ]
  },
  {
   "cell_type": "markdown",
   "metadata": {
    "slideshow": {
     "slide_type": "subslide"
    }
   },
   "source": [
    "### Decoradores"
   ]
  },
  {
   "cell_type": "code",
   "execution_count": 42,
   "metadata": {
    "slideshow": {
     "slide_type": "fragment"
    }
   },
   "outputs": [],
   "source": [
    "def fn_crearLog(mensaje, imprimir):\n",
    "    def fn_decorar(funcion):\n",
    "        def fn_ejecutar(*args,**kwargs):\n",
    "            if imprimir:\n",
    "                print(mensaje)\n",
    "            return funcion(*args,**kwargs)\n",
    "        return fn_ejecutar\n",
    "    return fn_decorar"
   ]
  },
  {
   "cell_type": "code",
   "execution_count": 49,
   "metadata": {
    "slideshow": {
     "slide_type": "subslide"
    }
   },
   "outputs": [
    {
     "name": "stdout",
     "output_type": "stream",
     "text": [
      "Aca ejecuto la suma de 2 numeros\n",
      "14\n",
      "Aca ejecuto la resta de 2 numeros\n",
      "3\n"
     ]
    }
   ],
   "source": [
    "var_imprimirMensajes = True\n",
    "@fn_crearLog(\"Aca ejecuto la suma de 2 numeros\",var_imprimirMensajes)\n",
    "def fn_suma(num1, num2):\n",
    "    return num1 + num2\n",
    "@fn_crearLog(\"Aca ejecuto la resta de 2 numeros\",var_imprimirMensajes)\n",
    "def fn_resta(num1, num2):\n",
    "    return num1 - num2\n",
    "print(fn_suma(9,5))\n",
    "print(fn_resta(8,5))"
   ]
  },
  {
   "cell_type": "markdown",
   "metadata": {
    "slideshow": {
     "slide_type": "subslide"
    }
   },
   "source": [
    "### Funciones de atributos variables"
   ]
  },
  {
   "cell_type": "markdown",
   "metadata": {
    "slideshow": {
     "slide_type": "subslide"
    }
   },
   "source": [
    "- Permite utilizar varios objetos sin definir un numero de atributos fijos.\n",
    "- Admite diccionarios, los cuales tambien se pueden procesar desde la función.\n",
    "- Transforma los atributos que se pasan en una tupla para poderse iterar en la función."
   ]
  },
  {
   "cell_type": "code",
   "execution_count": 60,
   "metadata": {
    "slideshow": {
     "slide_type": "subslide"
    }
   },
   "outputs": [
    {
     "name": "stdout",
     "output_type": "stream",
     "text": [
      "27\n"
     ]
    }
   ],
   "source": [
    "def fn_sumarNumeros(*numeros):\n",
    "    var_salida = 0\n",
    "    for numero in numeros:\n",
    "        var_salida += numero\n",
    "    return var_salida\n",
    "\n",
    "print(fn_sumarNumeros(1,2,4,6,5,7,6,9,0,10,-23))"
   ]
  },
  {
   "cell_type": "code",
   "execution_count": 77,
   "metadata": {
    "slideshow": {
     "slide_type": "subslide"
    }
   },
   "outputs": [
    {
     "name": "stdout",
     "output_type": "stream",
     "text": [
      "nombre -> Miguel\n",
      "edad -> 31\n",
      "telefono -> 123456789\n"
     ]
    }
   ],
   "source": [
    "def fn_imprimirValoresDiccionario(**diccionario):\n",
    "    for key,value in diccionario.items():\n",
    "        print(\"{llave} -> {valor}\".format(llave = key, valor = value))\n",
    "\n",
    "fn_imprimirValoresDiccionario(nombre = \"Miguel\", edad = 31, telefono = \"123456789\")"
   ]
  },
  {
   "cell_type": "markdown",
   "metadata": {
    "slideshow": {
     "slide_type": "subslide"
    }
   },
   "source": [
    "### Recursividad"
   ]
  },
  {
   "cell_type": "markdown",
   "metadata": {
    "slideshow": {
     "slide_type": "subslide"
    }
   },
   "source": [
    "- Principio matemático en el que un problema se puede solucionar utilizando la misma solución.\n",
    "- Se basa en el principio de division de subtareas que tienen el mismo proposito.\n",
    "- Se define en función de si misma."
   ]
  },
  {
   "cell_type": "code",
   "execution_count": 88,
   "metadata": {
    "slideshow": {
     "slide_type": "subslide"
    }
   },
   "outputs": [
    {
     "name": "stdout",
     "output_type": "stream",
     "text": [
      "24\n"
     ]
    }
   ],
   "source": [
    "# factorial(1) = 1\n",
    "# factorial(2) = 2 * factorial(1)\n",
    "# factorial(3) = 3 * factorial(2)\n",
    "# factorial(4) = 4 * factorial(3)\n",
    "# factorial(5) = 5 * factorial(4)\n",
    "var_entrada = 4\n",
    "def fn_factorial(numero):\n",
    "    if numero == 1:\n",
    "        return numero\n",
    "    return numero * fn_factorial(numero - 1)\n",
    "\n",
    "print(fn_factorial(var_entrada))"
   ]
  },
  {
   "cell_type": "code",
   "execution_count": null,
   "metadata": {
    "slideshow": {
     "slide_type": "subslide"
    }
   },
   "outputs": [],
   "source": []
  },
  {
   "cell_type": "markdown",
   "metadata": {
    "slideshow": {
     "slide_type": "subslide"
    }
   },
   "source": [
    "### Funciones lambda"
   ]
  },
  {
   "cell_type": "code",
   "execution_count": null,
   "metadata": {
    "slideshow": {
     "slide_type": "subslide"
    }
   },
   "outputs": [],
   "source": []
  },
  {
   "cell_type": "code",
   "execution_count": null,
   "metadata": {
    "slideshow": {
     "slide_type": "subslide"
    }
   },
   "outputs": [],
   "source": []
  },
  {
   "cell_type": "code",
   "execution_count": null,
   "metadata": {
    "slideshow": {
     "slide_type": "subslide"
    }
   },
   "outputs": [],
   "source": []
  }
 ],
 "metadata": {
  "celltoolbar": "Slideshow",
  "kernelspec": {
   "display_name": "Python 3",
   "language": "python",
   "name": "python3"
  },
  "language_info": {
   "codemirror_mode": {
    "name": "ipython",
    "version": 3
   },
   "file_extension": ".py",
   "mimetype": "text/x-python",
   "name": "python",
   "nbconvert_exporter": "python",
   "pygments_lexer": "ipython3",
   "version": "3.7.4"
  }
 },
 "nbformat": 4,
 "nbformat_minor": 2
}
