{
 "cells": [
  {
   "cell_type": "markdown",
   "metadata": {
    "slideshow": {
     "slide_type": "slide"
    }
   },
   "source": [
    "## <br/>\n",
    "\n",
    "## Sesión 14 - Break, continue & Funciones 02\n",
    "\n",
    "# Fundamentos de Programación"
   ]
  },
  {
   "cell_type": "markdown",
   "metadata": {
    "slideshow": {
     "slide_type": "slide"
    }
   },
   "source": [
    "### Temario"
   ]
  },
  {
   "cell_type": "markdown",
   "metadata": {
    "slideshow": {
     "slide_type": "subslide"
    }
   },
   "source": [
    "- Funciones.\n",
    "    - Documentación.\n",
    "    - Decoradores.\n",
    "    - Funciones de atributos variables.\n",
    "    - Recursividad."
   ]
  },
  {
   "cell_type": "markdown",
   "metadata": {
    "slideshow": {
     "slide_type": "slide"
    }
   },
   "source": [
    "### Funciones"
   ]
  },
  {
   "cell_type": "markdown",
   "metadata": {
    "slideshow": {
     "slide_type": "subslide"
    }
   },
   "source": [
    "### Documentación"
   ]
  },
  {
   "cell_type": "markdown",
   "metadata": {
    "slideshow": {
     "slide_type": "subslide"
    }
   },
   "source": [
    "- Permite adicionar información respecto a la función que se ha creado.\n",
    "- Se pueden dar ejemplos y las salidas para tener mas claro el funcionamiento.\n",
    "- Se pueden añadir los parámetros de entrada, tipos de dato y opcionales.\n",
    "- Se puede definir el tipo de retorno.\n",
    "- Ayuda al programador a justificar la función."
   ]
  },
  {
   "cell_type": "code",
   "execution_count": 21,
   "metadata": {
    "slideshow": {
     "slide_type": "subslide"
    }
   },
   "outputs": [
    {
     "name": "stdout",
     "output_type": "stream",
     "text": [
      "Help on function fn_potencia in module __main__:\n",
      "\n",
      "fn_potencia(numero, potencia=2)\n",
      "    Esta función permite elevar a la potencia un numero y retornar su resultado.\n",
      "    Parámetros:\n",
      "        numero = Número que se desea elevar.\n",
      "        potencia (opcional) = Potencia que se va a aplicar al número\n",
      "    return:\n",
      "        Número elevado a la potencia solicitada.\n",
      "    Ejemplo:\n",
      "        fn_potencia(2) # 4\n",
      "        fn_potencia(2,3) # 8\n",
      "\n"
     ]
    }
   ],
   "source": [
    "def fn_potencia(numero, potencia = 2):\n",
    "    \"\"\"\n",
    "    Esta función permite elevar a la potencia un numero y retornar su resultado.\n",
    "    Parámetros:\n",
    "        numero = Número que se desea elevar.\n",
    "        potencia (opcional) = Potencia que se va a aplicar al número\n",
    "    return:\n",
    "        Número elevado a la potencia solicitada.\n",
    "    Ejemplo:\n",
    "        fn_potencia(2) # 4\n",
    "        fn_potencia(2,3) # 8\n",
    "    \"\"\"\n",
    "    return numero**potencia\n",
    "help(fn_potencia)"
   ]
  },
  {
   "cell_type": "markdown",
   "metadata": {
    "slideshow": {
     "slide_type": "subslide"
    }
   },
   "source": [
    "### Decoradores"
   ]
  },
  {
   "cell_type": "code",
   "execution_count": 11,
   "metadata": {
    "slideshow": {
     "slide_type": "fragment"
    }
   },
   "outputs": [],
   "source": [
    "def fn_decorar(funcion):\n",
    "    def fn_decorar():\n",
    "        print(\"Viene del decorador\")\n",
    "    def fn_ejecutar(*args, **kwargs):\n",
    "        fn_decorar()\n",
    "        return funcion(*args,**kwargs)\n",
    "    return fn_ejecutar"
   ]
  },
  {
   "cell_type": "code",
   "execution_count": 12,
   "metadata": {
    "slideshow": {
     "slide_type": "subslide"
    }
   },
   "outputs": [
    {
     "name": "stdout",
     "output_type": "stream",
     "text": [
      "Viene del decorador\n",
      "3\n",
      "Viene del decorador\n",
      "1\n"
     ]
    }
   ],
   "source": [
    "@fn_decorar\n",
    "def fn_sumar(numero1, numero2):\n",
    "    print(numero1 + numero2)\n",
    "@fn_decorar\n",
    "def fn_restar(numero1, numero2):\n",
    "    print(numero1 - numero2)\n",
    "\n",
    "fn_sumar(1,2)\n",
    "fn_restar(2,1)"
   ]
  },
  {
   "cell_type": "markdown",
   "metadata": {
    "slideshow": {
     "slide_type": "subslide"
    }
   },
   "source": [
    "### Funciones de atributos variables"
   ]
  },
  {
   "cell_type": "markdown",
   "metadata": {
    "slideshow": {
     "slide_type": "subslide"
    }
   },
   "source": [
    "- Permite utilizar varios objetos sin definir un numero de atributos fijos.\n",
    "- Admite diccionarios, los cuales tambien se pueden procesar desde la función.\n",
    "- Transforma los atributos que se pasan en una tupla para poderse iterar en la función."
   ]
  },
  {
   "cell_type": "code",
   "execution_count": 28,
   "metadata": {
    "slideshow": {
     "slide_type": "subslide"
    }
   },
   "outputs": [
    {
     "name": "stdout",
     "output_type": "stream",
     "text": [
      "10\n"
     ]
    }
   ],
   "source": [
    "def fn_sumarNumeros(*numeros):\n",
    "    var_salida = 0\n",
    "    for i in numeros:\n",
    "        var_salida += i\n",
    "    return var_salida\n",
    "print(fn_sumarNumeros(1,2,3,4))"
   ]
  },
  {
   "cell_type": "code",
   "execution_count": 39,
   "metadata": {
    "slideshow": {
     "slide_type": "subslide"
    }
   },
   "outputs": [
    {
     "name": "stdout",
     "output_type": "stream",
     "text": [
      "nombre -> Miguel\n",
      "edad -> 20\n"
     ]
    }
   ],
   "source": [
    "def fn_imprimirDiccionario(**diccionario):\n",
    "    for key,value in diccionario.items():\n",
    "        print(\"{llave} -> {valor}\".format(llave = key, valor = value))\n",
    "fn_imprimirDiccionario(nombre = \"Miguel\", edad = 20)"
   ]
  },
  {
   "cell_type": "markdown",
   "metadata": {
    "slideshow": {
     "slide_type": "subslide"
    }
   },
   "source": [
    "### Recursividad"
   ]
  },
  {
   "cell_type": "markdown",
   "metadata": {
    "slideshow": {
     "slide_type": "subslide"
    }
   },
   "source": [
    "- Principio matemático en el que un problema se puede solucionar utilizando la misma solución.\n",
    "- Se basa en el principio de division de subtareas que tienen el mismo proposito.\n",
    "- Se define en función de si misma."
   ]
  },
  {
   "cell_type": "code",
   "execution_count": 44,
   "metadata": {
    "slideshow": {
     "slide_type": "subslide"
    }
   },
   "outputs": [
    {
     "name": "stdout",
     "output_type": "stream",
     "text": [
      "El factorial de 3 es 6\n"
     ]
    }
   ],
   "source": [
    "def fn_factorial(numero):\n",
    "    if (numero == 1):\n",
    "        return numero\n",
    "    return numero * fn_factorial(numero -1)\n",
    "var_numero = 3\n",
    "print(\"El factorial de {numero} es {resultado}\".format(numero = var_numero, resultado = fn_factorial(3)))"
   ]
  },
  {
   "cell_type": "code",
   "execution_count": 45,
   "metadata": {
    "slideshow": {
     "slide_type": "subslide"
    }
   },
   "outputs": [
    {
     "name": "stdout",
     "output_type": "stream",
     "text": [
      "El 7 número en la serie de fibonacci es 13\n"
     ]
    }
   ],
   "source": [
    "def fn_serieFibonacci(numero):\n",
    "    if numero in (0,1):\n",
    "        return numero\n",
    "    return fn_serieFibonacci(numero-2) + fn_serieFibonacci(numero -1)\n",
    "var_numero = 7\n",
    "var_textoSalida = \"El {numero} número en la serie de fibonacci es {resultado}\"\n",
    "print(var_textoSalida.format(numero = var_numero, resultado = fn_serieFibonacci(7)))"
   ]
  },
  {
   "cell_type": "markdown",
   "metadata": {
    "slideshow": {
     "slide_type": "subslide"
    }
   },
   "source": [
    "### Funciones lambda"
   ]
  },
  {
   "cell_type": "code",
   "execution_count": 46,
   "metadata": {
    "slideshow": {
     "slide_type": "subslide"
    }
   },
   "outputs": [
    {
     "name": "stdout",
     "output_type": "stream",
     "text": [
      "6\n"
     ]
    }
   ],
   "source": [
    "suma = lambda a,b: a + b\n",
    "print (suma(2,4))"
   ]
  },
  {
   "cell_type": "code",
   "execution_count": 48,
   "metadata": {
    "slideshow": {
     "slide_type": "subslide"
    }
   },
   "outputs": [
    {
     "name": "stdout",
     "output_type": "stream",
     "text": [
      "[1, 4, 9, 16, 25, 36, 49, 64, 81, 100]\n"
     ]
    }
   ],
   "source": [
    "numeros = list(map(lambda x: x**2, range(1,11)))\n",
    "print(numeros)"
   ]
  },
  {
   "cell_type": "code",
   "execution_count": 51,
   "metadata": {
    "slideshow": {
     "slide_type": "subslide"
    }
   },
   "outputs": [
    {
     "name": "stdout",
     "output_type": "stream",
     "text": [
      "[1, 4, 9, 16, 25, 36, 49, 64, 81, 100]\n"
     ]
    }
   ],
   "source": [
    "def fn_calcularPotencia(numero):\n",
    "    return numero ** 2\n",
    "numeros = list(map(lambda x: fn_calcularPotencia(x), range(1,11)))\n",
    "print(numeros)"
   ]
  }
 ],
 "metadata": {
  "celltoolbar": "Slideshow",
  "kernelspec": {
   "display_name": "Python 3",
   "language": "python",
   "name": "python3"
  },
  "language_info": {
   "codemirror_mode": {
    "name": "ipython",
    "version": 3
   },
   "file_extension": ".py",
   "mimetype": "text/x-python",
   "name": "python",
   "nbconvert_exporter": "python",
   "pygments_lexer": "ipython3",
   "version": "3.7.4"
  }
 },
 "nbformat": 4,
 "nbformat_minor": 2
}
