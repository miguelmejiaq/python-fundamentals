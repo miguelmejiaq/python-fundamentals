{
 "cells": [
  {
   "cell_type": "markdown",
   "metadata": {
    "slideshow": {
     "slide_type": "slide"
    }
   },
   "source": [
    "<br/>\n",
    "\n",
    "## Sesión 2\n",
    "\n",
    "# Fundamentos de Programación\n",
    "\n",
    "\n",
    "\n"
   ]
  },
  {
   "cell_type": "markdown",
   "metadata": {
    "slideshow": {
     "slide_type": "subslide"
    }
   },
   "source": [
    "## Temario"
   ]
  },
  {
   "cell_type": "markdown",
   "metadata": {
    "slideshow": {
     "slide_type": "subslide"
    }
   },
   "source": [
    "### Semana 1\n",
    "\n",
    "- <s>Presentación del curso.\n",
    "    - Presentación del docente.\n",
    "    - Reglas Generales.\n",
    "    - Retos.\n",
    "    - Miscelanea.\n",
    "- Computación.\n",
    "    - Hardware/Software.\n",
    "    - Estructura funcional.\n",
    "- Metodología de programación.\n",
    "    - Definición.\n",
    "    - Ejemplos.\n",
    "    - Fases de programación.</s>"
   ]
  },
  {
   "cell_type": "markdown",
   "metadata": {
    "slideshow": {
     "slide_type": "subslide"
    }
   },
   "source": [
    "### Semana 1\n",
    "- Paradigmas de programación.\n",
    "    - Imperativa.\n",
    "        - Estructurado.\n",
    "        - Procedimental.\n",
    "        - Orientado a objetos.\n",
    "    - Declarativa.\n",
    "        - Lógica.\n",
    "        - Funcional."
   ]
  },
  {
   "cell_type": "markdown",
   "metadata": {
    "slideshow": {
     "slide_type": "subslide"
    }
   },
   "source": [
    "### Semana 1\n",
    "\n",
    "- Lenguajes de programación.\n",
    "    - Introducción a los lenguajes de programación.\n",
    "    - Lenguaje Compilado.\n",
    "    - Lenguaje Interpretado.\n",
    "- Entornos de desarrollo.\n",
    "- Diagramas de flujo.\n",
    "- Algoritmos.\n",
    "- Seudocodigo.\n",
    "- Python.\n",
    "    - Historia.\n",
    "    - Aplicaciones.\n",
    "- <b>Extra: </b>Repositorios de código."
   ]
  },
  {
   "cell_type": "markdown",
   "metadata": {
    "slideshow": {
     "slide_type": "slide"
    }
   },
   "source": [
    "## Miscelanea\n",
    "\n",
    "**¿ Cúal es la fecha límite para la entrega de los retos?**\n",
    "\n",
    "El domingo antes de las 9:00pm de la semana que finaliza el reto (para reto 1 y reto 5, seria el domingo de la semana 2 y 7 respectivamente).\n",
    "\n",
    "**¿ Cuando inicia el curso de ingles?**\n",
    "\n",
    "La semana que viene."
   ]
  },
  {
   "cell_type": "markdown",
   "metadata": {
    "slideshow": {
     "slide_type": "slide"
    }
   },
   "source": [
    "## Paradigmas de programación"
   ]
  },
  {
   "cell_type": "markdown",
   "metadata": {
    "slideshow": {
     "slide_type": "subslide"
    }
   },
   "source": [
    "- Representación de un enfoque de programación.\n",
    "- Permite la generación de soluciones con un conjunto de normas específicas.\n",
    "- Propuesta tecnológica adoptada por una comunidad de programadores.\n",
    "- Imperativa y Declarativa."
   ]
  },
  {
   "cell_type": "markdown",
   "metadata": {
    "slideshow": {
     "slide_type": "subslide"
    }
   },
   "source": [
    "### Programación Imperativa"
   ]
  },
  {
   "cell_type": "markdown",
   "metadata": {
    "slideshow": {
     "slide_type": "subslide"
    }
   },
   "source": [
    "- Consiste en una secuencia claramente definida de instrucciones para ejecutar en el ordenador.\n",
    "- El código fuente encadena instrucciones que debe ejecutar en cada momento el ordenador para alcanzar un resultado.\n",
    "- Para gestionar las instrucciones, se integran estructuras de control como bucles o anidamientos.\n",
    "- Las variables se modifican durante la ejecución del programa.\n",
    "- Código altamente comprensible."
   ]
  },
  {
   "cell_type": "markdown",
   "metadata": {
    "slideshow": {
     "slide_type": "subslide"
    }
   },
   "source": [
    "### Programación estructurada\n",
    "\n",
    "<br/>\n",
    "\n",
    "- Método tradicional de programación.\n",
    "- Ejecución de forma secuencial.\n",
    "- <b>Excepción:</b> Cuando se tiene una estructura de control (if, while, etc) que provoca un salto en la secuencia.\n",
    "- Definición del algoritmo.\n",
    "- Conversion del algoritmo en una secuencia de ordenes.\n",
    "\n",
    "<br/>\n",
    "<center>\n",
    "    <img src=\"Images/icons/python.png\" width=\"150\" />\n",
    "</center>"
   ]
  },
  {
   "cell_type": "code",
   "execution_count": 39,
   "metadata": {
    "slideshow": {
     "slide_type": "subslide"
    }
   },
   "outputs": [
    {
     "name": "stdout",
     "output_type": "stream",
     "text": [
      "24\n",
      "225\n",
      "187\n"
     ]
    }
   ],
   "source": [
    "# Realizo la suma\n",
    "var_result = 4 * 6\n",
    "# Imprimo el resultado\n",
    "print(var_result)\n",
    "var_result = 9 * 25\n",
    "# Imprimo el resultado\n",
    "print(var_result)\n",
    "var_result = 11 * 17\n",
    "# Imprimo el resultado\n",
    "print(var_result)"
   ]
  },
  {
   "cell_type": "markdown",
   "metadata": {
    "slideshow": {
     "slide_type": "subslide"
    }
   },
   "source": [
    "### Programación Procedimental\n",
    "\n",
    "<br/>\n",
    "\n",
    "- Agrupa una serie de instrucciones dentro de un procedimiento o una función.\n",
    "- Se ejecuta cada vez que sea invocado.\n",
    "\n",
    "<br/>\n",
    "<center>\n",
    "    <img src=\"Images/icons/python.png\" width=\"150\" />\n",
    "</center>"
   ]
  },
  {
   "cell_type": "code",
   "execution_count": 48,
   "metadata": {
    "slideshow": {
     "slide_type": "subslide"
    }
   },
   "outputs": [
    {
     "name": "stdout",
     "output_type": "stream",
     "text": [
      "50\n"
     ]
    }
   ],
   "source": [
    "# Defino una función de suma\n",
    "def fn_miFuncion(letra1, num_b): # <apuntador 1>\n",
    "    # devolverte un valor\n",
    "    print( letra1 * num_b)\n",
    "    \n",
    "# Obtengo el resultado llamando la función de suma\n",
    "fn_miFuncion(5, 10)"
   ]
  },
  {
   "cell_type": "markdown",
   "metadata": {
    "slideshow": {
     "slide_type": "subslide"
    }
   },
   "source": [
    "### Programación Orientada a Objetos (POO)\n",
    "\n",
    "- Transformación de objetos del mundo real en entidades computacionales.\n",
    "- Compuestas por atributos y métodos.\n",
    "- Permiten aislar el código en clases.\n",
    "- Encapsulamiento.\n",
    "- Cohesion.\n",
    "- Desacoplamiento de código.\n",
    "\n",
    "\n",
    "<br/>\n",
    "<center>\n",
    "    <img src=\"Images/icons/python.png\" width=\"150\" />\n",
    "</center>"
   ]
  },
  {
   "cell_type": "code",
   "execution_count": 64,
   "metadata": {
    "slideshow": {
     "slide_type": "subslide"
    }
   },
   "outputs": [],
   "source": [
    "# Definición de la clase Lata\n",
    "class Lata:\n",
    "    # Defino atributos para mi lata\n",
    "    datos = \"La lata es de {} y contiene {} mililitros\"\n",
    "    tipoLata = \"\"\n",
    "    ml = 0\n",
    "    # Constructor\n",
    "    def __init__(self,tipoLata, mililitros):\n",
    "        # Defino parametros de mi objeto\n",
    "        self.tipoLata = tipoLata\n",
    "        self.ml = mililitros\n",
    "    # Creo una funcion para imprimir los datos de la lada\n",
    "    def fn_imprimirDatos(self):\n",
    "        print(self.datos.format(self.tipoLata,self.ml))\n",
    "    def fn_abrirLata(self):\n",
    "        print(\"Se abrio la lata de {} de {} mililitros\".format(self.tipoLata,self.ml))"
   ]
  },
  {
   "cell_type": "code",
   "execution_count": 67,
   "metadata": {
    "slideshow": {
     "slide_type": "fragment"
    }
   },
   "outputs": [
    {
     "name": "stdout",
     "output_type": "stream",
     "text": [
      "Se abrio la lata de tomate de 500 mililitros\n"
     ]
    }
   ],
   "source": [
    "var_lata1 = Lata(\"tomate\",500)\n",
    "var_lata1.fn_abrirLata()"
   ]
  },
  {
   "cell_type": "markdown",
   "metadata": {
    "slideshow": {
     "slide_type": "slide"
    }
   },
   "source": [
    "## Programación declarativa"
   ]
  },
  {
   "cell_type": "markdown",
   "metadata": {
    "slideshow": {
     "slide_type": "fragment"
    }
   },
   "source": [
    "- A diferencia de la programación imperativa, describe el <b>Qué</b>.\n",
    "- Abstracción del código fuente.\n",
    "- Uso de algoritmos que encuentra y utilizan automáticamente los métodos adecuados.\n",
    "- Considerablemente mas rápido.\n",
    "- Programación funcional."
   ]
  },
  {
   "cell_type": "code",
   "execution_count": 72,
   "metadata": {
    "slideshow": {
     "slide_type": "subslide"
    }
   },
   "outputs": [
    {
     "name": "stdout",
     "output_type": "stream",
     "text": [
      "[1, 2, 3, 4, 5, 6, 7, 8, 9, 10]\n",
      "[1, 4, 9, 16, 25, 36, 49, 64, 81, 100]\n"
     ]
    }
   ],
   "source": [
    "# Tengo una lista de numeros del 1 al 10 y quiero elevar al cuadrado cada numero.\n",
    "items = list(range(1,11))\n",
    "\n",
    "# Método imperativo\n",
    "cuadrados = []\n",
    "for i in items:\n",
    "    cuadrados.append(i**2)\n",
    "print(items,cuadrados, sep = \"\\n\")"
   ]
  },
  {
   "cell_type": "code",
   "execution_count": 70,
   "metadata": {
    "slideshow": {
     "slide_type": "fragment"
    }
   },
   "outputs": [
    {
     "name": "stdout",
     "output_type": "stream",
     "text": [
      "[1, 2, 3, 4, 5, 6, 7, 8, 9, 10]\n",
      "[1, 4, 9, 16, 25, 36, 49, 64, 81, 100]\n"
     ]
    }
   ],
   "source": [
    "items = list(range(1,11))\n",
    "\n",
    "# Método declarativo ( Programación funcional)\n",
    "cuadrados = map(lambda x: x **2, items)\n",
    "print(items,list(cuadrados),sep = \"\\n\")"
   ]
  },
  {
   "cell_type": "markdown",
   "metadata": {
    "slideshow": {
     "slide_type": "slide"
    }
   },
   "source": [
    "## Lenguajes de Programación"
   ]
  },
  {
   "cell_type": "markdown",
   "metadata": {
    "slideshow": {
     "slide_type": "fragment"
    }
   },
   "source": [
    "<center>\n",
    "    <i>\n",
    "        \"Es un sistema de comunicación, estructurado, compuesto por reglas y simbolos que permite establecer procesos entre uno o mas puntos\"\n",
    "    </i>\n",
    "</center>"
   ]
  },
  {
   "cell_type": "markdown",
   "metadata": {
    "slideshow": {
     "slide_type": "fragment"
    }
   },
   "source": [
    "<center>\n",
    "    <i>\n",
    "        \"El lenguaje natural es utilizado por los seres humanos para entablar conversaciones.\"\n",
    "    </i>\n",
    "</center>"
   ]
  },
  {
   "cell_type": "markdown",
   "metadata": {
    "slideshow": {
     "slide_type": "fragment"
    }
   },
   "source": [
    "<center>\n",
    "    <i>\n",
    "        \"El lenguaje de máquina es utilizado por los componentes de hardware para ejecutar tareas propuestas.\"\n",
    "    </i>\n",
    "</center>"
   ]
  },
  {
   "cell_type": "markdown",
   "metadata": {
    "slideshow": {
     "slide_type": "subslide"
    }
   },
   "source": [
    "### Definición\n",
    "- Es un método, compuesto por reglas, palabras reservadas y simbolos que permite establecer una comunicación entre un ser humano y una máquina.\n",
    "- Permite al programador, construir rutinas que luego seran ejecutadas por dispositivos capaces de procesar lenguaje de máquina.\n",
    "- Sitios WEB, bots, semaforos, lineas de ensamblaje, sistemas bancarios."
   ]
  },
  {
   "cell_type": "markdown",
   "metadata": {
    "slideshow": {
     "slide_type": "subslide"
    }
   },
   "source": [
    "### Lenguaje Compilado\n",
    "\n",
    "- Requiere un compilador para su procesamiento.\n",
    "- En ciertos casos, esta limitado al sistema operativo.\n",
    "- Para cambios en el código se necesita recompilar.\n",
    "- .NET, Java, Swift."
   ]
  },
  {
   "cell_type": "markdown",
   "metadata": {
    "slideshow": {
     "slide_type": "subslide"
    }
   },
   "source": [
    "## Compilador\n",
    "\n",
    "<br/>\n",
    "<br/>\n"
   ]
  },
  {
   "cell_type": "markdown",
   "metadata": {
    "slideshow": {
     "slide_type": "fragment"
    }
   },
   "source": [
    "<center>\n",
    "    <img src=\"Images/compilador.png\" width=\"650\" />\n",
    "    <i>Fig 1. Proceso de compilación.</i>\n",
    "</center>"
   ]
  },
  {
   "cell_type": "markdown",
   "metadata": {
    "slideshow": {
     "slide_type": "subslide"
    }
   },
   "source": [
    "- Traduce el código de un programa (Entrada) a un lenguaje de máquina.\n",
    "    - Analizador.\n",
    "    - Optimizador.\n",
    "    - Generador de código objetivo.\n",
    "- Genera archivos de salida con el código compilado."
   ]
  },
  {
   "cell_type": "markdown",
   "metadata": {
    "slideshow": {
     "slide_type": "subslide"
    }
   },
   "source": [
    "### Lenguaje Interpretado\n",
    "\n",
    "- Lenguaje que no requiere una compilación para ejecutarse.\n",
    "- Su ejecución se realiza conforme se va leyendo el código.\n",
    "- PHP, Python, Javascript, **HTML**."
   ]
  },
  {
   "cell_type": "code",
   "execution_count": 80,
   "metadata": {
    "slideshow": {
     "slide_type": "subslide"
    }
   },
   "outputs": [
    {
     "name": "stdout",
     "output_type": "stream",
     "text": [
      "10.0\n"
     ]
    }
   ],
   "source": [
    "# Ejemplo de código interpretado\n",
    "\n",
    "a = \"10\"\n",
    "# transformación o parse.\n",
    "a = float(a)\n",
    "print(a)"
   ]
  },
  {
   "cell_type": "markdown",
   "metadata": {
    "slideshow": {
     "slide_type": "slide"
    }
   },
   "source": [
    "## IDE (Entorno de desarrollo integrado)"
   ]
  },
  {
   "cell_type": "markdown",
   "metadata": {
    "slideshow": {
     "slide_type": "subslide"
    }
   },
   "source": [
    "- Interfaz que permite al programador desarrollar en un lenguaje de programación.\n",
    "- Requiere de un interprete para la ejecución del código.\n",
    "- Opcion Open Source / Pago / WEB.\n",
    "- Permite personalizarse a deseo del programador (Plugins y extensiones).\n",
    "- Provee ayudas para la codificación (sugerencias + autocompletado).\n",
    "- Permite tanto depurar como ejecutar el código desarrollado."
   ]
  },
  {
   "cell_type": "markdown",
   "metadata": {
    "slideshow": {
     "slide_type": "subslide"
    }
   },
   "source": [
    "<center>\n",
    "    <img src=\"Images/programming-process.png\" width=\"950\" />\n",
    "</center>\n",
    "<br/>\n",
    "<center><i>Fig 2. IDE.</i></center>"
   ]
  },
  {
   "cell_type": "markdown",
   "metadata": {
    "slideshow": {
     "slide_type": "subslide"
    }
   },
   "source": [
    "## Opciones para el curso"
   ]
  },
  {
   "cell_type": "markdown",
   "metadata": {
    "slideshow": {
     "slide_type": "fragment"
    }
   },
   "source": [
    "- Anaconda.\n",
    "- Visual Studio Code.\n",
    "- Google Colab."
   ]
  },
  {
   "cell_type": "markdown",
   "metadata": {
    "slideshow": {
     "slide_type": "subslide"
    }
   },
   "source": [
    "### Anaconda\n",
    "\n",
    "<br/>\n",
    "<center><img src=\"Images/anaconda.png\" width=\"950\" /></center>\n",
    "<center><i>Fig 3. Anaconda Navigator.</i></center>"
   ]
  },
  {
   "cell_type": "markdown",
   "metadata": {
    "slideshow": {
     "slide_type": "subslide"
    }
   },
   "source": [
    "### Ventajas\n",
    "\n",
    "- Instala y configura python.\n",
    "- Contiene varias herramientas para desarrollo.\n",
    "- Permite trabajar con python desde WEB o desde consola.\n",
    "\n",
    "### Desventajas\n",
    "\n",
    "- Instala demasiados componentes.\n",
    "- Tarda en iniciar."
   ]
  },
  {
   "cell_type": "markdown",
   "metadata": {
    "slideshow": {
     "slide_type": "subslide"
    }
   },
   "source": [
    "### Visual Studio Code\n",
    "\n",
    "<center><img src=\"Images/vs-code.png\" width=\"950\" /></center>\n",
    "<center><i>Fig 4. Visual Studio Code.</i></center>"
   ]
  },
  {
   "cell_type": "markdown",
   "metadata": {
    "slideshow": {
     "slide_type": "subslide"
    }
   },
   "source": [
    "### Ventajas\n",
    "\n",
    "- Permite personalizarlo al criterio del programador.\n",
    "- Permite instalar extensiones para ayudar al desarrollador en su programación.\n",
    "- Permite utilizarlo con otros interpretes (.net, html, javascript).\n",
    "\n",
    "### Desventajas\n",
    "\n",
    "- Requiere instalar python previamente.\n",
    "- Se necesita una extension de python para que lea archivos .py."
   ]
  },
  {
   "cell_type": "markdown",
   "metadata": {
    "slideshow": {
     "slide_type": "subslide"
    }
   },
   "source": [
    "### Google Colab\n",
    "<center><img src=\"Images/google-colab.png\" width=\"850\" /></center>\n",
    "<center><i>Fig 5. Google Colaboratory.</i></center>"
   ]
  },
  {
   "cell_type": "markdown",
   "metadata": {
    "slideshow": {
     "slide_type": "subslide"
    }
   },
   "source": [
    "### Ventajas\n",
    "\n",
    "- No requiere la instalación de ningun componente adicional.\n",
    "- Permite guardar los notebooks en github directamente.\n",
    "- no requiere instalar nada en el equipo.\n",
    "\n",
    "### Desventajas\n",
    "\n",
    "- En caso de no tener una cuenta de gmail, se debe crear.\n",
    "- El manejo de archivos es un poco mas engorroso, dado que se deben cargar en colab para utilizarse.\n",
    "- Depende mucho de internet."
   ]
  },
  {
   "cell_type": "markdown",
   "metadata": {
    "slideshow": {
     "slide_type": "slide"
    }
   },
   "source": [
    "### Tutoriales de instalación\n",
    "\n",
    "\n",
    "- [Instalación de anaconda](https://www.aprendemachinelearning.com/instalar-ambiente-de-desarrollo-python-anaconda-para-aprendizaje-automatico/)\n",
    "- [Instalación de Python + VSCode](https://justoenelcodigo.cl/2020/08/07/como-instalar-python-3-8-5-en-visual-studio-code/)\n",
    "- [Configuración de python en Windows con VSCode](https://alejandroleon09.medium.com/configuración-de-python-en-windows-con-vscode-1ba26a169bb2)\n",
    "\n",
    "### Documentación de Python\n",
    "\n",
    "- [Documentación oficial en español](https://docs.python.org/es/3/tutorial/index.html)\n"
   ]
  }
 ],
 "metadata": {
  "celltoolbar": "Slideshow",
  "kernelspec": {
   "display_name": "Python 3",
   "language": "python",
   "name": "python3"
  },
  "language_info": {
   "codemirror_mode": {
    "name": "ipython",
    "version": 3
   },
   "file_extension": ".py",
   "mimetype": "text/x-python",
   "name": "python",
   "nbconvert_exporter": "python",
   "pygments_lexer": "ipython3",
   "version": "3.7.4"
  }
 },
 "nbformat": 4,
 "nbformat_minor": 4
}
