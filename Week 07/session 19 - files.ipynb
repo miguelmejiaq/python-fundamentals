{
 "cells": [
  {
   "cell_type": "markdown",
   "metadata": {
    "slideshow": {
     "slide_type": "slide"
    }
   },
   "source": [
    "## Sesión 19 - Ficheros\n",
    "### Fundamentos de programación\n",
    "\n",
    "<br/> Iniciamos **6:15 PM**"
   ]
  },
  {
   "cell_type": "markdown",
   "metadata": {
    "slideshow": {
     "slide_type": "slide"
    }
   },
   "source": [
    "## Temario"
   ]
  },
  {
   "cell_type": "markdown",
   "metadata": {
    "slideshow": {
     "slide_type": "subslide"
    }
   },
   "source": [
    "- Manejo de ficheros\n",
    "    - Definición.\n",
    "    - Sintaxis.\n",
    "    - Funciones.\n",
    "    - Ejemplos.\n",
    "        - Creación.\n",
    "        - Abrir ficheros.\n",
    "        - Leer información.\n",
    "        - Escritura."
   ]
  },
  {
   "cell_type": "markdown",
   "metadata": {
    "slideshow": {
     "slide_type": "slide"
    }
   },
   "source": [
    "### Definición"
   ]
  },
  {
   "cell_type": "markdown",
   "metadata": {
    "slideshow": {
     "slide_type": "subslide"
    }
   },
   "source": [
    "- Permite la manipulación de archivos de datos.\n",
    "- Leer y cargar información.\n",
    "- Procesamiento de datos.\n",
    "- Escritura de logs.\n",
    "- Tratar de cerrar el archivo para liberar memoria.\n",
    "- **Importante:** Uso del try para manejar excepciones comunes."
   ]
  },
  {
   "cell_type": "markdown",
   "metadata": {
    "slideshow": {
     "slide_type": "slide"
    }
   },
   "source": [
    "### Sintaxis"
   ]
  },
  {
   "cell_type": "markdown",
   "metadata": {
    "slideshow": {
     "slide_type": "subslide"
    }
   },
   "source": [
    "### Abrir un fichero - Caso 01"
   ]
  },
  {
   "cell_type": "markdown",
   "metadata": {
    "slideshow": {
     "slide_type": "fragment"
    }
   },
   "source": [
    "```python\n",
    "var_miArchivo = open(\"ruta\")\n",
    "...\n",
    "var_miArchivo.close()\n",
    "```"
   ]
  },
  {
   "cell_type": "markdown",
   "metadata": {
    "slideshow": {
     "slide_type": "subslide"
    }
   },
   "source": [
    "### Abrir un fichero - Caso 02"
   ]
  },
  {
   "cell_type": "markdown",
   "metadata": {
    "slideshow": {
     "slide_type": "fragment"
    }
   },
   "source": [
    "```python\n",
    "with open(\"ruta\") as var_MiArchivo:\n",
    "    ...\n",
    "```"
   ]
  },
  {
   "cell_type": "markdown",
   "metadata": {
    "slideshow": {
     "slide_type": "slide"
    }
   },
   "source": [
    "### Funciones"
   ]
  },
  {
   "cell_type": "markdown",
   "metadata": {
    "slideshow": {
     "slide_type": "subslide"
    }
   },
   "source": [
    "#### open()"
   ]
  },
  {
   "cell_type": "markdown",
   "metadata": {
    "slideshow": {
     "slide_type": "subslide"
    }
   },
   "source": [
    "- Permite abrir un archivo.\n",
    "- Requiere la ruta del archivo que se desea manejar.\n",
    "    - c:\\users\\usuario\\documentos\\python\\ejercicios\\datos.txt\n",
    "    - ./datos.txt\n",
    "    - /users/usuario/documentos/python/ejercicios/datos.txt\n",
    "- Cuenta con un segundo atributo que indica el tipo de manejo que se va a hacer (**por defecto es solo lectura**)"
   ]
  },
  {
   "cell_type": "markdown",
   "metadata": {
    "slideshow": {
     "slide_type": "fragment"
    }
   },
   "source": [
    "```python\n",
    "with open(\"<ruta>\",\"r|w|x|a|b\") as fichero:\n",
    "    ....\n",
    "```"
   ]
  },
  {
   "cell_type": "markdown",
   "metadata": {
    "slideshow": {
     "slide_type": "subslide"
    }
   },
   "source": [
    "#### opciones de manejo\n",
    "- 'r': Por defecto, para leer el fichero.\n",
    "- 'w': Para escribir en el fichero.\n",
    "- 'x': Para la creación, fallando si ya existe.\n",
    "- 'a': Para añadir contenido a un fichero existente.\n",
    "- 'b': Para abrir en modo binario."
   ]
  },
  {
   "cell_type": "markdown",
   "metadata": {
    "slideshow": {
     "slide_type": "subslide"
    }
   },
   "source": [
    "#### read()"
   ]
  },
  {
   "cell_type": "markdown",
   "metadata": {
    "slideshow": {
     "slide_type": "subslide"
    }
   },
   "source": [
    "- Permite leer todo el contenido de un archivo."
   ]
  },
  {
   "cell_type": "markdown",
   "metadata": {
    "slideshow": {
     "slide_type": "fragment"
    }
   },
   "source": [
    "```python\n",
    "with open(\"<archivo\") as var_fichero:\n",
    "    print(var_fichero.read())\n",
    "```"
   ]
  },
  {
   "cell_type": "markdown",
   "metadata": {
    "slideshow": {
     "slide_type": "subslide"
    }
   },
   "source": [
    "#### readline()"
   ]
  },
  {
   "cell_type": "markdown",
   "metadata": {
    "slideshow": {
     "slide_type": "subslide"
    }
   },
   "source": [
    "- Permite leer linea por linea el archivo.\n",
    "- Se debe usar por cada linea que se quiera leer.\n",
    "- Una vez que se terminan las lineas del archivo, no retornara nada (\"\").\n",
    "- Si se quiere volver a leer el archivo, se debe ejecutar de nuevo **open()**.\n",
    "- Se recomienda utilizarla con un **while**."
   ]
  },
  {
   "cell_type": "markdown",
   "metadata": {
    "slideshow": {
     "slide_type": "fragment"
    }
   },
   "source": [
    "```python\n",
    "with open(\"<archivo\") as fichero:\n",
    "    fichero.readline()\n",
    "```"
   ]
  },
  {
   "cell_type": "markdown",
   "metadata": {
    "slideshow": {
     "slide_type": "subslide"
    }
   },
   "source": [
    "#### readlines()"
   ]
  },
  {
   "cell_type": "markdown",
   "metadata": {
    "slideshow": {
     "slide_type": "subslide"
    }
   },
   "source": [
    "- Permite leer linea a linea un archivo.\n",
    "- Se recomienda usarla con un **for**.\n",
    "- Puede utilizarse para eliminar lineas en un archivo."
   ]
  },
  {
   "cell_type": "markdown",
   "metadata": {
    "slideshow": {
     "slide_type": "fragment"
    }
   },
   "source": [
    "```python\n",
    "with open(\"<archivo\") as fichero:\n",
    "    fichero.readlines()\n",
    "```"
   ]
  },
  {
   "cell_type": "markdown",
   "metadata": {
    "slideshow": {
     "slide_type": "subslide"
    }
   },
   "source": [
    "#### close()"
   ]
  },
  {
   "cell_type": "markdown",
   "metadata": {
    "slideshow": {
     "slide_type": "subslide"
    }
   },
   "source": [
    "- Permite cerrar un archivo.\n",
    "- Es una estructura de control que se requiere cuando no se usa **with**.\n",
    "- Es importante **cerrar los archivos** para evitar comportamientos anomalos."
   ]
  },
  {
   "cell_type": "markdown",
   "metadata": {
    "slideshow": {
     "slide_type": "fragment"
    }
   },
   "source": [
    "```python\n",
    "fichero =  open(\"<ruta>\")\n",
    "...\n",
    "fichero.close()\n",
    "    \n",
    "```"
   ]
  },
  {
   "cell_type": "markdown",
   "metadata": {
    "slideshow": {
     "slide_type": "subslide"
    }
   },
   "source": [
    "#### write()"
   ]
  },
  {
   "cell_type": "markdown",
   "metadata": {
    "slideshow": {
     "slide_type": "subslide"
    }
   },
   "source": [
    "- Permite escribir datos en un archivo.\n",
    "- **Elimina** el archivo actual y crea uno nuevo para escribir si se usa **w** en el open.\n",
    "- No permite lectura, unicamente escritura."
   ]
  },
  {
   "cell_type": "markdown",
   "metadata": {
    "slideshow": {
     "slide_type": "fragment"
    }
   },
   "source": [
    "```python\n",
    "with open(\"<ruta>\",\"w|a|x\") as fichero:\n",
    "    fichero.write(\"Hola mundo\\n\")\n",
    "```"
   ]
  },
  {
   "cell_type": "markdown",
   "metadata": {
    "slideshow": {
     "slide_type": "subslide"
    }
   },
   "source": [
    "#### Salidas dependiendo del open\n",
    "- 'w': Borra el fichero si ya existiese y crea uno nuevo con el nombre indicado.\n",
    "- 'a': Añadirá el contenido al final del fichero si ya existiese (append end Inglés)\n",
    "- 'x': Si ya existe el fichero se devuelve un error."
   ]
  },
  {
   "cell_type": "markdown",
   "metadata": {
    "slideshow": {
     "slide_type": "subslide"
    }
   },
   "source": [
    "#### writelines()"
   ]
  },
  {
   "cell_type": "markdown",
   "metadata": {
    "slideshow": {
     "slide_type": "subslide"
    }
   },
   "source": [
    "- Permite escribir datos de una lista en un archivo.\n",
    "- **Elimina** el archivo actual y crea uno nuevo para escribir en caso usarse **w**.\n",
    "- No permite lectura, unicamente escritura.\n",
    "- los datos de la lista requiere un salto de linea para escribirse en el archivo, de lo contrario todos quedaran en la misma linea."
   ]
  },
  {
   "cell_type": "markdown",
   "metadata": {
    "slideshow": {
     "slide_type": "fragment"
    }
   },
   "source": [
    "```python\n",
    "var_textos = [\"hola\\n\",\"hola\\n\",\"hola\\n\",\"hola\\n\",\"hola\\n\"]\n",
    "with open(\"<ruta>\",\"w|a|x\") as fichero:\n",
    "    fichero.writelines(var_textos)\n",
    "```"
   ]
  },
  {
   "cell_type": "markdown",
   "metadata": {
    "slideshow": {
     "slide_type": "subslide"
    }
   },
   "source": [
    "#### Salidas dependiendo del open\n",
    "- 'w': Borra el fichero si ya existiese y crea uno nuevo con el nombre indicado.\n",
    "- 'a': Añadirá el contenido al final del fichero si ya existiese (append end Inglés)\n",
    "- 'x': Si ya existe el fichero se devuelve un error."
   ]
  },
  {
   "cell_type": "markdown",
   "metadata": {
    "slideshow": {
     "slide_type": "subslide"
    }
   },
   "source": [
    "### Ejemplos"
   ]
  },
  {
   "cell_type": "markdown",
   "metadata": {
    "slideshow": {
     "slide_type": "subslide"
    }
   },
   "source": [
    "#### Abrir un fichero - caso 01"
   ]
  },
  {
   "cell_type": "code",
   "execution_count": 11,
   "metadata": {
    "slideshow": {
     "slide_type": "subslide"
    }
   },
   "outputs": [],
   "source": [
    "# Abrimos un archivo en python\n",
    "var_fichero = open(\"./frutas.txt\")\n",
    "var_fichero.close()"
   ]
  },
  {
   "cell_type": "markdown",
   "metadata": {
    "slideshow": {
     "slide_type": "subslide"
    }
   },
   "source": [
    "#### Abrir un fichero - caso 02"
   ]
  },
  {
   "cell_type": "code",
   "execution_count": 13,
   "metadata": {
    "slideshow": {
     "slide_type": "subslide"
    }
   },
   "outputs": [
    {
     "name": "stdout",
     "output_type": "stream",
     "text": [
      "Hola mundo\n"
     ]
    }
   ],
   "source": [
    "# Abrimos un archivo en python\n",
    "with open(\"./frutas.txt\") as var_fichero:\n",
    "    print(\"Hola mundo\")"
   ]
  },
  {
   "cell_type": "markdown",
   "metadata": {
    "slideshow": {
     "slide_type": "subslide"
    }
   },
   "source": [
    "#### Leer un archivo"
   ]
  },
  {
   "cell_type": "code",
   "execution_count": 18,
   "metadata": {
    "slideshow": {
     "slide_type": "subslide"
    }
   },
   "outputs": [
    {
     "name": "stdout",
     "output_type": "stream",
     "text": [
      "Hola mundo\n",
      "Mi nombre es miguel\n",
      "Estamos en clase con el grupo 78\n",
      "Fundamentos de programacion en python\n"
     ]
    }
   ],
   "source": [
    "# Abrimos un archivo en python\n",
    "with open(\"./frutas.txt\") as var_fichero:\n",
    "    print(var_fichero.read())"
   ]
  },
  {
   "cell_type": "markdown",
   "metadata": {
    "slideshow": {
     "slide_type": "subslide"
    }
   },
   "source": [
    "#### Leer las lineas de un archivo usando readline() y while"
   ]
  },
  {
   "cell_type": "code",
   "execution_count": 31,
   "metadata": {
    "slideshow": {
     "slide_type": "subslide"
    }
   },
   "outputs": [
    {
     "name": "stdout",
     "output_type": "stream",
     "text": [
      "Hola mundo\n",
      "\n",
      "Mi nombre es miguel\n",
      "\n",
      "Estamos en clase con el grupo 78\n",
      "\n",
      "Fundamentos de programacion en python\n"
     ]
    }
   ],
   "source": [
    "# Abrimos un archivo en python\n",
    "with open(\"./frutas.txt\") as var_fichero:\n",
    "    # leemos la primera linea de nuestro archivo\n",
    "    var_linea = var_fichero.readline()\n",
    "    # Verifico que la linea no es vacia\n",
    "    while var_linea != \"\":\n",
    "        # imprimo la linea\n",
    "        print(var_linea)\n",
    "        # obtengo la siguiente linea\n",
    "        var_linea = var_fichero.readline()"
   ]
  },
  {
   "cell_type": "markdown",
   "metadata": {
    "slideshow": {
     "slide_type": "subslide"
    }
   },
   "source": [
    "#### Leer las lineas de un archivo usando readlines() y for"
   ]
  },
  {
   "cell_type": "code",
   "execution_count": 37,
   "metadata": {
    "slideshow": {
     "slide_type": "subslide"
    }
   },
   "outputs": [
    {
     "name": "stdout",
     "output_type": "stream",
     "text": [
      "Hola mundo\n",
      "Mi nombre es miguel\n",
      "Estamos en clase con el grupo 78\n",
      "Fundamentos de programacion en python\n"
     ]
    }
   ],
   "source": [
    "# Abrimos un archivo en python\n",
    "with open(\"./frutas.txt\") as var_fichero:\n",
    "    # iteramos las lineas de nuestro archivo\n",
    "    for var_linea in var_fichero.readlines():\n",
    "        # imprimimos nuestra linea\n",
    "        print(var_linea.replace(\"\\n\",\"\"))"
   ]
  },
  {
   "cell_type": "markdown",
   "metadata": {
    "slideshow": {
     "slide_type": "subslide"
    }
   },
   "source": [
    "#### Crear un archivo usando write"
   ]
  },
  {
   "cell_type": "code",
   "execution_count": 70,
   "metadata": {
    "slideshow": {
     "slide_type": "subslide"
    }
   },
   "outputs": [],
   "source": [
    "# Abrimos un archivo en python\n",
    "with open(\"./nuevo.txt\",\"a\") as var_fichero:\n",
    "    var_fichero.write(\"Hola mundo 2\\n\")"
   ]
  },
  {
   "cell_type": "markdown",
   "metadata": {
    "slideshow": {
     "slide_type": "subslide"
    }
   },
   "source": [
    "#### Crear un archivo usando writelines"
   ]
  },
  {
   "cell_type": "code",
   "execution_count": 76,
   "metadata": {
    "slideshow": {
     "slide_type": "subslide"
    }
   },
   "outputs": [],
   "source": [
    "# Abrimos un archivo en python\n",
    "# Abrimos un archivo en python\n",
    "var_textos = [\"Hola\\n\",\"mundo\\n\",\"desde\\n\",\"python\\n\"]\n",
    "with open(\"./frutas.txt\",\"w\") as var_fichero:\n",
    "    var_fichero.writelines(var_textos)"
   ]
  },
  {
   "cell_type": "markdown",
   "metadata": {
    "slideshow": {
     "slide_type": "subslide"
    }
   },
   "source": [
    "#### Añadir lineas al final de un archivo"
   ]
  },
  {
   "cell_type": "code",
   "execution_count": 77,
   "metadata": {
    "slideshow": {
     "slide_type": "subslide"
    }
   },
   "outputs": [],
   "source": [
    "# Abrimos un archivo en python\n",
    "var_textos = [\"Hola\\n\",\"mundo\\n\",\"desde\\n\",\"python\\n\"]\n",
    "with open(\"./frutas.txt\",\"a\") as var_fichero:\n",
    "    var_fichero.writelines(var_textos)"
   ]
  }
 ],
 "metadata": {
  "celltoolbar": "Slideshow",
  "kernelspec": {
   "display_name": "Python 3",
   "language": "python",
   "name": "python3"
  },
  "language_info": {
   "codemirror_mode": {
    "name": "ipython",
    "version": 3
   },
   "file_extension": ".py",
   "mimetype": "text/x-python",
   "name": "python",
   "nbconvert_exporter": "python",
   "pygments_lexer": "ipython3",
   "version": "3.7.4"
  }
 },
 "nbformat": 4,
 "nbformat_minor": 2
}
