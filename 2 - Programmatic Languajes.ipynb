{
 "cells": [
  {
   "cell_type": "markdown",
   "metadata": {
    "slideshow": {
     "slide_type": "slide"
    }
   },
   "source": [
    "<br/>\n",
    "\n",
    "## Sesión 2\n",
    "\n",
    "# Fundamentos de Programación\n",
    "\n",
    "\n",
    "\n"
   ]
  },
  {
   "cell_type": "markdown",
   "metadata": {
    "slideshow": {
     "slide_type": "subslide"
    }
   },
   "source": [
    "## Temario"
   ]
  },
  {
   "cell_type": "markdown",
   "metadata": {
    "slideshow": {
     "slide_type": "subslide"
    }
   },
   "source": [
    "### Semana 1\n",
    "\n",
    "- <s>Presentación del curso.\n",
    "    - Presentación del docente.\n",
    "    - Reglas Generales.\n",
    "    - Retos.\n",
    "    - Miscelanea.\n",
    "- Computación.\n",
    "    - Hardware/Software.\n",
    "    - Estructura funcional.\n",
    "- Metodología de programación.\n",
    "    - Definición.\n",
    "    - Ejemplos.</s>"
   ]
  },
  {
   "cell_type": "markdown",
   "metadata": {
    "slideshow": {
     "slide_type": "subslide"
    }
   },
   "source": [
    "### Semana 1\n",
    "- Entornos de desarrollo.\n",
    "- Lenguajes de programación.\n",
    "    - Intoducción a los lenguajes de programación.\n",
    "    - Lenguaje Compilado.\n",
    "    - Lenguaje Interpretado.\n",
    "- Python.\n",
    "    - Historia.\n",
    "    - Aplicaciones.\n",
    "- <b>Extra: </b>Repositorios de código."
   ]
  },
  {
   "cell_type": "markdown",
   "metadata": {
    "slideshow": {
     "slide_type": "slide"
    }
   },
   "source": [
    "## Lenguajes de Programación"
   ]
  },
  {
   "cell_type": "markdown",
   "metadata": {
    "slideshow": {
     "slide_type": "fragment"
    }
   },
   "source": [
    "<center>\n",
    "    <i>\n",
    "        \"Es un sistema de comunicación, estructurado, compuesto por reglas y simbolos que permite establecer procesos entre uno o mas puntos\"\n",
    "    </i>\n",
    "</center>"
   ]
  },
  {
   "cell_type": "markdown",
   "metadata": {
    "slideshow": {
     "slide_type": "fragment"
    }
   },
   "source": [
    "<center>\n",
    "    <i>\n",
    "        \"El lenguaje natural es utilizado por los seres humanos para entablar conversaciones.\"\n",
    "    </i>\n",
    "</center>"
   ]
  },
  {
   "cell_type": "markdown",
   "metadata": {
    "slideshow": {
     "slide_type": "fragment"
    }
   },
   "source": [
    "<center>\n",
    "    <i>\n",
    "        \"El lenguaje de máquina es utilizado por los componentes de hardware para ejecutar tareas propuestas.\"\n",
    "    </i>\n",
    "</center>"
   ]
  },
  {
   "cell_type": "markdown",
   "metadata": {
    "slideshow": {
     "slide_type": "subslide"
    }
   },
   "source": [
    "### Definición\n",
    "- Es un método, compuesto por reglas, palabras reservadas y simbolos que permite establecer una comunicación entre un ser humano y una máquina.\n",
    "- Permite al programador, construir rutinas que luego seran ejecutadas por dispositivos capaces de procesar lenguaje de máquina.\n",
    "- Sitios WEB, bots, semaforos, lineas de ensamblaje, sistemas bancarios."
   ]
  },
  {
   "cell_type": "markdown",
   "metadata": {
    "slideshow": {
     "slide_type": "subslide"
    }
   },
   "source": [
    "### Lenguaje Compilado\n",
    "\n",
    "- Requiere un compilador para su procesamiento.\n",
    "- En ciertos casos, esta limitado al sistema operativo.\n",
    "- Para cambios en el código se necesita recompilar.\n",
    "- .NET, Java, Swift."
   ]
  },
  {
   "cell_type": "markdown",
   "metadata": {
    "slideshow": {
     "slide_type": "subslide"
    }
   },
   "source": [
    "## Compilador\n",
    "\n",
    "<br/>\n",
    "<br/>\n"
   ]
  },
  {
   "cell_type": "markdown",
   "metadata": {
    "slideshow": {
     "slide_type": "fragment"
    }
   },
   "source": [
    "<center>\n",
    "    <img src=\"Images/compilador.png\" width=\"650\" />\n",
    "    <i>Fig 1. Proceso de compilación.</i>\n",
    "</center>"
   ]
  },
  {
   "cell_type": "markdown",
   "metadata": {
    "slideshow": {
     "slide_type": "subslide"
    }
   },
   "source": [
    "- Traduce el código de un programa (Entrada) a un lenguaje de máquina.\n",
    "    - Analizador.\n",
    "    - Optimizador.\n",
    "    - Generador de código objetivo.\n",
    "- Genera archivos de salida con el código compilado."
   ]
  },
  {
   "cell_type": "markdown",
   "metadata": {
    "slideshow": {
     "slide_type": "subslide"
    }
   },
   "source": [
    "### Lenguaje Interpretado\n",
    "\n",
    "- Lenguaje que no requiere una compilación para ejecutarse.\n",
    "- Su ejecución se realiza conforme se va leyendo el código.\n",
    "- PHP, Python, Javascript, HTML."
   ]
  },
  {
   "cell_type": "code",
   "execution_count": 1,
   "metadata": {
    "slideshow": {
     "slide_type": "subslide"
    }
   },
   "outputs": [],
   "source": [
    "# Ejemplo de código interpretado"
   ]
  },
  {
   "cell_type": "markdown",
   "metadata": {
    "slideshow": {
     "slide_type": "slide"
    }
   },
   "source": [
    "## IDE (Entorno de desarrollo integrado)"
   ]
  },
  {
   "cell_type": "markdown",
   "metadata": {
    "slideshow": {
     "slide_type": "subslide"
    }
   },
   "source": [
    "- Interfaz que permite al programador desarrollar en un lenguaje de programación.\n",
    "- Requiere de un compilador para la ejecución del código.\n",
    "- Opcion Open Source / Pago / WEB.\n",
    "- Permite personalizarse a deseo del programador (Plugins y extensiones).\n",
    "- Provee ayudas para la codificación (sugerencias + autocompletado).\n",
    "- Permite tanto depurar como ejecutar el código desarrollado."
   ]
  },
  {
   "cell_type": "markdown",
   "metadata": {
    "slideshow": {
     "slide_type": "subslide"
    }
   },
   "source": [
    "![title](Images/programming-process.png)\n",
    "<br/>\n",
    "<center><i>Fig 1. IDE.</i></center>"
   ]
  },
  {
   "cell_type": "markdown",
   "metadata": {
    "slideshow": {
     "slide_type": "subslide"
    }
   },
   "source": [
    "![title](Images/google-colab.png)"
   ]
  },
  {
   "cell_type": "code",
   "execution_count": null,
   "metadata": {
    "slideshow": {
     "slide_type": "slide"
    }
   },
   "outputs": [],
   "source": []
  }
 ],
 "metadata": {
  "celltoolbar": "Slideshow",
  "kernelspec": {
   "display_name": "Python 3",
   "language": "python",
   "name": "python3"
  },
  "language_info": {
   "codemirror_mode": {
    "name": "ipython",
    "version": 3
   },
   "file_extension": ".py",
   "mimetype": "text/x-python",
   "name": "python",
   "nbconvert_exporter": "python",
   "pygments_lexer": "ipython3",
   "version": "3.7.4"
  }
 },
 "nbformat": 4,
 "nbformat_minor": 4
}
